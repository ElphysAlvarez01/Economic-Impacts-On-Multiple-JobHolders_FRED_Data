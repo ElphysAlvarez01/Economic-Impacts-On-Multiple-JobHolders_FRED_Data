{
 "cells": [
  {
   "cell_type": "markdown",
   "metadata": {},
   "source": [
    "## Title"
   ]
  },
  {
   "cell_type": "code",
   "execution_count": 131,
   "metadata": {},
   "outputs": [],
   "source": [
    "### Purpose: "
   ]
  },
  {
   "cell_type": "markdown",
   "metadata": {},
   "source": [
    "#### Import libraries needed"
   ]
  },
  {
   "cell_type": "code",
   "execution_count": 132,
   "metadata": {},
   "outputs": [],
   "source": [
    "import csv\n",
    "import numpy as np\n",
    "import pandas as pd\n",
    "import os\n",
    "from datetime import datetime"
   ]
  },
  {
   "cell_type": "code",
   "execution_count": 133,
   "metadata": {},
   "outputs": [
    {
     "name": "stdout",
     "output_type": "stream",
     "text": [
      "Requirement already satisfied: plotly in c:\\users\\alvar\\appdata\\local\\programs\\python\\python310\\lib\\site-packages (5.24.1)\n",
      "Requirement already satisfied: tenacity>=6.2.0 in c:\\users\\alvar\\appdata\\local\\programs\\python\\python310\\lib\\site-packages (from plotly) (9.0.0)\n",
      "Requirement already satisfied: packaging in c:\\users\\alvar\\appdata\\roaming\\python\\python310\\site-packages (from plotly) (23.1)\n",
      "Note: you may need to restart the kernel to use updated packages.\n"
     ]
    },
    {
     "name": "stderr",
     "output_type": "stream",
     "text": [
      "WARNING: You are using pip version 22.0.4; however, version 24.2 is available.\n",
      "You should consider upgrading via the 'c:\\Users\\alvar\\AppData\\Local\\Programs\\Python\\Python310\\python.exe -m pip install --upgrade pip' command.\n"
     ]
    }
   ],
   "source": [
    "pip install plotly\n"
   ]
  },
  {
   "cell_type": "code",
   "execution_count": 134,
   "metadata": {},
   "outputs": [],
   "source": [
    "import matplotlib.pyplot as plt\n",
    "from matplotlib.animation import FuncAnimation \n",
    "%matplotlib inline\n",
    "\n",
    "import plotly.subplots as sp\n",
    "import plotly.graph_objects as go\n",
    "from plotly.subplots import make_subplots"
   ]
  },
  {
   "cell_type": "markdown",
   "metadata": {},
   "source": [
    "All files were downloaded from: https://fred.stlouisfed.org/\n",
    "Files were downloaded with quarterly timelines. The reason why I selected quarterly is because I was planning on combining it with other reports that are only provided on a quarterly basis. "
   ]
  },
  {
   "cell_type": "code",
   "execution_count": 135,
   "metadata": {},
   "outputs": [],
   "source": [
    "ConsumerPriceIndex = pd.read_csv('./ConsumerPriceIndex.csv')\n",
    "ConsumerPriceIndex = ConsumerPriceIndex.rename(columns={\"CPIAUCSL\": \"ConsumerPriceIndex\"})\n",
    "#------------\n",
    "CPI_PrimRent_OwnerEquivalentRent = pd.read_csv('./CPI_PrimRent_OwnerEquivalentRent.csv')\n",
    "CPI_PrimRent_OwnerEquivalentRent = CPI_PrimRent_OwnerEquivalentRent.rename(columns={\"CUSR0000SEHA\": \"RentPrimaryResidence\", \"CUSR0000SEHC01\": 'OwnerEquivalentRent'})\n",
    "#------------\n",
    "DelinquencyCreditCLoans_DRCCLACBS = pd.read_csv('./DelinquencyCreditCLoans_DRCCLACBS.csv')\n",
    "DelinquencyCreditCLoans_DRCCLACBS= DelinquencyCreditCLoans_DRCCLACBS.rename(columns={\"DRCCLACBS\": \"DelinquencyCreditCLoans\"})\n",
    "#------------\n",
    "FedFundsEffectiveRate_MonthlyAve = pd.read_csv('./FedFundsEffectiveRate_MonthlyAve.csv')\n",
    "FedFundsEffectiveRate_MonthlyAve = FedFundsEffectiveRate_MonthlyAve.rename(columns={\"DFF\": \"FedFundsEffectiveRate_MonthlyAve\"})\n",
    "#------------\n",
    "MULTJobHolders_Pri_FT_Sec_PT = pd.read_csv('./MULTJobHolders_Pri_FT_Sec_PT.csv')\n",
    "MULTJobHolders_Pri_FT_Sec_PT = MULTJobHolders_Pri_FT_Sec_PT.rename(columns={\"LNU02026625\": \"MULTJobHolders_Pri_FT_Sec_PT\"})\n",
    "#------------\n",
    "MULTJobHolders_Pri_Sec_BothFT = pd.read_csv('./MULTJobHolders_Pri_Sec_BothFT.csv')\n",
    "MULTJobHolders_Pri_Sec_BothFT = MULTJobHolders_Pri_Sec_BothFT.rename(columns={\"LNU02026631\": \"MULTJobHolders_Pri_Sec_BothFT\"})\n",
    "#------------\n",
    "MULTJobHolders_Pri_Sec_BothPT = pd.read_csv('./MULTJobHolders_Pri_Sec_BothPT.csv')\n",
    "MULTJobHolders_Pri_Sec_BothPT = MULTJobHolders_Pri_Sec_BothPT.rename(columns={\"LNU02026628\": \"MULTJobHolders_Pri_Sec_BothPT\"})\n",
    "#------------\n",
    "MULTJobHoldersPerc_ofEmployed_MEN = pd.read_csv('./MULTJobHoldersPerc_ofEmployed_GENDER_MEN.csv')\n",
    "MULTJobHoldersPerc_ofEmployed_MEN = MULTJobHoldersPerc_ofEmployed_MEN.rename(columns={\"LNU02026622\": \"MULTJobHolders_Perc_ofEmployed_M\"})\n",
    "#------------\n",
    "MULTJobHoldersPerc_ofEmployed_WOMEN = pd.read_csv('./MULTJobHoldersPerc_ofEmployed_GENDER_WOMEN.csv')\n",
    "MULTJobHoldersPerc_ofEmployed_WOMEN = MULTJobHoldersPerc_ofEmployed_WOMEN.rename(columns={\"LNU02026624\": \"MULTJobHoldersPerc_ofEmployed_W\"})\n",
    "#------------\n",
    "MULTJobHoldersPerc_ofEmployed = pd.read_csv('./MULTJobHoldersPerc_ofEmployed.csv')\n",
    "MULTJobHoldersPerc_ofEmployed = MULTJobHoldersPerc_ofEmployed.rename(columns={\"LNS12026620\": \"MULTJobHoldersPerc_ofEmployed\"})\n"
   ]
  },
  {
   "cell_type": "code",
   "execution_count": 136,
   "metadata": {},
   "outputs": [],
   "source": [
    "#merging all dataframes with  \"Date\" column\n",
    "dfs = [# economic files\n",
    "    ConsumerPriceIndex, CPI_PrimRent_OwnerEquivalentRent, DelinquencyCreditCLoans_DRCCLACBS, FedFundsEffectiveRate_MonthlyAve,\n",
    "    # different types of multi job holder files\n",
    "    MULTJobHolders_Pri_FT_Sec_PT, MULTJobHolders_Pri_Sec_BothFT, MULTJobHolders_Pri_Sec_BothPT, MULTJobHoldersPerc_ofEmployed_MEN, MULTJobHoldersPerc_ofEmployed_WOMEN,\n",
    "    MULTJobHoldersPerc_ofEmployed\n",
    "]\n",
    "combined_df = dfs[0]\n",
    "for df in dfs[1:]:\n",
    "    combined_df = pd.merge(combined_df, df, on='DATE', how='inner')  # Use inner join to keep only matching dates\n",
    "\n",
    "\n",
    "combined_df['DATE'] = pd.to_datetime(combined_df['DATE'])  \n",
    "combined_df = combined_df[combined_df['DATE'] >= '1994-01-01']  # Filter dates this is the start date selecting everything onward"
   ]
  },
  {
   "cell_type": "code",
   "execution_count": 137,
   "metadata": {},
   "outputs": [
    {
     "data": {
      "text/html": [
       "<div>\n",
       "<style scoped>\n",
       "    .dataframe tbody tr th:only-of-type {\n",
       "        vertical-align: middle;\n",
       "    }\n",
       "\n",
       "    .dataframe tbody tr th {\n",
       "        vertical-align: top;\n",
       "    }\n",
       "\n",
       "    .dataframe thead th {\n",
       "        text-align: right;\n",
       "    }\n",
       "</style>\n",
       "<table border=\"1\" class=\"dataframe\">\n",
       "  <thead>\n",
       "    <tr style=\"text-align: right;\">\n",
       "      <th></th>\n",
       "      <th>DATE</th>\n",
       "      <th>ConsumerPriceIndex</th>\n",
       "      <th>RentPrimaryResidence</th>\n",
       "      <th>OwnerEquivalentRent</th>\n",
       "      <th>DelinquencyCreditCLoans</th>\n",
       "      <th>FedFundsEffectiveRate_MonthlyAve</th>\n",
       "      <th>MULTJobHolders_Pri_FT_Sec_PT</th>\n",
       "      <th>MULTJobHolders_Pri_Sec_BothFT</th>\n",
       "      <th>MULTJobHolders_Pri_Sec_BothPT</th>\n",
       "      <th>MULTJobHolders_Perc_ofEmployed_M</th>\n",
       "      <th>MULTJobHoldersPerc_ofEmployed_W</th>\n",
       "      <th>MULTJobHoldersPerc_ofEmployed</th>\n",
       "    </tr>\n",
       "  </thead>\n",
       "  <tbody>\n",
       "    <tr>\n",
       "      <th>0</th>\n",
       "      <td>1994-01-01</td>\n",
       "      <td>146.3</td>\n",
       "      <td>152.2</td>\n",
       "      <td>163.1</td>\n",
       "      <td>3.60</td>\n",
       "      <td>3.050645</td>\n",
       "      <td>3906</td>\n",
       "      <td>245</td>\n",
       "      <td>1403</td>\n",
       "      <td>5.6</td>\n",
       "      <td>5.6</td>\n",
       "      <td>5.8</td>\n",
       "    </tr>\n",
       "    <tr>\n",
       "      <th>1</th>\n",
       "      <td>1994-04-01</td>\n",
       "      <td>147.2</td>\n",
       "      <td>153.3</td>\n",
       "      <td>164.7</td>\n",
       "      <td>3.29</td>\n",
       "      <td>3.555000</td>\n",
       "      <td>4269</td>\n",
       "      <td>250</td>\n",
       "      <td>1580</td>\n",
       "      <td>5.9</td>\n",
       "      <td>6.2</td>\n",
       "      <td>6.0</td>\n",
       "    </tr>\n",
       "    <tr>\n",
       "      <th>2</th>\n",
       "      <td>1994-07-01</td>\n",
       "      <td>148.4</td>\n",
       "      <td>154.0</td>\n",
       "      <td>165.6</td>\n",
       "      <td>3.25</td>\n",
       "      <td>4.256129</td>\n",
       "      <td>4023</td>\n",
       "      <td>284</td>\n",
       "      <td>1529</td>\n",
       "      <td>5.7</td>\n",
       "      <td>5.8</td>\n",
       "      <td>5.9</td>\n",
       "    </tr>\n",
       "    <tr>\n",
       "      <th>3</th>\n",
       "      <td>1994-10-01</td>\n",
       "      <td>149.4</td>\n",
       "      <td>155.1</td>\n",
       "      <td>167.6</td>\n",
       "      <td>3.29</td>\n",
       "      <td>4.760000</td>\n",
       "      <td>4388</td>\n",
       "      <td>209</td>\n",
       "      <td>1776</td>\n",
       "      <td>6.2</td>\n",
       "      <td>6.1</td>\n",
       "      <td>5.9</td>\n",
       "    </tr>\n",
       "  </tbody>\n",
       "</table>\n",
       "</div>"
      ],
      "text/plain": [
       "        DATE  ConsumerPriceIndex  RentPrimaryResidence  OwnerEquivalentRent  \\\n",
       "0 1994-01-01               146.3                 152.2                163.1   \n",
       "1 1994-04-01               147.2                 153.3                164.7   \n",
       "2 1994-07-01               148.4                 154.0                165.6   \n",
       "3 1994-10-01               149.4                 155.1                167.6   \n",
       "\n",
       "   DelinquencyCreditCLoans  FedFundsEffectiveRate_MonthlyAve  \\\n",
       "0                     3.60                          3.050645   \n",
       "1                     3.29                          3.555000   \n",
       "2                     3.25                          4.256129   \n",
       "3                     3.29                          4.760000   \n",
       "\n",
       "   MULTJobHolders_Pri_FT_Sec_PT  MULTJobHolders_Pri_Sec_BothFT  \\\n",
       "0                          3906                            245   \n",
       "1                          4269                            250   \n",
       "2                          4023                            284   \n",
       "3                          4388                            209   \n",
       "\n",
       "   MULTJobHolders_Pri_Sec_BothPT  MULTJobHolders_Perc_ofEmployed_M  \\\n",
       "0                           1403                               5.6   \n",
       "1                           1580                               5.9   \n",
       "2                           1529                               5.7   \n",
       "3                           1776                               6.2   \n",
       "\n",
       "   MULTJobHoldersPerc_ofEmployed_W  MULTJobHoldersPerc_ofEmployed  \n",
       "0                              5.6                            5.8  \n",
       "1                              6.2                            6.0  \n",
       "2                              5.8                            5.9  \n",
       "3                              6.1                            5.9  "
      ]
     },
     "execution_count": 137,
     "metadata": {},
     "output_type": "execute_result"
    }
   ],
   "source": [
    "# As you can see, it is quarterly \n",
    "combined_df.head(4)"
   ]
  },
  {
   "cell_type": "code",
   "execution_count": 138,
   "metadata": {},
   "outputs": [
    {
     "data": {
      "text/html": [
       "<div>\n",
       "<style scoped>\n",
       "    .dataframe tbody tr th:only-of-type {\n",
       "        vertical-align: middle;\n",
       "    }\n",
       "\n",
       "    .dataframe tbody tr th {\n",
       "        vertical-align: top;\n",
       "    }\n",
       "\n",
       "    .dataframe thead th {\n",
       "        text-align: right;\n",
       "    }\n",
       "</style>\n",
       "<table border=\"1\" class=\"dataframe\">\n",
       "  <thead>\n",
       "    <tr style=\"text-align: right;\">\n",
       "      <th></th>\n",
       "      <th>DATE</th>\n",
       "      <th>ConsumerPriceIndex</th>\n",
       "      <th>RentPrimaryResidence</th>\n",
       "      <th>OwnerEquivalentRent</th>\n",
       "      <th>DelinquencyCreditCLoans</th>\n",
       "      <th>FedFundsEffectiveRate_MonthlyAve</th>\n",
       "      <th>MULTJobHolders_Pri_FT_Sec_PT</th>\n",
       "      <th>MULTJobHolders_Pri_Sec_BothFT</th>\n",
       "      <th>MULTJobHolders_Pri_Sec_BothPT</th>\n",
       "      <th>MULTJobHolders_Perc_ofEmployed_M</th>\n",
       "      <th>MULTJobHoldersPerc_ofEmployed_W</th>\n",
       "      <th>MULTJobHoldersPerc_ofEmployed</th>\n",
       "    </tr>\n",
       "  </thead>\n",
       "  <tbody>\n",
       "    <tr>\n",
       "      <th>118</th>\n",
       "      <td>2023-07-01</td>\n",
       "      <td>304.628</td>\n",
       "      <td>400.873</td>\n",
       "      <td>391.536</td>\n",
       "      <td>2.96</td>\n",
       "      <td>5.12</td>\n",
       "      <td>4556</td>\n",
       "      <td>421</td>\n",
       "      <td>2003</td>\n",
       "      <td>4.6</td>\n",
       "      <td>5.5</td>\n",
       "      <td>5.1</td>\n",
       "    </tr>\n",
       "    <tr>\n",
       "      <th>119</th>\n",
       "      <td>2023-10-01</td>\n",
       "      <td>307.531</td>\n",
       "      <td>406.561</td>\n",
       "      <td>396.791</td>\n",
       "      <td>3.08</td>\n",
       "      <td>5.33</td>\n",
       "      <td>4978</td>\n",
       "      <td>394</td>\n",
       "      <td>1978</td>\n",
       "      <td>4.7</td>\n",
       "      <td>5.9</td>\n",
       "      <td>5.2</td>\n",
       "    </tr>\n",
       "    <tr>\n",
       "      <th>120</th>\n",
       "      <td>2024-01-01</td>\n",
       "      <td>309.685</td>\n",
       "      <td>411.460</td>\n",
       "      <td>402.651</td>\n",
       "      <td>3.15</td>\n",
       "      <td>5.33</td>\n",
       "      <td>4602</td>\n",
       "      <td>416</td>\n",
       "      <td>2048</td>\n",
       "      <td>4.7</td>\n",
       "      <td>5.5</td>\n",
       "      <td>5.1</td>\n",
       "    </tr>\n",
       "    <tr>\n",
       "      <th>121</th>\n",
       "      <td>2024-04-01</td>\n",
       "      <td>313.207</td>\n",
       "      <td>416.507</td>\n",
       "      <td>407.894</td>\n",
       "      <td>3.25</td>\n",
       "      <td>5.33</td>\n",
       "      <td>4844</td>\n",
       "      <td>376</td>\n",
       "      <td>2091</td>\n",
       "      <td>4.7</td>\n",
       "      <td>5.7</td>\n",
       "      <td>5.2</td>\n",
       "    </tr>\n",
       "  </tbody>\n",
       "</table>\n",
       "</div>"
      ],
      "text/plain": [
       "          DATE  ConsumerPriceIndex  RentPrimaryResidence  OwnerEquivalentRent  \\\n",
       "118 2023-07-01             304.628               400.873              391.536   \n",
       "119 2023-10-01             307.531               406.561              396.791   \n",
       "120 2024-01-01             309.685               411.460              402.651   \n",
       "121 2024-04-01             313.207               416.507              407.894   \n",
       "\n",
       "     DelinquencyCreditCLoans  FedFundsEffectiveRate_MonthlyAve  \\\n",
       "118                     2.96                              5.12   \n",
       "119                     3.08                              5.33   \n",
       "120                     3.15                              5.33   \n",
       "121                     3.25                              5.33   \n",
       "\n",
       "     MULTJobHolders_Pri_FT_Sec_PT  MULTJobHolders_Pri_Sec_BothFT  \\\n",
       "118                          4556                            421   \n",
       "119                          4978                            394   \n",
       "120                          4602                            416   \n",
       "121                          4844                            376   \n",
       "\n",
       "     MULTJobHolders_Pri_Sec_BothPT  MULTJobHolders_Perc_ofEmployed_M  \\\n",
       "118                           2003                               4.6   \n",
       "119                           1978                               4.7   \n",
       "120                           2048                               4.7   \n",
       "121                           2091                               4.7   \n",
       "\n",
       "     MULTJobHoldersPerc_ofEmployed_W  MULTJobHoldersPerc_ofEmployed  \n",
       "118                              5.5                            5.1  \n",
       "119                              5.9                            5.2  \n",
       "120                              5.5                            5.1  \n",
       "121                              5.7                            5.2  "
      ]
     },
     "execution_count": 138,
     "metadata": {},
     "output_type": "execute_result"
    }
   ],
   "source": [
    "combined_df.tail(4)"
   ]
  },
  {
   "cell_type": "markdown",
   "metadata": {},
   "source": [
    "#### The combined dataframe includes intergers and floats. I initially changed the floats to integers and realized that it changes the results in a misleading way. The floats are valueable information that change the figure directions. "
   ]
  },
  {
   "cell_type": "code",
   "execution_count": 139,
   "metadata": {},
   "outputs": [
    {
     "name": "stdout",
     "output_type": "stream",
     "text": [
      "----DataFrame Info----\n",
      "<class 'pandas.core.frame.DataFrame'>\n",
      "RangeIndex: 122 entries, 0 to 121\n",
      "Data columns (total 12 columns):\n",
      " #   Column                            Non-Null Count  Dtype         \n",
      "---  ------                            --------------  -----         \n",
      " 0   DATE                              122 non-null    datetime64[ns]\n",
      " 1   ConsumerPriceIndex                122 non-null    float64       \n",
      " 2   RentPrimaryResidence              122 non-null    float64       \n",
      " 3   OwnerEquivalentRent               122 non-null    float64       \n",
      " 4   DelinquencyCreditCLoans           122 non-null    float64       \n",
      " 5   FedFundsEffectiveRate_MonthlyAve  122 non-null    float64       \n",
      " 6   MULTJobHolders_Pri_FT_Sec_PT      122 non-null    int64         \n",
      " 7   MULTJobHolders_Pri_Sec_BothFT     122 non-null    int64         \n",
      " 8   MULTJobHolders_Pri_Sec_BothPT     122 non-null    int64         \n",
      " 9   MULTJobHolders_Perc_ofEmployed_M  122 non-null    float64       \n",
      " 10  MULTJobHoldersPerc_ofEmployed_W   122 non-null    float64       \n",
      " 11  MULTJobHoldersPerc_ofEmployed     122 non-null    float64       \n",
      "dtypes: datetime64[ns](1), float64(8), int64(3)\n",
      "memory usage: 11.6 KB\n",
      "None\n",
      "----DataFrame Shape----\n",
      "(122, 12)\n"
     ]
    }
   ],
   "source": [
    "print(\"----DataFrame Info----\")\n",
    "print(combined_df.info())\n",
    "print(\"----DataFrame Shape----\")\n",
    "print(combined_df.shape)"
   ]
  },
  {
   "cell_type": "code",
   "execution_count": 140,
   "metadata": {},
   "outputs": [
    {
     "data": {
      "text/plain": [
       "DATE                                0\n",
       "ConsumerPriceIndex                  0\n",
       "RentPrimaryResidence                0\n",
       "OwnerEquivalentRent                 0\n",
       "DelinquencyCreditCLoans             0\n",
       "FedFundsEffectiveRate_MonthlyAve    0\n",
       "MULTJobHolders_Pri_FT_Sec_PT        0\n",
       "MULTJobHolders_Pri_Sec_BothFT       0\n",
       "MULTJobHolders_Pri_Sec_BothPT       0\n",
       "MULTJobHolders_Perc_ofEmployed_M    0\n",
       "MULTJobHoldersPerc_ofEmployed_W     0\n",
       "MULTJobHoldersPerc_ofEmployed       0\n",
       "dtype: int64"
      ]
     },
     "execution_count": 140,
     "metadata": {},
     "output_type": "execute_result"
    }
   ],
   "source": [
    "combined_df.isnull().sum()"
   ]
  },
  {
   "cell_type": "code",
   "execution_count": 141,
   "metadata": {},
   "outputs": [],
   "source": [
    "#EXPORTED FOR FUTURE USE\n",
    "combined_df = pd.DataFrame(combined_df)\n",
    "combined_df.to_csv('NEW_FILE_combined_df.csv', index=False)"
   ]
  },
  {
   "cell_type": "code",
   "execution_count": 142,
   "metadata": {},
   "outputs": [],
   "source": [
    "combined_df['DATE'] = pd.to_datetime(combined_df['DATE'])\n",
    "combined_df['Year'] = combined_df['DATE'].dt.year\n",
    "# convert the date to year"
   ]
  },
  {
   "cell_type": "markdown",
   "metadata": {},
   "source": [
    "### Annual Combined Statistics:\n",
    "Initially, I examined the overall statistics for the entire dataset, which provided a summary across all years. However, the large variations over time made it difficult to gain meaningful insights from the combined data. To better understand the trends and fluctuations, I decided to analyze the statistics on a yearly basis, allowing for a clearer view of how these values changed over time."
   ]
  },
  {
   "cell_type": "code",
   "execution_count": 143,
   "metadata": {},
   "outputs": [
    {
     "data": {
      "text/html": [
       "<div>\n",
       "<style scoped>\n",
       "    .dataframe tbody tr th:only-of-type {\n",
       "        vertical-align: middle;\n",
       "    }\n",
       "\n",
       "    .dataframe tbody tr th {\n",
       "        vertical-align: top;\n",
       "    }\n",
       "\n",
       "    .dataframe thead th {\n",
       "        text-align: right;\n",
       "    }\n",
       "</style>\n",
       "<table border=\"1\" class=\"dataframe\">\n",
       "  <thead>\n",
       "    <tr style=\"text-align: right;\">\n",
       "      <th></th>\n",
       "      <th>(ConsumerPriceIndex, mean)</th>\n",
       "      <th>(ConsumerPriceIndex, median)</th>\n",
       "      <th>(ConsumerPriceIndex, std)</th>\n",
       "      <th>(RentPrimaryResidence, mean)</th>\n",
       "      <th>(RentPrimaryResidence, median)</th>\n",
       "      <th>(RentPrimaryResidence, std)</th>\n",
       "      <th>(OwnerEquivalentRent, mean)</th>\n",
       "      <th>(OwnerEquivalentRent, median)</th>\n",
       "      <th>(OwnerEquivalentRent, std)</th>\n",
       "      <th>(DelinquencyCreditCLoans, mean)</th>\n",
       "      <th>...</th>\n",
       "      <th>RentPrimaryResidence_mode</th>\n",
       "      <th>OwnerEquivalentRent_mode</th>\n",
       "      <th>DelinquencyCreditCLoans_mode</th>\n",
       "      <th>FedFundsEffectiveRate_MonthlyAve_mode</th>\n",
       "      <th>MULTJobHolders_Pri_FT_Sec_PT_mode</th>\n",
       "      <th>MULTJobHolders_Pri_Sec_BothFT_mode</th>\n",
       "      <th>MULTJobHolders_Pri_Sec_BothPT_mode</th>\n",
       "      <th>MULTJobHolders_Perc_ofEmployed_M_mode</th>\n",
       "      <th>MULTJobHoldersPerc_ofEmployed_W_mode</th>\n",
       "      <th>MULTJobHoldersPerc_ofEmployed_mode</th>\n",
       "    </tr>\n",
       "    <tr>\n",
       "      <th>Year</th>\n",
       "      <th></th>\n",
       "      <th></th>\n",
       "      <th></th>\n",
       "      <th></th>\n",
       "      <th></th>\n",
       "      <th></th>\n",
       "      <th></th>\n",
       "      <th></th>\n",
       "      <th></th>\n",
       "      <th></th>\n",
       "      <th></th>\n",
       "      <th></th>\n",
       "      <th></th>\n",
       "      <th></th>\n",
       "      <th></th>\n",
       "      <th></th>\n",
       "      <th></th>\n",
       "      <th></th>\n",
       "      <th></th>\n",
       "      <th></th>\n",
       "      <th></th>\n",
       "    </tr>\n",
       "  </thead>\n",
       "  <tbody>\n",
       "    <tr>\n",
       "      <th>1994</th>\n",
       "      <td>147.82500</td>\n",
       "      <td>147.8000</td>\n",
       "      <td>1.357387</td>\n",
       "      <td>153.65000</td>\n",
       "      <td>153.6500</td>\n",
       "      <td>1.217922</td>\n",
       "      <td>165.25000</td>\n",
       "      <td>165.1500</td>\n",
       "      <td>1.877054</td>\n",
       "      <td>3.3575</td>\n",
       "      <td>...</td>\n",
       "      <td>152.200</td>\n",
       "      <td>163.100</td>\n",
       "      <td>3.29</td>\n",
       "      <td>3.050645</td>\n",
       "      <td>3906</td>\n",
       "      <td>209</td>\n",
       "      <td>1403</td>\n",
       "      <td>5.6</td>\n",
       "      <td>5.6</td>\n",
       "      <td>5.9</td>\n",
       "    </tr>\n",
       "    <tr>\n",
       "      <th>1995</th>\n",
       "      <td>152.10000</td>\n",
       "      <td>152.2000</td>\n",
       "      <td>1.272792</td>\n",
       "      <td>157.47500</td>\n",
       "      <td>157.5000</td>\n",
       "      <td>1.175798</td>\n",
       "      <td>170.82500</td>\n",
       "      <td>170.7500</td>\n",
       "      <td>1.977161</td>\n",
       "      <td>3.7450</td>\n",
       "      <td>...</td>\n",
       "      <td>156.100</td>\n",
       "      <td>168.600</td>\n",
       "      <td>3.48</td>\n",
       "      <td>5.527419</td>\n",
       "      <td>4288</td>\n",
       "      <td>233</td>\n",
       "      <td>1533</td>\n",
       "      <td>5.8</td>\n",
       "      <td>6.3</td>\n",
       "      <td>6.0</td>\n",
       "    </tr>\n",
       "    <tr>\n",
       "      <th>1996</th>\n",
       "      <td>156.50000</td>\n",
       "      <td>156.5500</td>\n",
       "      <td>1.476482</td>\n",
       "      <td>161.57500</td>\n",
       "      <td>161.6000</td>\n",
       "      <td>1.463728</td>\n",
       "      <td>176.37500</td>\n",
       "      <td>176.3500</td>\n",
       "      <td>1.562850</td>\n",
       "      <td>4.3425</td>\n",
       "      <td>...</td>\n",
       "      <td>159.900</td>\n",
       "      <td>174.600</td>\n",
       "      <td>4.04</td>\n",
       "      <td>5.223667</td>\n",
       "      <td>4013</td>\n",
       "      <td>239</td>\n",
       "      <td>1605</td>\n",
       "      <td>5.7</td>\n",
       "      <td>5.9</td>\n",
       "      <td>6.0</td>\n",
       "    </tr>\n",
       "    <tr>\n",
       "      <th>1997</th>\n",
       "      <td>160.30000</td>\n",
       "      <td>160.1500</td>\n",
       "      <td>0.898146</td>\n",
       "      <td>166.25000</td>\n",
       "      <td>166.2500</td>\n",
       "      <td>1.678293</td>\n",
       "      <td>181.42500</td>\n",
       "      <td>181.4500</td>\n",
       "      <td>1.744276</td>\n",
       "      <td>4.7350</td>\n",
       "      <td>...</td>\n",
       "      <td>164.300</td>\n",
       "      <td>179.400</td>\n",
       "      <td>4.70</td>\n",
       "      <td>5.254516</td>\n",
       "      <td>4270</td>\n",
       "      <td>210</td>\n",
       "      <td>1608</td>\n",
       "      <td>6.0</td>\n",
       "      <td>6.3</td>\n",
       "      <td>6.2</td>\n",
       "    </tr>\n",
       "    <tr>\n",
       "      <th>1998</th>\n",
       "      <td>162.82500</td>\n",
       "      <td>162.7000</td>\n",
       "      <td>0.888351</td>\n",
       "      <td>171.60000</td>\n",
       "      <td>171.5500</td>\n",
       "      <td>1.937352</td>\n",
       "      <td>187.32500</td>\n",
       "      <td>187.3000</td>\n",
       "      <td>2.027108</td>\n",
       "      <td>4.7450</td>\n",
       "      <td>...</td>\n",
       "      <td>169.400</td>\n",
       "      <td>185.000</td>\n",
       "      <td>4.76</td>\n",
       "      <td>5.070968</td>\n",
       "      <td>4236</td>\n",
       "      <td>266</td>\n",
       "      <td>1563</td>\n",
       "      <td>6.0</td>\n",
       "      <td>6.2</td>\n",
       "      <td>6.1</td>\n",
       "    </tr>\n",
       "    <tr>\n",
       "      <th>1999</th>\n",
       "      <td>166.35000</td>\n",
       "      <td>166.3000</td>\n",
       "      <td>1.427118</td>\n",
       "      <td>177.00000</td>\n",
       "      <td>177.0000</td>\n",
       "      <td>1.549193</td>\n",
       "      <td>192.55000</td>\n",
       "      <td>192.5500</td>\n",
       "      <td>1.420094</td>\n",
       "      <td>4.5975</td>\n",
       "      <td>...</td>\n",
       "      <td>175.200</td>\n",
       "      <td>190.900</td>\n",
       "      <td>4.55</td>\n",
       "      <td>4.632581</td>\n",
       "      <td>4101</td>\n",
       "      <td>282</td>\n",
       "      <td>1597</td>\n",
       "      <td>5.7</td>\n",
       "      <td>5.6</td>\n",
       "      <td>5.8</td>\n",
       "    </tr>\n",
       "    <tr>\n",
       "      <th>2000</th>\n",
       "      <td>171.70000</td>\n",
       "      <td>171.8000</td>\n",
       "      <td>2.019901</td>\n",
       "      <td>183.35000</td>\n",
       "      <td>183.2000</td>\n",
       "      <td>2.253146</td>\n",
       "      <td>198.15000</td>\n",
       "      <td>198.0500</td>\n",
       "      <td>1.939931</td>\n",
       "      <td>4.5100</td>\n",
       "      <td>...</td>\n",
       "      <td>180.900</td>\n",
       "      <td>196.000</td>\n",
       "      <td>4.43</td>\n",
       "      <td>5.448387</td>\n",
       "      <td>4071</td>\n",
       "      <td>250</td>\n",
       "      <td>1599</td>\n",
       "      <td>5.4</td>\n",
       "      <td>5.6</td>\n",
       "      <td>5.4</td>\n",
       "    </tr>\n",
       "    <tr>\n",
       "      <th>2001</th>\n",
       "      <td>176.75000</td>\n",
       "      <td>176.9000</td>\n",
       "      <td>0.929157</td>\n",
       "      <td>191.35000</td>\n",
       "      <td>191.3500</td>\n",
       "      <td>2.891943</td>\n",
       "      <td>205.50000</td>\n",
       "      <td>205.4000</td>\n",
       "      <td>2.920046</td>\n",
       "      <td>4.8600</td>\n",
       "      <td>...</td>\n",
       "      <td>188.000</td>\n",
       "      <td>202.200</td>\n",
       "      <td>4.69</td>\n",
       "      <td>2.485161</td>\n",
       "      <td>3751</td>\n",
       "      <td>240</td>\n",
       "      <td>1485</td>\n",
       "      <td>5.1</td>\n",
       "      <td>5.4</td>\n",
       "      <td>5.2</td>\n",
       "    </tr>\n",
       "    <tr>\n",
       "      <th>2002</th>\n",
       "      <td>179.55000</td>\n",
       "      <td>179.6500</td>\n",
       "      <td>1.461734</td>\n",
       "      <td>199.15000</td>\n",
       "      <td>199.2500</td>\n",
       "      <td>1.939931</td>\n",
       "      <td>214.15000</td>\n",
       "      <td>214.2500</td>\n",
       "      <td>2.275229</td>\n",
       "      <td>4.8625</td>\n",
       "      <td>...</td>\n",
       "      <td>196.800</td>\n",
       "      <td>211.400</td>\n",
       "      <td>4.78</td>\n",
       "      <td>1.729032</td>\n",
       "      <td>3808</td>\n",
       "      <td>226</td>\n",
       "      <td>1522</td>\n",
       "      <td>5.1</td>\n",
       "      <td>5.5</td>\n",
       "      <td>5.3</td>\n",
       "    </tr>\n",
       "    <tr>\n",
       "      <th>2003</th>\n",
       "      <td>183.60000</td>\n",
       "      <td>183.4500</td>\n",
       "      <td>0.976388</td>\n",
       "      <td>205.10000</td>\n",
       "      <td>205.1500</td>\n",
       "      <td>1.602082</td>\n",
       "      <td>219.60000</td>\n",
       "      <td>219.4000</td>\n",
       "      <td>1.288410</td>\n",
       "      <td>4.4700</td>\n",
       "      <td>...</td>\n",
       "      <td>203.200</td>\n",
       "      <td>218.300</td>\n",
       "      <td>4.24</td>\n",
       "      <td>1.010000</td>\n",
       "      <td>3620</td>\n",
       "      <td>231</td>\n",
       "      <td>1600</td>\n",
       "      <td>5.2</td>\n",
       "      <td>5.3</td>\n",
       "      <td>5.3</td>\n",
       "    </tr>\n",
       "    <tr>\n",
       "      <th>2004</th>\n",
       "      <td>188.40000</td>\n",
       "      <td>188.2500</td>\n",
       "      <td>1.971463</td>\n",
       "      <td>210.50000</td>\n",
       "      <td>210.5500</td>\n",
       "      <td>2.041241</td>\n",
       "      <td>224.52500</td>\n",
       "      <td>224.6500</td>\n",
       "      <td>1.723127</td>\n",
       "      <td>4.1150</td>\n",
       "      <td>...</td>\n",
       "      <td>208.100</td>\n",
       "      <td>222.400</td>\n",
       "      <td>4.03</td>\n",
       "      <td>0.997097</td>\n",
       "      <td>3722</td>\n",
       "      <td>227</td>\n",
       "      <td>1633</td>\n",
       "      <td>5.0</td>\n",
       "      <td>5.5</td>\n",
       "      <td>5.3</td>\n",
       "    </tr>\n",
       "    <tr>\n",
       "      <th>2005</th>\n",
       "      <td>194.82500</td>\n",
       "      <td>194.3000</td>\n",
       "      <td>3.159509</td>\n",
       "      <td>216.82500</td>\n",
       "      <td>216.8500</td>\n",
       "      <td>2.156193</td>\n",
       "      <td>229.65000</td>\n",
       "      <td>229.6500</td>\n",
       "      <td>1.678293</td>\n",
       "      <td>3.7025</td>\n",
       "      <td>...</td>\n",
       "      <td>214.300</td>\n",
       "      <td>227.700</td>\n",
       "      <td>3.54</td>\n",
       "      <td>2.279355</td>\n",
       "      <td>3782</td>\n",
       "      <td>284</td>\n",
       "      <td>1612</td>\n",
       "      <td>5.0</td>\n",
       "      <td>5.5</td>\n",
       "      <td>5.3</td>\n",
       "    </tr>\n",
       "    <tr>\n",
       "      <th>2006</th>\n",
       "      <td>201.20000</td>\n",
       "      <td>201.3000</td>\n",
       "      <td>1.553491</td>\n",
       "      <td>224.27500</td>\n",
       "      <td>224.1500</td>\n",
       "      <td>3.114884</td>\n",
       "      <td>237.35000</td>\n",
       "      <td>237.3500</td>\n",
       "      <td>3.464583</td>\n",
       "      <td>4.0150</td>\n",
       "      <td>...</td>\n",
       "      <td>220.800</td>\n",
       "      <td>233.400</td>\n",
       "      <td>3.86</td>\n",
       "      <td>4.285161</td>\n",
       "      <td>3859</td>\n",
       "      <td>259</td>\n",
       "      <td>1619</td>\n",
       "      <td>4.9</td>\n",
       "      <td>5.4</td>\n",
       "      <td>5.2</td>\n",
       "    </tr>\n",
       "    <tr>\n",
       "      <th>2007</th>\n",
       "      <td>206.53350</td>\n",
       "      <td>206.7535</td>\n",
       "      <td>2.462073</td>\n",
       "      <td>233.92075</td>\n",
       "      <td>233.9780</td>\n",
       "      <td>2.833379</td>\n",
       "      <td>245.64050</td>\n",
       "      <td>245.5710</td>\n",
       "      <td>1.989467</td>\n",
       "      <td>4.2525</td>\n",
       "      <td>...</td>\n",
       "      <td>230.547</td>\n",
       "      <td>243.345</td>\n",
       "      <td>3.98</td>\n",
       "      <td>4.755484</td>\n",
       "      <td>3996</td>\n",
       "      <td>240</td>\n",
       "      <td>1729</td>\n",
       "      <td>4.8</td>\n",
       "      <td>5.6</td>\n",
       "      <td>5.2</td>\n",
       "    </tr>\n",
       "    <tr>\n",
       "      <th>2008</th>\n",
       "      <td>215.53175</td>\n",
       "      <td>215.4685</td>\n",
       "      <td>3.059569</td>\n",
       "      <td>242.63575</td>\n",
       "      <td>242.5560</td>\n",
       "      <td>2.768307</td>\n",
       "      <td>251.99450</td>\n",
       "      <td>252.0145</td>\n",
       "      <td>1.676529</td>\n",
       "      <td>5.0275</td>\n",
       "      <td>...</td>\n",
       "      <td>239.517</td>\n",
       "      <td>250.013</td>\n",
       "      <td>4.77</td>\n",
       "      <td>0.969355</td>\n",
       "      <td>4126</td>\n",
       "      <td>229</td>\n",
       "      <td>1631</td>\n",
       "      <td>5.0</td>\n",
       "      <td>5.5</td>\n",
       "      <td>5.2</td>\n",
       "    </tr>\n",
       "    <tr>\n",
       "      <th>2009</th>\n",
       "      <td>213.96925</td>\n",
       "      <td>213.7175</td>\n",
       "      <td>2.062163</td>\n",
       "      <td>248.67550</td>\n",
       "      <td>248.8980</td>\n",
       "      <td>0.772370</td>\n",
       "      <td>256.47475</td>\n",
       "      <td>256.7620</td>\n",
       "      <td>0.785541</td>\n",
       "      <td>6.5250</td>\n",
       "      <td>...</td>\n",
       "      <td>247.563</td>\n",
       "      <td>255.330</td>\n",
       "      <td>6.33</td>\n",
       "      <td>0.118065</td>\n",
       "      <td>3807</td>\n",
       "      <td>231</td>\n",
       "      <td>1684</td>\n",
       "      <td>4.7</td>\n",
       "      <td>5.5</td>\n",
       "      <td>5.1</td>\n",
       "    </tr>\n",
       "    <tr>\n",
       "      <th>2010</th>\n",
       "      <td>217.88275</td>\n",
       "      <td>217.5465</td>\n",
       "      <td>0.772617</td>\n",
       "      <td>249.20025</td>\n",
       "      <td>249.2100</td>\n",
       "      <td>0.433685</td>\n",
       "      <td>256.48550</td>\n",
       "      <td>256.4840</td>\n",
       "      <td>0.282047</td>\n",
       "      <td>4.9000</td>\n",
       "      <td>...</td>\n",
       "      <td>248.721</td>\n",
       "      <td>256.147</td>\n",
       "      <td>4.14</td>\n",
       "      <td>0.110000</td>\n",
       "      <td>3424</td>\n",
       "      <td>197</td>\n",
       "      <td>1679</td>\n",
       "      <td>4.3</td>\n",
       "      <td>5.5</td>\n",
       "      <td>4.8</td>\n",
       "    </tr>\n",
       "    <tr>\n",
       "      <th>2011</th>\n",
       "      <td>224.35625</td>\n",
       "      <td>224.7440</td>\n",
       "      <td>2.375043</td>\n",
       "      <td>253.10475</td>\n",
       "      <td>252.8130</td>\n",
       "      <td>1.936510</td>\n",
       "      <td>259.17725</td>\n",
       "      <td>259.0585</td>\n",
       "      <td>1.478581</td>\n",
       "      <td>3.5425</td>\n",
       "      <td>...</td>\n",
       "      <td>251.142</td>\n",
       "      <td>257.609</td>\n",
       "      <td>3.25</td>\n",
       "      <td>0.070645</td>\n",
       "      <td>3510</td>\n",
       "      <td>182</td>\n",
       "      <td>1726</td>\n",
       "      <td>4.5</td>\n",
       "      <td>5.4</td>\n",
       "      <td>4.9</td>\n",
       "    </tr>\n",
       "    <tr>\n",
       "      <th>2012</th>\n",
       "      <td>229.31425</td>\n",
       "      <td>228.8885</td>\n",
       "      <td>1.643985</td>\n",
       "      <td>259.83775</td>\n",
       "      <td>259.7265</td>\n",
       "      <td>2.277371</td>\n",
       "      <td>264.38275</td>\n",
       "      <td>264.3585</td>\n",
       "      <td>1.734868</td>\n",
       "      <td>2.8775</td>\n",
       "      <td>...</td>\n",
       "      <td>257.267</td>\n",
       "      <td>262.345</td>\n",
       "      <td>2.71</td>\n",
       "      <td>0.081935</td>\n",
       "      <td>3441</td>\n",
       "      <td>253</td>\n",
       "      <td>1871</td>\n",
       "      <td>4.4</td>\n",
       "      <td>5.0</td>\n",
       "      <td>4.9</td>\n",
       "    </tr>\n",
       "    <tr>\n",
       "      <th>2013</th>\n",
       "      <td>232.51125</td>\n",
       "      <td>232.3485</td>\n",
       "      <td>0.947682</td>\n",
       "      <td>267.00775</td>\n",
       "      <td>266.9820</td>\n",
       "      <td>2.389645</td>\n",
       "      <td>270.07100</td>\n",
       "      <td>270.0120</td>\n",
       "      <td>2.021943</td>\n",
       "      <td>2.4975</td>\n",
       "      <td>...</td>\n",
       "      <td>264.245</td>\n",
       "      <td>267.763</td>\n",
       "      <td>2.38</td>\n",
       "      <td>0.087097</td>\n",
       "      <td>3524</td>\n",
       "      <td>198</td>\n",
       "      <td>1786</td>\n",
       "      <td>4.6</td>\n",
       "      <td>5.2</td>\n",
       "      <td>4.8</td>\n",
       "    </tr>\n",
       "    <tr>\n",
       "      <th>2014</th>\n",
       "      <td>236.67100</td>\n",
       "      <td>236.9490</td>\n",
       "      <td>1.035038</td>\n",
       "      <td>275.40825</td>\n",
       "      <td>275.4590</td>\n",
       "      <td>2.976007</td>\n",
       "      <td>277.21375</td>\n",
       "      <td>277.2330</td>\n",
       "      <td>2.307816</td>\n",
       "      <td>2.2325</td>\n",
       "      <td>...</td>\n",
       "      <td>271.918</td>\n",
       "      <td>274.507</td>\n",
       "      <td>2.15</td>\n",
       "      <td>0.071613</td>\n",
       "      <td>3412</td>\n",
       "      <td>227</td>\n",
       "      <td>1743</td>\n",
       "      <td>4.2</td>\n",
       "      <td>4.9</td>\n",
       "      <td>4.7</td>\n",
       "    </tr>\n",
       "    <tr>\n",
       "      <th>2015</th>\n",
       "      <td>236.68400</td>\n",
       "      <td>236.9775</td>\n",
       "      <td>1.515290</td>\n",
       "      <td>285.17000</td>\n",
       "      <td>285.1105</td>\n",
       "      <td>3.446101</td>\n",
       "      <td>285.17450</td>\n",
       "      <td>285.2280</td>\n",
       "      <td>2.923743</td>\n",
       "      <td>2.1350</td>\n",
       "      <td>...</td>\n",
       "      <td>281.223</td>\n",
       "      <td>281.747</td>\n",
       "      <td>2.11</td>\n",
       "      <td>0.114839</td>\n",
       "      <td>3759</td>\n",
       "      <td>172</td>\n",
       "      <td>1902</td>\n",
       "      <td>4.2</td>\n",
       "      <td>4.9</td>\n",
       "      <td>5.0</td>\n",
       "    </tr>\n",
       "    <tr>\n",
       "      <th>2016</th>\n",
       "      <td>239.62150</td>\n",
       "      <td>239.5465</td>\n",
       "      <td>1.731801</td>\n",
       "      <td>295.87600</td>\n",
       "      <td>295.7945</td>\n",
       "      <td>3.659927</td>\n",
       "      <td>294.44800</td>\n",
       "      <td>294.3395</td>\n",
       "      <td>3.380833</td>\n",
       "      <td>2.2550</td>\n",
       "      <td>...</td>\n",
       "      <td>291.700</td>\n",
       "      <td>290.654</td>\n",
       "      <td>2.14</td>\n",
       "      <td>0.342903</td>\n",
       "      <td>3842</td>\n",
       "      <td>232</td>\n",
       "      <td>1964</td>\n",
       "      <td>4.5</td>\n",
       "      <td>5.3</td>\n",
       "      <td>4.9</td>\n",
       "    </tr>\n",
       "    <tr>\n",
       "      <th>2017</th>\n",
       "      <td>244.67000</td>\n",
       "      <td>244.2180</td>\n",
       "      <td>1.334478</td>\n",
       "      <td>307.16700</td>\n",
       "      <td>307.0910</td>\n",
       "      <td>3.528203</td>\n",
       "      <td>304.28275</td>\n",
       "      <td>304.0805</td>\n",
       "      <td>3.028424</td>\n",
       "      <td>2.4775</td>\n",
       "      <td>...</td>\n",
       "      <td>303.156</td>\n",
       "      <td>300.965</td>\n",
       "      <td>2.39</td>\n",
       "      <td>0.649677</td>\n",
       "      <td>3904</td>\n",
       "      <td>295</td>\n",
       "      <td>1770</td>\n",
       "      <td>4.5</td>\n",
       "      <td>5.3</td>\n",
       "      <td>5.0</td>\n",
       "    </tr>\n",
       "    <tr>\n",
       "      <th>2018</th>\n",
       "      <td>250.76800</td>\n",
       "      <td>250.7205</td>\n",
       "      <td>1.648423</td>\n",
       "      <td>318.39500</td>\n",
       "      <td>318.3010</td>\n",
       "      <td>3.413866</td>\n",
       "      <td>314.36075</td>\n",
       "      <td>314.3840</td>\n",
       "      <td>3.174610</td>\n",
       "      <td>2.5125</td>\n",
       "      <td>...</td>\n",
       "      <td>314.531</td>\n",
       "      <td>310.641</td>\n",
       "      <td>2.48</td>\n",
       "      <td>1.414516</td>\n",
       "      <td>4207</td>\n",
       "      <td>273</td>\n",
       "      <td>2030</td>\n",
       "      <td>4.4</td>\n",
       "      <td>5.6</td>\n",
       "      <td>5.1</td>\n",
       "    </tr>\n",
       "    <tr>\n",
       "      <th>2019</th>\n",
       "      <td>255.18775</td>\n",
       "      <td>255.5175</td>\n",
       "      <td>1.927800</td>\n",
       "      <td>330.15575</td>\n",
       "      <td>330.3755</td>\n",
       "      <td>3.990948</td>\n",
       "      <td>324.77825</td>\n",
       "      <td>324.9515</td>\n",
       "      <td>3.455556</td>\n",
       "      <td>2.5825</td>\n",
       "      <td>...</td>\n",
       "      <td>325.314</td>\n",
       "      <td>320.587</td>\n",
       "      <td>2.51</td>\n",
       "      <td>1.829677</td>\n",
       "      <td>4317</td>\n",
       "      <td>249</td>\n",
       "      <td>1879</td>\n",
       "      <td>4.8</td>\n",
       "      <td>5.7</td>\n",
       "      <td>5.0</td>\n",
       "    </tr>\n",
       "    <tr>\n",
       "      <th>2020</th>\n",
       "      <td>258.42225</td>\n",
       "      <td>258.6570</td>\n",
       "      <td>1.716974</td>\n",
       "      <td>340.90125</td>\n",
       "      <td>341.2880</td>\n",
       "      <td>2.617087</td>\n",
       "      <td>334.28350</td>\n",
       "      <td>334.4825</td>\n",
       "      <td>2.359875</td>\n",
       "      <td>2.3050</td>\n",
       "      <td>...</td>\n",
       "      <td>337.531</td>\n",
       "      <td>331.348</td>\n",
       "      <td>2.00</td>\n",
       "      <td>0.049000</td>\n",
       "      <td>3202</td>\n",
       "      <td>248</td>\n",
       "      <td>1170</td>\n",
       "      <td>3.7</td>\n",
       "      <td>4.4</td>\n",
       "      <td>4.0</td>\n",
       "    </tr>\n",
       "    <tr>\n",
       "      <th>2021</th>\n",
       "      <td>269.42450</td>\n",
       "      <td>269.3730</td>\n",
       "      <td>6.071173</td>\n",
       "      <td>348.11725</td>\n",
       "      <td>347.6400</td>\n",
       "      <td>3.608704</td>\n",
       "      <td>342.31875</td>\n",
       "      <td>341.9695</td>\n",
       "      <td>4.066928</td>\n",
       "      <td>1.6400</td>\n",
       "      <td>...</td>\n",
       "      <td>344.415</td>\n",
       "      <td>337.964</td>\n",
       "      <td>1.54</td>\n",
       "      <td>0.069000</td>\n",
       "      <td>3755</td>\n",
       "      <td>401</td>\n",
       "      <td>1524</td>\n",
       "      <td>4.2</td>\n",
       "      <td>4.9</td>\n",
       "      <td>4.6</td>\n",
       "    </tr>\n",
       "    <tr>\n",
       "      <th>2022</th>\n",
       "      <td>290.99850</td>\n",
       "      <td>291.8705</td>\n",
       "      <td>6.881111</td>\n",
       "      <td>367.67150</td>\n",
       "      <td>367.0265</td>\n",
       "      <td>9.573710</td>\n",
       "      <td>360.85475</td>\n",
       "      <td>360.1705</td>\n",
       "      <td>8.531235</td>\n",
       "      <td>1.9575</td>\n",
       "      <td>...</td>\n",
       "      <td>357.322</td>\n",
       "      <td>351.727</td>\n",
       "      <td>1.67</td>\n",
       "      <td>0.079355</td>\n",
       "      <td>4259</td>\n",
       "      <td>282</td>\n",
       "      <td>1733</td>\n",
       "      <td>4.5</td>\n",
       "      <td>5.0</td>\n",
       "      <td>4.7</td>\n",
       "    </tr>\n",
       "    <tr>\n",
       "      <th>2023</th>\n",
       "      <td>303.88675</td>\n",
       "      <td>303.8300</td>\n",
       "      <td>3.001489</td>\n",
       "      <td>397.57275</td>\n",
       "      <td>397.9425</td>\n",
       "      <td>8.018039</td>\n",
       "      <td>388.28075</td>\n",
       "      <td>388.6390</td>\n",
       "      <td>7.628874</td>\n",
       "      <td>2.8150</td>\n",
       "      <td>...</td>\n",
       "      <td>387.845</td>\n",
       "      <td>379.054</td>\n",
       "      <td>2.45</td>\n",
       "      <td>4.330000</td>\n",
       "      <td>4388</td>\n",
       "      <td>343</td>\n",
       "      <td>1808</td>\n",
       "      <td>4.6</td>\n",
       "      <td>5.2</td>\n",
       "      <td>4.8</td>\n",
       "    </tr>\n",
       "    <tr>\n",
       "      <th>2024</th>\n",
       "      <td>311.44600</td>\n",
       "      <td>311.4460</td>\n",
       "      <td>2.490430</td>\n",
       "      <td>413.98350</td>\n",
       "      <td>413.9835</td>\n",
       "      <td>3.568768</td>\n",
       "      <td>405.27250</td>\n",
       "      <td>405.2725</td>\n",
       "      <td>3.707361</td>\n",
       "      <td>3.2000</td>\n",
       "      <td>...</td>\n",
       "      <td>411.460</td>\n",
       "      <td>402.651</td>\n",
       "      <td>3.15</td>\n",
       "      <td>5.330000</td>\n",
       "      <td>4602</td>\n",
       "      <td>376</td>\n",
       "      <td>2048</td>\n",
       "      <td>4.7</td>\n",
       "      <td>5.5</td>\n",
       "      <td>5.1</td>\n",
       "    </tr>\n",
       "  </tbody>\n",
       "</table>\n",
       "<p>31 rows × 45 columns</p>\n",
       "</div>"
      ],
      "text/plain": [
       "      (ConsumerPriceIndex, mean)  (ConsumerPriceIndex, median)  \\\n",
       "Year                                                             \n",
       "1994                   147.82500                      147.8000   \n",
       "1995                   152.10000                      152.2000   \n",
       "1996                   156.50000                      156.5500   \n",
       "1997                   160.30000                      160.1500   \n",
       "1998                   162.82500                      162.7000   \n",
       "1999                   166.35000                      166.3000   \n",
       "2000                   171.70000                      171.8000   \n",
       "2001                   176.75000                      176.9000   \n",
       "2002                   179.55000                      179.6500   \n",
       "2003                   183.60000                      183.4500   \n",
       "2004                   188.40000                      188.2500   \n",
       "2005                   194.82500                      194.3000   \n",
       "2006                   201.20000                      201.3000   \n",
       "2007                   206.53350                      206.7535   \n",
       "2008                   215.53175                      215.4685   \n",
       "2009                   213.96925                      213.7175   \n",
       "2010                   217.88275                      217.5465   \n",
       "2011                   224.35625                      224.7440   \n",
       "2012                   229.31425                      228.8885   \n",
       "2013                   232.51125                      232.3485   \n",
       "2014                   236.67100                      236.9490   \n",
       "2015                   236.68400                      236.9775   \n",
       "2016                   239.62150                      239.5465   \n",
       "2017                   244.67000                      244.2180   \n",
       "2018                   250.76800                      250.7205   \n",
       "2019                   255.18775                      255.5175   \n",
       "2020                   258.42225                      258.6570   \n",
       "2021                   269.42450                      269.3730   \n",
       "2022                   290.99850                      291.8705   \n",
       "2023                   303.88675                      303.8300   \n",
       "2024                   311.44600                      311.4460   \n",
       "\n",
       "      (ConsumerPriceIndex, std)  (RentPrimaryResidence, mean)  \\\n",
       "Year                                                            \n",
       "1994                   1.357387                     153.65000   \n",
       "1995                   1.272792                     157.47500   \n",
       "1996                   1.476482                     161.57500   \n",
       "1997                   0.898146                     166.25000   \n",
       "1998                   0.888351                     171.60000   \n",
       "1999                   1.427118                     177.00000   \n",
       "2000                   2.019901                     183.35000   \n",
       "2001                   0.929157                     191.35000   \n",
       "2002                   1.461734                     199.15000   \n",
       "2003                   0.976388                     205.10000   \n",
       "2004                   1.971463                     210.50000   \n",
       "2005                   3.159509                     216.82500   \n",
       "2006                   1.553491                     224.27500   \n",
       "2007                   2.462073                     233.92075   \n",
       "2008                   3.059569                     242.63575   \n",
       "2009                   2.062163                     248.67550   \n",
       "2010                   0.772617                     249.20025   \n",
       "2011                   2.375043                     253.10475   \n",
       "2012                   1.643985                     259.83775   \n",
       "2013                   0.947682                     267.00775   \n",
       "2014                   1.035038                     275.40825   \n",
       "2015                   1.515290                     285.17000   \n",
       "2016                   1.731801                     295.87600   \n",
       "2017                   1.334478                     307.16700   \n",
       "2018                   1.648423                     318.39500   \n",
       "2019                   1.927800                     330.15575   \n",
       "2020                   1.716974                     340.90125   \n",
       "2021                   6.071173                     348.11725   \n",
       "2022                   6.881111                     367.67150   \n",
       "2023                   3.001489                     397.57275   \n",
       "2024                   2.490430                     413.98350   \n",
       "\n",
       "      (RentPrimaryResidence, median)  (RentPrimaryResidence, std)  \\\n",
       "Year                                                                \n",
       "1994                        153.6500                     1.217922   \n",
       "1995                        157.5000                     1.175798   \n",
       "1996                        161.6000                     1.463728   \n",
       "1997                        166.2500                     1.678293   \n",
       "1998                        171.5500                     1.937352   \n",
       "1999                        177.0000                     1.549193   \n",
       "2000                        183.2000                     2.253146   \n",
       "2001                        191.3500                     2.891943   \n",
       "2002                        199.2500                     1.939931   \n",
       "2003                        205.1500                     1.602082   \n",
       "2004                        210.5500                     2.041241   \n",
       "2005                        216.8500                     2.156193   \n",
       "2006                        224.1500                     3.114884   \n",
       "2007                        233.9780                     2.833379   \n",
       "2008                        242.5560                     2.768307   \n",
       "2009                        248.8980                     0.772370   \n",
       "2010                        249.2100                     0.433685   \n",
       "2011                        252.8130                     1.936510   \n",
       "2012                        259.7265                     2.277371   \n",
       "2013                        266.9820                     2.389645   \n",
       "2014                        275.4590                     2.976007   \n",
       "2015                        285.1105                     3.446101   \n",
       "2016                        295.7945                     3.659927   \n",
       "2017                        307.0910                     3.528203   \n",
       "2018                        318.3010                     3.413866   \n",
       "2019                        330.3755                     3.990948   \n",
       "2020                        341.2880                     2.617087   \n",
       "2021                        347.6400                     3.608704   \n",
       "2022                        367.0265                     9.573710   \n",
       "2023                        397.9425                     8.018039   \n",
       "2024                        413.9835                     3.568768   \n",
       "\n",
       "      (OwnerEquivalentRent, mean)  (OwnerEquivalentRent, median)  \\\n",
       "Year                                                               \n",
       "1994                    165.25000                       165.1500   \n",
       "1995                    170.82500                       170.7500   \n",
       "1996                    176.37500                       176.3500   \n",
       "1997                    181.42500                       181.4500   \n",
       "1998                    187.32500                       187.3000   \n",
       "1999                    192.55000                       192.5500   \n",
       "2000                    198.15000                       198.0500   \n",
       "2001                    205.50000                       205.4000   \n",
       "2002                    214.15000                       214.2500   \n",
       "2003                    219.60000                       219.4000   \n",
       "2004                    224.52500                       224.6500   \n",
       "2005                    229.65000                       229.6500   \n",
       "2006                    237.35000                       237.3500   \n",
       "2007                    245.64050                       245.5710   \n",
       "2008                    251.99450                       252.0145   \n",
       "2009                    256.47475                       256.7620   \n",
       "2010                    256.48550                       256.4840   \n",
       "2011                    259.17725                       259.0585   \n",
       "2012                    264.38275                       264.3585   \n",
       "2013                    270.07100                       270.0120   \n",
       "2014                    277.21375                       277.2330   \n",
       "2015                    285.17450                       285.2280   \n",
       "2016                    294.44800                       294.3395   \n",
       "2017                    304.28275                       304.0805   \n",
       "2018                    314.36075                       314.3840   \n",
       "2019                    324.77825                       324.9515   \n",
       "2020                    334.28350                       334.4825   \n",
       "2021                    342.31875                       341.9695   \n",
       "2022                    360.85475                       360.1705   \n",
       "2023                    388.28075                       388.6390   \n",
       "2024                    405.27250                       405.2725   \n",
       "\n",
       "      (OwnerEquivalentRent, std)  (DelinquencyCreditCLoans, mean)  ...  \\\n",
       "Year                                                               ...   \n",
       "1994                    1.877054                           3.3575  ...   \n",
       "1995                    1.977161                           3.7450  ...   \n",
       "1996                    1.562850                           4.3425  ...   \n",
       "1997                    1.744276                           4.7350  ...   \n",
       "1998                    2.027108                           4.7450  ...   \n",
       "1999                    1.420094                           4.5975  ...   \n",
       "2000                    1.939931                           4.5100  ...   \n",
       "2001                    2.920046                           4.8600  ...   \n",
       "2002                    2.275229                           4.8625  ...   \n",
       "2003                    1.288410                           4.4700  ...   \n",
       "2004                    1.723127                           4.1150  ...   \n",
       "2005                    1.678293                           3.7025  ...   \n",
       "2006                    3.464583                           4.0150  ...   \n",
       "2007                    1.989467                           4.2525  ...   \n",
       "2008                    1.676529                           5.0275  ...   \n",
       "2009                    0.785541                           6.5250  ...   \n",
       "2010                    0.282047                           4.9000  ...   \n",
       "2011                    1.478581                           3.5425  ...   \n",
       "2012                    1.734868                           2.8775  ...   \n",
       "2013                    2.021943                           2.4975  ...   \n",
       "2014                    2.307816                           2.2325  ...   \n",
       "2015                    2.923743                           2.1350  ...   \n",
       "2016                    3.380833                           2.2550  ...   \n",
       "2017                    3.028424                           2.4775  ...   \n",
       "2018                    3.174610                           2.5125  ...   \n",
       "2019                    3.455556                           2.5825  ...   \n",
       "2020                    2.359875                           2.3050  ...   \n",
       "2021                    4.066928                           1.6400  ...   \n",
       "2022                    8.531235                           1.9575  ...   \n",
       "2023                    7.628874                           2.8150  ...   \n",
       "2024                    3.707361                           3.2000  ...   \n",
       "\n",
       "      RentPrimaryResidence_mode  OwnerEquivalentRent_mode  \\\n",
       "Year                                                        \n",
       "1994                    152.200                   163.100   \n",
       "1995                    156.100                   168.600   \n",
       "1996                    159.900                   174.600   \n",
       "1997                    164.300                   179.400   \n",
       "1998                    169.400                   185.000   \n",
       "1999                    175.200                   190.900   \n",
       "2000                    180.900                   196.000   \n",
       "2001                    188.000                   202.200   \n",
       "2002                    196.800                   211.400   \n",
       "2003                    203.200                   218.300   \n",
       "2004                    208.100                   222.400   \n",
       "2005                    214.300                   227.700   \n",
       "2006                    220.800                   233.400   \n",
       "2007                    230.547                   243.345   \n",
       "2008                    239.517                   250.013   \n",
       "2009                    247.563                   255.330   \n",
       "2010                    248.721                   256.147   \n",
       "2011                    251.142                   257.609   \n",
       "2012                    257.267                   262.345   \n",
       "2013                    264.245                   267.763   \n",
       "2014                    271.918                   274.507   \n",
       "2015                    281.223                   281.747   \n",
       "2016                    291.700                   290.654   \n",
       "2017                    303.156                   300.965   \n",
       "2018                    314.531                   310.641   \n",
       "2019                    325.314                   320.587   \n",
       "2020                    337.531                   331.348   \n",
       "2021                    344.415                   337.964   \n",
       "2022                    357.322                   351.727   \n",
       "2023                    387.845                   379.054   \n",
       "2024                    411.460                   402.651   \n",
       "\n",
       "      DelinquencyCreditCLoans_mode  FedFundsEffectiveRate_MonthlyAve_mode  \\\n",
       "Year                                                                        \n",
       "1994                          3.29                               3.050645   \n",
       "1995                          3.48                               5.527419   \n",
       "1996                          4.04                               5.223667   \n",
       "1997                          4.70                               5.254516   \n",
       "1998                          4.76                               5.070968   \n",
       "1999                          4.55                               4.632581   \n",
       "2000                          4.43                               5.448387   \n",
       "2001                          4.69                               2.485161   \n",
       "2002                          4.78                               1.729032   \n",
       "2003                          4.24                               1.010000   \n",
       "2004                          4.03                               0.997097   \n",
       "2005                          3.54                               2.279355   \n",
       "2006                          3.86                               4.285161   \n",
       "2007                          3.98                               4.755484   \n",
       "2008                          4.77                               0.969355   \n",
       "2009                          6.33                               0.118065   \n",
       "2010                          4.14                               0.110000   \n",
       "2011                          3.25                               0.070645   \n",
       "2012                          2.71                               0.081935   \n",
       "2013                          2.38                               0.087097   \n",
       "2014                          2.15                               0.071613   \n",
       "2015                          2.11                               0.114839   \n",
       "2016                          2.14                               0.342903   \n",
       "2017                          2.39                               0.649677   \n",
       "2018                          2.48                               1.414516   \n",
       "2019                          2.51                               1.829677   \n",
       "2020                          2.00                               0.049000   \n",
       "2021                          1.54                               0.069000   \n",
       "2022                          1.67                               0.079355   \n",
       "2023                          2.45                               4.330000   \n",
       "2024                          3.15                               5.330000   \n",
       "\n",
       "      MULTJobHolders_Pri_FT_Sec_PT_mode  MULTJobHolders_Pri_Sec_BothFT_mode  \\\n",
       "Year                                                                          \n",
       "1994                               3906                                 209   \n",
       "1995                               4288                                 233   \n",
       "1996                               4013                                 239   \n",
       "1997                               4270                                 210   \n",
       "1998                               4236                                 266   \n",
       "1999                               4101                                 282   \n",
       "2000                               4071                                 250   \n",
       "2001                               3751                                 240   \n",
       "2002                               3808                                 226   \n",
       "2003                               3620                                 231   \n",
       "2004                               3722                                 227   \n",
       "2005                               3782                                 284   \n",
       "2006                               3859                                 259   \n",
       "2007                               3996                                 240   \n",
       "2008                               4126                                 229   \n",
       "2009                               3807                                 231   \n",
       "2010                               3424                                 197   \n",
       "2011                               3510                                 182   \n",
       "2012                               3441                                 253   \n",
       "2013                               3524                                 198   \n",
       "2014                               3412                                 227   \n",
       "2015                               3759                                 172   \n",
       "2016                               3842                                 232   \n",
       "2017                               3904                                 295   \n",
       "2018                               4207                                 273   \n",
       "2019                               4317                                 249   \n",
       "2020                               3202                                 248   \n",
       "2021                               3755                                 401   \n",
       "2022                               4259                                 282   \n",
       "2023                               4388                                 343   \n",
       "2024                               4602                                 376   \n",
       "\n",
       "      MULTJobHolders_Pri_Sec_BothPT_mode  \\\n",
       "Year                                       \n",
       "1994                                1403   \n",
       "1995                                1533   \n",
       "1996                                1605   \n",
       "1997                                1608   \n",
       "1998                                1563   \n",
       "1999                                1597   \n",
       "2000                                1599   \n",
       "2001                                1485   \n",
       "2002                                1522   \n",
       "2003                                1600   \n",
       "2004                                1633   \n",
       "2005                                1612   \n",
       "2006                                1619   \n",
       "2007                                1729   \n",
       "2008                                1631   \n",
       "2009                                1684   \n",
       "2010                                1679   \n",
       "2011                                1726   \n",
       "2012                                1871   \n",
       "2013                                1786   \n",
       "2014                                1743   \n",
       "2015                                1902   \n",
       "2016                                1964   \n",
       "2017                                1770   \n",
       "2018                                2030   \n",
       "2019                                1879   \n",
       "2020                                1170   \n",
       "2021                                1524   \n",
       "2022                                1733   \n",
       "2023                                1808   \n",
       "2024                                2048   \n",
       "\n",
       "      MULTJobHolders_Perc_ofEmployed_M_mode  \\\n",
       "Year                                          \n",
       "1994                                    5.6   \n",
       "1995                                    5.8   \n",
       "1996                                    5.7   \n",
       "1997                                    6.0   \n",
       "1998                                    6.0   \n",
       "1999                                    5.7   \n",
       "2000                                    5.4   \n",
       "2001                                    5.1   \n",
       "2002                                    5.1   \n",
       "2003                                    5.2   \n",
       "2004                                    5.0   \n",
       "2005                                    5.0   \n",
       "2006                                    4.9   \n",
       "2007                                    4.8   \n",
       "2008                                    5.0   \n",
       "2009                                    4.7   \n",
       "2010                                    4.3   \n",
       "2011                                    4.5   \n",
       "2012                                    4.4   \n",
       "2013                                    4.6   \n",
       "2014                                    4.2   \n",
       "2015                                    4.2   \n",
       "2016                                    4.5   \n",
       "2017                                    4.5   \n",
       "2018                                    4.4   \n",
       "2019                                    4.8   \n",
       "2020                                    3.7   \n",
       "2021                                    4.2   \n",
       "2022                                    4.5   \n",
       "2023                                    4.6   \n",
       "2024                                    4.7   \n",
       "\n",
       "      MULTJobHoldersPerc_ofEmployed_W_mode  MULTJobHoldersPerc_ofEmployed_mode  \n",
       "Year                                                                            \n",
       "1994                                   5.6                                 5.9  \n",
       "1995                                   6.3                                 6.0  \n",
       "1996                                   5.9                                 6.0  \n",
       "1997                                   6.3                                 6.2  \n",
       "1998                                   6.2                                 6.1  \n",
       "1999                                   5.6                                 5.8  \n",
       "2000                                   5.6                                 5.4  \n",
       "2001                                   5.4                                 5.2  \n",
       "2002                                   5.5                                 5.3  \n",
       "2003                                   5.3                                 5.3  \n",
       "2004                                   5.5                                 5.3  \n",
       "2005                                   5.5                                 5.3  \n",
       "2006                                   5.4                                 5.2  \n",
       "2007                                   5.6                                 5.2  \n",
       "2008                                   5.5                                 5.2  \n",
       "2009                                   5.5                                 5.1  \n",
       "2010                                   5.5                                 4.8  \n",
       "2011                                   5.4                                 4.9  \n",
       "2012                                   5.0                                 4.9  \n",
       "2013                                   5.2                                 4.8  \n",
       "2014                                   4.9                                 4.7  \n",
       "2015                                   4.9                                 5.0  \n",
       "2016                                   5.3                                 4.9  \n",
       "2017                                   5.3                                 5.0  \n",
       "2018                                   5.6                                 5.1  \n",
       "2019                                   5.7                                 5.0  \n",
       "2020                                   4.4                                 4.0  \n",
       "2021                                   4.9                                 4.6  \n",
       "2022                                   5.0                                 4.7  \n",
       "2023                                   5.2                                 4.8  \n",
       "2024                                   5.5                                 5.1  \n",
       "\n",
       "[31 rows x 45 columns]"
      ]
     },
     "execution_count": 143,
     "metadata": {},
     "output_type": "execute_result"
    }
   ],
   "source": [
    "# Group by 'Year' and calculate mean, median, and std\n",
    "annual_statistics = combined_df.groupby('Year').agg({\n",
    "    'ConsumerPriceIndex': ['mean', 'median', 'std'],\n",
    "    'RentPrimaryResidence': ['mean', 'median', 'std'],\n",
    "    'OwnerEquivalentRent': ['mean', 'median', 'std'],\n",
    "    'DelinquencyCreditCLoans': ['mean', 'median', 'std'],\n",
    "    'FedFundsEffectiveRate_MonthlyAve': ['mean', 'median', 'std'],\n",
    "    'MULTJobHolders_Pri_FT_Sec_PT': ['mean', 'median', 'std'],\n",
    "    'MULTJobHolders_Pri_Sec_BothFT': ['mean', 'median', 'std'],\n",
    "    'MULTJobHolders_Pri_Sec_BothPT': ['mean', 'median', 'std'],\n",
    "    'MULTJobHolders_Perc_ofEmployed_M': ['mean', 'median', 'std'],\n",
    "    'MULTJobHoldersPerc_ofEmployed_W': ['mean', 'median', 'std'],\n",
    "    'MULTJobHoldersPerc_ofEmployed': ['mean', 'median', 'std']\n",
    "})\n",
    "annual_mode = combined_df.groupby('Year').agg(lambda x: pd.Series.mode(x)[0] if len(pd.Series.mode(x)) > 0 else None)\n",
    "annual_combined_stats = pd.concat([annual_statistics, annual_mode.add_suffix('_mode')], axis=1)\n",
    "annual_combined_stats\n"
   ]
  },
  {
   "cell_type": "code",
   "execution_count": 144,
   "metadata": {},
   "outputs": [],
   "source": [
    "# Assuming the dataframe is called 'annual_combined_stats'\n",
    "# and YEAR is set as the index\n",
    "\n",
    "# Create a list of mean columns\n",
    "mean_columns = [\n",
    "    ('ConsumerPriceIndex', 'mean'),\n",
    "    ('RentPrimaryResidence', 'mean'),\n",
    "    ('OwnerEquivalentRent', 'mean'),\n",
    "    ('DelinquencyCreditCLoans', 'mean'),\n",
    "    ('FedFundsEffectiveRate_MonthlyAve', 'mean'),\n",
    "    ('MULTJobHolders_Pri_FT_Sec_PT', 'mean'),\n",
    "    ('MULTJobHolders_Pri_Sec_BothFT', 'mean'),\n",
    "    ('MULTJobHolders_Pri_Sec_BothPT', 'mean'),\n",
    "    ('MULTJobHolders_Perc_ofEmployed_M', 'mean'),\n",
    "    ('MULTJobHoldersPerc_ofEmployed_W', 'mean'),\n",
    "    ('MULTJobHoldersPerc_ofEmployed', 'mean')\n",
    "]\n",
    "\n",
    "# Calculate the difference over time for each 'mean' column\n",
    "for col in mean_columns:\n",
    "    diff_column_name = f\"{col[0]}_mean_diff\"\n",
    "    annual_combined_stats[diff_column_name] = annual_combined_stats[col].diff()\n"
   ]
  },
  {
   "cell_type": "markdown",
   "metadata": {},
   "source": [
    "### Recession Periods: \n",
    "These recession periods will be added across figures in order to obsserve how the variables are impacted during those times. "
   ]
  },
  {
   "cell_type": "code",
   "execution_count": 183,
   "metadata": {},
   "outputs": [],
   "source": [
    "annual_combined_stats.index = pd.to_datetime(annual_combined_stats.index, format='%Y')\n",
    "# Recession periods\n",
    "recession_periods = [\n",
    "    {'start': '2001-03-01', 'end': '2001-11-30'},\n",
    "    {'start': '2007-12-01', 'end': '2009-06-30'},\n",
    "    {'start': '2020-02-01', 'end': '2020-04-30'}\n",
    "]"
   ]
  },
  {
   "cell_type": "markdown",
   "metadata": {},
   "source": [
    "### Annual Mean Differences with Recession Periods Highlighted:\n",
    "After reviewing the annual statistics table that displayed the variable means for each year, I noticed significant year-over-year fluctuations in the mean differences in the recent years. As a result, these charts were created to visualize the annual percentage changes. I chose to focus on key variables such as the Consumer Price Index Mean Diff, Delinquency Credit Loans Mean Diff, Owner Equivalent Rent Mean Diff, and Rent Primary Residence Mean Diff because I hypothesize that these factors may influence individuals to take on second jobs. The goal is to assess the strength of these variables' impact over time and observe how they trended, especially during periods of economic recession."
   ]
  },
  {
   "cell_type": "code",
   "execution_count": 191,
   "metadata": {},
   "outputs": [
    {
     "data": {
      "application/vnd.plotly.v1+json": {
       "config": {
        "plotlyServerURL": "https://plot.ly"
       },
       "data": [
        {
         "name": "ConsumerPriceIndex_mean_diff",
         "type": "bar",
         "x": [
          "1994-01-01T00:00:00",
          "1995-01-01T00:00:00",
          "1996-01-01T00:00:00",
          "1997-01-01T00:00:00",
          "1998-01-01T00:00:00",
          "1999-01-01T00:00:00",
          "2000-01-01T00:00:00",
          "2001-01-01T00:00:00",
          "2002-01-01T00:00:00",
          "2003-01-01T00:00:00",
          "2004-01-01T00:00:00",
          "2005-01-01T00:00:00",
          "2006-01-01T00:00:00",
          "2007-01-01T00:00:00",
          "2008-01-01T00:00:00",
          "2009-01-01T00:00:00",
          "2010-01-01T00:00:00",
          "2011-01-01T00:00:00",
          "2012-01-01T00:00:00",
          "2013-01-01T00:00:00",
          "2014-01-01T00:00:00",
          "2015-01-01T00:00:00",
          "2016-01-01T00:00:00",
          "2017-01-01T00:00:00",
          "2018-01-01T00:00:00",
          "2019-01-01T00:00:00",
          "2020-01-01T00:00:00",
          "2021-01-01T00:00:00",
          "2022-01-01T00:00:00",
          "2023-01-01T00:00:00",
          "2024-01-01T00:00:00"
         ],
         "xaxis": "x",
         "y": [
          null,
          4.275000000000006,
          4.400000000000006,
          3.8000000000000114,
          2.5249999999999773,
          3.5250000000000057,
          5.349999999999994,
          5.050000000000011,
          2.8000000000000114,
          4.049999999999983,
          4.800000000000011,
          6.424999999999983,
          6.375,
          5.333500000000015,
          8.998249999999985,
          -1.5625,
          3.913499999999999,
          6.473500000000001,
          4.958000000000027,
          3.1970000000000027,
          4.159749999999974,
          0.01300000000000523,
          2.9375,
          5.048500000000018,
          6.097999999999985,
          4.419749999999993,
          3.2345000000000255,
          11.002250000000004,
          21.573999999999955,
          12.888250000000028,
          7.55925000000002
         ],
         "yaxis": "y"
        },
        {
         "name": "DelinquencyCreditCLoans_mean_diff",
         "type": "bar",
         "x": [
          "1994-01-01T00:00:00",
          "1995-01-01T00:00:00",
          "1996-01-01T00:00:00",
          "1997-01-01T00:00:00",
          "1998-01-01T00:00:00",
          "1999-01-01T00:00:00",
          "2000-01-01T00:00:00",
          "2001-01-01T00:00:00",
          "2002-01-01T00:00:00",
          "2003-01-01T00:00:00",
          "2004-01-01T00:00:00",
          "2005-01-01T00:00:00",
          "2006-01-01T00:00:00",
          "2007-01-01T00:00:00",
          "2008-01-01T00:00:00",
          "2009-01-01T00:00:00",
          "2010-01-01T00:00:00",
          "2011-01-01T00:00:00",
          "2012-01-01T00:00:00",
          "2013-01-01T00:00:00",
          "2014-01-01T00:00:00",
          "2015-01-01T00:00:00",
          "2016-01-01T00:00:00",
          "2017-01-01T00:00:00",
          "2018-01-01T00:00:00",
          "2019-01-01T00:00:00",
          "2020-01-01T00:00:00",
          "2021-01-01T00:00:00",
          "2022-01-01T00:00:00",
          "2023-01-01T00:00:00",
          "2024-01-01T00:00:00"
         ],
         "xaxis": "x2",
         "y": [
          null,
          0.3875000000000002,
          0.5974999999999993,
          0.39250000000000096,
          0.009999999999999787,
          -0.14749999999999996,
          -0.08750000000000036,
          0.35000000000000053,
          0.0024999999999995026,
          -0.39250000000000007,
          -0.35499999999999954,
          -0.4125000000000001,
          0.31249999999999956,
          0.23749999999999982,
          0.7750000000000004,
          1.4975000000000005,
          -1.625,
          -1.3575000000000004,
          -0.665,
          -0.3799999999999999,
          -0.2650000000000001,
          -0.09750000000000014,
          0.1200000000000001,
          0.22250000000000014,
          0.03500000000000014,
          0.06999999999999984,
          -0.27749999999999986,
          -0.665,
          0.3174999999999999,
          0.8574999999999999,
          0.38500000000000023
         ],
         "yaxis": "y2"
        },
        {
         "name": "OwnerEquivalentRent_mean_diff",
         "type": "bar",
         "x": [
          "1994-01-01T00:00:00",
          "1995-01-01T00:00:00",
          "1996-01-01T00:00:00",
          "1997-01-01T00:00:00",
          "1998-01-01T00:00:00",
          "1999-01-01T00:00:00",
          "2000-01-01T00:00:00",
          "2001-01-01T00:00:00",
          "2002-01-01T00:00:00",
          "2003-01-01T00:00:00",
          "2004-01-01T00:00:00",
          "2005-01-01T00:00:00",
          "2006-01-01T00:00:00",
          "2007-01-01T00:00:00",
          "2008-01-01T00:00:00",
          "2009-01-01T00:00:00",
          "2010-01-01T00:00:00",
          "2011-01-01T00:00:00",
          "2012-01-01T00:00:00",
          "2013-01-01T00:00:00",
          "2014-01-01T00:00:00",
          "2015-01-01T00:00:00",
          "2016-01-01T00:00:00",
          "2017-01-01T00:00:00",
          "2018-01-01T00:00:00",
          "2019-01-01T00:00:00",
          "2020-01-01T00:00:00",
          "2021-01-01T00:00:00",
          "2022-01-01T00:00:00",
          "2023-01-01T00:00:00",
          "2024-01-01T00:00:00"
         ],
         "xaxis": "x3",
         "y": [
          null,
          5.574999999999989,
          5.550000000000011,
          5.050000000000011,
          5.899999999999977,
          5.225000000000023,
          5.599999999999994,
          7.349999999999994,
          8.650000000000006,
          5.450000000000017,
          4.924999999999983,
          5.125,
          7.700000000000017,
          8.29049999999998,
          6.354000000000013,
          4.480250000000012,
          0.01074999999997317,
          2.691750000000013,
          5.205499999999972,
          5.688250000000039,
          7.142749999999978,
          7.960750000000019,
          9.273499999999956,
          9.834749999999985,
          10.078000000000031,
          10.417499999999961,
          9.505250000000046,
          8.035250000000019,
          18.535999999999945,
          27.426000000000045,
          16.991750000000025
         ],
         "yaxis": "y3"
        },
        {
         "name": "RentPrimaryResidence_mean_diff",
         "type": "bar",
         "x": [
          "1994-01-01T00:00:00",
          "1995-01-01T00:00:00",
          "1996-01-01T00:00:00",
          "1997-01-01T00:00:00",
          "1998-01-01T00:00:00",
          "1999-01-01T00:00:00",
          "2000-01-01T00:00:00",
          "2001-01-01T00:00:00",
          "2002-01-01T00:00:00",
          "2003-01-01T00:00:00",
          "2004-01-01T00:00:00",
          "2005-01-01T00:00:00",
          "2006-01-01T00:00:00",
          "2007-01-01T00:00:00",
          "2008-01-01T00:00:00",
          "2009-01-01T00:00:00",
          "2010-01-01T00:00:00",
          "2011-01-01T00:00:00",
          "2012-01-01T00:00:00",
          "2013-01-01T00:00:00",
          "2014-01-01T00:00:00",
          "2015-01-01T00:00:00",
          "2016-01-01T00:00:00",
          "2017-01-01T00:00:00",
          "2018-01-01T00:00:00",
          "2019-01-01T00:00:00",
          "2020-01-01T00:00:00",
          "2021-01-01T00:00:00",
          "2022-01-01T00:00:00",
          "2023-01-01T00:00:00",
          "2024-01-01T00:00:00"
         ],
         "xaxis": "x4",
         "y": [
          null,
          3.8249999999999886,
          4.099999999999994,
          4.675000000000011,
          5.350000000000023,
          5.399999999999977,
          6.349999999999994,
          8,
          7.800000000000011,
          5.949999999999989,
          5.400000000000006,
          6.324999999999989,
          7.450000000000017,
          9.645749999999992,
          8.715000000000003,
          6.039749999999998,
          0.5247499999999832,
          3.904500000000013,
          6.732999999999976,
          7.170000000000016,
          8.400500000000022,
          9.761750000000006,
          10.70599999999996,
          11.291000000000054,
          11.227999999999952,
          11.76075000000003,
          10.745499999999993,
          7.216000000000008,
          19.554249999999968,
          29.901250000000005,
          16.410750000000007
         ],
         "yaxis": "y4"
        }
       ],
       "layout": {
        "annotations": [
         {
          "font": {
           "size": 16
          },
          "showarrow": false,
          "text": "Consumer Price Index Mean YoY Diff",
          "x": 0.10625,
          "xanchor": "center",
          "xref": "paper",
          "y": 1,
          "yanchor": "bottom",
          "yref": "paper"
         },
         {
          "font": {
           "size": 16
          },
          "showarrow": false,
          "text": "Delinquency Credit Card Loans Mean YoY Diff",
          "x": 0.36875,
          "xanchor": "center",
          "xref": "paper",
          "y": 1,
          "yanchor": "bottom",
          "yref": "paper"
         },
         {
          "font": {
           "size": 16
          },
          "showarrow": false,
          "text": "Owner Equivalent Rent Mean YoY Diff",
          "x": 0.6312500000000001,
          "xanchor": "center",
          "xref": "paper",
          "y": 1,
          "yanchor": "bottom",
          "yref": "paper"
         },
         {
          "font": {
           "size": 16
          },
          "showarrow": false,
          "text": "Rent Primary Residence Mean YoY Diff",
          "x": 0.89375,
          "xanchor": "center",
          "xref": "paper",
          "y": 1,
          "yanchor": "bottom",
          "yref": "paper"
         }
        ],
        "height": 600,
        "shapes": [
         {
          "fillcolor": "grey",
          "layer": "below",
          "line": {
           "width": 0
          },
          "opacity": 0.5,
          "type": "rect",
          "x0": "2001-03-01T00:00:00",
          "x1": "2001-11-30T00:00:00",
          "xref": "x",
          "y0": 0.5247499999999832,
          "y1": 29.901250000000005,
          "yref": "y"
         },
         {
          "fillcolor": "grey",
          "layer": "below",
          "line": {
           "width": 0
          },
          "opacity": 0.5,
          "type": "rect",
          "x0": "2001-03-01T00:00:00",
          "x1": "2001-11-30T00:00:00",
          "xref": "x2",
          "y0": 0.5247499999999832,
          "y1": 29.901250000000005,
          "yref": "y2"
         },
         {
          "fillcolor": "grey",
          "layer": "below",
          "line": {
           "width": 0
          },
          "opacity": 0.5,
          "type": "rect",
          "x0": "2001-03-01T00:00:00",
          "x1": "2001-11-30T00:00:00",
          "xref": "x3",
          "y0": 0.5247499999999832,
          "y1": 29.901250000000005,
          "yref": "y3"
         },
         {
          "fillcolor": "grey",
          "layer": "below",
          "line": {
           "width": 0
          },
          "opacity": 0.5,
          "type": "rect",
          "x0": "2001-03-01T00:00:00",
          "x1": "2001-11-30T00:00:00",
          "xref": "x4",
          "y0": 0.5247499999999832,
          "y1": 29.901250000000005,
          "yref": "y4"
         },
         {
          "fillcolor": "grey",
          "layer": "below",
          "line": {
           "width": 0
          },
          "opacity": 0.5,
          "type": "rect",
          "x0": "2007-12-01T00:00:00",
          "x1": "2009-06-30T00:00:00",
          "xref": "x",
          "y0": 0.5247499999999832,
          "y1": 29.901250000000005,
          "yref": "y"
         },
         {
          "fillcolor": "grey",
          "layer": "below",
          "line": {
           "width": 0
          },
          "opacity": 0.5,
          "type": "rect",
          "x0": "2007-12-01T00:00:00",
          "x1": "2009-06-30T00:00:00",
          "xref": "x2",
          "y0": 0.5247499999999832,
          "y1": 29.901250000000005,
          "yref": "y2"
         },
         {
          "fillcolor": "grey",
          "layer": "below",
          "line": {
           "width": 0
          },
          "opacity": 0.5,
          "type": "rect",
          "x0": "2007-12-01T00:00:00",
          "x1": "2009-06-30T00:00:00",
          "xref": "x3",
          "y0": 0.5247499999999832,
          "y1": 29.901250000000005,
          "yref": "y3"
         },
         {
          "fillcolor": "grey",
          "layer": "below",
          "line": {
           "width": 0
          },
          "opacity": 0.5,
          "type": "rect",
          "x0": "2007-12-01T00:00:00",
          "x1": "2009-06-30T00:00:00",
          "xref": "x4",
          "y0": 0.5247499999999832,
          "y1": 29.901250000000005,
          "yref": "y4"
         },
         {
          "fillcolor": "grey",
          "layer": "below",
          "line": {
           "width": 0
          },
          "opacity": 0.5,
          "type": "rect",
          "x0": "2020-02-01T00:00:00",
          "x1": "2020-04-30T00:00:00",
          "xref": "x",
          "y0": 0.5247499999999832,
          "y1": 29.901250000000005,
          "yref": "y"
         },
         {
          "fillcolor": "grey",
          "layer": "below",
          "line": {
           "width": 0
          },
          "opacity": 0.5,
          "type": "rect",
          "x0": "2020-02-01T00:00:00",
          "x1": "2020-04-30T00:00:00",
          "xref": "x2",
          "y0": 0.5247499999999832,
          "y1": 29.901250000000005,
          "yref": "y2"
         },
         {
          "fillcolor": "grey",
          "layer": "below",
          "line": {
           "width": 0
          },
          "opacity": 0.5,
          "type": "rect",
          "x0": "2020-02-01T00:00:00",
          "x1": "2020-04-30T00:00:00",
          "xref": "x3",
          "y0": 0.5247499999999832,
          "y1": 29.901250000000005,
          "yref": "y3"
         },
         {
          "fillcolor": "grey",
          "layer": "below",
          "line": {
           "width": 0
          },
          "opacity": 0.5,
          "type": "rect",
          "x0": "2020-02-01T00:00:00",
          "x1": "2020-04-30T00:00:00",
          "xref": "x4",
          "y0": 0.5247499999999832,
          "y1": 29.901250000000005,
          "yref": "y4"
         }
        ],
        "showlegend": false,
        "template": {
         "data": {
          "bar": [
           {
            "error_x": {
             "color": "#2a3f5f"
            },
            "error_y": {
             "color": "#2a3f5f"
            },
            "marker": {
             "line": {
              "color": "#E5ECF6",
              "width": 0.5
             },
             "pattern": {
              "fillmode": "overlay",
              "size": 10,
              "solidity": 0.2
             }
            },
            "type": "bar"
           }
          ],
          "barpolar": [
           {
            "marker": {
             "line": {
              "color": "#E5ECF6",
              "width": 0.5
             },
             "pattern": {
              "fillmode": "overlay",
              "size": 10,
              "solidity": 0.2
             }
            },
            "type": "barpolar"
           }
          ],
          "carpet": [
           {
            "aaxis": {
             "endlinecolor": "#2a3f5f",
             "gridcolor": "white",
             "linecolor": "white",
             "minorgridcolor": "white",
             "startlinecolor": "#2a3f5f"
            },
            "baxis": {
             "endlinecolor": "#2a3f5f",
             "gridcolor": "white",
             "linecolor": "white",
             "minorgridcolor": "white",
             "startlinecolor": "#2a3f5f"
            },
            "type": "carpet"
           }
          ],
          "choropleth": [
           {
            "colorbar": {
             "outlinewidth": 0,
             "ticks": ""
            },
            "type": "choropleth"
           }
          ],
          "contour": [
           {
            "colorbar": {
             "outlinewidth": 0,
             "ticks": ""
            },
            "colorscale": [
             [
              0,
              "#0d0887"
             ],
             [
              0.1111111111111111,
              "#46039f"
             ],
             [
              0.2222222222222222,
              "#7201a8"
             ],
             [
              0.3333333333333333,
              "#9c179e"
             ],
             [
              0.4444444444444444,
              "#bd3786"
             ],
             [
              0.5555555555555556,
              "#d8576b"
             ],
             [
              0.6666666666666666,
              "#ed7953"
             ],
             [
              0.7777777777777778,
              "#fb9f3a"
             ],
             [
              0.8888888888888888,
              "#fdca26"
             ],
             [
              1,
              "#f0f921"
             ]
            ],
            "type": "contour"
           }
          ],
          "contourcarpet": [
           {
            "colorbar": {
             "outlinewidth": 0,
             "ticks": ""
            },
            "type": "contourcarpet"
           }
          ],
          "heatmap": [
           {
            "colorbar": {
             "outlinewidth": 0,
             "ticks": ""
            },
            "colorscale": [
             [
              0,
              "#0d0887"
             ],
             [
              0.1111111111111111,
              "#46039f"
             ],
             [
              0.2222222222222222,
              "#7201a8"
             ],
             [
              0.3333333333333333,
              "#9c179e"
             ],
             [
              0.4444444444444444,
              "#bd3786"
             ],
             [
              0.5555555555555556,
              "#d8576b"
             ],
             [
              0.6666666666666666,
              "#ed7953"
             ],
             [
              0.7777777777777778,
              "#fb9f3a"
             ],
             [
              0.8888888888888888,
              "#fdca26"
             ],
             [
              1,
              "#f0f921"
             ]
            ],
            "type": "heatmap"
           }
          ],
          "heatmapgl": [
           {
            "colorbar": {
             "outlinewidth": 0,
             "ticks": ""
            },
            "colorscale": [
             [
              0,
              "#0d0887"
             ],
             [
              0.1111111111111111,
              "#46039f"
             ],
             [
              0.2222222222222222,
              "#7201a8"
             ],
             [
              0.3333333333333333,
              "#9c179e"
             ],
             [
              0.4444444444444444,
              "#bd3786"
             ],
             [
              0.5555555555555556,
              "#d8576b"
             ],
             [
              0.6666666666666666,
              "#ed7953"
             ],
             [
              0.7777777777777778,
              "#fb9f3a"
             ],
             [
              0.8888888888888888,
              "#fdca26"
             ],
             [
              1,
              "#f0f921"
             ]
            ],
            "type": "heatmapgl"
           }
          ],
          "histogram": [
           {
            "marker": {
             "pattern": {
              "fillmode": "overlay",
              "size": 10,
              "solidity": 0.2
             }
            },
            "type": "histogram"
           }
          ],
          "histogram2d": [
           {
            "colorbar": {
             "outlinewidth": 0,
             "ticks": ""
            },
            "colorscale": [
             [
              0,
              "#0d0887"
             ],
             [
              0.1111111111111111,
              "#46039f"
             ],
             [
              0.2222222222222222,
              "#7201a8"
             ],
             [
              0.3333333333333333,
              "#9c179e"
             ],
             [
              0.4444444444444444,
              "#bd3786"
             ],
             [
              0.5555555555555556,
              "#d8576b"
             ],
             [
              0.6666666666666666,
              "#ed7953"
             ],
             [
              0.7777777777777778,
              "#fb9f3a"
             ],
             [
              0.8888888888888888,
              "#fdca26"
             ],
             [
              1,
              "#f0f921"
             ]
            ],
            "type": "histogram2d"
           }
          ],
          "histogram2dcontour": [
           {
            "colorbar": {
             "outlinewidth": 0,
             "ticks": ""
            },
            "colorscale": [
             [
              0,
              "#0d0887"
             ],
             [
              0.1111111111111111,
              "#46039f"
             ],
             [
              0.2222222222222222,
              "#7201a8"
             ],
             [
              0.3333333333333333,
              "#9c179e"
             ],
             [
              0.4444444444444444,
              "#bd3786"
             ],
             [
              0.5555555555555556,
              "#d8576b"
             ],
             [
              0.6666666666666666,
              "#ed7953"
             ],
             [
              0.7777777777777778,
              "#fb9f3a"
             ],
             [
              0.8888888888888888,
              "#fdca26"
             ],
             [
              1,
              "#f0f921"
             ]
            ],
            "type": "histogram2dcontour"
           }
          ],
          "mesh3d": [
           {
            "colorbar": {
             "outlinewidth": 0,
             "ticks": ""
            },
            "type": "mesh3d"
           }
          ],
          "parcoords": [
           {
            "line": {
             "colorbar": {
              "outlinewidth": 0,
              "ticks": ""
             }
            },
            "type": "parcoords"
           }
          ],
          "pie": [
           {
            "automargin": true,
            "type": "pie"
           }
          ],
          "scatter": [
           {
            "fillpattern": {
             "fillmode": "overlay",
             "size": 10,
             "solidity": 0.2
            },
            "type": "scatter"
           }
          ],
          "scatter3d": [
           {
            "line": {
             "colorbar": {
              "outlinewidth": 0,
              "ticks": ""
             }
            },
            "marker": {
             "colorbar": {
              "outlinewidth": 0,
              "ticks": ""
             }
            },
            "type": "scatter3d"
           }
          ],
          "scattercarpet": [
           {
            "marker": {
             "colorbar": {
              "outlinewidth": 0,
              "ticks": ""
             }
            },
            "type": "scattercarpet"
           }
          ],
          "scattergeo": [
           {
            "marker": {
             "colorbar": {
              "outlinewidth": 0,
              "ticks": ""
             }
            },
            "type": "scattergeo"
           }
          ],
          "scattergl": [
           {
            "marker": {
             "colorbar": {
              "outlinewidth": 0,
              "ticks": ""
             }
            },
            "type": "scattergl"
           }
          ],
          "scattermapbox": [
           {
            "marker": {
             "colorbar": {
              "outlinewidth": 0,
              "ticks": ""
             }
            },
            "type": "scattermapbox"
           }
          ],
          "scatterpolar": [
           {
            "marker": {
             "colorbar": {
              "outlinewidth": 0,
              "ticks": ""
             }
            },
            "type": "scatterpolar"
           }
          ],
          "scatterpolargl": [
           {
            "marker": {
             "colorbar": {
              "outlinewidth": 0,
              "ticks": ""
             }
            },
            "type": "scatterpolargl"
           }
          ],
          "scatterternary": [
           {
            "marker": {
             "colorbar": {
              "outlinewidth": 0,
              "ticks": ""
             }
            },
            "type": "scatterternary"
           }
          ],
          "surface": [
           {
            "colorbar": {
             "outlinewidth": 0,
             "ticks": ""
            },
            "colorscale": [
             [
              0,
              "#0d0887"
             ],
             [
              0.1111111111111111,
              "#46039f"
             ],
             [
              0.2222222222222222,
              "#7201a8"
             ],
             [
              0.3333333333333333,
              "#9c179e"
             ],
             [
              0.4444444444444444,
              "#bd3786"
             ],
             [
              0.5555555555555556,
              "#d8576b"
             ],
             [
              0.6666666666666666,
              "#ed7953"
             ],
             [
              0.7777777777777778,
              "#fb9f3a"
             ],
             [
              0.8888888888888888,
              "#fdca26"
             ],
             [
              1,
              "#f0f921"
             ]
            ],
            "type": "surface"
           }
          ],
          "table": [
           {
            "cells": {
             "fill": {
              "color": "#EBF0F8"
             },
             "line": {
              "color": "white"
             }
            },
            "header": {
             "fill": {
              "color": "#C8D4E3"
             },
             "line": {
              "color": "white"
             }
            },
            "type": "table"
           }
          ]
         },
         "layout": {
          "annotationdefaults": {
           "arrowcolor": "#2a3f5f",
           "arrowhead": 0,
           "arrowwidth": 1
          },
          "autotypenumbers": "strict",
          "coloraxis": {
           "colorbar": {
            "outlinewidth": 0,
            "ticks": ""
           }
          },
          "colorscale": {
           "diverging": [
            [
             0,
             "#8e0152"
            ],
            [
             0.1,
             "#c51b7d"
            ],
            [
             0.2,
             "#de77ae"
            ],
            [
             0.3,
             "#f1b6da"
            ],
            [
             0.4,
             "#fde0ef"
            ],
            [
             0.5,
             "#f7f7f7"
            ],
            [
             0.6,
             "#e6f5d0"
            ],
            [
             0.7,
             "#b8e186"
            ],
            [
             0.8,
             "#7fbc41"
            ],
            [
             0.9,
             "#4d9221"
            ],
            [
             1,
             "#276419"
            ]
           ],
           "sequential": [
            [
             0,
             "#0d0887"
            ],
            [
             0.1111111111111111,
             "#46039f"
            ],
            [
             0.2222222222222222,
             "#7201a8"
            ],
            [
             0.3333333333333333,
             "#9c179e"
            ],
            [
             0.4444444444444444,
             "#bd3786"
            ],
            [
             0.5555555555555556,
             "#d8576b"
            ],
            [
             0.6666666666666666,
             "#ed7953"
            ],
            [
             0.7777777777777778,
             "#fb9f3a"
            ],
            [
             0.8888888888888888,
             "#fdca26"
            ],
            [
             1,
             "#f0f921"
            ]
           ],
           "sequentialminus": [
            [
             0,
             "#0d0887"
            ],
            [
             0.1111111111111111,
             "#46039f"
            ],
            [
             0.2222222222222222,
             "#7201a8"
            ],
            [
             0.3333333333333333,
             "#9c179e"
            ],
            [
             0.4444444444444444,
             "#bd3786"
            ],
            [
             0.5555555555555556,
             "#d8576b"
            ],
            [
             0.6666666666666666,
             "#ed7953"
            ],
            [
             0.7777777777777778,
             "#fb9f3a"
            ],
            [
             0.8888888888888888,
             "#fdca26"
            ],
            [
             1,
             "#f0f921"
            ]
           ]
          },
          "colorway": [
           "#636efa",
           "#EF553B",
           "#00cc96",
           "#ab63fa",
           "#FFA15A",
           "#19d3f3",
           "#FF6692",
           "#B6E880",
           "#FF97FF",
           "#FECB52"
          ],
          "font": {
           "color": "#2a3f5f"
          },
          "geo": {
           "bgcolor": "white",
           "lakecolor": "white",
           "landcolor": "#E5ECF6",
           "showlakes": true,
           "showland": true,
           "subunitcolor": "white"
          },
          "hoverlabel": {
           "align": "left"
          },
          "hovermode": "closest",
          "mapbox": {
           "style": "light"
          },
          "paper_bgcolor": "white",
          "plot_bgcolor": "#E5ECF6",
          "polar": {
           "angularaxis": {
            "gridcolor": "white",
            "linecolor": "white",
            "ticks": ""
           },
           "bgcolor": "#E5ECF6",
           "radialaxis": {
            "gridcolor": "white",
            "linecolor": "white",
            "ticks": ""
           }
          },
          "scene": {
           "xaxis": {
            "backgroundcolor": "#E5ECF6",
            "gridcolor": "white",
            "gridwidth": 2,
            "linecolor": "white",
            "showbackground": true,
            "ticks": "",
            "zerolinecolor": "white"
           },
           "yaxis": {
            "backgroundcolor": "#E5ECF6",
            "gridcolor": "white",
            "gridwidth": 2,
            "linecolor": "white",
            "showbackground": true,
            "ticks": "",
            "zerolinecolor": "white"
           },
           "zaxis": {
            "backgroundcolor": "#E5ECF6",
            "gridcolor": "white",
            "gridwidth": 2,
            "linecolor": "white",
            "showbackground": true,
            "ticks": "",
            "zerolinecolor": "white"
           }
          },
          "shapedefaults": {
           "line": {
            "color": "#2a3f5f"
           }
          },
          "ternary": {
           "aaxis": {
            "gridcolor": "white",
            "linecolor": "white",
            "ticks": ""
           },
           "baxis": {
            "gridcolor": "white",
            "linecolor": "white",
            "ticks": ""
           },
           "bgcolor": "#E5ECF6",
           "caxis": {
            "gridcolor": "white",
            "linecolor": "white",
            "ticks": ""
           }
          },
          "title": {
           "x": 0.05
          },
          "xaxis": {
           "automargin": true,
           "gridcolor": "white",
           "linecolor": "white",
           "ticks": "",
           "title": {
            "standoff": 15
           },
           "zerolinecolor": "white",
           "zerolinewidth": 2
          },
          "yaxis": {
           "automargin": true,
           "gridcolor": "white",
           "linecolor": "white",
           "ticks": "",
           "title": {
            "standoff": 15
           },
           "zerolinecolor": "white",
           "zerolinewidth": 2
          }
         }
        },
        "title": {
         "text": "Annual YoY Mean Differences with Recession Periods in Grey Shading"
        },
        "width": 1700,
        "xaxis": {
         "anchor": "y",
         "domain": [
          0,
          0.2125
         ]
        },
        "xaxis2": {
         "anchor": "y2",
         "domain": [
          0.2625,
          0.475
         ]
        },
        "xaxis3": {
         "anchor": "y3",
         "domain": [
          0.525,
          0.7375
         ]
        },
        "xaxis4": {
         "anchor": "y4",
         "domain": [
          0.7875,
          1
         ]
        },
        "yaxis": {
         "anchor": "x",
         "domain": [
          0,
          1
         ],
         "range": [
          -1.5625,
          21.573999999999955
         ]
        },
        "yaxis2": {
         "anchor": "x2",
         "domain": [
          0,
          1
         ],
         "range": [
          -1.625,
          1.4975000000000005
         ]
        },
        "yaxis3": {
         "anchor": "x3",
         "domain": [
          0,
          1
         ],
         "range": [
          0.01074999999997317,
          27.426000000000045
         ]
        },
        "yaxis4": {
         "anchor": "x4",
         "domain": [
          0,
          1
         ],
         "range": [
          0.5247499999999832,
          29.901250000000005
         ]
        }
       }
      }
     },
     "metadata": {},
     "output_type": "display_data"
    }
   ],
   "source": [
    "# 4 charts in one row\n",
    "fig = sp.make_subplots(rows=1, cols=4, subplot_titles=[\n",
    "    'Consumer Price Index Mean YoY Diff', 'Delinquency Credit Card Loans Mean YoY Diff',\n",
    "    'Owner Equivalent Rent Mean YoY Diff', 'Rent Primary Residence Mean YoY Diff'\n",
    "])\n",
    "\n",
    "# Define the variables to plot\n",
    "variables = ['ConsumerPriceIndex_mean_diff', 'DelinquencyCreditCLoans_mean_diff',\n",
    "             'OwnerEquivalentRent_mean_diff', 'RentPrimaryResidence_mean_diff']\n",
    "\n",
    "# Add each bar chart to the subplot grid\n",
    "# this is looking at each variable in the variables list\n",
    "for i, var in enumerate(variables):\n",
    "    fig.add_trace(go.Bar(x=annual_combined_stats.index, y=annual_combined_stats[var], name=var), row=1, col=i+1)\n",
    "\n",
    "# Set the min and max for each subplot y-axis based on the data range\n",
    "for i, var in enumerate(variables):\n",
    "    y_min = annual_combined_stats[var].min()  # Get min value for the y-axis\n",
    "    y_max = annual_combined_stats[var].max()  # Get max value for the y-axis\n",
    "    fig.update_yaxes(range=[y_min, y_max], row=1, col=i+1)\n",
    "\n",
    "# Add recession periods \n",
    "for period in recession_periods:\n",
    "    for i in range(1, 5):  # 4 charts in total\n",
    "        fig.add_shape(\n",
    "            type=\"rect\",\n",
    "            xref=\"x\", yref=\"y\", \n",
    "            x0=pd.to_datetime(period['start']), x1=pd.to_datetime(period['end']),\n",
    "            y0=y_min, y1=y_max,  \n",
    "            fillcolor=\"grey\", opacity=0.5, layer=\"below\", line_width=0,\n",
    "            row=1, col=i\n",
    "        )\n",
    "\n",
    "fig.update_layout(height=600, width=1700, title_text=\"Annual YoY Mean Differences with Recession Periods in Grey Shading\", showlegend=False)\n",
    "fig.show()\n",
    "\n"
   ]
  },
  {
   "cell_type": "markdown",
   "metadata": {},
   "source": [
    "### INTERPRETATION - Annual Mean Differences with Recession Periods Highlighted:\n",
    "**Comsumer Price Index Mean YOY Diff** - It appears interesting that CPI increased YoY before every recession. For example, CPI appear to grow every year from 1998 to 2000, and also 2007 to 2008. The only recession that did not include CPI increases were the 2020 recession induced by the sudden Covid Crisis. CPI appears to decrease during and at least one year after every recession except for 2020. CPI had a drastic increase YoY from 2020-2022 probably due to Federal Reverse monetary policy. However, since then, there has been continous YoY decrease in CPI. \n",
    "\n",
    "**Delinquency Credit Card Loans Mean YoY Diff** - (The Reccession Shades look weird due to the positive and negative axes) - Delinquencies in Credit Cards incresed before and during the recession periods of 2000 and 2008. However, similar to the CPI trend, the 2020 Covid induced recession did not have a YoY increase before it. There appears to be a YoY decrease in the mean of delinquencies between 2023-2024 thus far. \n",
    "\n",
    "**Owner Equivalent Rent Mean YoY Diff** - The Owner Equivalent Rent trend appear different compared to CPI, Credit Card Delinquencies, and Rent Primary Residences. For example, Owner Equivalent Rent had an up trend YoY from 1999-2002 meaning it increase despite the 2001 recession. Then started a down trend after the recession. Whereas during the 2008 financial crisis recession, there was a downtrend before the recession and continued afterwards. Lastly, during the Covid recession, the was a 1 year down trend which was short lived as a dramatic uptrend started from 2022-2023. \n",
    "\n",
    "\n"
   ]
  },
  {
   "cell_type": "code",
   "execution_count": 148,
   "metadata": {},
   "outputs": [],
   "source": [
    "#EXPORTED FOR FUTURE USE\n",
    "annual_combined_stats = pd.DataFrame(annual_combined_stats)\n",
    "annual_combined_stats.to_csv('NEW_FILE:annual_combined_stats.csv', index=False)"
   ]
  },
  {
   "cell_type": "code",
   "execution_count": 149,
   "metadata": {},
   "outputs": [
    {
     "name": "stdout",
     "output_type": "stream",
     "text": [
      "Requirement already satisfied: nbformat in c:\\users\\alvar\\appdata\\local\\programs\\python\\python310\\lib\\site-packages (5.10.4)\n",
      "Requirement already satisfied: fastjsonschema>=2.15 in c:\\users\\alvar\\appdata\\local\\programs\\python\\python310\\lib\\site-packages (from nbformat) (2.20.0)\n",
      "Requirement already satisfied: jsonschema>=2.6 in c:\\users\\alvar\\appdata\\local\\programs\\python\\python310\\lib\\site-packages (from nbformat) (4.23.0)\n",
      "Requirement already satisfied: jupyter-core!=5.0.*,>=4.12 in c:\\users\\alvar\\appdata\\roaming\\python\\python310\\site-packages (from nbformat) (5.3.1)\n",
      "Requirement already satisfied: traitlets>=5.1 in c:\\users\\alvar\\appdata\\roaming\\python\\python310\\site-packages (from nbformat) (5.9.0)\n",
      "Requirement already satisfied: rpds-py>=0.7.1 in c:\\users\\alvar\\appdata\\local\\programs\\python\\python310\\lib\\site-packages (from jsonschema>=2.6->nbformat) (0.20.0)\n",
      "Requirement already satisfied: referencing>=0.28.4 in c:\\users\\alvar\\appdata\\local\\programs\\python\\python310\\lib\\site-packages (from jsonschema>=2.6->nbformat) (0.35.1)\n",
      "Requirement already satisfied: attrs>=22.2.0 in c:\\users\\alvar\\appdata\\local\\programs\\python\\python310\\lib\\site-packages (from jsonschema>=2.6->nbformat) (24.2.0)\n",
      "Requirement already satisfied: jsonschema-specifications>=2023.03.6 in c:\\users\\alvar\\appdata\\local\\programs\\python\\python310\\lib\\site-packages (from jsonschema>=2.6->nbformat) (2023.12.1)\n",
      "Requirement already satisfied: platformdirs>=2.5 in c:\\users\\alvar\\appdata\\roaming\\python\\python310\\site-packages (from jupyter-core!=5.0.*,>=4.12->nbformat) (3.8.0)\n",
      "Requirement already satisfied: pywin32>=300 in c:\\users\\alvar\\appdata\\roaming\\python\\python310\\site-packages (from jupyter-core!=5.0.*,>=4.12->nbformat) (306)\n",
      "Note: you may need to restart the kernel to use updated packages.\n"
     ]
    },
    {
     "name": "stderr",
     "output_type": "stream",
     "text": [
      "WARNING: You are using pip version 22.0.4; however, version 24.2 is available.\n",
      "You should consider upgrading via the 'c:\\Users\\alvar\\AppData\\Local\\Programs\\Python\\Python310\\python.exe -m pip install --upgrade pip' command.\n"
     ]
    }
   ],
   "source": [
    "pip install nbformat\n"
   ]
  },
  {
   "cell_type": "code",
   "execution_count": 150,
   "metadata": {},
   "outputs": [
    {
     "data": {
      "application/vnd.plotly.v1+json": {
       "config": {
        "plotlyServerURL": "https://plot.ly"
       },
       "data": [
        {
         "line": {
          "color": "darkblue"
         },
         "mode": "lines",
         "name": "Mean CPI",
         "type": "scatter",
         "x": [
          1994,
          1995,
          1996,
          1997,
          1998,
          1999,
          2000,
          2001,
          2002,
          2003,
          2004,
          2005,
          2006,
          2007,
          2008,
          2009,
          2010,
          2011,
          2012,
          2013,
          2014,
          2015,
          2016,
          2017,
          2018,
          2019,
          2020,
          2021,
          2022,
          2023,
          2024
         ],
         "xaxis": "x",
         "y": [
          147.825,
          152.1,
          156.5,
          160.3,
          162.825,
          166.35,
          171.7,
          176.75,
          179.55,
          183.6,
          188.4,
          194.825,
          201.2,
          206.5335,
          215.53175,
          213.96925,
          217.88275,
          224.35625,
          229.31425000000002,
          232.51125000000002,
          236.671,
          236.684,
          239.6215,
          244.67000000000002,
          250.768,
          255.18775,
          258.42225,
          269.4245,
          290.9985,
          303.88675,
          311.446
         ],
         "yaxis": "y"
        },
        {
         "line": {
          "color": "rgba(0,0,255,0.2)",
          "width": 0
         },
         "mode": "lines",
         "showlegend": false,
         "type": "scatter",
         "x": [
          1994,
          1995,
          1996,
          1997,
          1998,
          1999,
          2000,
          2001,
          2002,
          2003,
          2004,
          2005,
          2006,
          2007,
          2008,
          2009,
          2010,
          2011,
          2012,
          2013,
          2014,
          2015,
          2016,
          2017,
          2018,
          2019,
          2020,
          2021,
          2022,
          2023,
          2024
         ],
         "xaxis": "x",
         "y": [
          149.1823871960498,
          153.37279220613578,
          157.97648230602337,
          161.1981462390205,
          163.71335053141576,
          167.77711830857382,
          173.7199009876724,
          177.67915732431777,
          181.01173412995206,
          184.57638790105847,
          190.37146307768282,
          197.9845094555959,
          202.75349069303078,
          208.99557263635066,
          218.59131907368777,
          216.0314126794864,
          218.65536735893863,
          226.73129292943656,
          230.95823547742978,
          233.4589322164277,
          237.70603751944878,
          238.19929029122034,
          241.35330070061966,
          246.00447842495362,
          252.4164228826366,
          257.1155500198845,
          260.1392237670293,
          275.49567284111293,
          297.8796114654538,
          306.88823867230917,
          313.936430083339
         ],
         "yaxis": "y"
        },
        {
         "fill": "tonexty",
         "line": {
          "color": "rgba(0,0,255,0.2)",
          "width": 0
         },
         "mode": "lines",
         "name": "±1 Std Dev",
         "showlegend": true,
         "type": "scatter",
         "x": [
          1994,
          1995,
          1996,
          1997,
          1998,
          1999,
          2000,
          2001,
          2002,
          2003,
          2004,
          2005,
          2006,
          2007,
          2008,
          2009,
          2010,
          2011,
          2012,
          2013,
          2014,
          2015,
          2016,
          2017,
          2018,
          2019,
          2020,
          2021,
          2022,
          2023,
          2024
         ],
         "xaxis": "x",
         "y": [
          146.46761280395017,
          150.8272077938642,
          155.02351769397663,
          159.40185376097952,
          161.93664946858422,
          164.92288169142617,
          169.6800990123276,
          175.82084267568223,
          178.08826587004796,
          182.62361209894152,
          186.4285369223172,
          191.66549054440407,
          199.6465093069692,
          204.07142736364935,
          212.4721809263122,
          211.90708732051357,
          217.11013264106134,
          221.9812070705634,
          227.67026452257025,
          231.56356778357232,
          235.6359624805512,
          235.16870970877966,
          237.88969929938034,
          243.3355215750464,
          249.1195771173634,
          253.2599499801155,
          256.70527623297073,
          263.3533271588871,
          284.11738853454614,
          300.88526132769084,
          308.95556991666103
         ],
         "yaxis": "y"
        },
        {
         "error_y": {
          "array": [
           1.3573871960498158,
           1.2727922061357893,
           1.4764823060233572,
           0.898146239020494,
           0.8883505314157634,
           1.4271183085738253,
           2.0199009876724103,
           0.9291573243177581,
           1.461734129952043,
           0.9763879010584624,
           1.9714630776828135,
           3.159509455595928,
           1.5534906930308068,
           2.462072636350655,
           3.059569073687782,
           2.0621626794864274,
           0.7726173589386556,
           2.3750429294365794,
           1.643985477429771,
           0.9476822164277059,
           1.0350375194487804,
           1.515290291220334,
           1.7318007006196456,
           1.3344784249536064,
           1.6484228826366087,
           1.927800019884495,
           1.7169737670292757,
           6.071172841112895,
           6.881111465453821,
           3.0014886723091414,
           2.4904300833389943
          ],
          "color": "red",
          "thickness": 2,
          "type": "data",
          "width": 4
         },
         "line": {
          "color": "blue"
         },
         "mode": "lines+markers",
         "name": "Mean CPI",
         "type": "scatter",
         "x": [
          1994,
          1995,
          1996,
          1997,
          1998,
          1999,
          2000,
          2001,
          2002,
          2003,
          2004,
          2005,
          2006,
          2007,
          2008,
          2009,
          2010,
          2011,
          2012,
          2013,
          2014,
          2015,
          2016,
          2017,
          2018,
          2019,
          2020,
          2021,
          2022,
          2023,
          2024
         ],
         "xaxis": "x2",
         "y": [
          147.825,
          152.1,
          156.5,
          160.3,
          162.825,
          166.35,
          171.7,
          176.75,
          179.55,
          183.6,
          188.4,
          194.825,
          201.2,
          206.5335,
          215.53175,
          213.96925,
          217.88275,
          224.35625,
          229.31425000000002,
          232.51125000000002,
          236.671,
          236.684,
          239.6215,
          244.67000000000002,
          250.768,
          255.18775,
          258.42225,
          269.4245,
          290.9985,
          303.88675,
          311.446
         ],
         "yaxis": "y2"
        }
       ],
       "layout": {
        "annotations": [
         {
          "font": {
           "size": 16
          },
          "showarrow": false,
          "text": "CPI with Std Shaded",
          "x": 0.225,
          "xanchor": "center",
          "xref": "paper",
          "y": 1,
          "yanchor": "bottom",
          "yref": "paper"
         },
         {
          "font": {
           "size": 16
          },
          "showarrow": false,
          "text": "CPI with Std Error Bars",
          "x": 0.775,
          "xanchor": "center",
          "xref": "paper",
          "y": 1,
          "yanchor": "bottom",
          "yref": "paper"
         }
        ],
        "height": 600,
        "legend": {
         "orientation": "h",
         "x": 0.5,
         "xanchor": "center",
         "y": -0.2,
         "yanchor": "top"
        },
        "showlegend": true,
        "template": {
         "data": {
          "bar": [
           {
            "error_x": {
             "color": "#2a3f5f"
            },
            "error_y": {
             "color": "#2a3f5f"
            },
            "marker": {
             "line": {
              "color": "#E5ECF6",
              "width": 0.5
             },
             "pattern": {
              "fillmode": "overlay",
              "size": 10,
              "solidity": 0.2
             }
            },
            "type": "bar"
           }
          ],
          "barpolar": [
           {
            "marker": {
             "line": {
              "color": "#E5ECF6",
              "width": 0.5
             },
             "pattern": {
              "fillmode": "overlay",
              "size": 10,
              "solidity": 0.2
             }
            },
            "type": "barpolar"
           }
          ],
          "carpet": [
           {
            "aaxis": {
             "endlinecolor": "#2a3f5f",
             "gridcolor": "white",
             "linecolor": "white",
             "minorgridcolor": "white",
             "startlinecolor": "#2a3f5f"
            },
            "baxis": {
             "endlinecolor": "#2a3f5f",
             "gridcolor": "white",
             "linecolor": "white",
             "minorgridcolor": "white",
             "startlinecolor": "#2a3f5f"
            },
            "type": "carpet"
           }
          ],
          "choropleth": [
           {
            "colorbar": {
             "outlinewidth": 0,
             "ticks": ""
            },
            "type": "choropleth"
           }
          ],
          "contour": [
           {
            "colorbar": {
             "outlinewidth": 0,
             "ticks": ""
            },
            "colorscale": [
             [
              0,
              "#0d0887"
             ],
             [
              0.1111111111111111,
              "#46039f"
             ],
             [
              0.2222222222222222,
              "#7201a8"
             ],
             [
              0.3333333333333333,
              "#9c179e"
             ],
             [
              0.4444444444444444,
              "#bd3786"
             ],
             [
              0.5555555555555556,
              "#d8576b"
             ],
             [
              0.6666666666666666,
              "#ed7953"
             ],
             [
              0.7777777777777778,
              "#fb9f3a"
             ],
             [
              0.8888888888888888,
              "#fdca26"
             ],
             [
              1,
              "#f0f921"
             ]
            ],
            "type": "contour"
           }
          ],
          "contourcarpet": [
           {
            "colorbar": {
             "outlinewidth": 0,
             "ticks": ""
            },
            "type": "contourcarpet"
           }
          ],
          "heatmap": [
           {
            "colorbar": {
             "outlinewidth": 0,
             "ticks": ""
            },
            "colorscale": [
             [
              0,
              "#0d0887"
             ],
             [
              0.1111111111111111,
              "#46039f"
             ],
             [
              0.2222222222222222,
              "#7201a8"
             ],
             [
              0.3333333333333333,
              "#9c179e"
             ],
             [
              0.4444444444444444,
              "#bd3786"
             ],
             [
              0.5555555555555556,
              "#d8576b"
             ],
             [
              0.6666666666666666,
              "#ed7953"
             ],
             [
              0.7777777777777778,
              "#fb9f3a"
             ],
             [
              0.8888888888888888,
              "#fdca26"
             ],
             [
              1,
              "#f0f921"
             ]
            ],
            "type": "heatmap"
           }
          ],
          "heatmapgl": [
           {
            "colorbar": {
             "outlinewidth": 0,
             "ticks": ""
            },
            "colorscale": [
             [
              0,
              "#0d0887"
             ],
             [
              0.1111111111111111,
              "#46039f"
             ],
             [
              0.2222222222222222,
              "#7201a8"
             ],
             [
              0.3333333333333333,
              "#9c179e"
             ],
             [
              0.4444444444444444,
              "#bd3786"
             ],
             [
              0.5555555555555556,
              "#d8576b"
             ],
             [
              0.6666666666666666,
              "#ed7953"
             ],
             [
              0.7777777777777778,
              "#fb9f3a"
             ],
             [
              0.8888888888888888,
              "#fdca26"
             ],
             [
              1,
              "#f0f921"
             ]
            ],
            "type": "heatmapgl"
           }
          ],
          "histogram": [
           {
            "marker": {
             "pattern": {
              "fillmode": "overlay",
              "size": 10,
              "solidity": 0.2
             }
            },
            "type": "histogram"
           }
          ],
          "histogram2d": [
           {
            "colorbar": {
             "outlinewidth": 0,
             "ticks": ""
            },
            "colorscale": [
             [
              0,
              "#0d0887"
             ],
             [
              0.1111111111111111,
              "#46039f"
             ],
             [
              0.2222222222222222,
              "#7201a8"
             ],
             [
              0.3333333333333333,
              "#9c179e"
             ],
             [
              0.4444444444444444,
              "#bd3786"
             ],
             [
              0.5555555555555556,
              "#d8576b"
             ],
             [
              0.6666666666666666,
              "#ed7953"
             ],
             [
              0.7777777777777778,
              "#fb9f3a"
             ],
             [
              0.8888888888888888,
              "#fdca26"
             ],
             [
              1,
              "#f0f921"
             ]
            ],
            "type": "histogram2d"
           }
          ],
          "histogram2dcontour": [
           {
            "colorbar": {
             "outlinewidth": 0,
             "ticks": ""
            },
            "colorscale": [
             [
              0,
              "#0d0887"
             ],
             [
              0.1111111111111111,
              "#46039f"
             ],
             [
              0.2222222222222222,
              "#7201a8"
             ],
             [
              0.3333333333333333,
              "#9c179e"
             ],
             [
              0.4444444444444444,
              "#bd3786"
             ],
             [
              0.5555555555555556,
              "#d8576b"
             ],
             [
              0.6666666666666666,
              "#ed7953"
             ],
             [
              0.7777777777777778,
              "#fb9f3a"
             ],
             [
              0.8888888888888888,
              "#fdca26"
             ],
             [
              1,
              "#f0f921"
             ]
            ],
            "type": "histogram2dcontour"
           }
          ],
          "mesh3d": [
           {
            "colorbar": {
             "outlinewidth": 0,
             "ticks": ""
            },
            "type": "mesh3d"
           }
          ],
          "parcoords": [
           {
            "line": {
             "colorbar": {
              "outlinewidth": 0,
              "ticks": ""
             }
            },
            "type": "parcoords"
           }
          ],
          "pie": [
           {
            "automargin": true,
            "type": "pie"
           }
          ],
          "scatter": [
           {
            "fillpattern": {
             "fillmode": "overlay",
             "size": 10,
             "solidity": 0.2
            },
            "type": "scatter"
           }
          ],
          "scatter3d": [
           {
            "line": {
             "colorbar": {
              "outlinewidth": 0,
              "ticks": ""
             }
            },
            "marker": {
             "colorbar": {
              "outlinewidth": 0,
              "ticks": ""
             }
            },
            "type": "scatter3d"
           }
          ],
          "scattercarpet": [
           {
            "marker": {
             "colorbar": {
              "outlinewidth": 0,
              "ticks": ""
             }
            },
            "type": "scattercarpet"
           }
          ],
          "scattergeo": [
           {
            "marker": {
             "colorbar": {
              "outlinewidth": 0,
              "ticks": ""
             }
            },
            "type": "scattergeo"
           }
          ],
          "scattergl": [
           {
            "marker": {
             "colorbar": {
              "outlinewidth": 0,
              "ticks": ""
             }
            },
            "type": "scattergl"
           }
          ],
          "scattermapbox": [
           {
            "marker": {
             "colorbar": {
              "outlinewidth": 0,
              "ticks": ""
             }
            },
            "type": "scattermapbox"
           }
          ],
          "scatterpolar": [
           {
            "marker": {
             "colorbar": {
              "outlinewidth": 0,
              "ticks": ""
             }
            },
            "type": "scatterpolar"
           }
          ],
          "scatterpolargl": [
           {
            "marker": {
             "colorbar": {
              "outlinewidth": 0,
              "ticks": ""
             }
            },
            "type": "scatterpolargl"
           }
          ],
          "scatterternary": [
           {
            "marker": {
             "colorbar": {
              "outlinewidth": 0,
              "ticks": ""
             }
            },
            "type": "scatterternary"
           }
          ],
          "surface": [
           {
            "colorbar": {
             "outlinewidth": 0,
             "ticks": ""
            },
            "colorscale": [
             [
              0,
              "#0d0887"
             ],
             [
              0.1111111111111111,
              "#46039f"
             ],
             [
              0.2222222222222222,
              "#7201a8"
             ],
             [
              0.3333333333333333,
              "#9c179e"
             ],
             [
              0.4444444444444444,
              "#bd3786"
             ],
             [
              0.5555555555555556,
              "#d8576b"
             ],
             [
              0.6666666666666666,
              "#ed7953"
             ],
             [
              0.7777777777777778,
              "#fb9f3a"
             ],
             [
              0.8888888888888888,
              "#fdca26"
             ],
             [
              1,
              "#f0f921"
             ]
            ],
            "type": "surface"
           }
          ],
          "table": [
           {
            "cells": {
             "fill": {
              "color": "#EBF0F8"
             },
             "line": {
              "color": "white"
             }
            },
            "header": {
             "fill": {
              "color": "#C8D4E3"
             },
             "line": {
              "color": "white"
             }
            },
            "type": "table"
           }
          ]
         },
         "layout": {
          "annotationdefaults": {
           "arrowcolor": "#2a3f5f",
           "arrowhead": 0,
           "arrowwidth": 1
          },
          "autotypenumbers": "strict",
          "coloraxis": {
           "colorbar": {
            "outlinewidth": 0,
            "ticks": ""
           }
          },
          "colorscale": {
           "diverging": [
            [
             0,
             "#8e0152"
            ],
            [
             0.1,
             "#c51b7d"
            ],
            [
             0.2,
             "#de77ae"
            ],
            [
             0.3,
             "#f1b6da"
            ],
            [
             0.4,
             "#fde0ef"
            ],
            [
             0.5,
             "#f7f7f7"
            ],
            [
             0.6,
             "#e6f5d0"
            ],
            [
             0.7,
             "#b8e186"
            ],
            [
             0.8,
             "#7fbc41"
            ],
            [
             0.9,
             "#4d9221"
            ],
            [
             1,
             "#276419"
            ]
           ],
           "sequential": [
            [
             0,
             "#0d0887"
            ],
            [
             0.1111111111111111,
             "#46039f"
            ],
            [
             0.2222222222222222,
             "#7201a8"
            ],
            [
             0.3333333333333333,
             "#9c179e"
            ],
            [
             0.4444444444444444,
             "#bd3786"
            ],
            [
             0.5555555555555556,
             "#d8576b"
            ],
            [
             0.6666666666666666,
             "#ed7953"
            ],
            [
             0.7777777777777778,
             "#fb9f3a"
            ],
            [
             0.8888888888888888,
             "#fdca26"
            ],
            [
             1,
             "#f0f921"
            ]
           ],
           "sequentialminus": [
            [
             0,
             "#0d0887"
            ],
            [
             0.1111111111111111,
             "#46039f"
            ],
            [
             0.2222222222222222,
             "#7201a8"
            ],
            [
             0.3333333333333333,
             "#9c179e"
            ],
            [
             0.4444444444444444,
             "#bd3786"
            ],
            [
             0.5555555555555556,
             "#d8576b"
            ],
            [
             0.6666666666666666,
             "#ed7953"
            ],
            [
             0.7777777777777778,
             "#fb9f3a"
            ],
            [
             0.8888888888888888,
             "#fdca26"
            ],
            [
             1,
             "#f0f921"
            ]
           ]
          },
          "colorway": [
           "#636efa",
           "#EF553B",
           "#00cc96",
           "#ab63fa",
           "#FFA15A",
           "#19d3f3",
           "#FF6692",
           "#B6E880",
           "#FF97FF",
           "#FECB52"
          ],
          "font": {
           "color": "#2a3f5f"
          },
          "geo": {
           "bgcolor": "white",
           "lakecolor": "white",
           "landcolor": "#E5ECF6",
           "showlakes": true,
           "showland": true,
           "subunitcolor": "white"
          },
          "hoverlabel": {
           "align": "left"
          },
          "hovermode": "closest",
          "mapbox": {
           "style": "light"
          },
          "paper_bgcolor": "white",
          "plot_bgcolor": "#E5ECF6",
          "polar": {
           "angularaxis": {
            "gridcolor": "white",
            "linecolor": "white",
            "ticks": ""
           },
           "bgcolor": "#E5ECF6",
           "radialaxis": {
            "gridcolor": "white",
            "linecolor": "white",
            "ticks": ""
           }
          },
          "scene": {
           "xaxis": {
            "backgroundcolor": "#E5ECF6",
            "gridcolor": "white",
            "gridwidth": 2,
            "linecolor": "white",
            "showbackground": true,
            "ticks": "",
            "zerolinecolor": "white"
           },
           "yaxis": {
            "backgroundcolor": "#E5ECF6",
            "gridcolor": "white",
            "gridwidth": 2,
            "linecolor": "white",
            "showbackground": true,
            "ticks": "",
            "zerolinecolor": "white"
           },
           "zaxis": {
            "backgroundcolor": "#E5ECF6",
            "gridcolor": "white",
            "gridwidth": 2,
            "linecolor": "white",
            "showbackground": true,
            "ticks": "",
            "zerolinecolor": "white"
           }
          },
          "shapedefaults": {
           "line": {
            "color": "#2a3f5f"
           }
          },
          "ternary": {
           "aaxis": {
            "gridcolor": "white",
            "linecolor": "white",
            "ticks": ""
           },
           "baxis": {
            "gridcolor": "white",
            "linecolor": "white",
            "ticks": ""
           },
           "bgcolor": "#E5ECF6",
           "caxis": {
            "gridcolor": "white",
            "linecolor": "white",
            "ticks": ""
           }
          },
          "title": {
           "x": 0.05
          },
          "xaxis": {
           "automargin": true,
           "gridcolor": "white",
           "linecolor": "white",
           "ticks": "",
           "title": {
            "standoff": 15
           },
           "zerolinecolor": "white",
           "zerolinewidth": 2
          },
          "yaxis": {
           "automargin": true,
           "gridcolor": "white",
           "linecolor": "white",
           "ticks": "",
           "title": {
            "standoff": 15
           },
           "zerolinecolor": "white",
           "zerolinewidth": 2
          }
         }
        },
        "title": {
         "text": "Consumer Price Index Over Time"
        },
        "width": 1600,
        "xaxis": {
         "anchor": "y",
         "domain": [
          0,
          0.45
         ]
        },
        "xaxis2": {
         "anchor": "y2",
         "domain": [
          0.55,
          1
         ]
        },
        "yaxis": {
         "anchor": "x",
         "domain": [
          0,
          1
         ]
        },
        "yaxis2": {
         "anchor": "x2",
         "domain": [
          0,
          1
         ]
        }
       }
      }
     },
     "metadata": {},
     "output_type": "display_data"
    }
   ],
   "source": [
    "years = annual_statistics.index\n",
    "mean_values = annual_statistics['ConsumerPriceIndex']['mean']\n",
    "std_values = annual_statistics['ConsumerPriceIndex']['std']\n",
    "\n",
    "# 1 row and 2 columns\n",
    "fig = make_subplots(rows=1, cols=2, subplot_titles=('CPI with Std Shaded', 'CPI with Std Error Bars'))\n",
    "\n",
    "#  Line chart with shaded standard deviation\n",
    "fig.add_trace(\n",
    "    go.Scatter(\n",
    "        x=years,\n",
    "        y=mean_values,\n",
    "        mode='lines',\n",
    "        name='Mean CPI',\n",
    "        line=dict(color='darkblue'),\n",
    "    ),\n",
    "    row=1, col=1\n",
    ")\n",
    "fig.add_trace(\n",
    "    go.Scatter(\n",
    "        x=years,\n",
    "        y=mean_values + std_values,\n",
    "        mode='lines',\n",
    "        fill=None,\n",
    "        line=dict(color='rgba(0,0,255,0.2)', width=0),\n",
    "        showlegend=False\n",
    "    ),\n",
    "    row=1, col=1\n",
    ")\n",
    "fig.add_trace(\n",
    "    go.Scatter(\n",
    "        x=years,\n",
    "        y=mean_values - std_values,\n",
    "        mode='lines',\n",
    "        fill='tonexty',\n",
    "        line=dict(color='rgba(0,0,255,0.2)', width=0),\n",
    "        name='±1 Std Dev',\n",
    "        showlegend=True\n",
    "    ),\n",
    "    row=1, col=1\n",
    ")\n",
    "\n",
    "# Line chart with error bars\n",
    "fig.add_trace(\n",
    "    go.Scatter(\n",
    "        x=years,\n",
    "        y=mean_values,\n",
    "        mode='lines+markers',\n",
    "        name='Mean CPI',\n",
    "        line=dict(color='blue'),\n",
    "        error_y=dict(\n",
    "            type='data',\n",
    "            array=std_values,\n",
    "            color='red',\n",
    "            thickness=2,\n",
    "            width=4\n",
    "        )\n",
    "    ),\n",
    "    row=1, col=2\n",
    ")\n",
    "\n",
    "# Update layout to move the legend to the bottom\n",
    "fig.update_layout(\n",
    "    height=600, \n",
    "    width=1600, \n",
    "    title_text='Consumer Price Index Over Time',\n",
    "    showlegend=True,\n",
    "    legend=dict(\n",
    "        orientation=\"h\",   # Horizontal orientation\n",
    "        x=0.5,             # Center the legend horizontally\n",
    "        y=-0.2,            # Move the legend below the charts\n",
    "        xanchor='center',   # Align the legend horizontally with the center\n",
    "        yanchor='top'       # Align the legend above the bottom edge\n",
    "    )\n",
    ")\n",
    "\n",
    "# Show the plot\n",
    "fig.show()\n"
   ]
  },
  {
   "cell_type": "code",
   "execution_count": 151,
   "metadata": {},
   "outputs": [
    {
     "data": {
      "application/vnd.plotly.v1+json": {
       "config": {
        "plotlyServerURL": "https://plot.ly"
       },
       "data": [
        {
         "line": {
          "color": "darkblue"
         },
         "mode": "lines",
         "name": "Mean CPI",
         "type": "scatter",
         "x": [
          1994,
          1995,
          1996,
          1997,
          1998,
          1999,
          2000,
          2001,
          2002,
          2003,
          2004,
          2005,
          2006,
          2007,
          2008,
          2009,
          2010,
          2011,
          2012,
          2013,
          2014,
          2015,
          2016,
          2017,
          2018,
          2019,
          2020,
          2021,
          2022,
          2023,
          2024
         ],
         "xaxis": "x",
         "y": [
          153.65,
          157.475,
          161.575,
          166.25,
          171.60000000000002,
          177,
          183.35,
          191.35,
          199.15,
          205.1,
          210.5,
          216.825,
          224.275,
          233.92075,
          242.63575,
          248.6755,
          249.20024999999998,
          253.10475,
          259.83774999999997,
          267.00775,
          275.40825,
          285.17,
          295.876,
          307.16700000000003,
          318.395,
          330.15575,
          340.90125,
          348.11725,
          367.6715,
          397.57275,
          413.9835
         ],
         "yaxis": "y"
        },
        {
         "line": {
          "color": "rgba(0,0,255,0.2)",
          "width": 0
         },
         "mode": "lines",
         "showlegend": false,
         "type": "scatter",
         "x": [
          1994,
          1995,
          1996,
          1997,
          1998,
          1999,
          2000,
          2001,
          2002,
          2003,
          2004,
          2005,
          2006,
          2007,
          2008,
          2009,
          2010,
          2011,
          2012,
          2013,
          2014,
          2015,
          2016,
          2017,
          2018,
          2019,
          2020,
          2021,
          2022,
          2023,
          2024
         ],
         "xaxis": "x",
         "y": [
          154.86792172709636,
          158.65079760163047,
          163.03872811683044,
          167.92829278335654,
          173.53735214489606,
          178.54919333848298,
          185.60314594881615,
          194.24194283023252,
          201.0899312702602,
          206.70208197875974,
          212.54124145231933,
          218.98119263208707,
          227.3898836254345,
          236.75412859277577,
          245.40405674781536,
          249.44787016168846,
          249.6339352737489,
          255.04125998362173,
          262.1151209074281,
          269.3973946562896,
          278.38425709844586,
          288.61610146880986,
          299.53592686630026,
          310.6952027530553,
          321.8088655509554,
          334.14669845661194,
          343.51833736002453,
          351.7259539571015,
          377.24521026997024,
          405.59078901108825,
          417.5522679246485
         ],
         "yaxis": "y"
        },
        {
         "fill": "tonexty",
         "line": {
          "color": "rgba(0,0,255,0.2)",
          "width": 0
         },
         "mode": "lines",
         "name": "±1 Std Dev",
         "showlegend": true,
         "type": "scatter",
         "x": [
          1994,
          1995,
          1996,
          1997,
          1998,
          1999,
          2000,
          2001,
          2002,
          2003,
          2004,
          2005,
          2006,
          2007,
          2008,
          2009,
          2010,
          2011,
          2012,
          2013,
          2014,
          2015,
          2016,
          2017,
          2018,
          2019,
          2020,
          2021,
          2022,
          2023,
          2024
         ],
         "xaxis": "x",
         "y": [
          152.43207827290365,
          156.29920239836952,
          160.11127188316954,
          164.57170721664346,
          169.66264785510398,
          175.45080666151702,
          181.09685405118384,
          188.45805716976747,
          197.21006872973982,
          203.49791802124025,
          208.45875854768067,
          214.6688073679129,
          221.16011637456552,
          231.08737140722423,
          239.86744325218464,
          247.90312983831154,
          248.76656472625106,
          251.16824001637826,
          257.56037909257185,
          264.6181053437104,
          272.43224290155416,
          281.7238985311902,
          292.2160731336997,
          303.63879724694476,
          314.9811344490446,
          326.1648015433881,
          338.2841626399755,
          344.5085460428985,
          358.0977897300297,
          389.5547109889117,
          410.4147320753515
         ],
         "yaxis": "y"
        },
        {
         "error_y": {
          "array": [
           1.217921727096351,
           1.175797601630489,
           1.4637281168304468,
           1.6782927833565473,
           1.9373521448960447,
           1.5491933384829668,
           2.25314594881615,
           2.8919428302325305,
           1.9399312702601945,
           1.6020819787597322,
           2.041241452319331,
           2.1561926320870954,
           3.1148836254344814,
           2.8333785927757718,
           2.768306747815346,
           0.7723701616884674,
           0.4336852737489121,
           1.9365099836217434,
           2.277370907428135,
           2.3896446562895965,
           2.976007098445852,
           3.4461014688098492,
           3.659926866300291,
           3.5282027530552447,
           3.4138655509554026,
           3.990948456611942,
           2.6170873600245015,
           3.6087039571014827,
           9.573710269970237,
           8.018039011088266,
           3.5687679246485233
          ],
          "color": "red",
          "thickness": 2,
          "type": "data",
          "width": 4
         },
         "line": {
          "color": "blue"
         },
         "mode": "lines+markers",
         "name": "Mean CPI",
         "type": "scatter",
         "x": [
          1994,
          1995,
          1996,
          1997,
          1998,
          1999,
          2000,
          2001,
          2002,
          2003,
          2004,
          2005,
          2006,
          2007,
          2008,
          2009,
          2010,
          2011,
          2012,
          2013,
          2014,
          2015,
          2016,
          2017,
          2018,
          2019,
          2020,
          2021,
          2022,
          2023,
          2024
         ],
         "xaxis": "x2",
         "y": [
          153.65,
          157.475,
          161.575,
          166.25,
          171.60000000000002,
          177,
          183.35,
          191.35,
          199.15,
          205.1,
          210.5,
          216.825,
          224.275,
          233.92075,
          242.63575,
          248.6755,
          249.20024999999998,
          253.10475,
          259.83774999999997,
          267.00775,
          275.40825,
          285.17,
          295.876,
          307.16700000000003,
          318.395,
          330.15575,
          340.90125,
          348.11725,
          367.6715,
          397.57275,
          413.9835
         ],
         "yaxis": "y2"
        }
       ],
       "layout": {
        "annotations": [
         {
          "font": {
           "size": 16
          },
          "showarrow": false,
          "text": "Primary Residence Rent with Std Shaded",
          "x": 0.225,
          "xanchor": "center",
          "xref": "paper",
          "y": 1,
          "yanchor": "bottom",
          "yref": "paper"
         },
         {
          "font": {
           "size": 16
          },
          "showarrow": false,
          "text": "Primary Residence Rent with Std Error Bars",
          "x": 0.775,
          "xanchor": "center",
          "xref": "paper",
          "y": 1,
          "yanchor": "bottom",
          "yref": "paper"
         }
        ],
        "height": 600,
        "legend": {
         "orientation": "h",
         "x": 0.5,
         "xanchor": "center",
         "y": -0.2,
         "yanchor": "top"
        },
        "showlegend": true,
        "template": {
         "data": {
          "bar": [
           {
            "error_x": {
             "color": "#2a3f5f"
            },
            "error_y": {
             "color": "#2a3f5f"
            },
            "marker": {
             "line": {
              "color": "#E5ECF6",
              "width": 0.5
             },
             "pattern": {
              "fillmode": "overlay",
              "size": 10,
              "solidity": 0.2
             }
            },
            "type": "bar"
           }
          ],
          "barpolar": [
           {
            "marker": {
             "line": {
              "color": "#E5ECF6",
              "width": 0.5
             },
             "pattern": {
              "fillmode": "overlay",
              "size": 10,
              "solidity": 0.2
             }
            },
            "type": "barpolar"
           }
          ],
          "carpet": [
           {
            "aaxis": {
             "endlinecolor": "#2a3f5f",
             "gridcolor": "white",
             "linecolor": "white",
             "minorgridcolor": "white",
             "startlinecolor": "#2a3f5f"
            },
            "baxis": {
             "endlinecolor": "#2a3f5f",
             "gridcolor": "white",
             "linecolor": "white",
             "minorgridcolor": "white",
             "startlinecolor": "#2a3f5f"
            },
            "type": "carpet"
           }
          ],
          "choropleth": [
           {
            "colorbar": {
             "outlinewidth": 0,
             "ticks": ""
            },
            "type": "choropleth"
           }
          ],
          "contour": [
           {
            "colorbar": {
             "outlinewidth": 0,
             "ticks": ""
            },
            "colorscale": [
             [
              0,
              "#0d0887"
             ],
             [
              0.1111111111111111,
              "#46039f"
             ],
             [
              0.2222222222222222,
              "#7201a8"
             ],
             [
              0.3333333333333333,
              "#9c179e"
             ],
             [
              0.4444444444444444,
              "#bd3786"
             ],
             [
              0.5555555555555556,
              "#d8576b"
             ],
             [
              0.6666666666666666,
              "#ed7953"
             ],
             [
              0.7777777777777778,
              "#fb9f3a"
             ],
             [
              0.8888888888888888,
              "#fdca26"
             ],
             [
              1,
              "#f0f921"
             ]
            ],
            "type": "contour"
           }
          ],
          "contourcarpet": [
           {
            "colorbar": {
             "outlinewidth": 0,
             "ticks": ""
            },
            "type": "contourcarpet"
           }
          ],
          "heatmap": [
           {
            "colorbar": {
             "outlinewidth": 0,
             "ticks": ""
            },
            "colorscale": [
             [
              0,
              "#0d0887"
             ],
             [
              0.1111111111111111,
              "#46039f"
             ],
             [
              0.2222222222222222,
              "#7201a8"
             ],
             [
              0.3333333333333333,
              "#9c179e"
             ],
             [
              0.4444444444444444,
              "#bd3786"
             ],
             [
              0.5555555555555556,
              "#d8576b"
             ],
             [
              0.6666666666666666,
              "#ed7953"
             ],
             [
              0.7777777777777778,
              "#fb9f3a"
             ],
             [
              0.8888888888888888,
              "#fdca26"
             ],
             [
              1,
              "#f0f921"
             ]
            ],
            "type": "heatmap"
           }
          ],
          "heatmapgl": [
           {
            "colorbar": {
             "outlinewidth": 0,
             "ticks": ""
            },
            "colorscale": [
             [
              0,
              "#0d0887"
             ],
             [
              0.1111111111111111,
              "#46039f"
             ],
             [
              0.2222222222222222,
              "#7201a8"
             ],
             [
              0.3333333333333333,
              "#9c179e"
             ],
             [
              0.4444444444444444,
              "#bd3786"
             ],
             [
              0.5555555555555556,
              "#d8576b"
             ],
             [
              0.6666666666666666,
              "#ed7953"
             ],
             [
              0.7777777777777778,
              "#fb9f3a"
             ],
             [
              0.8888888888888888,
              "#fdca26"
             ],
             [
              1,
              "#f0f921"
             ]
            ],
            "type": "heatmapgl"
           }
          ],
          "histogram": [
           {
            "marker": {
             "pattern": {
              "fillmode": "overlay",
              "size": 10,
              "solidity": 0.2
             }
            },
            "type": "histogram"
           }
          ],
          "histogram2d": [
           {
            "colorbar": {
             "outlinewidth": 0,
             "ticks": ""
            },
            "colorscale": [
             [
              0,
              "#0d0887"
             ],
             [
              0.1111111111111111,
              "#46039f"
             ],
             [
              0.2222222222222222,
              "#7201a8"
             ],
             [
              0.3333333333333333,
              "#9c179e"
             ],
             [
              0.4444444444444444,
              "#bd3786"
             ],
             [
              0.5555555555555556,
              "#d8576b"
             ],
             [
              0.6666666666666666,
              "#ed7953"
             ],
             [
              0.7777777777777778,
              "#fb9f3a"
             ],
             [
              0.8888888888888888,
              "#fdca26"
             ],
             [
              1,
              "#f0f921"
             ]
            ],
            "type": "histogram2d"
           }
          ],
          "histogram2dcontour": [
           {
            "colorbar": {
             "outlinewidth": 0,
             "ticks": ""
            },
            "colorscale": [
             [
              0,
              "#0d0887"
             ],
             [
              0.1111111111111111,
              "#46039f"
             ],
             [
              0.2222222222222222,
              "#7201a8"
             ],
             [
              0.3333333333333333,
              "#9c179e"
             ],
             [
              0.4444444444444444,
              "#bd3786"
             ],
             [
              0.5555555555555556,
              "#d8576b"
             ],
             [
              0.6666666666666666,
              "#ed7953"
             ],
             [
              0.7777777777777778,
              "#fb9f3a"
             ],
             [
              0.8888888888888888,
              "#fdca26"
             ],
             [
              1,
              "#f0f921"
             ]
            ],
            "type": "histogram2dcontour"
           }
          ],
          "mesh3d": [
           {
            "colorbar": {
             "outlinewidth": 0,
             "ticks": ""
            },
            "type": "mesh3d"
           }
          ],
          "parcoords": [
           {
            "line": {
             "colorbar": {
              "outlinewidth": 0,
              "ticks": ""
             }
            },
            "type": "parcoords"
           }
          ],
          "pie": [
           {
            "automargin": true,
            "type": "pie"
           }
          ],
          "scatter": [
           {
            "fillpattern": {
             "fillmode": "overlay",
             "size": 10,
             "solidity": 0.2
            },
            "type": "scatter"
           }
          ],
          "scatter3d": [
           {
            "line": {
             "colorbar": {
              "outlinewidth": 0,
              "ticks": ""
             }
            },
            "marker": {
             "colorbar": {
              "outlinewidth": 0,
              "ticks": ""
             }
            },
            "type": "scatter3d"
           }
          ],
          "scattercarpet": [
           {
            "marker": {
             "colorbar": {
              "outlinewidth": 0,
              "ticks": ""
             }
            },
            "type": "scattercarpet"
           }
          ],
          "scattergeo": [
           {
            "marker": {
             "colorbar": {
              "outlinewidth": 0,
              "ticks": ""
             }
            },
            "type": "scattergeo"
           }
          ],
          "scattergl": [
           {
            "marker": {
             "colorbar": {
              "outlinewidth": 0,
              "ticks": ""
             }
            },
            "type": "scattergl"
           }
          ],
          "scattermapbox": [
           {
            "marker": {
             "colorbar": {
              "outlinewidth": 0,
              "ticks": ""
             }
            },
            "type": "scattermapbox"
           }
          ],
          "scatterpolar": [
           {
            "marker": {
             "colorbar": {
              "outlinewidth": 0,
              "ticks": ""
             }
            },
            "type": "scatterpolar"
           }
          ],
          "scatterpolargl": [
           {
            "marker": {
             "colorbar": {
              "outlinewidth": 0,
              "ticks": ""
             }
            },
            "type": "scatterpolargl"
           }
          ],
          "scatterternary": [
           {
            "marker": {
             "colorbar": {
              "outlinewidth": 0,
              "ticks": ""
             }
            },
            "type": "scatterternary"
           }
          ],
          "surface": [
           {
            "colorbar": {
             "outlinewidth": 0,
             "ticks": ""
            },
            "colorscale": [
             [
              0,
              "#0d0887"
             ],
             [
              0.1111111111111111,
              "#46039f"
             ],
             [
              0.2222222222222222,
              "#7201a8"
             ],
             [
              0.3333333333333333,
              "#9c179e"
             ],
             [
              0.4444444444444444,
              "#bd3786"
             ],
             [
              0.5555555555555556,
              "#d8576b"
             ],
             [
              0.6666666666666666,
              "#ed7953"
             ],
             [
              0.7777777777777778,
              "#fb9f3a"
             ],
             [
              0.8888888888888888,
              "#fdca26"
             ],
             [
              1,
              "#f0f921"
             ]
            ],
            "type": "surface"
           }
          ],
          "table": [
           {
            "cells": {
             "fill": {
              "color": "#EBF0F8"
             },
             "line": {
              "color": "white"
             }
            },
            "header": {
             "fill": {
              "color": "#C8D4E3"
             },
             "line": {
              "color": "white"
             }
            },
            "type": "table"
           }
          ]
         },
         "layout": {
          "annotationdefaults": {
           "arrowcolor": "#2a3f5f",
           "arrowhead": 0,
           "arrowwidth": 1
          },
          "autotypenumbers": "strict",
          "coloraxis": {
           "colorbar": {
            "outlinewidth": 0,
            "ticks": ""
           }
          },
          "colorscale": {
           "diverging": [
            [
             0,
             "#8e0152"
            ],
            [
             0.1,
             "#c51b7d"
            ],
            [
             0.2,
             "#de77ae"
            ],
            [
             0.3,
             "#f1b6da"
            ],
            [
             0.4,
             "#fde0ef"
            ],
            [
             0.5,
             "#f7f7f7"
            ],
            [
             0.6,
             "#e6f5d0"
            ],
            [
             0.7,
             "#b8e186"
            ],
            [
             0.8,
             "#7fbc41"
            ],
            [
             0.9,
             "#4d9221"
            ],
            [
             1,
             "#276419"
            ]
           ],
           "sequential": [
            [
             0,
             "#0d0887"
            ],
            [
             0.1111111111111111,
             "#46039f"
            ],
            [
             0.2222222222222222,
             "#7201a8"
            ],
            [
             0.3333333333333333,
             "#9c179e"
            ],
            [
             0.4444444444444444,
             "#bd3786"
            ],
            [
             0.5555555555555556,
             "#d8576b"
            ],
            [
             0.6666666666666666,
             "#ed7953"
            ],
            [
             0.7777777777777778,
             "#fb9f3a"
            ],
            [
             0.8888888888888888,
             "#fdca26"
            ],
            [
             1,
             "#f0f921"
            ]
           ],
           "sequentialminus": [
            [
             0,
             "#0d0887"
            ],
            [
             0.1111111111111111,
             "#46039f"
            ],
            [
             0.2222222222222222,
             "#7201a8"
            ],
            [
             0.3333333333333333,
             "#9c179e"
            ],
            [
             0.4444444444444444,
             "#bd3786"
            ],
            [
             0.5555555555555556,
             "#d8576b"
            ],
            [
             0.6666666666666666,
             "#ed7953"
            ],
            [
             0.7777777777777778,
             "#fb9f3a"
            ],
            [
             0.8888888888888888,
             "#fdca26"
            ],
            [
             1,
             "#f0f921"
            ]
           ]
          },
          "colorway": [
           "#636efa",
           "#EF553B",
           "#00cc96",
           "#ab63fa",
           "#FFA15A",
           "#19d3f3",
           "#FF6692",
           "#B6E880",
           "#FF97FF",
           "#FECB52"
          ],
          "font": {
           "color": "#2a3f5f"
          },
          "geo": {
           "bgcolor": "white",
           "lakecolor": "white",
           "landcolor": "#E5ECF6",
           "showlakes": true,
           "showland": true,
           "subunitcolor": "white"
          },
          "hoverlabel": {
           "align": "left"
          },
          "hovermode": "closest",
          "mapbox": {
           "style": "light"
          },
          "paper_bgcolor": "white",
          "plot_bgcolor": "#E5ECF6",
          "polar": {
           "angularaxis": {
            "gridcolor": "white",
            "linecolor": "white",
            "ticks": ""
           },
           "bgcolor": "#E5ECF6",
           "radialaxis": {
            "gridcolor": "white",
            "linecolor": "white",
            "ticks": ""
           }
          },
          "scene": {
           "xaxis": {
            "backgroundcolor": "#E5ECF6",
            "gridcolor": "white",
            "gridwidth": 2,
            "linecolor": "white",
            "showbackground": true,
            "ticks": "",
            "zerolinecolor": "white"
           },
           "yaxis": {
            "backgroundcolor": "#E5ECF6",
            "gridcolor": "white",
            "gridwidth": 2,
            "linecolor": "white",
            "showbackground": true,
            "ticks": "",
            "zerolinecolor": "white"
           },
           "zaxis": {
            "backgroundcolor": "#E5ECF6",
            "gridcolor": "white",
            "gridwidth": 2,
            "linecolor": "white",
            "showbackground": true,
            "ticks": "",
            "zerolinecolor": "white"
           }
          },
          "shapedefaults": {
           "line": {
            "color": "#2a3f5f"
           }
          },
          "ternary": {
           "aaxis": {
            "gridcolor": "white",
            "linecolor": "white",
            "ticks": ""
           },
           "baxis": {
            "gridcolor": "white",
            "linecolor": "white",
            "ticks": ""
           },
           "bgcolor": "#E5ECF6",
           "caxis": {
            "gridcolor": "white",
            "linecolor": "white",
            "ticks": ""
           }
          },
          "title": {
           "x": 0.05
          },
          "xaxis": {
           "automargin": true,
           "gridcolor": "white",
           "linecolor": "white",
           "ticks": "",
           "title": {
            "standoff": 15
           },
           "zerolinecolor": "white",
           "zerolinewidth": 2
          },
          "yaxis": {
           "automargin": true,
           "gridcolor": "white",
           "linecolor": "white",
           "ticks": "",
           "title": {
            "standoff": 15
           },
           "zerolinecolor": "white",
           "zerolinewidth": 2
          }
         }
        },
        "title": {
         "text": "Primary Residence Rent Over Time"
        },
        "width": 1600,
        "xaxis": {
         "anchor": "y",
         "domain": [
          0,
          0.45
         ]
        },
        "xaxis2": {
         "anchor": "y2",
         "domain": [
          0.55,
          1
         ]
        },
        "yaxis": {
         "anchor": "x",
         "domain": [
          0,
          1
         ]
        },
        "yaxis2": {
         "anchor": "x2",
         "domain": [
          0,
          1
         ]
        }
       }
      }
     },
     "metadata": {},
     "output_type": "display_data"
    }
   ],
   "source": [
    "years = annual_statistics.index\n",
    "mean_values = annual_statistics['RentPrimaryResidence']['mean']\n",
    "std_values = annual_statistics['RentPrimaryResidence']['std']\n",
    "\n",
    "# 1 row and 2 columns\n",
    "fig = make_subplots(rows=1, cols=2, subplot_titles=('Primary Residence Rent with Std Shaded', 'Primary Residence Rent with Std Error Bars'))\n",
    "\n",
    "# F Line chart with shaded standard deviation\n",
    "fig.add_trace(\n",
    "    go.Scatter(\n",
    "        x=years,\n",
    "        y=mean_values,\n",
    "        mode='lines',\n",
    "        name='Mean CPI',\n",
    "        line=dict(color='darkblue'),\n",
    "    ),\n",
    "    row=1, col=1\n",
    ")\n",
    "fig.add_trace(\n",
    "    go.Scatter(\n",
    "        x=years,\n",
    "        y=mean_values + std_values,\n",
    "        mode='lines',\n",
    "        fill=None,\n",
    "        line=dict(color='rgba(0,0,255,0.2)', width=0),\n",
    "        showlegend=False\n",
    "    ),\n",
    "    row=1, col=1\n",
    ")\n",
    "fig.add_trace(\n",
    "    go.Scatter(\n",
    "        x=years,\n",
    "        y=mean_values - std_values,\n",
    "        mode='lines',\n",
    "        fill='tonexty',\n",
    "        line=dict(color='rgba(0,0,255,0.2)', width=0),\n",
    "        name='±1 Std Dev',\n",
    "        showlegend=True\n",
    "    ),\n",
    "    row=1, col=1\n",
    ")\n",
    "\n",
    "# Line chart with error bars\n",
    "fig.add_trace(\n",
    "    go.Scatter(\n",
    "        x=years,\n",
    "        y=mean_values,\n",
    "        mode='lines+markers',\n",
    "        name='Mean CPI',\n",
    "        line=dict(color='blue'),\n",
    "        error_y=dict(\n",
    "            type='data',\n",
    "            array=std_values,\n",
    "            color='red',\n",
    "            thickness=2,\n",
    "            width=4\n",
    "        )\n",
    "    ),\n",
    "    row=1, col=2\n",
    ")\n",
    "\n",
    "fig.update_layout(\n",
    "    height=600, \n",
    "    width=1600, \n",
    "    title_text='Primary Residence Rent Over Time',\n",
    "    showlegend=True,\n",
    "    legend=dict(\n",
    "        orientation=\"h\",   # Horizontal orientation\n",
    "        x=0.5,             # Center the legend horizontally\n",
    "        y=-0.2,            # Move the legend below the charts\n",
    "        xanchor='center',   # Align the legend horizontally with the center\n",
    "        yanchor='top'       # Align the legend above the bottom edge\n",
    "    )\n",
    ")\n",
    "\n",
    "fig.show()\n"
   ]
  },
  {
   "cell_type": "code",
   "execution_count": 152,
   "metadata": {},
   "outputs": [
    {
     "data": {
      "application/vnd.plotly.v1+json": {
       "config": {
        "plotlyServerURL": "https://plot.ly"
       },
       "data": [
        {
         "line": {
          "color": "darkblue"
         },
         "mode": "lines",
         "name": "Mean CPI",
         "type": "scatter",
         "x": [
          1994,
          1995,
          1996,
          1997,
          1998,
          1999,
          2000,
          2001,
          2002,
          2003,
          2004,
          2005,
          2006,
          2007,
          2008,
          2009,
          2010,
          2011,
          2012,
          2013,
          2014,
          2015,
          2016,
          2017,
          2018,
          2019,
          2020,
          2021,
          2022,
          2023,
          2024
         ],
         "xaxis": "x",
         "y": [
          3.3575,
          3.745,
          4.342499999999999,
          4.735,
          4.745,
          4.5975,
          4.51,
          4.86,
          4.8625,
          4.47,
          4.115,
          3.7025,
          4.015,
          4.2524999999999995,
          5.0275,
          6.525,
          4.9,
          3.5425,
          2.8775,
          2.4975,
          2.2325,
          2.135,
          2.255,
          2.4775,
          2.5125,
          2.5825,
          2.305,
          1.6400000000000001,
          1.9575,
          2.815,
          3.2
         ],
         "yaxis": "y"
        },
        {
         "line": {
          "color": "rgba(0,0,255,0.2)",
          "width": 0
         },
         "mode": "lines",
         "showlegend": false,
         "type": "scatter",
         "x": [
          1994,
          1995,
          1996,
          1997,
          1998,
          1999,
          2000,
          2001,
          2002,
          2003,
          2004,
          2005,
          2006,
          2007,
          2008,
          2009,
          2010,
          2011,
          2012,
          2013,
          2014,
          2015,
          2016,
          2017,
          2018,
          2019,
          2020,
          2021,
          2022,
          2023,
          2024
         ],
         "xaxis": "x",
         "y": [
          3.5202626083185775,
          3.9493689474129248,
          4.585313371405557,
          4.786961524227067,
          4.764148542155127,
          4.643957866215888,
          4.568878405775519,
          4.99832329280831,
          4.930995741960115,
          4.654571575998761,
          4.195622577482985,
          3.851356754409511,
          4.1472875655532295,
          4.554645108626081,
          5.43959828924663,
          6.707117178395303,
          5.60578561428619,
          3.7892623688220444,
          3.0263567544095107,
          2.6107475165290612,
          2.306154599313281,
          2.1588047614284758,
          2.355829889748361,
          2.543517674401128,
          2.545540379335998,
          2.63241659710624,
          2.609466746952767,
          1.7880990659434872,
          2.214712622811038,
          3.089772633280681,
          3.270710678118655
         ],
         "yaxis": "y"
        },
        {
         "fill": "tonexty",
         "line": {
          "color": "rgba(0,0,255,0.2)",
          "width": 0
         },
         "mode": "lines",
         "name": "±1 Std Dev",
         "showlegend": true,
         "type": "scatter",
         "x": [
          1994,
          1995,
          1996,
          1997,
          1998,
          1999,
          2000,
          2001,
          2002,
          2003,
          2004,
          2005,
          2006,
          2007,
          2008,
          2009,
          2010,
          2011,
          2012,
          2013,
          2014,
          2015,
          2016,
          2017,
          2018,
          2019,
          2020,
          2021,
          2022,
          2023,
          2024
         ],
         "xaxis": "x",
         "y": [
          3.1947373916814223,
          3.5406310525870754,
          4.0996866285944416,
          4.683038475772934,
          4.725851457844874,
          4.5510421337841125,
          4.451121594224481,
          4.7216767071916905,
          4.794004258039885,
          4.285428424001238,
          4.034377422517015,
          3.5536432455904894,
          3.8827124344467703,
          3.9503548913739177,
          4.615401710753369,
          6.3428828216046975,
          4.194214385713811,
          3.2957376311779556,
          2.728643245590489,
          2.384252483470939,
          2.158845400686719,
          2.111195238571524,
          2.1541701102516386,
          2.411482325598872,
          2.4794596206640023,
          2.53258340289376,
          2.0005332530472333,
          1.491900934056513,
          1.700287377188962,
          2.5402273667193187,
          3.1292893218813456
         ],
         "yaxis": "y"
        },
        {
         "error_y": {
          "array": [
           0.16276260831857772,
           0.20436894741292455,
           0.24281337140555811,
           0.05196152422706633,
           0.019148542155126586,
           0.04645786621588801,
           0.058878405775519185,
           0.13832329280830957,
           0.06849574196011506,
           0.1845715759987617,
           0.08062257748298528,
           0.14885675440951052,
           0.13228756555322946,
           0.3021451086260816,
           0.41209828924663094,
           0.182117178395303,
           0.7057856142861892,
           0.24676236882204433,
           0.14885675440951088,
           0.11324751652906136,
           0.07365459931328126,
           0.02380476142847599,
           0.10082988974836134,
           0.06601767440112781,
           0.033040379335998106,
           0.04991659710623987,
           0.3044667469527667,
           0.14809906594348707,
           0.257212622811038,
           0.2747726332806814,
           0.07071067811865465
          ],
          "color": "red",
          "thickness": 2,
          "type": "data",
          "width": 4
         },
         "line": {
          "color": "blue"
         },
         "mode": "lines+markers",
         "name": "Mean CPI",
         "type": "scatter",
         "x": [
          1994,
          1995,
          1996,
          1997,
          1998,
          1999,
          2000,
          2001,
          2002,
          2003,
          2004,
          2005,
          2006,
          2007,
          2008,
          2009,
          2010,
          2011,
          2012,
          2013,
          2014,
          2015,
          2016,
          2017,
          2018,
          2019,
          2020,
          2021,
          2022,
          2023,
          2024
         ],
         "xaxis": "x2",
         "y": [
          3.3575,
          3.745,
          4.342499999999999,
          4.735,
          4.745,
          4.5975,
          4.51,
          4.86,
          4.8625,
          4.47,
          4.115,
          3.7025,
          4.015,
          4.2524999999999995,
          5.0275,
          6.525,
          4.9,
          3.5425,
          2.8775,
          2.4975,
          2.2325,
          2.135,
          2.255,
          2.4775,
          2.5125,
          2.5825,
          2.305,
          1.6400000000000001,
          1.9575,
          2.815,
          3.2
         ],
         "yaxis": "y2"
        }
       ],
       "layout": {
        "annotations": [
         {
          "font": {
           "size": 16
          },
          "showarrow": false,
          "text": "Delinquency on Credit Card Loans with Std Shaded",
          "x": 0.225,
          "xanchor": "center",
          "xref": "paper",
          "y": 1,
          "yanchor": "bottom",
          "yref": "paper"
         },
         {
          "font": {
           "size": 16
          },
          "showarrow": false,
          "text": "Delinquency on Credit Card Loans with Std Error Bars",
          "x": 0.775,
          "xanchor": "center",
          "xref": "paper",
          "y": 1,
          "yanchor": "bottom",
          "yref": "paper"
         }
        ],
        "height": 600,
        "legend": {
         "orientation": "h",
         "x": 0.5,
         "xanchor": "center",
         "y": -0.2,
         "yanchor": "top"
        },
        "showlegend": true,
        "template": {
         "data": {
          "bar": [
           {
            "error_x": {
             "color": "#2a3f5f"
            },
            "error_y": {
             "color": "#2a3f5f"
            },
            "marker": {
             "line": {
              "color": "#E5ECF6",
              "width": 0.5
             },
             "pattern": {
              "fillmode": "overlay",
              "size": 10,
              "solidity": 0.2
             }
            },
            "type": "bar"
           }
          ],
          "barpolar": [
           {
            "marker": {
             "line": {
              "color": "#E5ECF6",
              "width": 0.5
             },
             "pattern": {
              "fillmode": "overlay",
              "size": 10,
              "solidity": 0.2
             }
            },
            "type": "barpolar"
           }
          ],
          "carpet": [
           {
            "aaxis": {
             "endlinecolor": "#2a3f5f",
             "gridcolor": "white",
             "linecolor": "white",
             "minorgridcolor": "white",
             "startlinecolor": "#2a3f5f"
            },
            "baxis": {
             "endlinecolor": "#2a3f5f",
             "gridcolor": "white",
             "linecolor": "white",
             "minorgridcolor": "white",
             "startlinecolor": "#2a3f5f"
            },
            "type": "carpet"
           }
          ],
          "choropleth": [
           {
            "colorbar": {
             "outlinewidth": 0,
             "ticks": ""
            },
            "type": "choropleth"
           }
          ],
          "contour": [
           {
            "colorbar": {
             "outlinewidth": 0,
             "ticks": ""
            },
            "colorscale": [
             [
              0,
              "#0d0887"
             ],
             [
              0.1111111111111111,
              "#46039f"
             ],
             [
              0.2222222222222222,
              "#7201a8"
             ],
             [
              0.3333333333333333,
              "#9c179e"
             ],
             [
              0.4444444444444444,
              "#bd3786"
             ],
             [
              0.5555555555555556,
              "#d8576b"
             ],
             [
              0.6666666666666666,
              "#ed7953"
             ],
             [
              0.7777777777777778,
              "#fb9f3a"
             ],
             [
              0.8888888888888888,
              "#fdca26"
             ],
             [
              1,
              "#f0f921"
             ]
            ],
            "type": "contour"
           }
          ],
          "contourcarpet": [
           {
            "colorbar": {
             "outlinewidth": 0,
             "ticks": ""
            },
            "type": "contourcarpet"
           }
          ],
          "heatmap": [
           {
            "colorbar": {
             "outlinewidth": 0,
             "ticks": ""
            },
            "colorscale": [
             [
              0,
              "#0d0887"
             ],
             [
              0.1111111111111111,
              "#46039f"
             ],
             [
              0.2222222222222222,
              "#7201a8"
             ],
             [
              0.3333333333333333,
              "#9c179e"
             ],
             [
              0.4444444444444444,
              "#bd3786"
             ],
             [
              0.5555555555555556,
              "#d8576b"
             ],
             [
              0.6666666666666666,
              "#ed7953"
             ],
             [
              0.7777777777777778,
              "#fb9f3a"
             ],
             [
              0.8888888888888888,
              "#fdca26"
             ],
             [
              1,
              "#f0f921"
             ]
            ],
            "type": "heatmap"
           }
          ],
          "heatmapgl": [
           {
            "colorbar": {
             "outlinewidth": 0,
             "ticks": ""
            },
            "colorscale": [
             [
              0,
              "#0d0887"
             ],
             [
              0.1111111111111111,
              "#46039f"
             ],
             [
              0.2222222222222222,
              "#7201a8"
             ],
             [
              0.3333333333333333,
              "#9c179e"
             ],
             [
              0.4444444444444444,
              "#bd3786"
             ],
             [
              0.5555555555555556,
              "#d8576b"
             ],
             [
              0.6666666666666666,
              "#ed7953"
             ],
             [
              0.7777777777777778,
              "#fb9f3a"
             ],
             [
              0.8888888888888888,
              "#fdca26"
             ],
             [
              1,
              "#f0f921"
             ]
            ],
            "type": "heatmapgl"
           }
          ],
          "histogram": [
           {
            "marker": {
             "pattern": {
              "fillmode": "overlay",
              "size": 10,
              "solidity": 0.2
             }
            },
            "type": "histogram"
           }
          ],
          "histogram2d": [
           {
            "colorbar": {
             "outlinewidth": 0,
             "ticks": ""
            },
            "colorscale": [
             [
              0,
              "#0d0887"
             ],
             [
              0.1111111111111111,
              "#46039f"
             ],
             [
              0.2222222222222222,
              "#7201a8"
             ],
             [
              0.3333333333333333,
              "#9c179e"
             ],
             [
              0.4444444444444444,
              "#bd3786"
             ],
             [
              0.5555555555555556,
              "#d8576b"
             ],
             [
              0.6666666666666666,
              "#ed7953"
             ],
             [
              0.7777777777777778,
              "#fb9f3a"
             ],
             [
              0.8888888888888888,
              "#fdca26"
             ],
             [
              1,
              "#f0f921"
             ]
            ],
            "type": "histogram2d"
           }
          ],
          "histogram2dcontour": [
           {
            "colorbar": {
             "outlinewidth": 0,
             "ticks": ""
            },
            "colorscale": [
             [
              0,
              "#0d0887"
             ],
             [
              0.1111111111111111,
              "#46039f"
             ],
             [
              0.2222222222222222,
              "#7201a8"
             ],
             [
              0.3333333333333333,
              "#9c179e"
             ],
             [
              0.4444444444444444,
              "#bd3786"
             ],
             [
              0.5555555555555556,
              "#d8576b"
             ],
             [
              0.6666666666666666,
              "#ed7953"
             ],
             [
              0.7777777777777778,
              "#fb9f3a"
             ],
             [
              0.8888888888888888,
              "#fdca26"
             ],
             [
              1,
              "#f0f921"
             ]
            ],
            "type": "histogram2dcontour"
           }
          ],
          "mesh3d": [
           {
            "colorbar": {
             "outlinewidth": 0,
             "ticks": ""
            },
            "type": "mesh3d"
           }
          ],
          "parcoords": [
           {
            "line": {
             "colorbar": {
              "outlinewidth": 0,
              "ticks": ""
             }
            },
            "type": "parcoords"
           }
          ],
          "pie": [
           {
            "automargin": true,
            "type": "pie"
           }
          ],
          "scatter": [
           {
            "fillpattern": {
             "fillmode": "overlay",
             "size": 10,
             "solidity": 0.2
            },
            "type": "scatter"
           }
          ],
          "scatter3d": [
           {
            "line": {
             "colorbar": {
              "outlinewidth": 0,
              "ticks": ""
             }
            },
            "marker": {
             "colorbar": {
              "outlinewidth": 0,
              "ticks": ""
             }
            },
            "type": "scatter3d"
           }
          ],
          "scattercarpet": [
           {
            "marker": {
             "colorbar": {
              "outlinewidth": 0,
              "ticks": ""
             }
            },
            "type": "scattercarpet"
           }
          ],
          "scattergeo": [
           {
            "marker": {
             "colorbar": {
              "outlinewidth": 0,
              "ticks": ""
             }
            },
            "type": "scattergeo"
           }
          ],
          "scattergl": [
           {
            "marker": {
             "colorbar": {
              "outlinewidth": 0,
              "ticks": ""
             }
            },
            "type": "scattergl"
           }
          ],
          "scattermapbox": [
           {
            "marker": {
             "colorbar": {
              "outlinewidth": 0,
              "ticks": ""
             }
            },
            "type": "scattermapbox"
           }
          ],
          "scatterpolar": [
           {
            "marker": {
             "colorbar": {
              "outlinewidth": 0,
              "ticks": ""
             }
            },
            "type": "scatterpolar"
           }
          ],
          "scatterpolargl": [
           {
            "marker": {
             "colorbar": {
              "outlinewidth": 0,
              "ticks": ""
             }
            },
            "type": "scatterpolargl"
           }
          ],
          "scatterternary": [
           {
            "marker": {
             "colorbar": {
              "outlinewidth": 0,
              "ticks": ""
             }
            },
            "type": "scatterternary"
           }
          ],
          "surface": [
           {
            "colorbar": {
             "outlinewidth": 0,
             "ticks": ""
            },
            "colorscale": [
             [
              0,
              "#0d0887"
             ],
             [
              0.1111111111111111,
              "#46039f"
             ],
             [
              0.2222222222222222,
              "#7201a8"
             ],
             [
              0.3333333333333333,
              "#9c179e"
             ],
             [
              0.4444444444444444,
              "#bd3786"
             ],
             [
              0.5555555555555556,
              "#d8576b"
             ],
             [
              0.6666666666666666,
              "#ed7953"
             ],
             [
              0.7777777777777778,
              "#fb9f3a"
             ],
             [
              0.8888888888888888,
              "#fdca26"
             ],
             [
              1,
              "#f0f921"
             ]
            ],
            "type": "surface"
           }
          ],
          "table": [
           {
            "cells": {
             "fill": {
              "color": "#EBF0F8"
             },
             "line": {
              "color": "white"
             }
            },
            "header": {
             "fill": {
              "color": "#C8D4E3"
             },
             "line": {
              "color": "white"
             }
            },
            "type": "table"
           }
          ]
         },
         "layout": {
          "annotationdefaults": {
           "arrowcolor": "#2a3f5f",
           "arrowhead": 0,
           "arrowwidth": 1
          },
          "autotypenumbers": "strict",
          "coloraxis": {
           "colorbar": {
            "outlinewidth": 0,
            "ticks": ""
           }
          },
          "colorscale": {
           "diverging": [
            [
             0,
             "#8e0152"
            ],
            [
             0.1,
             "#c51b7d"
            ],
            [
             0.2,
             "#de77ae"
            ],
            [
             0.3,
             "#f1b6da"
            ],
            [
             0.4,
             "#fde0ef"
            ],
            [
             0.5,
             "#f7f7f7"
            ],
            [
             0.6,
             "#e6f5d0"
            ],
            [
             0.7,
             "#b8e186"
            ],
            [
             0.8,
             "#7fbc41"
            ],
            [
             0.9,
             "#4d9221"
            ],
            [
             1,
             "#276419"
            ]
           ],
           "sequential": [
            [
             0,
             "#0d0887"
            ],
            [
             0.1111111111111111,
             "#46039f"
            ],
            [
             0.2222222222222222,
             "#7201a8"
            ],
            [
             0.3333333333333333,
             "#9c179e"
            ],
            [
             0.4444444444444444,
             "#bd3786"
            ],
            [
             0.5555555555555556,
             "#d8576b"
            ],
            [
             0.6666666666666666,
             "#ed7953"
            ],
            [
             0.7777777777777778,
             "#fb9f3a"
            ],
            [
             0.8888888888888888,
             "#fdca26"
            ],
            [
             1,
             "#f0f921"
            ]
           ],
           "sequentialminus": [
            [
             0,
             "#0d0887"
            ],
            [
             0.1111111111111111,
             "#46039f"
            ],
            [
             0.2222222222222222,
             "#7201a8"
            ],
            [
             0.3333333333333333,
             "#9c179e"
            ],
            [
             0.4444444444444444,
             "#bd3786"
            ],
            [
             0.5555555555555556,
             "#d8576b"
            ],
            [
             0.6666666666666666,
             "#ed7953"
            ],
            [
             0.7777777777777778,
             "#fb9f3a"
            ],
            [
             0.8888888888888888,
             "#fdca26"
            ],
            [
             1,
             "#f0f921"
            ]
           ]
          },
          "colorway": [
           "#636efa",
           "#EF553B",
           "#00cc96",
           "#ab63fa",
           "#FFA15A",
           "#19d3f3",
           "#FF6692",
           "#B6E880",
           "#FF97FF",
           "#FECB52"
          ],
          "font": {
           "color": "#2a3f5f"
          },
          "geo": {
           "bgcolor": "white",
           "lakecolor": "white",
           "landcolor": "#E5ECF6",
           "showlakes": true,
           "showland": true,
           "subunitcolor": "white"
          },
          "hoverlabel": {
           "align": "left"
          },
          "hovermode": "closest",
          "mapbox": {
           "style": "light"
          },
          "paper_bgcolor": "white",
          "plot_bgcolor": "#E5ECF6",
          "polar": {
           "angularaxis": {
            "gridcolor": "white",
            "linecolor": "white",
            "ticks": ""
           },
           "bgcolor": "#E5ECF6",
           "radialaxis": {
            "gridcolor": "white",
            "linecolor": "white",
            "ticks": ""
           }
          },
          "scene": {
           "xaxis": {
            "backgroundcolor": "#E5ECF6",
            "gridcolor": "white",
            "gridwidth": 2,
            "linecolor": "white",
            "showbackground": true,
            "ticks": "",
            "zerolinecolor": "white"
           },
           "yaxis": {
            "backgroundcolor": "#E5ECF6",
            "gridcolor": "white",
            "gridwidth": 2,
            "linecolor": "white",
            "showbackground": true,
            "ticks": "",
            "zerolinecolor": "white"
           },
           "zaxis": {
            "backgroundcolor": "#E5ECF6",
            "gridcolor": "white",
            "gridwidth": 2,
            "linecolor": "white",
            "showbackground": true,
            "ticks": "",
            "zerolinecolor": "white"
           }
          },
          "shapedefaults": {
           "line": {
            "color": "#2a3f5f"
           }
          },
          "ternary": {
           "aaxis": {
            "gridcolor": "white",
            "linecolor": "white",
            "ticks": ""
           },
           "baxis": {
            "gridcolor": "white",
            "linecolor": "white",
            "ticks": ""
           },
           "bgcolor": "#E5ECF6",
           "caxis": {
            "gridcolor": "white",
            "linecolor": "white",
            "ticks": ""
           }
          },
          "title": {
           "x": 0.05
          },
          "xaxis": {
           "automargin": true,
           "gridcolor": "white",
           "linecolor": "white",
           "ticks": "",
           "title": {
            "standoff": 15
           },
           "zerolinecolor": "white",
           "zerolinewidth": 2
          },
          "yaxis": {
           "automargin": true,
           "gridcolor": "white",
           "linecolor": "white",
           "ticks": "",
           "title": {
            "standoff": 15
           },
           "zerolinecolor": "white",
           "zerolinewidth": 2
          }
         }
        },
        "title": {
         "text": "Delinquency on Credit Card Loans Over Time"
        },
        "width": 1600,
        "xaxis": {
         "anchor": "y",
         "domain": [
          0,
          0.45
         ]
        },
        "xaxis2": {
         "anchor": "y2",
         "domain": [
          0.55,
          1
         ]
        },
        "yaxis": {
         "anchor": "x",
         "domain": [
          0,
          1
         ]
        },
        "yaxis2": {
         "anchor": "x2",
         "domain": [
          0,
          1
         ]
        }
       }
      }
     },
     "metadata": {},
     "output_type": "display_data"
    }
   ],
   "source": [
    "years = annual_statistics.index\n",
    "mean_values = annual_statistics['DelinquencyCreditCLoans']['mean']\n",
    "std_values = annual_statistics['DelinquencyCreditCLoans']['std']\n",
    "\n",
    "# 1 row and 2 columns\n",
    "fig = make_subplots(rows=1, cols=2, subplot_titles=('Delinquency on Credit Card Loans with Std Shaded', 'Delinquency on Credit Card Loans with Std Error Bars'))\n",
    "\n",
    "# Line chart with shaded standard deviation\n",
    "fig.add_trace(\n",
    "    go.Scatter(\n",
    "        x=years,\n",
    "        y=mean_values,\n",
    "        mode='lines',\n",
    "        name='Mean CPI',\n",
    "        line=dict(color='darkblue'),\n",
    "    ),\n",
    "    row=1, col=1\n",
    ")\n",
    "fig.add_trace(\n",
    "    go.Scatter(\n",
    "        x=years,\n",
    "        y=mean_values + std_values,\n",
    "        mode='lines',\n",
    "        fill=None,\n",
    "        line=dict(color='rgba(0,0,255,0.2)', width=0),\n",
    "        showlegend=False\n",
    "    ),\n",
    "    row=1, col=1\n",
    ")\n",
    "fig.add_trace(\n",
    "    go.Scatter(\n",
    "        x=years,\n",
    "        y=mean_values - std_values,\n",
    "        mode='lines',\n",
    "        fill='tonexty',\n",
    "        line=dict(color='rgba(0,0,255,0.2)', width=0),\n",
    "        name='±1 Std Dev',\n",
    "        showlegend=True\n",
    "    ),\n",
    "    row=1, col=1\n",
    ")\n",
    "\n",
    "# Line chart with error bars\n",
    "fig.add_trace(\n",
    "    go.Scatter(\n",
    "        x=years,\n",
    "        y=mean_values,\n",
    "        mode='lines+markers',\n",
    "        name='Mean CPI',\n",
    "        line=dict(color='blue'),\n",
    "        error_y=dict(\n",
    "            type='data',\n",
    "            array=std_values,\n",
    "            color='red',\n",
    "            thickness=2,\n",
    "            width=4\n",
    "        )\n",
    "    ),\n",
    "    row=1, col=2\n",
    ")\n",
    "\n",
    "fig.update_layout(\n",
    "    height=600, \n",
    "    width=1600, \n",
    "    title_text='Delinquency on Credit Card Loans Over Time',\n",
    "    showlegend=True,\n",
    "    legend=dict(\n",
    "        orientation=\"h\",   # Horizontal orientation\n",
    "        x=0.5,             # Center the legend horizontally\n",
    "        y=-0.2,            # Move the legend below the charts\n",
    "        xanchor='center',   # Align the legend horizontally with the center\n",
    "        yanchor='top'       # Align the legend above the bottom edge\n",
    "    )\n",
    ")\n",
    "fig.show()\n"
   ]
  },
  {
   "cell_type": "code",
   "execution_count": 153,
   "metadata": {},
   "outputs": [
    {
     "data": {
      "application/vnd.plotly.v1+json": {
       "config": {
        "plotlyServerURL": "https://plot.ly"
       },
       "data": [
        {
         "line": {
          "color": "darkblue"
         },
         "mode": "lines",
         "name": "Mean CPI",
         "type": "scatter",
         "x": [
          1994,
          1995,
          1996,
          1997,
          1998,
          1999,
          2000,
          2001,
          2002,
          2003,
          2004,
          2005,
          2006,
          2007,
          2008,
          2009,
          2010,
          2011,
          2012,
          2013,
          2014,
          2015,
          2016,
          2017,
          2018,
          2019,
          2020,
          2021,
          2022,
          2023,
          2024
         ],
         "xaxis": "x",
         "y": [
          3.9054435483870966,
          5.7957043010752685,
          5.355755376344086,
          5.444817204301074,
          5.402381720430108,
          4.89077688172043,
          6.130481182795698,
          4.258,
          1.7416370967741934,
          1.1286129032258065,
          1.2564032258064517,
          3.026572580645161,
          4.888954301075269,
          5.127981182795699,
          2.2994220430107526,
          0.14459946236559135,
          0.1705510752688172,
          0.10199999999999995,
          0.1340268817204301,
          0.11681451612903222,
          0.0854865591397849,
          0.12334408602150529,
          0.37407526881720427,
          0.9625483870967741,
          1.8011478494623656,
          2.2640618279569895,
          0.44555645161290325,
          0.08281451612903223,
          1.2912903225806451,
          4.9025,
          5.33
         ],
         "yaxis": "y"
        },
        {
         "line": {
          "color": "rgba(0,0,255,0.2)",
          "width": 0
         },
         "mode": "lines",
         "showlegend": false,
         "type": "scatter",
         "x": [
          1994,
          1995,
          1996,
          1997,
          1998,
          1999,
          2000,
          2001,
          2002,
          2003,
          2004,
          2005,
          2006,
          2007,
          2008,
          2009,
          2010,
          2011,
          2012,
          2013,
          2014,
          2015,
          2016,
          2017,
          2018,
          2019,
          2020,
          2021,
          2022,
          2023,
          2024
         ],
         "xaxis": "x",
         "y": [
          4.6597065442491585,
          6.011746064069403,
          5.515620517166239,
          5.572101410110141,
          5.628596141696628,
          5.146922706095717,
          6.644453420379649,
          5.744476992577539,
          1.7558417203857464,
          1.265150063424625,
          1.6149110725415763,
          3.669242169199053,
          5.3439395732561294,
          5.376352471276962,
          3.5304148703632023,
          0.16243784553811388,
          0.21142940494046755,
          0.14807737539255297,
          0.1697944685587828,
          0.14805946022229177,
          0.09477068347845075,
          0.12974282997271017,
          0.3989508733108589,
          1.2035889484190685,
          2.1290850711916733,
          2.5538431474327683,
          1.1825526944337301,
          0.0949692981929141,
          2.674547549193777,
          5.335733962965355,
          5.33
         ],
         "yaxis": "y"
        },
        {
         "fill": "tonexty",
         "line": {
          "color": "rgba(0,0,255,0.2)",
          "width": 0
         },
         "mode": "lines",
         "name": "±1 Std Dev",
         "showlegend": true,
         "type": "scatter",
         "x": [
          1994,
          1995,
          1996,
          1997,
          1998,
          1999,
          2000,
          2001,
          2002,
          2003,
          2004,
          2005,
          2006,
          2007,
          2008,
          2009,
          2010,
          2011,
          2012,
          2013,
          2014,
          2015,
          2016,
          2017,
          2018,
          2019,
          2020,
          2021,
          2022,
          2023,
          2024
         ],
         "xaxis": "x",
         "y": [
          3.1511805525250347,
          5.579662538081134,
          5.195890235521933,
          5.317532998492007,
          5.176167299163588,
          4.634631057345143,
          5.616508945211748,
          2.7715230074224606,
          1.7274324731626405,
          0.992075743026988,
          0.8978953790713271,
          2.383902992091269,
          4.433969028894408,
          4.879609894314435,
          1.0684292156583026,
          0.1267610791930688,
          0.12967274559716682,
          0.05592262460744693,
          0.09825929488207738,
          0.08556957203577269,
          0.07620243480111905,
          0.11694534207030041,
          0.34919966432354965,
          0.7215078257744798,
          1.4732106277330579,
          1.9742805084812107,
          -0.2914397912079236,
          0.07065973406515037,
          -0.09196690403248686,
          4.469266037034645,
          5.33
         ],
         "yaxis": "y"
        },
        {
         "error_y": {
          "array": [
           0.7542629958620618,
           0.21604176299413383,
           0.15986514082215283,
           0.12728420580906732,
           0.22621442126652014,
           0.2561458243752876,
           0.5139722375839504,
           1.4864769925775394,
           0.014204623611553023,
           0.13653716019881854,
           0.35850784673512465,
           0.642669588553892,
           0.45498527218086027,
           0.24837128848126366,
           1.23099282735245,
           0.01783838317252254,
           0.040878329671650365,
           0.04607737539255302,
           0.03576758683835271,
           0.031244944093259536,
           0.009284124338665848,
           0.00639874395120488,
           0.02487560449365463,
           0.2410405613222944,
           0.3279372217293076,
           0.28978131947577884,
           0.7369962428208269,
           0.012154782063881863,
           1.383257226613132,
           0.43323396296535527,
           0
          ],
          "color": "red",
          "thickness": 2,
          "type": "data",
          "width": 4
         },
         "line": {
          "color": "blue"
         },
         "mode": "lines+markers",
         "name": "Mean CPI",
         "type": "scatter",
         "x": [
          1994,
          1995,
          1996,
          1997,
          1998,
          1999,
          2000,
          2001,
          2002,
          2003,
          2004,
          2005,
          2006,
          2007,
          2008,
          2009,
          2010,
          2011,
          2012,
          2013,
          2014,
          2015,
          2016,
          2017,
          2018,
          2019,
          2020,
          2021,
          2022,
          2023,
          2024
         ],
         "xaxis": "x2",
         "y": [
          3.9054435483870966,
          5.7957043010752685,
          5.355755376344086,
          5.444817204301074,
          5.402381720430108,
          4.89077688172043,
          6.130481182795698,
          4.258,
          1.7416370967741934,
          1.1286129032258065,
          1.2564032258064517,
          3.026572580645161,
          4.888954301075269,
          5.127981182795699,
          2.2994220430107526,
          0.14459946236559135,
          0.1705510752688172,
          0.10199999999999995,
          0.1340268817204301,
          0.11681451612903222,
          0.0854865591397849,
          0.12334408602150529,
          0.37407526881720427,
          0.9625483870967741,
          1.8011478494623656,
          2.2640618279569895,
          0.44555645161290325,
          0.08281451612903223,
          1.2912903225806451,
          4.9025,
          5.33
         ],
         "yaxis": "y2"
        }
       ],
       "layout": {
        "annotations": [
         {
          "font": {
           "size": 16
          },
          "showarrow": false,
          "text": "Fed Funds Effective Rate (MonthlyAve) with Std Shaded",
          "x": 0.225,
          "xanchor": "center",
          "xref": "paper",
          "y": 1,
          "yanchor": "bottom",
          "yref": "paper"
         },
         {
          "font": {
           "size": 16
          },
          "showarrow": false,
          "text": "Fed Funds Effective Rate (MonthlyAve) with Std Error Bars",
          "x": 0.775,
          "xanchor": "center",
          "xref": "paper",
          "y": 1,
          "yanchor": "bottom",
          "yref": "paper"
         }
        ],
        "height": 600,
        "legend": {
         "orientation": "h",
         "x": 0.5,
         "xanchor": "center",
         "y": -0.2,
         "yanchor": "top"
        },
        "showlegend": true,
        "template": {
         "data": {
          "bar": [
           {
            "error_x": {
             "color": "#2a3f5f"
            },
            "error_y": {
             "color": "#2a3f5f"
            },
            "marker": {
             "line": {
              "color": "#E5ECF6",
              "width": 0.5
             },
             "pattern": {
              "fillmode": "overlay",
              "size": 10,
              "solidity": 0.2
             }
            },
            "type": "bar"
           }
          ],
          "barpolar": [
           {
            "marker": {
             "line": {
              "color": "#E5ECF6",
              "width": 0.5
             },
             "pattern": {
              "fillmode": "overlay",
              "size": 10,
              "solidity": 0.2
             }
            },
            "type": "barpolar"
           }
          ],
          "carpet": [
           {
            "aaxis": {
             "endlinecolor": "#2a3f5f",
             "gridcolor": "white",
             "linecolor": "white",
             "minorgridcolor": "white",
             "startlinecolor": "#2a3f5f"
            },
            "baxis": {
             "endlinecolor": "#2a3f5f",
             "gridcolor": "white",
             "linecolor": "white",
             "minorgridcolor": "white",
             "startlinecolor": "#2a3f5f"
            },
            "type": "carpet"
           }
          ],
          "choropleth": [
           {
            "colorbar": {
             "outlinewidth": 0,
             "ticks": ""
            },
            "type": "choropleth"
           }
          ],
          "contour": [
           {
            "colorbar": {
             "outlinewidth": 0,
             "ticks": ""
            },
            "colorscale": [
             [
              0,
              "#0d0887"
             ],
             [
              0.1111111111111111,
              "#46039f"
             ],
             [
              0.2222222222222222,
              "#7201a8"
             ],
             [
              0.3333333333333333,
              "#9c179e"
             ],
             [
              0.4444444444444444,
              "#bd3786"
             ],
             [
              0.5555555555555556,
              "#d8576b"
             ],
             [
              0.6666666666666666,
              "#ed7953"
             ],
             [
              0.7777777777777778,
              "#fb9f3a"
             ],
             [
              0.8888888888888888,
              "#fdca26"
             ],
             [
              1,
              "#f0f921"
             ]
            ],
            "type": "contour"
           }
          ],
          "contourcarpet": [
           {
            "colorbar": {
             "outlinewidth": 0,
             "ticks": ""
            },
            "type": "contourcarpet"
           }
          ],
          "heatmap": [
           {
            "colorbar": {
             "outlinewidth": 0,
             "ticks": ""
            },
            "colorscale": [
             [
              0,
              "#0d0887"
             ],
             [
              0.1111111111111111,
              "#46039f"
             ],
             [
              0.2222222222222222,
              "#7201a8"
             ],
             [
              0.3333333333333333,
              "#9c179e"
             ],
             [
              0.4444444444444444,
              "#bd3786"
             ],
             [
              0.5555555555555556,
              "#d8576b"
             ],
             [
              0.6666666666666666,
              "#ed7953"
             ],
             [
              0.7777777777777778,
              "#fb9f3a"
             ],
             [
              0.8888888888888888,
              "#fdca26"
             ],
             [
              1,
              "#f0f921"
             ]
            ],
            "type": "heatmap"
           }
          ],
          "heatmapgl": [
           {
            "colorbar": {
             "outlinewidth": 0,
             "ticks": ""
            },
            "colorscale": [
             [
              0,
              "#0d0887"
             ],
             [
              0.1111111111111111,
              "#46039f"
             ],
             [
              0.2222222222222222,
              "#7201a8"
             ],
             [
              0.3333333333333333,
              "#9c179e"
             ],
             [
              0.4444444444444444,
              "#bd3786"
             ],
             [
              0.5555555555555556,
              "#d8576b"
             ],
             [
              0.6666666666666666,
              "#ed7953"
             ],
             [
              0.7777777777777778,
              "#fb9f3a"
             ],
             [
              0.8888888888888888,
              "#fdca26"
             ],
             [
              1,
              "#f0f921"
             ]
            ],
            "type": "heatmapgl"
           }
          ],
          "histogram": [
           {
            "marker": {
             "pattern": {
              "fillmode": "overlay",
              "size": 10,
              "solidity": 0.2
             }
            },
            "type": "histogram"
           }
          ],
          "histogram2d": [
           {
            "colorbar": {
             "outlinewidth": 0,
             "ticks": ""
            },
            "colorscale": [
             [
              0,
              "#0d0887"
             ],
             [
              0.1111111111111111,
              "#46039f"
             ],
             [
              0.2222222222222222,
              "#7201a8"
             ],
             [
              0.3333333333333333,
              "#9c179e"
             ],
             [
              0.4444444444444444,
              "#bd3786"
             ],
             [
              0.5555555555555556,
              "#d8576b"
             ],
             [
              0.6666666666666666,
              "#ed7953"
             ],
             [
              0.7777777777777778,
              "#fb9f3a"
             ],
             [
              0.8888888888888888,
              "#fdca26"
             ],
             [
              1,
              "#f0f921"
             ]
            ],
            "type": "histogram2d"
           }
          ],
          "histogram2dcontour": [
           {
            "colorbar": {
             "outlinewidth": 0,
             "ticks": ""
            },
            "colorscale": [
             [
              0,
              "#0d0887"
             ],
             [
              0.1111111111111111,
              "#46039f"
             ],
             [
              0.2222222222222222,
              "#7201a8"
             ],
             [
              0.3333333333333333,
              "#9c179e"
             ],
             [
              0.4444444444444444,
              "#bd3786"
             ],
             [
              0.5555555555555556,
              "#d8576b"
             ],
             [
              0.6666666666666666,
              "#ed7953"
             ],
             [
              0.7777777777777778,
              "#fb9f3a"
             ],
             [
              0.8888888888888888,
              "#fdca26"
             ],
             [
              1,
              "#f0f921"
             ]
            ],
            "type": "histogram2dcontour"
           }
          ],
          "mesh3d": [
           {
            "colorbar": {
             "outlinewidth": 0,
             "ticks": ""
            },
            "type": "mesh3d"
           }
          ],
          "parcoords": [
           {
            "line": {
             "colorbar": {
              "outlinewidth": 0,
              "ticks": ""
             }
            },
            "type": "parcoords"
           }
          ],
          "pie": [
           {
            "automargin": true,
            "type": "pie"
           }
          ],
          "scatter": [
           {
            "fillpattern": {
             "fillmode": "overlay",
             "size": 10,
             "solidity": 0.2
            },
            "type": "scatter"
           }
          ],
          "scatter3d": [
           {
            "line": {
             "colorbar": {
              "outlinewidth": 0,
              "ticks": ""
             }
            },
            "marker": {
             "colorbar": {
              "outlinewidth": 0,
              "ticks": ""
             }
            },
            "type": "scatter3d"
           }
          ],
          "scattercarpet": [
           {
            "marker": {
             "colorbar": {
              "outlinewidth": 0,
              "ticks": ""
             }
            },
            "type": "scattercarpet"
           }
          ],
          "scattergeo": [
           {
            "marker": {
             "colorbar": {
              "outlinewidth": 0,
              "ticks": ""
             }
            },
            "type": "scattergeo"
           }
          ],
          "scattergl": [
           {
            "marker": {
             "colorbar": {
              "outlinewidth": 0,
              "ticks": ""
             }
            },
            "type": "scattergl"
           }
          ],
          "scattermapbox": [
           {
            "marker": {
             "colorbar": {
              "outlinewidth": 0,
              "ticks": ""
             }
            },
            "type": "scattermapbox"
           }
          ],
          "scatterpolar": [
           {
            "marker": {
             "colorbar": {
              "outlinewidth": 0,
              "ticks": ""
             }
            },
            "type": "scatterpolar"
           }
          ],
          "scatterpolargl": [
           {
            "marker": {
             "colorbar": {
              "outlinewidth": 0,
              "ticks": ""
             }
            },
            "type": "scatterpolargl"
           }
          ],
          "scatterternary": [
           {
            "marker": {
             "colorbar": {
              "outlinewidth": 0,
              "ticks": ""
             }
            },
            "type": "scatterternary"
           }
          ],
          "surface": [
           {
            "colorbar": {
             "outlinewidth": 0,
             "ticks": ""
            },
            "colorscale": [
             [
              0,
              "#0d0887"
             ],
             [
              0.1111111111111111,
              "#46039f"
             ],
             [
              0.2222222222222222,
              "#7201a8"
             ],
             [
              0.3333333333333333,
              "#9c179e"
             ],
             [
              0.4444444444444444,
              "#bd3786"
             ],
             [
              0.5555555555555556,
              "#d8576b"
             ],
             [
              0.6666666666666666,
              "#ed7953"
             ],
             [
              0.7777777777777778,
              "#fb9f3a"
             ],
             [
              0.8888888888888888,
              "#fdca26"
             ],
             [
              1,
              "#f0f921"
             ]
            ],
            "type": "surface"
           }
          ],
          "table": [
           {
            "cells": {
             "fill": {
              "color": "#EBF0F8"
             },
             "line": {
              "color": "white"
             }
            },
            "header": {
             "fill": {
              "color": "#C8D4E3"
             },
             "line": {
              "color": "white"
             }
            },
            "type": "table"
           }
          ]
         },
         "layout": {
          "annotationdefaults": {
           "arrowcolor": "#2a3f5f",
           "arrowhead": 0,
           "arrowwidth": 1
          },
          "autotypenumbers": "strict",
          "coloraxis": {
           "colorbar": {
            "outlinewidth": 0,
            "ticks": ""
           }
          },
          "colorscale": {
           "diverging": [
            [
             0,
             "#8e0152"
            ],
            [
             0.1,
             "#c51b7d"
            ],
            [
             0.2,
             "#de77ae"
            ],
            [
             0.3,
             "#f1b6da"
            ],
            [
             0.4,
             "#fde0ef"
            ],
            [
             0.5,
             "#f7f7f7"
            ],
            [
             0.6,
             "#e6f5d0"
            ],
            [
             0.7,
             "#b8e186"
            ],
            [
             0.8,
             "#7fbc41"
            ],
            [
             0.9,
             "#4d9221"
            ],
            [
             1,
             "#276419"
            ]
           ],
           "sequential": [
            [
             0,
             "#0d0887"
            ],
            [
             0.1111111111111111,
             "#46039f"
            ],
            [
             0.2222222222222222,
             "#7201a8"
            ],
            [
             0.3333333333333333,
             "#9c179e"
            ],
            [
             0.4444444444444444,
             "#bd3786"
            ],
            [
             0.5555555555555556,
             "#d8576b"
            ],
            [
             0.6666666666666666,
             "#ed7953"
            ],
            [
             0.7777777777777778,
             "#fb9f3a"
            ],
            [
             0.8888888888888888,
             "#fdca26"
            ],
            [
             1,
             "#f0f921"
            ]
           ],
           "sequentialminus": [
            [
             0,
             "#0d0887"
            ],
            [
             0.1111111111111111,
             "#46039f"
            ],
            [
             0.2222222222222222,
             "#7201a8"
            ],
            [
             0.3333333333333333,
             "#9c179e"
            ],
            [
             0.4444444444444444,
             "#bd3786"
            ],
            [
             0.5555555555555556,
             "#d8576b"
            ],
            [
             0.6666666666666666,
             "#ed7953"
            ],
            [
             0.7777777777777778,
             "#fb9f3a"
            ],
            [
             0.8888888888888888,
             "#fdca26"
            ],
            [
             1,
             "#f0f921"
            ]
           ]
          },
          "colorway": [
           "#636efa",
           "#EF553B",
           "#00cc96",
           "#ab63fa",
           "#FFA15A",
           "#19d3f3",
           "#FF6692",
           "#B6E880",
           "#FF97FF",
           "#FECB52"
          ],
          "font": {
           "color": "#2a3f5f"
          },
          "geo": {
           "bgcolor": "white",
           "lakecolor": "white",
           "landcolor": "#E5ECF6",
           "showlakes": true,
           "showland": true,
           "subunitcolor": "white"
          },
          "hoverlabel": {
           "align": "left"
          },
          "hovermode": "closest",
          "mapbox": {
           "style": "light"
          },
          "paper_bgcolor": "white",
          "plot_bgcolor": "#E5ECF6",
          "polar": {
           "angularaxis": {
            "gridcolor": "white",
            "linecolor": "white",
            "ticks": ""
           },
           "bgcolor": "#E5ECF6",
           "radialaxis": {
            "gridcolor": "white",
            "linecolor": "white",
            "ticks": ""
           }
          },
          "scene": {
           "xaxis": {
            "backgroundcolor": "#E5ECF6",
            "gridcolor": "white",
            "gridwidth": 2,
            "linecolor": "white",
            "showbackground": true,
            "ticks": "",
            "zerolinecolor": "white"
           },
           "yaxis": {
            "backgroundcolor": "#E5ECF6",
            "gridcolor": "white",
            "gridwidth": 2,
            "linecolor": "white",
            "showbackground": true,
            "ticks": "",
            "zerolinecolor": "white"
           },
           "zaxis": {
            "backgroundcolor": "#E5ECF6",
            "gridcolor": "white",
            "gridwidth": 2,
            "linecolor": "white",
            "showbackground": true,
            "ticks": "",
            "zerolinecolor": "white"
           }
          },
          "shapedefaults": {
           "line": {
            "color": "#2a3f5f"
           }
          },
          "ternary": {
           "aaxis": {
            "gridcolor": "white",
            "linecolor": "white",
            "ticks": ""
           },
           "baxis": {
            "gridcolor": "white",
            "linecolor": "white",
            "ticks": ""
           },
           "bgcolor": "#E5ECF6",
           "caxis": {
            "gridcolor": "white",
            "linecolor": "white",
            "ticks": ""
           }
          },
          "title": {
           "x": 0.05
          },
          "xaxis": {
           "automargin": true,
           "gridcolor": "white",
           "linecolor": "white",
           "ticks": "",
           "title": {
            "standoff": 15
           },
           "zerolinecolor": "white",
           "zerolinewidth": 2
          },
          "yaxis": {
           "automargin": true,
           "gridcolor": "white",
           "linecolor": "white",
           "ticks": "",
           "title": {
            "standoff": 15
           },
           "zerolinecolor": "white",
           "zerolinewidth": 2
          }
         }
        },
        "title": {
         "text": "Fed Funds Effective Rate (MonthlyAve) Over Time"
        },
        "width": 1600,
        "xaxis": {
         "anchor": "y",
         "domain": [
          0,
          0.45
         ]
        },
        "xaxis2": {
         "anchor": "y2",
         "domain": [
          0.55,
          1
         ]
        },
        "yaxis": {
         "anchor": "x",
         "domain": [
          0,
          1
         ]
        },
        "yaxis2": {
         "anchor": "x2",
         "domain": [
          0,
          1
         ]
        }
       }
      }
     },
     "metadata": {},
     "output_type": "display_data"
    }
   ],
   "source": [
    "years = annual_statistics.index\n",
    "mean_values = annual_statistics['FedFundsEffectiveRate_MonthlyAve']['mean']\n",
    "std_values = annual_statistics['FedFundsEffectiveRate_MonthlyAve']['std']\n",
    "\n",
    "# 1 row and 2 columns\n",
    "fig = make_subplots(rows=1, cols=2, subplot_titles=('Fed Funds Effective Rate (MonthlyAve) with Std Shaded', 'Fed Funds Effective Rate (MonthlyAve) with Std Error Bars'))\n",
    "\n",
    "# Line chart with shaded standard deviation\n",
    "fig.add_trace(\n",
    "    go.Scatter(\n",
    "        x=years,\n",
    "        y=mean_values,\n",
    "        mode='lines',\n",
    "        name='Mean CPI',\n",
    "        line=dict(color='darkblue'),\n",
    "    ),\n",
    "    row=1, col=1\n",
    ")\n",
    "fig.add_trace(\n",
    "    go.Scatter(\n",
    "        x=years,\n",
    "        y=mean_values + std_values,\n",
    "        mode='lines',\n",
    "        fill=None,\n",
    "        line=dict(color='rgba(0,0,255,0.2)', width=0),\n",
    "        showlegend=False\n",
    "    ),\n",
    "    row=1, col=1\n",
    ")\n",
    "fig.add_trace(\n",
    "    go.Scatter(\n",
    "        x=years,\n",
    "        y=mean_values - std_values,\n",
    "        mode='lines',\n",
    "        fill='tonexty',\n",
    "        line=dict(color='rgba(0,0,255,0.2)', width=0),\n",
    "        name='±1 Std Dev',\n",
    "        showlegend=True\n",
    "    ),\n",
    "    row=1, col=1\n",
    ")\n",
    "\n",
    "# Line chart with error bars\n",
    "fig.add_trace(\n",
    "    go.Scatter(\n",
    "        x=years,\n",
    "        y=mean_values,\n",
    "        mode='lines+markers',\n",
    "        name='Mean CPI',\n",
    "        line=dict(color='blue'),\n",
    "        error_y=dict(\n",
    "            type='data',\n",
    "            array=std_values,\n",
    "            color='red',\n",
    "            thickness=2,\n",
    "            width=4\n",
    "        )\n",
    "    ),\n",
    "    row=1, col=2\n",
    ")\n",
    "\n",
    "# Legend to the bottom\n",
    "fig.update_layout(\n",
    "    height=600, \n",
    "    width=1600, \n",
    "    title_text='Fed Funds Effective Rate (MonthlyAve) Over Time',\n",
    "    showlegend=True,\n",
    "    legend=dict(\n",
    "        orientation=\"h\",   # Horizontal orientation\n",
    "        x=0.5,             # Center the legend horizontally\n",
    "        y=-0.2,            # Move the legend below the charts\n",
    "        xanchor='center',   # Align the legend horizontally with the center\n",
    "        yanchor='top'       # Align the legend above the bottom edge\n",
    "    )\n",
    ")\n",
    "\n",
    "fig.show()\n"
   ]
  },
  {
   "cell_type": "code",
   "execution_count": 154,
   "metadata": {},
   "outputs": [
    {
     "data": {
      "text/html": [
       "<div>\n",
       "<style scoped>\n",
       "    .dataframe tbody tr th:only-of-type {\n",
       "        vertical-align: middle;\n",
       "    }\n",
       "\n",
       "    .dataframe tbody tr th {\n",
       "        vertical-align: top;\n",
       "    }\n",
       "\n",
       "    .dataframe thead th {\n",
       "        text-align: right;\n",
       "    }\n",
       "</style>\n",
       "<table border=\"1\" class=\"dataframe\">\n",
       "  <thead>\n",
       "    <tr style=\"text-align: right;\">\n",
       "      <th></th>\n",
       "      <th>ConsumerPriceIndex</th>\n",
       "      <th>RentPrimaryResidence</th>\n",
       "      <th>OwnerEquivalentRent</th>\n",
       "      <th>DelinquencyCreditCLoans</th>\n",
       "      <th>FedFundsEffectiveRate_MonthlyAve</th>\n",
       "      <th>MULTJobHolders_Pri_FT_Sec_PT</th>\n",
       "      <th>MULTJobHolders_Pri_Sec_BothFT</th>\n",
       "      <th>MULTJobHolders_Pri_Sec_BothPT</th>\n",
       "      <th>MULTJobHolders_Perc_ofEmployed_M</th>\n",
       "      <th>MULTJobHoldersPerc_ofEmployed_W</th>\n",
       "      <th>...</th>\n",
       "      <th>OwnerEquivalentRent_PctChange</th>\n",
       "      <th>DelinquencyCreditCLoans_PctChange</th>\n",
       "      <th>FedFundsEffectiveRate_MonthlyAve_PctChange</th>\n",
       "      <th>MULTJobHolders_Pri_FT_Sec_PT_PctChange</th>\n",
       "      <th>MULTJobHolders_Pri_Sec_BothFT_PctChange</th>\n",
       "      <th>MULTJobHolders_Pri_Sec_BothPT_PctChange</th>\n",
       "      <th>MULTJobHolders_Perc_ofEmployed_M_PctChange</th>\n",
       "      <th>MULTJobHoldersPerc_ofEmployed_W_PctChange</th>\n",
       "      <th>MULTJobHoldersPerc_ofEmployed_PctChange</th>\n",
       "      <th>Year_PctChange</th>\n",
       "    </tr>\n",
       "    <tr>\n",
       "      <th>DATE</th>\n",
       "      <th></th>\n",
       "      <th></th>\n",
       "      <th></th>\n",
       "      <th></th>\n",
       "      <th></th>\n",
       "      <th></th>\n",
       "      <th></th>\n",
       "      <th></th>\n",
       "      <th></th>\n",
       "      <th></th>\n",
       "      <th></th>\n",
       "      <th></th>\n",
       "      <th></th>\n",
       "      <th></th>\n",
       "      <th></th>\n",
       "      <th></th>\n",
       "      <th></th>\n",
       "      <th></th>\n",
       "      <th></th>\n",
       "      <th></th>\n",
       "      <th></th>\n",
       "    </tr>\n",
       "  </thead>\n",
       "  <tbody>\n",
       "    <tr>\n",
       "      <th>1994-01-01</th>\n",
       "      <td>146.3</td>\n",
       "      <td>152.2</td>\n",
       "      <td>163.1</td>\n",
       "      <td>3.60</td>\n",
       "      <td>3.050645</td>\n",
       "      <td>3906</td>\n",
       "      <td>245</td>\n",
       "      <td>1403</td>\n",
       "      <td>5.6</td>\n",
       "      <td>5.6</td>\n",
       "      <td>...</td>\n",
       "      <td>NaN</td>\n",
       "      <td>NaN</td>\n",
       "      <td>NaN</td>\n",
       "      <td>NaN</td>\n",
       "      <td>NaN</td>\n",
       "      <td>NaN</td>\n",
       "      <td>NaN</td>\n",
       "      <td>NaN</td>\n",
       "      <td>NaN</td>\n",
       "      <td>NaN</td>\n",
       "    </tr>\n",
       "    <tr>\n",
       "      <th>1994-04-01</th>\n",
       "      <td>147.2</td>\n",
       "      <td>153.3</td>\n",
       "      <td>164.7</td>\n",
       "      <td>3.29</td>\n",
       "      <td>3.555000</td>\n",
       "      <td>4269</td>\n",
       "      <td>250</td>\n",
       "      <td>1580</td>\n",
       "      <td>5.9</td>\n",
       "      <td>6.2</td>\n",
       "      <td>...</td>\n",
       "      <td>0.980993</td>\n",
       "      <td>-8.611111</td>\n",
       "      <td>16.532727</td>\n",
       "      <td>9.293395</td>\n",
       "      <td>2.040816</td>\n",
       "      <td>12.615823</td>\n",
       "      <td>5.357143</td>\n",
       "      <td>10.714286</td>\n",
       "      <td>3.448276</td>\n",
       "      <td>0.00000</td>\n",
       "    </tr>\n",
       "    <tr>\n",
       "      <th>1994-07-01</th>\n",
       "      <td>148.4</td>\n",
       "      <td>154.0</td>\n",
       "      <td>165.6</td>\n",
       "      <td>3.25</td>\n",
       "      <td>4.256129</td>\n",
       "      <td>4023</td>\n",
       "      <td>284</td>\n",
       "      <td>1529</td>\n",
       "      <td>5.7</td>\n",
       "      <td>5.8</td>\n",
       "      <td>...</td>\n",
       "      <td>0.546448</td>\n",
       "      <td>-1.215805</td>\n",
       "      <td>19.722336</td>\n",
       "      <td>-5.762474</td>\n",
       "      <td>13.600000</td>\n",
       "      <td>-3.227848</td>\n",
       "      <td>-3.389831</td>\n",
       "      <td>-6.451613</td>\n",
       "      <td>-1.666667</td>\n",
       "      <td>0.00000</td>\n",
       "    </tr>\n",
       "    <tr>\n",
       "      <th>1994-10-01</th>\n",
       "      <td>149.4</td>\n",
       "      <td>155.1</td>\n",
       "      <td>167.6</td>\n",
       "      <td>3.29</td>\n",
       "      <td>4.760000</td>\n",
       "      <td>4388</td>\n",
       "      <td>209</td>\n",
       "      <td>1776</td>\n",
       "      <td>6.2</td>\n",
       "      <td>6.1</td>\n",
       "      <td>...</td>\n",
       "      <td>1.207729</td>\n",
       "      <td>1.230769</td>\n",
       "      <td>11.838715</td>\n",
       "      <td>9.072831</td>\n",
       "      <td>-26.408451</td>\n",
       "      <td>16.154349</td>\n",
       "      <td>8.771930</td>\n",
       "      <td>5.172414</td>\n",
       "      <td>0.000000</td>\n",
       "      <td>0.00000</td>\n",
       "    </tr>\n",
       "    <tr>\n",
       "      <th>1995-01-01</th>\n",
       "      <td>150.5</td>\n",
       "      <td>156.1</td>\n",
       "      <td>168.6</td>\n",
       "      <td>3.48</td>\n",
       "      <td>5.527419</td>\n",
       "      <td>4288</td>\n",
       "      <td>233</td>\n",
       "      <td>1533</td>\n",
       "      <td>5.8</td>\n",
       "      <td>5.8</td>\n",
       "      <td>...</td>\n",
       "      <td>0.596659</td>\n",
       "      <td>5.775076</td>\n",
       "      <td>16.122255</td>\n",
       "      <td>-2.278943</td>\n",
       "      <td>11.483254</td>\n",
       "      <td>-13.682432</td>\n",
       "      <td>-6.451613</td>\n",
       "      <td>-4.918033</td>\n",
       "      <td>1.694915</td>\n",
       "      <td>0.05015</td>\n",
       "    </tr>\n",
       "  </tbody>\n",
       "</table>\n",
       "<p>5 rows × 24 columns</p>\n",
       "</div>"
      ],
      "text/plain": [
       "            ConsumerPriceIndex  RentPrimaryResidence  OwnerEquivalentRent  \\\n",
       "DATE                                                                        \n",
       "1994-01-01               146.3                 152.2                163.1   \n",
       "1994-04-01               147.2                 153.3                164.7   \n",
       "1994-07-01               148.4                 154.0                165.6   \n",
       "1994-10-01               149.4                 155.1                167.6   \n",
       "1995-01-01               150.5                 156.1                168.6   \n",
       "\n",
       "            DelinquencyCreditCLoans  FedFundsEffectiveRate_MonthlyAve  \\\n",
       "DATE                                                                    \n",
       "1994-01-01                     3.60                          3.050645   \n",
       "1994-04-01                     3.29                          3.555000   \n",
       "1994-07-01                     3.25                          4.256129   \n",
       "1994-10-01                     3.29                          4.760000   \n",
       "1995-01-01                     3.48                          5.527419   \n",
       "\n",
       "            MULTJobHolders_Pri_FT_Sec_PT  MULTJobHolders_Pri_Sec_BothFT  \\\n",
       "DATE                                                                      \n",
       "1994-01-01                          3906                            245   \n",
       "1994-04-01                          4269                            250   \n",
       "1994-07-01                          4023                            284   \n",
       "1994-10-01                          4388                            209   \n",
       "1995-01-01                          4288                            233   \n",
       "\n",
       "            MULTJobHolders_Pri_Sec_BothPT  MULTJobHolders_Perc_ofEmployed_M  \\\n",
       "DATE                                                                          \n",
       "1994-01-01                           1403                               5.6   \n",
       "1994-04-01                           1580                               5.9   \n",
       "1994-07-01                           1529                               5.7   \n",
       "1994-10-01                           1776                               6.2   \n",
       "1995-01-01                           1533                               5.8   \n",
       "\n",
       "            MULTJobHoldersPerc_ofEmployed_W  ...  \\\n",
       "DATE                                         ...   \n",
       "1994-01-01                              5.6  ...   \n",
       "1994-04-01                              6.2  ...   \n",
       "1994-07-01                              5.8  ...   \n",
       "1994-10-01                              6.1  ...   \n",
       "1995-01-01                              5.8  ...   \n",
       "\n",
       "            OwnerEquivalentRent_PctChange  DelinquencyCreditCLoans_PctChange  \\\n",
       "DATE                                                                           \n",
       "1994-01-01                            NaN                                NaN   \n",
       "1994-04-01                       0.980993                          -8.611111   \n",
       "1994-07-01                       0.546448                          -1.215805   \n",
       "1994-10-01                       1.207729                           1.230769   \n",
       "1995-01-01                       0.596659                           5.775076   \n",
       "\n",
       "            FedFundsEffectiveRate_MonthlyAve_PctChange  \\\n",
       "DATE                                                     \n",
       "1994-01-01                                         NaN   \n",
       "1994-04-01                                   16.532727   \n",
       "1994-07-01                                   19.722336   \n",
       "1994-10-01                                   11.838715   \n",
       "1995-01-01                                   16.122255   \n",
       "\n",
       "            MULTJobHolders_Pri_FT_Sec_PT_PctChange  \\\n",
       "DATE                                                 \n",
       "1994-01-01                                     NaN   \n",
       "1994-04-01                                9.293395   \n",
       "1994-07-01                               -5.762474   \n",
       "1994-10-01                                9.072831   \n",
       "1995-01-01                               -2.278943   \n",
       "\n",
       "            MULTJobHolders_Pri_Sec_BothFT_PctChange  \\\n",
       "DATE                                                  \n",
       "1994-01-01                                      NaN   \n",
       "1994-04-01                                 2.040816   \n",
       "1994-07-01                                13.600000   \n",
       "1994-10-01                               -26.408451   \n",
       "1995-01-01                                11.483254   \n",
       "\n",
       "            MULTJobHolders_Pri_Sec_BothPT_PctChange  \\\n",
       "DATE                                                  \n",
       "1994-01-01                                      NaN   \n",
       "1994-04-01                                12.615823   \n",
       "1994-07-01                                -3.227848   \n",
       "1994-10-01                                16.154349   \n",
       "1995-01-01                               -13.682432   \n",
       "\n",
       "            MULTJobHolders_Perc_ofEmployed_M_PctChange  \\\n",
       "DATE                                                     \n",
       "1994-01-01                                         NaN   \n",
       "1994-04-01                                    5.357143   \n",
       "1994-07-01                                   -3.389831   \n",
       "1994-10-01                                    8.771930   \n",
       "1995-01-01                                   -6.451613   \n",
       "\n",
       "            MULTJobHoldersPerc_ofEmployed_W_PctChange  \\\n",
       "DATE                                                    \n",
       "1994-01-01                                        NaN   \n",
       "1994-04-01                                  10.714286   \n",
       "1994-07-01                                  -6.451613   \n",
       "1994-10-01                                   5.172414   \n",
       "1995-01-01                                  -4.918033   \n",
       "\n",
       "            MULTJobHoldersPerc_ofEmployed_PctChange  Year_PctChange  \n",
       "DATE                                                                 \n",
       "1994-01-01                                      NaN             NaN  \n",
       "1994-04-01                                 3.448276         0.00000  \n",
       "1994-07-01                                -1.666667         0.00000  \n",
       "1994-10-01                                 0.000000         0.00000  \n",
       "1995-01-01                                 1.694915         0.05015  \n",
       "\n",
       "[5 rows x 24 columns]"
      ]
     },
     "execution_count": 154,
     "metadata": {},
     "output_type": "execute_result"
    }
   ],
   "source": [
    "# Assuming 'DATE' is already set as the index\n",
    "# Calculate the percentage difference for each column\n",
    "\n",
    "combined_df = combined_df.set_index('DATE')\n",
    "percentage_diff_df = combined_df.pct_change() * 100\n",
    "\n",
    "# Add '_PctChange' to each column name\n",
    "percentage_diff_df.columns = [f'{col}_PctChange' for col in combined_df.columns]\n",
    "\n",
    "# Concatenate the original dataframe with the new percentage difference columns\n",
    "combined_df_with_pct_change = pd.concat([combined_df, percentage_diff_df], axis=1)\n",
    "combined_df_with_pct_change.head()\n"
   ]
  },
  {
   "cell_type": "code",
   "execution_count": 155,
   "metadata": {},
   "outputs": [
    {
     "data": {
      "text/plain": [
       "Index(['ConsumerPriceIndex', 'RentPrimaryResidence', 'OwnerEquivalentRent',\n",
       "       'DelinquencyCreditCLoans', 'FedFundsEffectiveRate_MonthlyAve',\n",
       "       'MULTJobHolders_Pri_FT_Sec_PT', 'MULTJobHolders_Pri_Sec_BothFT',\n",
       "       'MULTJobHolders_Pri_Sec_BothPT', 'MULTJobHolders_Perc_ofEmployed_M',\n",
       "       'MULTJobHoldersPerc_ofEmployed_W', 'MULTJobHoldersPerc_ofEmployed',\n",
       "       'Year', 'ConsumerPriceIndex_PctChange',\n",
       "       'RentPrimaryResidence_PctChange', 'OwnerEquivalentRent_PctChange',\n",
       "       'DelinquencyCreditCLoans_PctChange',\n",
       "       'FedFundsEffectiveRate_MonthlyAve_PctChange',\n",
       "       'MULTJobHolders_Pri_FT_Sec_PT_PctChange',\n",
       "       'MULTJobHolders_Pri_Sec_BothFT_PctChange',\n",
       "       'MULTJobHolders_Pri_Sec_BothPT_PctChange',\n",
       "       'MULTJobHolders_Perc_ofEmployed_M_PctChange',\n",
       "       'MULTJobHoldersPerc_ofEmployed_W_PctChange',\n",
       "       'MULTJobHoldersPerc_ofEmployed_PctChange', 'Year_PctChange'],\n",
       "      dtype='object')"
      ]
     },
     "execution_count": 155,
     "metadata": {},
     "output_type": "execute_result"
    }
   ],
   "source": [
    "# Listing the columns here so I can use the names to make the figures\n",
    "combined_df_with_pct_change.columns"
   ]
  },
  {
   "cell_type": "code",
   "execution_count": 156,
   "metadata": {},
   "outputs": [],
   "source": [
    "# List of U.S. recession periods which will be used throughout figures in the anlyses below\n",
    "recession_periods = [\n",
    "    {'start': '2001-03-01', 'end': '2001-11-30'},\n",
    "    {'start': '2007-12-01', 'end': '2009-06-30'},\n",
    "    {'start': '2020-02-01', 'end': '2020-04-30'}\n",
    "]"
   ]
  },
  {
   "cell_type": "code",
   "execution_count": 157,
   "metadata": {},
   "outputs": [],
   "source": [
    "mean_men = combined_df_with_pct_change.groupby('Year')['MULTJobHolders_Perc_ofEmployed_M'].mean()\n",
    "mean_women = combined_df_with_pct_change.groupby('Year')['MULTJobHoldersPerc_ofEmployed_W'].mean()\n",
    "mean_total = combined_df_with_pct_change.groupby('Year')['MULTJobHoldersPerc_ofEmployed'].mean()"
   ]
  },
  {
   "cell_type": "code",
   "execution_count": 158,
   "metadata": {},
   "outputs": [
    {
     "data": {
      "application/vnd.plotly.v1+json": {
       "config": {
        "plotlyServerURL": "https://plot.ly"
       },
       "data": [
        {
         "marker": {
          "color": "grey",
          "opacity": 0.5,
          "size": 10
         },
         "mode": "markers",
         "name": "Recession Periods",
         "showlegend": true,
         "type": "scatter",
         "x": [
          null
         ],
         "y": [
          null
         ]
        },
        {
         "line": {
          "color": "blue"
         },
         "mode": "lines+markers",
         "name": "Men",
         "type": "scatter",
         "x": [
          1994,
          1995,
          1996,
          1997,
          1998,
          1999,
          2000,
          2001,
          2002,
          2003,
          2004,
          2005,
          2006,
          2007,
          2008,
          2009,
          2010,
          2011,
          2012,
          2013,
          2014,
          2015,
          2016,
          2017,
          2018,
          2019,
          2020,
          2021,
          2022,
          2023,
          2024
         ],
         "y": [
          5.85,
          6.15,
          6.025,
          6.075,
          5.875,
          5.800000000000001,
          5.525,
          5.199999999999999,
          5.175,
          5.1,
          5.15,
          5.075,
          4.95,
          4.95,
          4.975,
          4.875,
          4.45,
          4.5,
          4.55,
          4.525,
          4.475,
          4.5,
          4.525,
          4.55,
          4.675,
          4.7,
          4.25,
          4.15,
          4.425,
          4.575,
          4.7
         ]
        },
        {
         "line": {
          "color": "red"
         },
         "mode": "lines+markers",
         "name": "Women",
         "type": "scatter",
         "x": [
          1994,
          1995,
          1996,
          1997,
          1998,
          1999,
          2000,
          2001,
          2002,
          2003,
          2004,
          2005,
          2006,
          2007,
          2008,
          2009,
          2010,
          2011,
          2012,
          2013,
          2014,
          2015,
          2016,
          2017,
          2018,
          2019,
          2020,
          2021,
          2022,
          2023,
          2024
         ],
         "y": [
          5.925,
          6.075,
          6.075,
          6.175,
          6.175,
          5.9,
          5.675,
          5.475,
          5.475,
          5.55,
          5.625,
          5.575,
          5.525,
          5.675,
          5.55,
          5.675,
          5.4,
          5.3,
          5.15,
          5.15,
          5.25,
          5.275,
          5.4,
          5.2,
          5.425,
          5.55,
          4.95,
          4.975,
          5.15,
          5.5,
          5.6
         ]
        },
        {
         "line": {
          "color": "darkgrey"
         },
         "mode": "lines+markers",
         "name": "Total",
         "type": "scatter",
         "x": [
          1994,
          1995,
          1996,
          1997,
          1998,
          1999,
          2000,
          2001,
          2002,
          2003,
          2004,
          2005,
          2006,
          2007,
          2008,
          2009,
          2010,
          2011,
          2012,
          2013,
          2014,
          2015,
          2016,
          2017,
          2018,
          2019,
          2020,
          2021,
          2022,
          2023,
          2024
         ],
         "y": [
          5.9,
          6.15,
          6.1,
          6.125,
          6.0249999999999995,
          5.85,
          5.625,
          5.35,
          5.325,
          5.3,
          5.4,
          5.3,
          5.2,
          5.275,
          5.25,
          5.275,
          4.9,
          4.9,
          4.9,
          4.85,
          4.9,
          4.9,
          4.95,
          4.875,
          5.05,
          5.125,
          4.575,
          4.525,
          4.75,
          5.025,
          5.15
         ]
        }
       ],
       "layout": {
        "height": 600,
        "legend": {
         "orientation": "h",
         "x": 0.5,
         "xanchor": "center",
         "y": -0.2,
         "yanchor": "top"
        },
        "shapes": [
         {
          "fillcolor": "grey",
          "layer": "below",
          "line": {
           "width": 0
          },
          "opacity": 0.5,
          "type": "rect",
          "x0": "2001-03-01",
          "x1": "2001-11-30",
          "xref": "x",
          "y0": 0,
          "y1": 1,
          "yref": "paper"
         },
         {
          "fillcolor": "grey",
          "layer": "below",
          "line": {
           "width": 0
          },
          "opacity": 0.5,
          "type": "rect",
          "x0": "2007-12-01",
          "x1": "2009-06-30",
          "xref": "x",
          "y0": 0,
          "y1": 1,
          "yref": "paper"
         },
         {
          "fillcolor": "grey",
          "layer": "below",
          "line": {
           "width": 0
          },
          "opacity": 0.5,
          "type": "rect",
          "x0": "2020-02-01",
          "x1": "2020-04-30",
          "xref": "x",
          "y0": 0,
          "y1": 1,
          "yref": "paper"
         }
        ],
        "showlegend": true,
        "template": {
         "data": {
          "bar": [
           {
            "error_x": {
             "color": "#2a3f5f"
            },
            "error_y": {
             "color": "#2a3f5f"
            },
            "marker": {
             "line": {
              "color": "#E5ECF6",
              "width": 0.5
             },
             "pattern": {
              "fillmode": "overlay",
              "size": 10,
              "solidity": 0.2
             }
            },
            "type": "bar"
           }
          ],
          "barpolar": [
           {
            "marker": {
             "line": {
              "color": "#E5ECF6",
              "width": 0.5
             },
             "pattern": {
              "fillmode": "overlay",
              "size": 10,
              "solidity": 0.2
             }
            },
            "type": "barpolar"
           }
          ],
          "carpet": [
           {
            "aaxis": {
             "endlinecolor": "#2a3f5f",
             "gridcolor": "white",
             "linecolor": "white",
             "minorgridcolor": "white",
             "startlinecolor": "#2a3f5f"
            },
            "baxis": {
             "endlinecolor": "#2a3f5f",
             "gridcolor": "white",
             "linecolor": "white",
             "minorgridcolor": "white",
             "startlinecolor": "#2a3f5f"
            },
            "type": "carpet"
           }
          ],
          "choropleth": [
           {
            "colorbar": {
             "outlinewidth": 0,
             "ticks": ""
            },
            "type": "choropleth"
           }
          ],
          "contour": [
           {
            "colorbar": {
             "outlinewidth": 0,
             "ticks": ""
            },
            "colorscale": [
             [
              0,
              "#0d0887"
             ],
             [
              0.1111111111111111,
              "#46039f"
             ],
             [
              0.2222222222222222,
              "#7201a8"
             ],
             [
              0.3333333333333333,
              "#9c179e"
             ],
             [
              0.4444444444444444,
              "#bd3786"
             ],
             [
              0.5555555555555556,
              "#d8576b"
             ],
             [
              0.6666666666666666,
              "#ed7953"
             ],
             [
              0.7777777777777778,
              "#fb9f3a"
             ],
             [
              0.8888888888888888,
              "#fdca26"
             ],
             [
              1,
              "#f0f921"
             ]
            ],
            "type": "contour"
           }
          ],
          "contourcarpet": [
           {
            "colorbar": {
             "outlinewidth": 0,
             "ticks": ""
            },
            "type": "contourcarpet"
           }
          ],
          "heatmap": [
           {
            "colorbar": {
             "outlinewidth": 0,
             "ticks": ""
            },
            "colorscale": [
             [
              0,
              "#0d0887"
             ],
             [
              0.1111111111111111,
              "#46039f"
             ],
             [
              0.2222222222222222,
              "#7201a8"
             ],
             [
              0.3333333333333333,
              "#9c179e"
             ],
             [
              0.4444444444444444,
              "#bd3786"
             ],
             [
              0.5555555555555556,
              "#d8576b"
             ],
             [
              0.6666666666666666,
              "#ed7953"
             ],
             [
              0.7777777777777778,
              "#fb9f3a"
             ],
             [
              0.8888888888888888,
              "#fdca26"
             ],
             [
              1,
              "#f0f921"
             ]
            ],
            "type": "heatmap"
           }
          ],
          "heatmapgl": [
           {
            "colorbar": {
             "outlinewidth": 0,
             "ticks": ""
            },
            "colorscale": [
             [
              0,
              "#0d0887"
             ],
             [
              0.1111111111111111,
              "#46039f"
             ],
             [
              0.2222222222222222,
              "#7201a8"
             ],
             [
              0.3333333333333333,
              "#9c179e"
             ],
             [
              0.4444444444444444,
              "#bd3786"
             ],
             [
              0.5555555555555556,
              "#d8576b"
             ],
             [
              0.6666666666666666,
              "#ed7953"
             ],
             [
              0.7777777777777778,
              "#fb9f3a"
             ],
             [
              0.8888888888888888,
              "#fdca26"
             ],
             [
              1,
              "#f0f921"
             ]
            ],
            "type": "heatmapgl"
           }
          ],
          "histogram": [
           {
            "marker": {
             "pattern": {
              "fillmode": "overlay",
              "size": 10,
              "solidity": 0.2
             }
            },
            "type": "histogram"
           }
          ],
          "histogram2d": [
           {
            "colorbar": {
             "outlinewidth": 0,
             "ticks": ""
            },
            "colorscale": [
             [
              0,
              "#0d0887"
             ],
             [
              0.1111111111111111,
              "#46039f"
             ],
             [
              0.2222222222222222,
              "#7201a8"
             ],
             [
              0.3333333333333333,
              "#9c179e"
             ],
             [
              0.4444444444444444,
              "#bd3786"
             ],
             [
              0.5555555555555556,
              "#d8576b"
             ],
             [
              0.6666666666666666,
              "#ed7953"
             ],
             [
              0.7777777777777778,
              "#fb9f3a"
             ],
             [
              0.8888888888888888,
              "#fdca26"
             ],
             [
              1,
              "#f0f921"
             ]
            ],
            "type": "histogram2d"
           }
          ],
          "histogram2dcontour": [
           {
            "colorbar": {
             "outlinewidth": 0,
             "ticks": ""
            },
            "colorscale": [
             [
              0,
              "#0d0887"
             ],
             [
              0.1111111111111111,
              "#46039f"
             ],
             [
              0.2222222222222222,
              "#7201a8"
             ],
             [
              0.3333333333333333,
              "#9c179e"
             ],
             [
              0.4444444444444444,
              "#bd3786"
             ],
             [
              0.5555555555555556,
              "#d8576b"
             ],
             [
              0.6666666666666666,
              "#ed7953"
             ],
             [
              0.7777777777777778,
              "#fb9f3a"
             ],
             [
              0.8888888888888888,
              "#fdca26"
             ],
             [
              1,
              "#f0f921"
             ]
            ],
            "type": "histogram2dcontour"
           }
          ],
          "mesh3d": [
           {
            "colorbar": {
             "outlinewidth": 0,
             "ticks": ""
            },
            "type": "mesh3d"
           }
          ],
          "parcoords": [
           {
            "line": {
             "colorbar": {
              "outlinewidth": 0,
              "ticks": ""
             }
            },
            "type": "parcoords"
           }
          ],
          "pie": [
           {
            "automargin": true,
            "type": "pie"
           }
          ],
          "scatter": [
           {
            "fillpattern": {
             "fillmode": "overlay",
             "size": 10,
             "solidity": 0.2
            },
            "type": "scatter"
           }
          ],
          "scatter3d": [
           {
            "line": {
             "colorbar": {
              "outlinewidth": 0,
              "ticks": ""
             }
            },
            "marker": {
             "colorbar": {
              "outlinewidth": 0,
              "ticks": ""
             }
            },
            "type": "scatter3d"
           }
          ],
          "scattercarpet": [
           {
            "marker": {
             "colorbar": {
              "outlinewidth": 0,
              "ticks": ""
             }
            },
            "type": "scattercarpet"
           }
          ],
          "scattergeo": [
           {
            "marker": {
             "colorbar": {
              "outlinewidth": 0,
              "ticks": ""
             }
            },
            "type": "scattergeo"
           }
          ],
          "scattergl": [
           {
            "marker": {
             "colorbar": {
              "outlinewidth": 0,
              "ticks": ""
             }
            },
            "type": "scattergl"
           }
          ],
          "scattermapbox": [
           {
            "marker": {
             "colorbar": {
              "outlinewidth": 0,
              "ticks": ""
             }
            },
            "type": "scattermapbox"
           }
          ],
          "scatterpolar": [
           {
            "marker": {
             "colorbar": {
              "outlinewidth": 0,
              "ticks": ""
             }
            },
            "type": "scatterpolar"
           }
          ],
          "scatterpolargl": [
           {
            "marker": {
             "colorbar": {
              "outlinewidth": 0,
              "ticks": ""
             }
            },
            "type": "scatterpolargl"
           }
          ],
          "scatterternary": [
           {
            "marker": {
             "colorbar": {
              "outlinewidth": 0,
              "ticks": ""
             }
            },
            "type": "scatterternary"
           }
          ],
          "surface": [
           {
            "colorbar": {
             "outlinewidth": 0,
             "ticks": ""
            },
            "colorscale": [
             [
              0,
              "#0d0887"
             ],
             [
              0.1111111111111111,
              "#46039f"
             ],
             [
              0.2222222222222222,
              "#7201a8"
             ],
             [
              0.3333333333333333,
              "#9c179e"
             ],
             [
              0.4444444444444444,
              "#bd3786"
             ],
             [
              0.5555555555555556,
              "#d8576b"
             ],
             [
              0.6666666666666666,
              "#ed7953"
             ],
             [
              0.7777777777777778,
              "#fb9f3a"
             ],
             [
              0.8888888888888888,
              "#fdca26"
             ],
             [
              1,
              "#f0f921"
             ]
            ],
            "type": "surface"
           }
          ],
          "table": [
           {
            "cells": {
             "fill": {
              "color": "#EBF0F8"
             },
             "line": {
              "color": "white"
             }
            },
            "header": {
             "fill": {
              "color": "#C8D4E3"
             },
             "line": {
              "color": "white"
             }
            },
            "type": "table"
           }
          ]
         },
         "layout": {
          "annotationdefaults": {
           "arrowcolor": "#2a3f5f",
           "arrowhead": 0,
           "arrowwidth": 1
          },
          "autotypenumbers": "strict",
          "coloraxis": {
           "colorbar": {
            "outlinewidth": 0,
            "ticks": ""
           }
          },
          "colorscale": {
           "diverging": [
            [
             0,
             "#8e0152"
            ],
            [
             0.1,
             "#c51b7d"
            ],
            [
             0.2,
             "#de77ae"
            ],
            [
             0.3,
             "#f1b6da"
            ],
            [
             0.4,
             "#fde0ef"
            ],
            [
             0.5,
             "#f7f7f7"
            ],
            [
             0.6,
             "#e6f5d0"
            ],
            [
             0.7,
             "#b8e186"
            ],
            [
             0.8,
             "#7fbc41"
            ],
            [
             0.9,
             "#4d9221"
            ],
            [
             1,
             "#276419"
            ]
           ],
           "sequential": [
            [
             0,
             "#0d0887"
            ],
            [
             0.1111111111111111,
             "#46039f"
            ],
            [
             0.2222222222222222,
             "#7201a8"
            ],
            [
             0.3333333333333333,
             "#9c179e"
            ],
            [
             0.4444444444444444,
             "#bd3786"
            ],
            [
             0.5555555555555556,
             "#d8576b"
            ],
            [
             0.6666666666666666,
             "#ed7953"
            ],
            [
             0.7777777777777778,
             "#fb9f3a"
            ],
            [
             0.8888888888888888,
             "#fdca26"
            ],
            [
             1,
             "#f0f921"
            ]
           ],
           "sequentialminus": [
            [
             0,
             "#0d0887"
            ],
            [
             0.1111111111111111,
             "#46039f"
            ],
            [
             0.2222222222222222,
             "#7201a8"
            ],
            [
             0.3333333333333333,
             "#9c179e"
            ],
            [
             0.4444444444444444,
             "#bd3786"
            ],
            [
             0.5555555555555556,
             "#d8576b"
            ],
            [
             0.6666666666666666,
             "#ed7953"
            ],
            [
             0.7777777777777778,
             "#fb9f3a"
            ],
            [
             0.8888888888888888,
             "#fdca26"
            ],
            [
             1,
             "#f0f921"
            ]
           ]
          },
          "colorway": [
           "#636efa",
           "#EF553B",
           "#00cc96",
           "#ab63fa",
           "#FFA15A",
           "#19d3f3",
           "#FF6692",
           "#B6E880",
           "#FF97FF",
           "#FECB52"
          ],
          "font": {
           "color": "#2a3f5f"
          },
          "geo": {
           "bgcolor": "white",
           "lakecolor": "white",
           "landcolor": "#E5ECF6",
           "showlakes": true,
           "showland": true,
           "subunitcolor": "white"
          },
          "hoverlabel": {
           "align": "left"
          },
          "hovermode": "closest",
          "mapbox": {
           "style": "light"
          },
          "paper_bgcolor": "white",
          "plot_bgcolor": "#E5ECF6",
          "polar": {
           "angularaxis": {
            "gridcolor": "white",
            "linecolor": "white",
            "ticks": ""
           },
           "bgcolor": "#E5ECF6",
           "radialaxis": {
            "gridcolor": "white",
            "linecolor": "white",
            "ticks": ""
           }
          },
          "scene": {
           "xaxis": {
            "backgroundcolor": "#E5ECF6",
            "gridcolor": "white",
            "gridwidth": 2,
            "linecolor": "white",
            "showbackground": true,
            "ticks": "",
            "zerolinecolor": "white"
           },
           "yaxis": {
            "backgroundcolor": "#E5ECF6",
            "gridcolor": "white",
            "gridwidth": 2,
            "linecolor": "white",
            "showbackground": true,
            "ticks": "",
            "zerolinecolor": "white"
           },
           "zaxis": {
            "backgroundcolor": "#E5ECF6",
            "gridcolor": "white",
            "gridwidth": 2,
            "linecolor": "white",
            "showbackground": true,
            "ticks": "",
            "zerolinecolor": "white"
           }
          },
          "shapedefaults": {
           "line": {
            "color": "#2a3f5f"
           }
          },
          "ternary": {
           "aaxis": {
            "gridcolor": "white",
            "linecolor": "white",
            "ticks": ""
           },
           "baxis": {
            "gridcolor": "white",
            "linecolor": "white",
            "ticks": ""
           },
           "bgcolor": "#E5ECF6",
           "caxis": {
            "gridcolor": "white",
            "linecolor": "white",
            "ticks": ""
           }
          },
          "title": {
           "x": 0.05
          },
          "xaxis": {
           "automargin": true,
           "gridcolor": "white",
           "linecolor": "white",
           "ticks": "",
           "title": {
            "standoff": 15
           },
           "zerolinecolor": "white",
           "zerolinewidth": 2
          },
          "yaxis": {
           "automargin": true,
           "gridcolor": "white",
           "linecolor": "white",
           "ticks": "",
           "title": {
            "standoff": 15
           },
           "zerolinecolor": "white",
           "zerolinewidth": 2
          }
         }
        },
        "title": {
         "text": "Annual Change in Percentage of Employed People Holding Multiple Jobs"
        },
        "width": 1700,
        "xaxis": {
         "tickformat": "%Y-%m",
         "title": {
          "text": "Year"
         },
         "type": "date"
        },
        "yaxis": {
         "title": {
          "text": "Percentage Change"
         }
        }
       }
      }
     },
     "metadata": {},
     "output_type": "display_data"
    }
   ],
   "source": [
    "fig = go.Figure()\n",
    "\n",
    "# recession shading \n",
    "for recession in recession_periods:\n",
    "    fig.add_shape(\n",
    "        type='rect',\n",
    "        xref='x',\n",
    "        yref='paper',\n",
    "        x0=recession['start'],\n",
    "        x1=recession['end'],\n",
    "        y0=0, y1=1,\n",
    "        fillcolor='grey',\n",
    "        opacity=0.5,\n",
    "        layer='below',\n",
    "        line_width=0\n",
    "    )\n",
    "\n",
    "fig.add_trace(\n",
    "    go.Scatter(\n",
    "        x=[None], y=[None],  # Empty scatter plot\n",
    "        mode='markers',\n",
    "        marker=dict(size=10, color='grey', opacity=0.5),\n",
    "        showlegend=True,\n",
    "        name='Recession Periods'\n",
    "    )\n",
    ")\n",
    "\n",
    "fig.add_trace(\n",
    "    go.Scatter(\n",
    "        x=mean_men.index,  # The years\n",
    "        y=mean_men.values,  # The mean values for men\n",
    "        mode='lines+markers',\n",
    "        name='Men',\n",
    "        line=dict(color='blue')\n",
    "    )\n",
    ")\n",
    "\n",
    "fig.add_trace(\n",
    "    go.Scatter(\n",
    "        x=mean_women.index,  # The years\n",
    "        y=mean_women.values,  # The mean values for women\n",
    "        mode='lines+markers',\n",
    "        name='Women',\n",
    "        line=dict(color='red')\n",
    "    )\n",
    ")\n",
    "\n",
    "fig.add_trace(\n",
    "    go.Scatter(\n",
    "        x=mean_total.index,  # The years\n",
    "        y=mean_total.values,  # The mean values for total\n",
    "        mode='lines+markers',\n",
    "        name='Total',\n",
    "        line=dict(color='darkgrey')\n",
    "    )\n",
    ")\n",
    "\n",
    "fig.update_layout(\n",
    "    height=600, \n",
    "    width=1700,\n",
    "    title_text=\"Annual Change in Percentage of Employed People Holding Multiple Jobs\",\n",
    "    xaxis_title=\"Year\",\n",
    "    yaxis_title=\"Percentage Change\",\n",
    "    xaxis=dict(\n",
    "        type='date',  # Change x-axis to accept date format for exact periods\n",
    "        tickformat='%Y-%m',  # Format the ticks to show year and month\n",
    "    ),\n",
    "    showlegend=True,\n",
    "    legend=dict(\n",
    "        orientation=\"h\",   # Horizontal orientation\n",
    "        x=0.5,             # Center the legend horizontally\n",
    "        y=-0.2,            # Move the legend below the charts\n",
    "        xanchor='center',   # Align the legend horizontally with the center\n",
    "        yanchor='top'       # Align the legend above the bottom edge\n",
    "    )\n",
    ")\n",
    "\n",
    "fig.show()\n"
   ]
  },
  {
   "cell_type": "code",
   "execution_count": 159,
   "metadata": {},
   "outputs": [
    {
     "data": {
      "application/vnd.plotly.v1+json": {
       "config": {
        "plotlyServerURL": "https://plot.ly"
       },
       "data": [
        {
         "marker": {
          "color": "grey",
          "opacity": 0.5,
          "size": 10
         },
         "mode": "markers",
         "name": "Recession Periods",
         "showlegend": true,
         "type": "scatter",
         "x": [
          null
         ],
         "y": [
          null
         ]
        },
        {
         "line": {
          "color": "black"
         },
         "mode": "lines+markers",
         "name": "Men",
         "type": "scatter",
         "x": [
          "1994-01-01T00:00:00",
          "1995-01-01T00:00:00",
          "1996-01-01T00:00:00",
          "1997-01-01T00:00:00",
          "1998-01-01T00:00:00",
          "1999-01-01T00:00:00",
          "2000-01-01T00:00:00",
          "2001-01-01T00:00:00",
          "2002-01-01T00:00:00",
          "2003-01-01T00:00:00",
          "2004-01-01T00:00:00",
          "2005-01-01T00:00:00",
          "2006-01-01T00:00:00",
          "2007-01-01T00:00:00",
          "2008-01-01T00:00:00",
          "2009-01-01T00:00:00",
          "2010-01-01T00:00:00",
          "2011-01-01T00:00:00",
          "2012-01-01T00:00:00",
          "2013-01-01T00:00:00",
          "2014-01-01T00:00:00",
          "2015-01-01T00:00:00",
          "2016-01-01T00:00:00",
          "2017-01-01T00:00:00",
          "2018-01-01T00:00:00",
          "2019-01-01T00:00:00",
          "2020-01-01T00:00:00",
          "2021-01-01T00:00:00",
          "2022-01-01T00:00:00",
          "2023-01-01T00:00:00",
          "2024-01-01T00:00:00"
         ],
         "y": [
          5.85,
          6.15,
          6.025,
          6.075,
          5.875,
          5.800000000000001,
          5.525,
          5.199999999999999,
          5.175,
          5.1,
          5.15,
          5.075,
          4.95,
          4.95,
          4.975,
          4.875,
          4.45,
          4.5,
          4.55,
          4.525,
          4.475,
          4.5,
          4.525,
          4.55,
          4.675,
          4.7,
          4.25,
          4.15,
          4.425,
          4.575,
          4.7
         ]
        },
        {
         "line": {
          "color": "green"
         },
         "mode": "lines+markers",
         "name": "Women",
         "type": "scatter",
         "x": [
          "1994-01-01T00:00:00",
          "1995-01-01T00:00:00",
          "1996-01-01T00:00:00",
          "1997-01-01T00:00:00",
          "1998-01-01T00:00:00",
          "1999-01-01T00:00:00",
          "2000-01-01T00:00:00",
          "2001-01-01T00:00:00",
          "2002-01-01T00:00:00",
          "2003-01-01T00:00:00",
          "2004-01-01T00:00:00",
          "2005-01-01T00:00:00",
          "2006-01-01T00:00:00",
          "2007-01-01T00:00:00",
          "2008-01-01T00:00:00",
          "2009-01-01T00:00:00",
          "2010-01-01T00:00:00",
          "2011-01-01T00:00:00",
          "2012-01-01T00:00:00",
          "2013-01-01T00:00:00",
          "2014-01-01T00:00:00",
          "2015-01-01T00:00:00",
          "2016-01-01T00:00:00",
          "2017-01-01T00:00:00",
          "2018-01-01T00:00:00",
          "2019-01-01T00:00:00",
          "2020-01-01T00:00:00",
          "2021-01-01T00:00:00",
          "2022-01-01T00:00:00",
          "2023-01-01T00:00:00",
          "2024-01-01T00:00:00"
         ],
         "y": [
          5.925,
          6.075,
          6.075,
          6.175,
          6.175,
          5.9,
          5.675,
          5.475,
          5.475,
          5.55,
          5.625,
          5.575,
          5.525,
          5.675,
          5.55,
          5.675,
          5.4,
          5.3,
          5.15,
          5.15,
          5.25,
          5.275,
          5.4,
          5.2,
          5.425,
          5.55,
          4.95,
          4.975,
          5.15,
          5.5,
          5.6
         ]
        },
        {
         "line": {
          "color": "lightblue"
         },
         "mode": "lines+markers",
         "name": "Total",
         "type": "scatter",
         "x": [
          "1994-01-01T00:00:00",
          "1995-01-01T00:00:00",
          "1996-01-01T00:00:00",
          "1997-01-01T00:00:00",
          "1998-01-01T00:00:00",
          "1999-01-01T00:00:00",
          "2000-01-01T00:00:00",
          "2001-01-01T00:00:00",
          "2002-01-01T00:00:00",
          "2003-01-01T00:00:00",
          "2004-01-01T00:00:00",
          "2005-01-01T00:00:00",
          "2006-01-01T00:00:00",
          "2007-01-01T00:00:00",
          "2008-01-01T00:00:00",
          "2009-01-01T00:00:00",
          "2010-01-01T00:00:00",
          "2011-01-01T00:00:00",
          "2012-01-01T00:00:00",
          "2013-01-01T00:00:00",
          "2014-01-01T00:00:00",
          "2015-01-01T00:00:00",
          "2016-01-01T00:00:00",
          "2017-01-01T00:00:00",
          "2018-01-01T00:00:00",
          "2019-01-01T00:00:00",
          "2020-01-01T00:00:00",
          "2021-01-01T00:00:00",
          "2022-01-01T00:00:00",
          "2023-01-01T00:00:00",
          "2024-01-01T00:00:00"
         ],
         "y": [
          5.9,
          6.15,
          6.1,
          6.125,
          6.0249999999999995,
          5.85,
          5.625,
          5.35,
          5.325,
          5.3,
          5.4,
          5.3,
          5.2,
          5.275,
          5.25,
          5.275,
          4.9,
          4.9,
          4.9,
          4.85,
          4.9,
          4.9,
          4.95,
          4.875,
          5.05,
          5.125,
          4.575,
          4.525,
          4.75,
          5.025,
          5.15
         ]
        }
       ],
       "layout": {
        "height": 600,
        "legend": {
         "orientation": "h",
         "x": 0.5,
         "xanchor": "center",
         "y": -0.2,
         "yanchor": "top"
        },
        "shapes": [
         {
          "fillcolor": "grey",
          "layer": "below",
          "line": {
           "width": 0
          },
          "opacity": 0.5,
          "type": "rect",
          "x0": "2001-03-01",
          "x1": "2001-11-30",
          "xref": "x",
          "y0": 0,
          "y1": 1,
          "yref": "paper"
         },
         {
          "fillcolor": "grey",
          "layer": "below",
          "line": {
           "width": 0
          },
          "opacity": 0.5,
          "type": "rect",
          "x0": "2007-12-01",
          "x1": "2009-06-30",
          "xref": "x",
          "y0": 0,
          "y1": 1,
          "yref": "paper"
         },
         {
          "fillcolor": "grey",
          "layer": "below",
          "line": {
           "width": 0
          },
          "opacity": 0.5,
          "type": "rect",
          "x0": "2020-02-01",
          "x1": "2020-04-30",
          "xref": "x",
          "y0": 0,
          "y1": 1,
          "yref": "paper"
         }
        ],
        "showlegend": true,
        "template": {
         "data": {
          "bar": [
           {
            "error_x": {
             "color": "#2a3f5f"
            },
            "error_y": {
             "color": "#2a3f5f"
            },
            "marker": {
             "line": {
              "color": "#E5ECF6",
              "width": 0.5
             },
             "pattern": {
              "fillmode": "overlay",
              "size": 10,
              "solidity": 0.2
             }
            },
            "type": "bar"
           }
          ],
          "barpolar": [
           {
            "marker": {
             "line": {
              "color": "#E5ECF6",
              "width": 0.5
             },
             "pattern": {
              "fillmode": "overlay",
              "size": 10,
              "solidity": 0.2
             }
            },
            "type": "barpolar"
           }
          ],
          "carpet": [
           {
            "aaxis": {
             "endlinecolor": "#2a3f5f",
             "gridcolor": "white",
             "linecolor": "white",
             "minorgridcolor": "white",
             "startlinecolor": "#2a3f5f"
            },
            "baxis": {
             "endlinecolor": "#2a3f5f",
             "gridcolor": "white",
             "linecolor": "white",
             "minorgridcolor": "white",
             "startlinecolor": "#2a3f5f"
            },
            "type": "carpet"
           }
          ],
          "choropleth": [
           {
            "colorbar": {
             "outlinewidth": 0,
             "ticks": ""
            },
            "type": "choropleth"
           }
          ],
          "contour": [
           {
            "colorbar": {
             "outlinewidth": 0,
             "ticks": ""
            },
            "colorscale": [
             [
              0,
              "#0d0887"
             ],
             [
              0.1111111111111111,
              "#46039f"
             ],
             [
              0.2222222222222222,
              "#7201a8"
             ],
             [
              0.3333333333333333,
              "#9c179e"
             ],
             [
              0.4444444444444444,
              "#bd3786"
             ],
             [
              0.5555555555555556,
              "#d8576b"
             ],
             [
              0.6666666666666666,
              "#ed7953"
             ],
             [
              0.7777777777777778,
              "#fb9f3a"
             ],
             [
              0.8888888888888888,
              "#fdca26"
             ],
             [
              1,
              "#f0f921"
             ]
            ],
            "type": "contour"
           }
          ],
          "contourcarpet": [
           {
            "colorbar": {
             "outlinewidth": 0,
             "ticks": ""
            },
            "type": "contourcarpet"
           }
          ],
          "heatmap": [
           {
            "colorbar": {
             "outlinewidth": 0,
             "ticks": ""
            },
            "colorscale": [
             [
              0,
              "#0d0887"
             ],
             [
              0.1111111111111111,
              "#46039f"
             ],
             [
              0.2222222222222222,
              "#7201a8"
             ],
             [
              0.3333333333333333,
              "#9c179e"
             ],
             [
              0.4444444444444444,
              "#bd3786"
             ],
             [
              0.5555555555555556,
              "#d8576b"
             ],
             [
              0.6666666666666666,
              "#ed7953"
             ],
             [
              0.7777777777777778,
              "#fb9f3a"
             ],
             [
              0.8888888888888888,
              "#fdca26"
             ],
             [
              1,
              "#f0f921"
             ]
            ],
            "type": "heatmap"
           }
          ],
          "heatmapgl": [
           {
            "colorbar": {
             "outlinewidth": 0,
             "ticks": ""
            },
            "colorscale": [
             [
              0,
              "#0d0887"
             ],
             [
              0.1111111111111111,
              "#46039f"
             ],
             [
              0.2222222222222222,
              "#7201a8"
             ],
             [
              0.3333333333333333,
              "#9c179e"
             ],
             [
              0.4444444444444444,
              "#bd3786"
             ],
             [
              0.5555555555555556,
              "#d8576b"
             ],
             [
              0.6666666666666666,
              "#ed7953"
             ],
             [
              0.7777777777777778,
              "#fb9f3a"
             ],
             [
              0.8888888888888888,
              "#fdca26"
             ],
             [
              1,
              "#f0f921"
             ]
            ],
            "type": "heatmapgl"
           }
          ],
          "histogram": [
           {
            "marker": {
             "pattern": {
              "fillmode": "overlay",
              "size": 10,
              "solidity": 0.2
             }
            },
            "type": "histogram"
           }
          ],
          "histogram2d": [
           {
            "colorbar": {
             "outlinewidth": 0,
             "ticks": ""
            },
            "colorscale": [
             [
              0,
              "#0d0887"
             ],
             [
              0.1111111111111111,
              "#46039f"
             ],
             [
              0.2222222222222222,
              "#7201a8"
             ],
             [
              0.3333333333333333,
              "#9c179e"
             ],
             [
              0.4444444444444444,
              "#bd3786"
             ],
             [
              0.5555555555555556,
              "#d8576b"
             ],
             [
              0.6666666666666666,
              "#ed7953"
             ],
             [
              0.7777777777777778,
              "#fb9f3a"
             ],
             [
              0.8888888888888888,
              "#fdca26"
             ],
             [
              1,
              "#f0f921"
             ]
            ],
            "type": "histogram2d"
           }
          ],
          "histogram2dcontour": [
           {
            "colorbar": {
             "outlinewidth": 0,
             "ticks": ""
            },
            "colorscale": [
             [
              0,
              "#0d0887"
             ],
             [
              0.1111111111111111,
              "#46039f"
             ],
             [
              0.2222222222222222,
              "#7201a8"
             ],
             [
              0.3333333333333333,
              "#9c179e"
             ],
             [
              0.4444444444444444,
              "#bd3786"
             ],
             [
              0.5555555555555556,
              "#d8576b"
             ],
             [
              0.6666666666666666,
              "#ed7953"
             ],
             [
              0.7777777777777778,
              "#fb9f3a"
             ],
             [
              0.8888888888888888,
              "#fdca26"
             ],
             [
              1,
              "#f0f921"
             ]
            ],
            "type": "histogram2dcontour"
           }
          ],
          "mesh3d": [
           {
            "colorbar": {
             "outlinewidth": 0,
             "ticks": ""
            },
            "type": "mesh3d"
           }
          ],
          "parcoords": [
           {
            "line": {
             "colorbar": {
              "outlinewidth": 0,
              "ticks": ""
             }
            },
            "type": "parcoords"
           }
          ],
          "pie": [
           {
            "automargin": true,
            "type": "pie"
           }
          ],
          "scatter": [
           {
            "fillpattern": {
             "fillmode": "overlay",
             "size": 10,
             "solidity": 0.2
            },
            "type": "scatter"
           }
          ],
          "scatter3d": [
           {
            "line": {
             "colorbar": {
              "outlinewidth": 0,
              "ticks": ""
             }
            },
            "marker": {
             "colorbar": {
              "outlinewidth": 0,
              "ticks": ""
             }
            },
            "type": "scatter3d"
           }
          ],
          "scattercarpet": [
           {
            "marker": {
             "colorbar": {
              "outlinewidth": 0,
              "ticks": ""
             }
            },
            "type": "scattercarpet"
           }
          ],
          "scattergeo": [
           {
            "marker": {
             "colorbar": {
              "outlinewidth": 0,
              "ticks": ""
             }
            },
            "type": "scattergeo"
           }
          ],
          "scattergl": [
           {
            "marker": {
             "colorbar": {
              "outlinewidth": 0,
              "ticks": ""
             }
            },
            "type": "scattergl"
           }
          ],
          "scattermapbox": [
           {
            "marker": {
             "colorbar": {
              "outlinewidth": 0,
              "ticks": ""
             }
            },
            "type": "scattermapbox"
           }
          ],
          "scatterpolar": [
           {
            "marker": {
             "colorbar": {
              "outlinewidth": 0,
              "ticks": ""
             }
            },
            "type": "scatterpolar"
           }
          ],
          "scatterpolargl": [
           {
            "marker": {
             "colorbar": {
              "outlinewidth": 0,
              "ticks": ""
             }
            },
            "type": "scatterpolargl"
           }
          ],
          "scatterternary": [
           {
            "marker": {
             "colorbar": {
              "outlinewidth": 0,
              "ticks": ""
             }
            },
            "type": "scatterternary"
           }
          ],
          "surface": [
           {
            "colorbar": {
             "outlinewidth": 0,
             "ticks": ""
            },
            "colorscale": [
             [
              0,
              "#0d0887"
             ],
             [
              0.1111111111111111,
              "#46039f"
             ],
             [
              0.2222222222222222,
              "#7201a8"
             ],
             [
              0.3333333333333333,
              "#9c179e"
             ],
             [
              0.4444444444444444,
              "#bd3786"
             ],
             [
              0.5555555555555556,
              "#d8576b"
             ],
             [
              0.6666666666666666,
              "#ed7953"
             ],
             [
              0.7777777777777778,
              "#fb9f3a"
             ],
             [
              0.8888888888888888,
              "#fdca26"
             ],
             [
              1,
              "#f0f921"
             ]
            ],
            "type": "surface"
           }
          ],
          "table": [
           {
            "cells": {
             "fill": {
              "color": "#EBF0F8"
             },
             "line": {
              "color": "white"
             }
            },
            "header": {
             "fill": {
              "color": "#C8D4E3"
             },
             "line": {
              "color": "white"
             }
            },
            "type": "table"
           }
          ]
         },
         "layout": {
          "annotationdefaults": {
           "arrowcolor": "#2a3f5f",
           "arrowhead": 0,
           "arrowwidth": 1
          },
          "autotypenumbers": "strict",
          "coloraxis": {
           "colorbar": {
            "outlinewidth": 0,
            "ticks": ""
           }
          },
          "colorscale": {
           "diverging": [
            [
             0,
             "#8e0152"
            ],
            [
             0.1,
             "#c51b7d"
            ],
            [
             0.2,
             "#de77ae"
            ],
            [
             0.3,
             "#f1b6da"
            ],
            [
             0.4,
             "#fde0ef"
            ],
            [
             0.5,
             "#f7f7f7"
            ],
            [
             0.6,
             "#e6f5d0"
            ],
            [
             0.7,
             "#b8e186"
            ],
            [
             0.8,
             "#7fbc41"
            ],
            [
             0.9,
             "#4d9221"
            ],
            [
             1,
             "#276419"
            ]
           ],
           "sequential": [
            [
             0,
             "#0d0887"
            ],
            [
             0.1111111111111111,
             "#46039f"
            ],
            [
             0.2222222222222222,
             "#7201a8"
            ],
            [
             0.3333333333333333,
             "#9c179e"
            ],
            [
             0.4444444444444444,
             "#bd3786"
            ],
            [
             0.5555555555555556,
             "#d8576b"
            ],
            [
             0.6666666666666666,
             "#ed7953"
            ],
            [
             0.7777777777777778,
             "#fb9f3a"
            ],
            [
             0.8888888888888888,
             "#fdca26"
            ],
            [
             1,
             "#f0f921"
            ]
           ],
           "sequentialminus": [
            [
             0,
             "#0d0887"
            ],
            [
             0.1111111111111111,
             "#46039f"
            ],
            [
             0.2222222222222222,
             "#7201a8"
            ],
            [
             0.3333333333333333,
             "#9c179e"
            ],
            [
             0.4444444444444444,
             "#bd3786"
            ],
            [
             0.5555555555555556,
             "#d8576b"
            ],
            [
             0.6666666666666666,
             "#ed7953"
            ],
            [
             0.7777777777777778,
             "#fb9f3a"
            ],
            [
             0.8888888888888888,
             "#fdca26"
            ],
            [
             1,
             "#f0f921"
            ]
           ]
          },
          "colorway": [
           "#636efa",
           "#EF553B",
           "#00cc96",
           "#ab63fa",
           "#FFA15A",
           "#19d3f3",
           "#FF6692",
           "#B6E880",
           "#FF97FF",
           "#FECB52"
          ],
          "font": {
           "color": "#2a3f5f"
          },
          "geo": {
           "bgcolor": "white",
           "lakecolor": "white",
           "landcolor": "#E5ECF6",
           "showlakes": true,
           "showland": true,
           "subunitcolor": "white"
          },
          "hoverlabel": {
           "align": "left"
          },
          "hovermode": "closest",
          "mapbox": {
           "style": "light"
          },
          "paper_bgcolor": "white",
          "plot_bgcolor": "#E5ECF6",
          "polar": {
           "angularaxis": {
            "gridcolor": "white",
            "linecolor": "white",
            "ticks": ""
           },
           "bgcolor": "#E5ECF6",
           "radialaxis": {
            "gridcolor": "white",
            "linecolor": "white",
            "ticks": ""
           }
          },
          "scene": {
           "xaxis": {
            "backgroundcolor": "#E5ECF6",
            "gridcolor": "white",
            "gridwidth": 2,
            "linecolor": "white",
            "showbackground": true,
            "ticks": "",
            "zerolinecolor": "white"
           },
           "yaxis": {
            "backgroundcolor": "#E5ECF6",
            "gridcolor": "white",
            "gridwidth": 2,
            "linecolor": "white",
            "showbackground": true,
            "ticks": "",
            "zerolinecolor": "white"
           },
           "zaxis": {
            "backgroundcolor": "#E5ECF6",
            "gridcolor": "white",
            "gridwidth": 2,
            "linecolor": "white",
            "showbackground": true,
            "ticks": "",
            "zerolinecolor": "white"
           }
          },
          "shapedefaults": {
           "line": {
            "color": "#2a3f5f"
           }
          },
          "ternary": {
           "aaxis": {
            "gridcolor": "white",
            "linecolor": "white",
            "ticks": ""
           },
           "baxis": {
            "gridcolor": "white",
            "linecolor": "white",
            "ticks": ""
           },
           "bgcolor": "#E5ECF6",
           "caxis": {
            "gridcolor": "white",
            "linecolor": "white",
            "ticks": ""
           }
          },
          "title": {
           "x": 0.05
          },
          "xaxis": {
           "automargin": true,
           "gridcolor": "white",
           "linecolor": "white",
           "ticks": "",
           "title": {
            "standoff": 15
           },
           "zerolinecolor": "white",
           "zerolinewidth": 2
          },
          "yaxis": {
           "automargin": true,
           "gridcolor": "white",
           "linecolor": "white",
           "ticks": "",
           "title": {
            "standoff": 15
           },
           "zerolinecolor": "white",
           "zerolinewidth": 2
          }
         }
        },
        "title": {
         "text": "Annual Mean Change in of MULT Job Holder Types"
        },
        "width": 1200,
        "xaxis": {
         "tickformat": "%Y-%m",
         "title": {
          "text": "Year"
         },
         "type": "date"
        },
        "yaxis": {
         "title": {
          "text": "Mean Count"
         }
        }
       }
      }
     },
     "metadata": {},
     "output_type": "display_data"
    }
   ],
   "source": [
    "mean_men.index = pd.to_datetime(mean_men.index, format='%Y')\n",
    "mean_women.index = pd.to_datetime(mean_women.index, format='%Y')\n",
    "mean_total.index = pd.to_datetime(mean_total.index, format='%Y')\n",
    "\n",
    "fig = go.Figure()\n",
    "\n",
    "# recession shading \n",
    "for recession in recession_periods:\n",
    "    fig.add_shape(\n",
    "        type='rect',\n",
    "        xref='x',\n",
    "        yref='paper',\n",
    "        x0=recession['start'],\n",
    "        x1=recession['end'],\n",
    "        y0=0, y1=1,\n",
    "        fillcolor='grey',\n",
    "        opacity=0.5,\n",
    "        layer='below',\n",
    "        line_width=0\n",
    "    )\n",
    "\n",
    "fig.add_trace(\n",
    "    go.Scatter(\n",
    "        x=[None], y=[None],  # Empty scatter plot\n",
    "        mode='markers',\n",
    "        marker=dict(size=10, color='grey', opacity=0.5),\n",
    "        showlegend=True,\n",
    "        name='Recession Periods'\n",
    "    )\n",
    ")\n",
    "\n",
    "fig.add_trace(\n",
    "    go.Scatter(\n",
    "        x=mean_men.index,  # The years\n",
    "        y=mean_men.values,  # The mean values for men\n",
    "        mode='lines+markers',\n",
    "        name='Men',\n",
    "        line=dict(color='black')\n",
    "    )\n",
    ")\n",
    "\n",
    "fig.add_trace(\n",
    "    go.Scatter(\n",
    "        x=mean_women.index,  # The years\n",
    "        y=mean_women.values,  # The mean values for women\n",
    "        mode='lines+markers',\n",
    "        name='Women',\n",
    "        line=dict(color='green')\n",
    "    )\n",
    ")\n",
    "\n",
    "fig.add_trace(\n",
    "    go.Scatter(\n",
    "        x=mean_total.index,  # The years\n",
    "        y=mean_total.values,  # The mean values for total\n",
    "        mode='lines+markers',\n",
    "        name='Total',\n",
    "        line=dict(color='lightblue')\n",
    "    )\n",
    ")\n",
    "\n",
    "# Legend to the bottom and set x-axis to accept date format\n",
    "fig.update_layout(\n",
    "    height=600, \n",
    "    width=1200,\n",
    "    title_text=\"Annual Mean Change in of MULT Job Holder Types\",\n",
    "    xaxis_title=\"Year\",\n",
    "    yaxis_title=\"Mean Count\",\n",
    "    xaxis=dict(\n",
    "        type='date',  # Change x-axis to accept date format for exact periods\n",
    "        tickformat='%Y-%m',  # Format the ticks to show year and month\n",
    "    ),\n",
    "    showlegend=True,\n",
    "    legend=dict(\n",
    "        orientation=\"h\",   \n",
    "        x=0.5,             \n",
    "        y=-0.2,            \n",
    "        xanchor='center',   \n",
    "        yanchor='top'      \n",
    "    )\n",
    ")\n",
    "\n",
    "fig.show()\n"
   ]
  },
  {
   "cell_type": "code",
   "execution_count": 160,
   "metadata": {},
   "outputs": [],
   "source": [
    "\n",
    "mean_men = combined_df_with_pct_change.groupby('Year')['MULTJobHolders_Pri_FT_Sec_PT'].mean()\n",
    "mean_women = combined_df_with_pct_change.groupby('Year')['MULTJobHolders_Pri_Sec_BothFT'].mean()\n",
    "mean_total = combined_df_with_pct_change.groupby('Year')['MULTJobHolders_Pri_Sec_BothPT'].mean()\n",
    "\n",
    "mean_men.index = pd.to_datetime(mean_men.index, format='%Y')\n",
    "mean_women.index = pd.to_datetime(mean_women.index, format='%Y')\n",
    "mean_total.index = pd.to_datetime(mean_total.index, format='%Y')"
   ]
  },
  {
   "cell_type": "code",
   "execution_count": 161,
   "metadata": {},
   "outputs": [
    {
     "data": {
      "application/vnd.plotly.v1+json": {
       "config": {
        "plotlyServerURL": "https://plot.ly"
       },
       "data": [
        {
         "marker": {
          "color": "grey",
          "opacity": 0.5,
          "size": 10
         },
         "mode": "markers",
         "name": "Recession Periods",
         "showlegend": true,
         "type": "scatter",
         "x": [
          null
         ],
         "y": [
          null
         ]
        },
        {
         "marker": {
          "color": "black"
         },
         "name": "Multiple Job Holders - Primary FT & Secondary PT",
         "type": "bar",
         "x": [
          "1994-01-01T00:00:00",
          "1995-01-01T00:00:00",
          "1996-01-01T00:00:00",
          "1997-01-01T00:00:00",
          "1998-01-01T00:00:00",
          "1999-01-01T00:00:00",
          "2000-01-01T00:00:00",
          "2001-01-01T00:00:00",
          "2002-01-01T00:00:00",
          "2003-01-01T00:00:00",
          "2004-01-01T00:00:00",
          "2005-01-01T00:00:00",
          "2006-01-01T00:00:00",
          "2007-01-01T00:00:00",
          "2008-01-01T00:00:00",
          "2009-01-01T00:00:00",
          "2010-01-01T00:00:00",
          "2011-01-01T00:00:00",
          "2012-01-01T00:00:00",
          "2013-01-01T00:00:00",
          "2014-01-01T00:00:00",
          "2015-01-01T00:00:00",
          "2016-01-01T00:00:00",
          "2017-01-01T00:00:00",
          "2018-01-01T00:00:00",
          "2019-01-01T00:00:00",
          "2020-01-01T00:00:00",
          "2021-01-01T00:00:00",
          "2022-01-01T00:00:00",
          "2023-01-01T00:00:00",
          "2024-01-01T00:00:00"
         ],
         "y": [
          4146.5,
          4439.75,
          4249,
          4453.25,
          4441.75,
          4293.5,
          4226.5,
          4002.5,
          3904.5,
          3767.75,
          3904,
          3937,
          3957.25,
          4210.75,
          4188.25,
          3948.5,
          3567.75,
          3574,
          3520.5,
          3654.75,
          3728,
          3892,
          4011,
          4048.25,
          4295.75,
          4468.5,
          3811.25,
          3941.75,
          4351.25,
          4585,
          4723
         ]
        },
        {
         "marker": {
          "color": "green"
         },
         "name": "Multiple Job Holders - Primary & Secondary Both FT",
         "type": "bar",
         "x": [
          "1994-01-01T00:00:00",
          "1995-01-01T00:00:00",
          "1996-01-01T00:00:00",
          "1997-01-01T00:00:00",
          "1998-01-01T00:00:00",
          "1999-01-01T00:00:00",
          "2000-01-01T00:00:00",
          "2001-01-01T00:00:00",
          "2002-01-01T00:00:00",
          "2003-01-01T00:00:00",
          "2004-01-01T00:00:00",
          "2005-01-01T00:00:00",
          "2006-01-01T00:00:00",
          "2007-01-01T00:00:00",
          "2008-01-01T00:00:00",
          "2009-01-01T00:00:00",
          "2010-01-01T00:00:00",
          "2011-01-01T00:00:00",
          "2012-01-01T00:00:00",
          "2013-01-01T00:00:00",
          "2014-01-01T00:00:00",
          "2015-01-01T00:00:00",
          "2016-01-01T00:00:00",
          "2017-01-01T00:00:00",
          "2018-01-01T00:00:00",
          "2019-01-01T00:00:00",
          "2020-01-01T00:00:00",
          "2021-01-01T00:00:00",
          "2022-01-01T00:00:00",
          "2023-01-01T00:00:00",
          "2024-01-01T00:00:00"
         ],
         "y": [
          247,
          266.75,
          259.5,
          237.25,
          280.25,
          304,
          328,
          276,
          277.5,
          267.25,
          279.75,
          300.5,
          303.5,
          294.25,
          275,
          258.75,
          252.5,
          217.75,
          268,
          232.5,
          249.25,
          207.25,
          277.25,
          313.25,
          328,
          313.5,
          294.75,
          350.75,
          346.5,
          395.5,
          396
         ]
        },
        {
         "marker": {
          "color": "lightblue"
         },
         "name": "Multiple Job Holders - Primary & Secondary Both PT",
         "type": "bar",
         "x": [
          "1994-01-01T00:00:00",
          "1995-01-01T00:00:00",
          "1996-01-01T00:00:00",
          "1997-01-01T00:00:00",
          "1998-01-01T00:00:00",
          "1999-01-01T00:00:00",
          "2000-01-01T00:00:00",
          "2001-01-01T00:00:00",
          "2002-01-01T00:00:00",
          "2003-01-01T00:00:00",
          "2004-01-01T00:00:00",
          "2005-01-01T00:00:00",
          "2006-01-01T00:00:00",
          "2007-01-01T00:00:00",
          "2008-01-01T00:00:00",
          "2009-01-01T00:00:00",
          "2010-01-01T00:00:00",
          "2011-01-01T00:00:00",
          "2012-01-01T00:00:00",
          "2013-01-01T00:00:00",
          "2014-01-01T00:00:00",
          "2015-01-01T00:00:00",
          "2016-01-01T00:00:00",
          "2017-01-01T00:00:00",
          "2018-01-01T00:00:00",
          "2019-01-01T00:00:00",
          "2020-01-01T00:00:00",
          "2021-01-01T00:00:00",
          "2022-01-01T00:00:00",
          "2023-01-01T00:00:00",
          "2024-01-01T00:00:00"
         ],
         "y": [
          1572,
          1679.75,
          1712,
          1698.25,
          1623,
          1654.75,
          1606.75,
          1570.75,
          1593.75,
          1676.5,
          1686.25,
          1671.5,
          1660,
          1749,
          1787,
          1827.25,
          1786,
          1784,
          1890.5,
          1901,
          1953.75,
          1953.75,
          2054.75,
          1934.25,
          2073,
          2060,
          1607,
          1582.5,
          1762.75,
          1912.75,
          2069.5
         ]
        }
       ],
       "layout": {
        "barmode": "stack",
        "height": 600,
        "legend": {
         "orientation": "h",
         "x": 0.5,
         "xanchor": "center",
         "y": -0.2,
         "yanchor": "top"
        },
        "shapes": [
         {
          "fillcolor": "grey",
          "layer": "below",
          "line": {
           "width": 0
          },
          "opacity": 0.5,
          "type": "rect",
          "x0": "2001-03-01",
          "x1": "2001-11-30",
          "xref": "x",
          "y0": 0,
          "y1": 1,
          "yref": "paper"
         },
         {
          "fillcolor": "grey",
          "layer": "below",
          "line": {
           "width": 0
          },
          "opacity": 0.5,
          "type": "rect",
          "x0": "2007-12-01",
          "x1": "2009-06-30",
          "xref": "x",
          "y0": 0,
          "y1": 1,
          "yref": "paper"
         },
         {
          "fillcolor": "grey",
          "layer": "below",
          "line": {
           "width": 0
          },
          "opacity": 0.5,
          "type": "rect",
          "x0": "2020-02-01",
          "x1": "2020-04-30",
          "xref": "x",
          "y0": 0,
          "y1": 1,
          "yref": "paper"
         }
        ],
        "showlegend": true,
        "template": {
         "data": {
          "bar": [
           {
            "error_x": {
             "color": "#2a3f5f"
            },
            "error_y": {
             "color": "#2a3f5f"
            },
            "marker": {
             "line": {
              "color": "#E5ECF6",
              "width": 0.5
             },
             "pattern": {
              "fillmode": "overlay",
              "size": 10,
              "solidity": 0.2
             }
            },
            "type": "bar"
           }
          ],
          "barpolar": [
           {
            "marker": {
             "line": {
              "color": "#E5ECF6",
              "width": 0.5
             },
             "pattern": {
              "fillmode": "overlay",
              "size": 10,
              "solidity": 0.2
             }
            },
            "type": "barpolar"
           }
          ],
          "carpet": [
           {
            "aaxis": {
             "endlinecolor": "#2a3f5f",
             "gridcolor": "white",
             "linecolor": "white",
             "minorgridcolor": "white",
             "startlinecolor": "#2a3f5f"
            },
            "baxis": {
             "endlinecolor": "#2a3f5f",
             "gridcolor": "white",
             "linecolor": "white",
             "minorgridcolor": "white",
             "startlinecolor": "#2a3f5f"
            },
            "type": "carpet"
           }
          ],
          "choropleth": [
           {
            "colorbar": {
             "outlinewidth": 0,
             "ticks": ""
            },
            "type": "choropleth"
           }
          ],
          "contour": [
           {
            "colorbar": {
             "outlinewidth": 0,
             "ticks": ""
            },
            "colorscale": [
             [
              0,
              "#0d0887"
             ],
             [
              0.1111111111111111,
              "#46039f"
             ],
             [
              0.2222222222222222,
              "#7201a8"
             ],
             [
              0.3333333333333333,
              "#9c179e"
             ],
             [
              0.4444444444444444,
              "#bd3786"
             ],
             [
              0.5555555555555556,
              "#d8576b"
             ],
             [
              0.6666666666666666,
              "#ed7953"
             ],
             [
              0.7777777777777778,
              "#fb9f3a"
             ],
             [
              0.8888888888888888,
              "#fdca26"
             ],
             [
              1,
              "#f0f921"
             ]
            ],
            "type": "contour"
           }
          ],
          "contourcarpet": [
           {
            "colorbar": {
             "outlinewidth": 0,
             "ticks": ""
            },
            "type": "contourcarpet"
           }
          ],
          "heatmap": [
           {
            "colorbar": {
             "outlinewidth": 0,
             "ticks": ""
            },
            "colorscale": [
             [
              0,
              "#0d0887"
             ],
             [
              0.1111111111111111,
              "#46039f"
             ],
             [
              0.2222222222222222,
              "#7201a8"
             ],
             [
              0.3333333333333333,
              "#9c179e"
             ],
             [
              0.4444444444444444,
              "#bd3786"
             ],
             [
              0.5555555555555556,
              "#d8576b"
             ],
             [
              0.6666666666666666,
              "#ed7953"
             ],
             [
              0.7777777777777778,
              "#fb9f3a"
             ],
             [
              0.8888888888888888,
              "#fdca26"
             ],
             [
              1,
              "#f0f921"
             ]
            ],
            "type": "heatmap"
           }
          ],
          "heatmapgl": [
           {
            "colorbar": {
             "outlinewidth": 0,
             "ticks": ""
            },
            "colorscale": [
             [
              0,
              "#0d0887"
             ],
             [
              0.1111111111111111,
              "#46039f"
             ],
             [
              0.2222222222222222,
              "#7201a8"
             ],
             [
              0.3333333333333333,
              "#9c179e"
             ],
             [
              0.4444444444444444,
              "#bd3786"
             ],
             [
              0.5555555555555556,
              "#d8576b"
             ],
             [
              0.6666666666666666,
              "#ed7953"
             ],
             [
              0.7777777777777778,
              "#fb9f3a"
             ],
             [
              0.8888888888888888,
              "#fdca26"
             ],
             [
              1,
              "#f0f921"
             ]
            ],
            "type": "heatmapgl"
           }
          ],
          "histogram": [
           {
            "marker": {
             "pattern": {
              "fillmode": "overlay",
              "size": 10,
              "solidity": 0.2
             }
            },
            "type": "histogram"
           }
          ],
          "histogram2d": [
           {
            "colorbar": {
             "outlinewidth": 0,
             "ticks": ""
            },
            "colorscale": [
             [
              0,
              "#0d0887"
             ],
             [
              0.1111111111111111,
              "#46039f"
             ],
             [
              0.2222222222222222,
              "#7201a8"
             ],
             [
              0.3333333333333333,
              "#9c179e"
             ],
             [
              0.4444444444444444,
              "#bd3786"
             ],
             [
              0.5555555555555556,
              "#d8576b"
             ],
             [
              0.6666666666666666,
              "#ed7953"
             ],
             [
              0.7777777777777778,
              "#fb9f3a"
             ],
             [
              0.8888888888888888,
              "#fdca26"
             ],
             [
              1,
              "#f0f921"
             ]
            ],
            "type": "histogram2d"
           }
          ],
          "histogram2dcontour": [
           {
            "colorbar": {
             "outlinewidth": 0,
             "ticks": ""
            },
            "colorscale": [
             [
              0,
              "#0d0887"
             ],
             [
              0.1111111111111111,
              "#46039f"
             ],
             [
              0.2222222222222222,
              "#7201a8"
             ],
             [
              0.3333333333333333,
              "#9c179e"
             ],
             [
              0.4444444444444444,
              "#bd3786"
             ],
             [
              0.5555555555555556,
              "#d8576b"
             ],
             [
              0.6666666666666666,
              "#ed7953"
             ],
             [
              0.7777777777777778,
              "#fb9f3a"
             ],
             [
              0.8888888888888888,
              "#fdca26"
             ],
             [
              1,
              "#f0f921"
             ]
            ],
            "type": "histogram2dcontour"
           }
          ],
          "mesh3d": [
           {
            "colorbar": {
             "outlinewidth": 0,
             "ticks": ""
            },
            "type": "mesh3d"
           }
          ],
          "parcoords": [
           {
            "line": {
             "colorbar": {
              "outlinewidth": 0,
              "ticks": ""
             }
            },
            "type": "parcoords"
           }
          ],
          "pie": [
           {
            "automargin": true,
            "type": "pie"
           }
          ],
          "scatter": [
           {
            "fillpattern": {
             "fillmode": "overlay",
             "size": 10,
             "solidity": 0.2
            },
            "type": "scatter"
           }
          ],
          "scatter3d": [
           {
            "line": {
             "colorbar": {
              "outlinewidth": 0,
              "ticks": ""
             }
            },
            "marker": {
             "colorbar": {
              "outlinewidth": 0,
              "ticks": ""
             }
            },
            "type": "scatter3d"
           }
          ],
          "scattercarpet": [
           {
            "marker": {
             "colorbar": {
              "outlinewidth": 0,
              "ticks": ""
             }
            },
            "type": "scattercarpet"
           }
          ],
          "scattergeo": [
           {
            "marker": {
             "colorbar": {
              "outlinewidth": 0,
              "ticks": ""
             }
            },
            "type": "scattergeo"
           }
          ],
          "scattergl": [
           {
            "marker": {
             "colorbar": {
              "outlinewidth": 0,
              "ticks": ""
             }
            },
            "type": "scattergl"
           }
          ],
          "scattermapbox": [
           {
            "marker": {
             "colorbar": {
              "outlinewidth": 0,
              "ticks": ""
             }
            },
            "type": "scattermapbox"
           }
          ],
          "scatterpolar": [
           {
            "marker": {
             "colorbar": {
              "outlinewidth": 0,
              "ticks": ""
             }
            },
            "type": "scatterpolar"
           }
          ],
          "scatterpolargl": [
           {
            "marker": {
             "colorbar": {
              "outlinewidth": 0,
              "ticks": ""
             }
            },
            "type": "scatterpolargl"
           }
          ],
          "scatterternary": [
           {
            "marker": {
             "colorbar": {
              "outlinewidth": 0,
              "ticks": ""
             }
            },
            "type": "scatterternary"
           }
          ],
          "surface": [
           {
            "colorbar": {
             "outlinewidth": 0,
             "ticks": ""
            },
            "colorscale": [
             [
              0,
              "#0d0887"
             ],
             [
              0.1111111111111111,
              "#46039f"
             ],
             [
              0.2222222222222222,
              "#7201a8"
             ],
             [
              0.3333333333333333,
              "#9c179e"
             ],
             [
              0.4444444444444444,
              "#bd3786"
             ],
             [
              0.5555555555555556,
              "#d8576b"
             ],
             [
              0.6666666666666666,
              "#ed7953"
             ],
             [
              0.7777777777777778,
              "#fb9f3a"
             ],
             [
              0.8888888888888888,
              "#fdca26"
             ],
             [
              1,
              "#f0f921"
             ]
            ],
            "type": "surface"
           }
          ],
          "table": [
           {
            "cells": {
             "fill": {
              "color": "#EBF0F8"
             },
             "line": {
              "color": "white"
             }
            },
            "header": {
             "fill": {
              "color": "#C8D4E3"
             },
             "line": {
              "color": "white"
             }
            },
            "type": "table"
           }
          ]
         },
         "layout": {
          "annotationdefaults": {
           "arrowcolor": "#2a3f5f",
           "arrowhead": 0,
           "arrowwidth": 1
          },
          "autotypenumbers": "strict",
          "coloraxis": {
           "colorbar": {
            "outlinewidth": 0,
            "ticks": ""
           }
          },
          "colorscale": {
           "diverging": [
            [
             0,
             "#8e0152"
            ],
            [
             0.1,
             "#c51b7d"
            ],
            [
             0.2,
             "#de77ae"
            ],
            [
             0.3,
             "#f1b6da"
            ],
            [
             0.4,
             "#fde0ef"
            ],
            [
             0.5,
             "#f7f7f7"
            ],
            [
             0.6,
             "#e6f5d0"
            ],
            [
             0.7,
             "#b8e186"
            ],
            [
             0.8,
             "#7fbc41"
            ],
            [
             0.9,
             "#4d9221"
            ],
            [
             1,
             "#276419"
            ]
           ],
           "sequential": [
            [
             0,
             "#0d0887"
            ],
            [
             0.1111111111111111,
             "#46039f"
            ],
            [
             0.2222222222222222,
             "#7201a8"
            ],
            [
             0.3333333333333333,
             "#9c179e"
            ],
            [
             0.4444444444444444,
             "#bd3786"
            ],
            [
             0.5555555555555556,
             "#d8576b"
            ],
            [
             0.6666666666666666,
             "#ed7953"
            ],
            [
             0.7777777777777778,
             "#fb9f3a"
            ],
            [
             0.8888888888888888,
             "#fdca26"
            ],
            [
             1,
             "#f0f921"
            ]
           ],
           "sequentialminus": [
            [
             0,
             "#0d0887"
            ],
            [
             0.1111111111111111,
             "#46039f"
            ],
            [
             0.2222222222222222,
             "#7201a8"
            ],
            [
             0.3333333333333333,
             "#9c179e"
            ],
            [
             0.4444444444444444,
             "#bd3786"
            ],
            [
             0.5555555555555556,
             "#d8576b"
            ],
            [
             0.6666666666666666,
             "#ed7953"
            ],
            [
             0.7777777777777778,
             "#fb9f3a"
            ],
            [
             0.8888888888888888,
             "#fdca26"
            ],
            [
             1,
             "#f0f921"
            ]
           ]
          },
          "colorway": [
           "#636efa",
           "#EF553B",
           "#00cc96",
           "#ab63fa",
           "#FFA15A",
           "#19d3f3",
           "#FF6692",
           "#B6E880",
           "#FF97FF",
           "#FECB52"
          ],
          "font": {
           "color": "#2a3f5f"
          },
          "geo": {
           "bgcolor": "white",
           "lakecolor": "white",
           "landcolor": "#E5ECF6",
           "showlakes": true,
           "showland": true,
           "subunitcolor": "white"
          },
          "hoverlabel": {
           "align": "left"
          },
          "hovermode": "closest",
          "mapbox": {
           "style": "light"
          },
          "paper_bgcolor": "white",
          "plot_bgcolor": "#E5ECF6",
          "polar": {
           "angularaxis": {
            "gridcolor": "white",
            "linecolor": "white",
            "ticks": ""
           },
           "bgcolor": "#E5ECF6",
           "radialaxis": {
            "gridcolor": "white",
            "linecolor": "white",
            "ticks": ""
           }
          },
          "scene": {
           "xaxis": {
            "backgroundcolor": "#E5ECF6",
            "gridcolor": "white",
            "gridwidth": 2,
            "linecolor": "white",
            "showbackground": true,
            "ticks": "",
            "zerolinecolor": "white"
           },
           "yaxis": {
            "backgroundcolor": "#E5ECF6",
            "gridcolor": "white",
            "gridwidth": 2,
            "linecolor": "white",
            "showbackground": true,
            "ticks": "",
            "zerolinecolor": "white"
           },
           "zaxis": {
            "backgroundcolor": "#E5ECF6",
            "gridcolor": "white",
            "gridwidth": 2,
            "linecolor": "white",
            "showbackground": true,
            "ticks": "",
            "zerolinecolor": "white"
           }
          },
          "shapedefaults": {
           "line": {
            "color": "#2a3f5f"
           }
          },
          "ternary": {
           "aaxis": {
            "gridcolor": "white",
            "linecolor": "white",
            "ticks": ""
           },
           "baxis": {
            "gridcolor": "white",
            "linecolor": "white",
            "ticks": ""
           },
           "bgcolor": "#E5ECF6",
           "caxis": {
            "gridcolor": "white",
            "linecolor": "white",
            "ticks": ""
           }
          },
          "title": {
           "x": 0.05
          },
          "xaxis": {
           "automargin": true,
           "gridcolor": "white",
           "linecolor": "white",
           "ticks": "",
           "title": {
            "standoff": 15
           },
           "zerolinecolor": "white",
           "zerolinewidth": 2
          },
          "yaxis": {
           "automargin": true,
           "gridcolor": "white",
           "linecolor": "white",
           "ticks": "",
           "title": {
            "standoff": 15
           },
           "zerolinecolor": "white",
           "zerolinewidth": 2
          }
         }
        },
        "title": {
         "text": "Multiple Job Holders Mean Breakdown Over Time"
        },
        "width": 1700,
        "xaxis": {
         "tickformat": "%Y-%m",
         "title": {
          "text": "Year"
         },
         "type": "date"
        },
        "yaxis": {
         "title": {
          "text": "Mean Count"
         }
        }
       }
      }
     },
     "metadata": {},
     "output_type": "display_data"
    }
   ],
   "source": [
    "fig = go.Figure()\n",
    "\n",
    "# Add recession shading \n",
    "for recession in recession_periods:\n",
    "    fig.add_shape(\n",
    "        type='rect',\n",
    "        xref='x',\n",
    "        yref='paper',\n",
    "        x0=recession['start'],  # Start of recession\n",
    "        x1=recession['end'],    # End of recession\n",
    "        y0=0, y1=1,\n",
    "        fillcolor='grey',\n",
    "        opacity=0.5,\n",
    "        layer='below',\n",
    "        line_width=0\n",
    "    )\n",
    "\n",
    "# Adding recession periods legends\n",
    "fig.add_trace(\n",
    "    go.Scatter(\n",
    "        x=[None], y=[None],  # Empty scatter plot for legend entry\n",
    "        mode='markers',\n",
    "        marker=dict(size=10, color='grey', opacity=0.5),\n",
    "        showlegend=True,\n",
    "        name='Recession Periods'\n",
    "    )\n",
    ")\n",
    "\n",
    "# 3. Stacked Bar - MULTJobHolders_Pri_FT_Sec_PT\n",
    "fig.add_trace(\n",
    "    go.Bar(\n",
    "        x=mean_men.index,  # The x-axis (Year converted to datetime)\n",
    "        y=mean_men.values,  # The mean values for men\n",
    "        name='Multiple Job Holders - Primary FT & Secondary PT',\n",
    "        marker_color='black'\n",
    "    )\n",
    ")\n",
    "\n",
    "# 4. Stacked Bar - MULTJobHolders_Pri_Sec_BothFT\n",
    "fig.add_trace(\n",
    "    go.Bar(\n",
    "        x=mean_women.index,  # The x-axis (Year converted to datetime)\n",
    "        y=mean_women.values,  # The mean values for women\n",
    "        name='Multiple Job Holders - Primary & Secondary Both FT',\n",
    "        marker_color='green'\n",
    "    )\n",
    ")\n",
    "\n",
    "# 5. Stacked Bar - MULTJobHolders_Pri_Sec_BothPT\n",
    "fig.add_trace(\n",
    "    go.Bar(\n",
    "        x=mean_total.index,  # The x-axis (Year converted to datetime)\n",
    "        y=mean_total.values,  # The mean values for total\n",
    "        name='Multiple Job Holders - Primary & Secondary Both PT',\n",
    "        marker_color='lightblue'\n",
    "    )\n",
    ")\n",
    "\n",
    "# 6. Doing the Stacked bars and moving the legends to the bottom\n",
    "fig.update_layout(\n",
    "    barmode='stack',  # Makes the bars stacked\n",
    "    height=600, \n",
    "    width=1700,\n",
    "    title_text=\"Multiple Job Holders Mean Breakdown Over Time\",\n",
    "    xaxis_title=\"Year\",\n",
    "    yaxis_title=\"Mean Count\",\n",
    "    xaxis=dict(\n",
    "        type='date',  # Change x-axis to handle date format\n",
    "        tickformat='%Y-%m',  # Format the ticks to show year and month\n",
    "    ),\n",
    "    showlegend=True,\n",
    "    legend=dict(\n",
    "        orientation=\"h\",   # Horizontal orientation for the legend\n",
    "        x=0.5,             # Center the legend horizontally\n",
    "        y=-0.2,            # Move the legend below the chart\n",
    "        xanchor='center',   # Align the legend horizontally with the center\n",
    "        yanchor='top'       # Align the legend above the bottom edge\n",
    "    )\n",
    ")\n",
    "\n",
    "fig.show()\n",
    "\n",
    "\n"
   ]
  },
  {
   "cell_type": "code",
   "execution_count": 162,
   "metadata": {},
   "outputs": [
    {
     "data": {
      "application/vnd.plotly.v1+json": {
       "config": {
        "plotlyServerURL": "https://plot.ly"
       },
       "data": [
        {
         "marker": {
          "color": "grey",
          "opacity": 0.5,
          "size": 10
         },
         "mode": "markers",
         "name": "Recession Periods",
         "showlegend": true,
         "type": "scatter",
         "x": [
          null
         ],
         "y": [
          null
         ]
        },
        {
         "line": {
          "color": "red"
         },
         "mode": "lines",
         "name": "Delinquency Credit Loans",
         "type": "scatter",
         "x": [
          "1994-01-01T00:00:00",
          "1994-04-01T00:00:00",
          "1994-07-01T00:00:00",
          "1994-10-01T00:00:00",
          "1995-01-01T00:00:00",
          "1995-04-01T00:00:00",
          "1995-07-01T00:00:00",
          "1995-10-01T00:00:00",
          "1996-01-01T00:00:00",
          "1996-04-01T00:00:00",
          "1996-07-01T00:00:00",
          "1996-10-01T00:00:00",
          "1997-01-01T00:00:00",
          "1997-04-01T00:00:00",
          "1997-07-01T00:00:00",
          "1997-10-01T00:00:00",
          "1998-01-01T00:00:00",
          "1998-04-01T00:00:00",
          "1998-07-01T00:00:00",
          "1998-10-01T00:00:00",
          "1999-01-01T00:00:00",
          "1999-04-01T00:00:00",
          "1999-07-01T00:00:00",
          "1999-10-01T00:00:00",
          "2000-01-01T00:00:00",
          "2000-04-01T00:00:00",
          "2000-07-01T00:00:00",
          "2000-10-01T00:00:00",
          "2001-01-01T00:00:00",
          "2001-04-01T00:00:00",
          "2001-07-01T00:00:00",
          "2001-10-01T00:00:00",
          "2002-01-01T00:00:00",
          "2002-04-01T00:00:00",
          "2002-07-01T00:00:00",
          "2002-10-01T00:00:00",
          "2003-01-01T00:00:00",
          "2003-04-01T00:00:00",
          "2003-07-01T00:00:00",
          "2003-10-01T00:00:00",
          "2004-01-01T00:00:00",
          "2004-04-01T00:00:00",
          "2004-07-01T00:00:00",
          "2004-10-01T00:00:00",
          "2005-01-01T00:00:00",
          "2005-04-01T00:00:00",
          "2005-07-01T00:00:00",
          "2005-10-01T00:00:00",
          "2006-01-01T00:00:00",
          "2006-04-01T00:00:00",
          "2006-07-01T00:00:00",
          "2006-10-01T00:00:00",
          "2007-01-01T00:00:00",
          "2007-04-01T00:00:00",
          "2007-07-01T00:00:00",
          "2007-10-01T00:00:00",
          "2008-01-01T00:00:00",
          "2008-04-01T00:00:00",
          "2008-07-01T00:00:00",
          "2008-10-01T00:00:00",
          "2009-01-01T00:00:00",
          "2009-04-01T00:00:00",
          "2009-07-01T00:00:00",
          "2009-10-01T00:00:00",
          "2010-01-01T00:00:00",
          "2010-04-01T00:00:00",
          "2010-07-01T00:00:00",
          "2010-10-01T00:00:00",
          "2011-01-01T00:00:00",
          "2011-04-01T00:00:00",
          "2011-07-01T00:00:00",
          "2011-10-01T00:00:00",
          "2012-01-01T00:00:00",
          "2012-04-01T00:00:00",
          "2012-07-01T00:00:00",
          "2012-10-01T00:00:00",
          "2013-01-01T00:00:00",
          "2013-04-01T00:00:00",
          "2013-07-01T00:00:00",
          "2013-10-01T00:00:00",
          "2014-01-01T00:00:00",
          "2014-04-01T00:00:00",
          "2014-07-01T00:00:00",
          "2014-10-01T00:00:00",
          "2015-01-01T00:00:00",
          "2015-04-01T00:00:00",
          "2015-07-01T00:00:00",
          "2015-10-01T00:00:00",
          "2016-01-01T00:00:00",
          "2016-04-01T00:00:00",
          "2016-07-01T00:00:00",
          "2016-10-01T00:00:00",
          "2017-01-01T00:00:00",
          "2017-04-01T00:00:00",
          "2017-07-01T00:00:00",
          "2017-10-01T00:00:00",
          "2018-01-01T00:00:00",
          "2018-04-01T00:00:00",
          "2018-07-01T00:00:00",
          "2018-10-01T00:00:00",
          "2019-01-01T00:00:00",
          "2019-04-01T00:00:00",
          "2019-07-01T00:00:00",
          "2019-10-01T00:00:00",
          "2020-01-01T00:00:00",
          "2020-04-01T00:00:00",
          "2020-07-01T00:00:00",
          "2020-10-01T00:00:00",
          "2021-01-01T00:00:00",
          "2021-04-01T00:00:00",
          "2021-07-01T00:00:00",
          "2021-10-01T00:00:00",
          "2022-01-01T00:00:00",
          "2022-04-01T00:00:00",
          "2022-07-01T00:00:00",
          "2022-10-01T00:00:00",
          "2023-01-01T00:00:00",
          "2023-04-01T00:00:00",
          "2023-07-01T00:00:00",
          "2023-10-01T00:00:00",
          "2024-01-01T00:00:00",
          "2024-04-01T00:00:00"
         ],
         "y": [
          3.6,
          3.29,
          3.25,
          3.29,
          3.48,
          3.7,
          3.85,
          3.95,
          4.04,
          4.27,
          4.46,
          4.6,
          4.7,
          4.73,
          4.7,
          4.81,
          4.76,
          4.76,
          4.72,
          4.74,
          4.66,
          4.58,
          4.6,
          4.55,
          4.43,
          4.51,
          4.53,
          4.57,
          4.81,
          4.94,
          5,
          4.69,
          4.94,
          4.78,
          4.89,
          4.84,
          4.68,
          4.53,
          4.24,
          4.43,
          4.21,
          4.15,
          4.07,
          4.03,
          3.7,
          3.67,
          3.9,
          3.54,
          3.86,
          4.13,
          4.12,
          3.95,
          3.98,
          4.02,
          4.41,
          4.6,
          4.77,
          4.9,
          4.8,
          5.64,
          6.51,
          6.77,
          6.49,
          6.33,
          5.78,
          5.1,
          4.58,
          4.14,
          3.82,
          3.65,
          3.45,
          3.25,
          3.06,
          2.92,
          2.82,
          2.71,
          2.64,
          2.53,
          2.44,
          2.38,
          2.32,
          2.26,
          2.2,
          2.15,
          2.11,
          2.12,
          2.15,
          2.16,
          2.14,
          2.21,
          2.3,
          2.37,
          2.39,
          2.48,
          2.55,
          2.49,
          2.48,
          2.49,
          2.53,
          2.55,
          2.51,
          2.59,
          2.61,
          2.62,
          2.66,
          2.45,
          2,
          2.11,
          1.86,
          1.59,
          1.54,
          1.57,
          1.67,
          1.84,
          2.06,
          2.26,
          2.45,
          2.77,
          2.96,
          3.08,
          3.15,
          3.25
         ]
        },
        {
         "line": {
          "color": "black"
         },
         "mode": "lines",
         "name": "MULTJobHolders_Pri_FT_Sec_PT",
         "type": "scatter",
         "x": [
          "1994-01-01T00:00:00",
          "1994-04-01T00:00:00",
          "1994-07-01T00:00:00",
          "1994-10-01T00:00:00",
          "1995-01-01T00:00:00",
          "1995-04-01T00:00:00",
          "1995-07-01T00:00:00",
          "1995-10-01T00:00:00",
          "1996-01-01T00:00:00",
          "1996-04-01T00:00:00",
          "1996-07-01T00:00:00",
          "1996-10-01T00:00:00",
          "1997-01-01T00:00:00",
          "1997-04-01T00:00:00",
          "1997-07-01T00:00:00",
          "1997-10-01T00:00:00",
          "1998-01-01T00:00:00",
          "1998-04-01T00:00:00",
          "1998-07-01T00:00:00",
          "1998-10-01T00:00:00",
          "1999-01-01T00:00:00",
          "1999-04-01T00:00:00",
          "1999-07-01T00:00:00",
          "1999-10-01T00:00:00",
          "2000-01-01T00:00:00",
          "2000-04-01T00:00:00",
          "2000-07-01T00:00:00",
          "2000-10-01T00:00:00",
          "2001-01-01T00:00:00",
          "2001-04-01T00:00:00",
          "2001-07-01T00:00:00",
          "2001-10-01T00:00:00",
          "2002-01-01T00:00:00",
          "2002-04-01T00:00:00",
          "2002-07-01T00:00:00",
          "2002-10-01T00:00:00",
          "2003-01-01T00:00:00",
          "2003-04-01T00:00:00",
          "2003-07-01T00:00:00",
          "2003-10-01T00:00:00",
          "2004-01-01T00:00:00",
          "2004-04-01T00:00:00",
          "2004-07-01T00:00:00",
          "2004-10-01T00:00:00",
          "2005-01-01T00:00:00",
          "2005-04-01T00:00:00",
          "2005-07-01T00:00:00",
          "2005-10-01T00:00:00",
          "2006-01-01T00:00:00",
          "2006-04-01T00:00:00",
          "2006-07-01T00:00:00",
          "2006-10-01T00:00:00",
          "2007-01-01T00:00:00",
          "2007-04-01T00:00:00",
          "2007-07-01T00:00:00",
          "2007-10-01T00:00:00",
          "2008-01-01T00:00:00",
          "2008-04-01T00:00:00",
          "2008-07-01T00:00:00",
          "2008-10-01T00:00:00",
          "2009-01-01T00:00:00",
          "2009-04-01T00:00:00",
          "2009-07-01T00:00:00",
          "2009-10-01T00:00:00",
          "2010-01-01T00:00:00",
          "2010-04-01T00:00:00",
          "2010-07-01T00:00:00",
          "2010-10-01T00:00:00",
          "2011-01-01T00:00:00",
          "2011-04-01T00:00:00",
          "2011-07-01T00:00:00",
          "2011-10-01T00:00:00",
          "2012-01-01T00:00:00",
          "2012-04-01T00:00:00",
          "2012-07-01T00:00:00",
          "2012-10-01T00:00:00",
          "2013-01-01T00:00:00",
          "2013-04-01T00:00:00",
          "2013-07-01T00:00:00",
          "2013-10-01T00:00:00",
          "2014-01-01T00:00:00",
          "2014-04-01T00:00:00",
          "2014-07-01T00:00:00",
          "2014-10-01T00:00:00",
          "2015-01-01T00:00:00",
          "2015-04-01T00:00:00",
          "2015-07-01T00:00:00",
          "2015-10-01T00:00:00",
          "2016-01-01T00:00:00",
          "2016-04-01T00:00:00",
          "2016-07-01T00:00:00",
          "2016-10-01T00:00:00",
          "2017-01-01T00:00:00",
          "2017-04-01T00:00:00",
          "2017-07-01T00:00:00",
          "2017-10-01T00:00:00",
          "2018-01-01T00:00:00",
          "2018-04-01T00:00:00",
          "2018-07-01T00:00:00",
          "2018-10-01T00:00:00",
          "2019-01-01T00:00:00",
          "2019-04-01T00:00:00",
          "2019-07-01T00:00:00",
          "2019-10-01T00:00:00",
          "2020-01-01T00:00:00",
          "2020-04-01T00:00:00",
          "2020-07-01T00:00:00",
          "2020-10-01T00:00:00",
          "2021-01-01T00:00:00",
          "2021-04-01T00:00:00",
          "2021-07-01T00:00:00",
          "2021-10-01T00:00:00",
          "2022-01-01T00:00:00",
          "2022-04-01T00:00:00",
          "2022-07-01T00:00:00",
          "2022-10-01T00:00:00",
          "2023-01-01T00:00:00",
          "2023-04-01T00:00:00",
          "2023-07-01T00:00:00",
          "2023-10-01T00:00:00",
          "2024-01-01T00:00:00",
          "2024-04-01T00:00:00"
         ],
         "y": [
          3906,
          4269,
          4023,
          4388,
          4288,
          4490,
          4476,
          4505,
          4013,
          4250,
          4201,
          4532,
          4270,
          4445,
          4514,
          4584,
          4236,
          4523,
          4253,
          4755,
          4342,
          4269,
          4101,
          4462,
          4324,
          4287,
          4071,
          4224,
          4041,
          4164,
          4054,
          3751,
          3881,
          4036,
          3808,
          3893,
          3844,
          3758,
          3620,
          3849,
          3722,
          3869,
          3829,
          4196,
          3782,
          3849,
          3964,
          4153,
          3953,
          3894,
          3859,
          4123,
          4106,
          4332,
          3996,
          4409,
          4126,
          4197,
          4149,
          4281,
          3937,
          4119,
          3807,
          3931,
          3558,
          3636,
          3424,
          3653,
          3510,
          3586,
          3569,
          3631,
          3441,
          3549,
          3459,
          3633,
          3524,
          3761,
          3689,
          3645,
          3412,
          3805,
          3606,
          4089,
          3927,
          3759,
          3798,
          4084,
          3925,
          3904,
          3842,
          4373,
          3904,
          4184,
          3938,
          4167,
          4207,
          4237,
          4255,
          4484,
          4452,
          4317,
          4503,
          4602,
          4528,
          3202,
          3702,
          3813,
          3755,
          3915,
          3904,
          4193,
          4259,
          4385,
          4312,
          4449,
          4418,
          4388,
          4556,
          4978,
          4602,
          4844
         ],
         "yaxis": "y2"
        }
       ],
       "layout": {
        "height": 700,
        "legend": {
         "orientation": "h",
         "x": 0.5,
         "xanchor": "center",
         "y": 1.1
        },
        "shapes": [
         {
          "fillcolor": "grey",
          "layer": "below",
          "line": {
           "width": 0
          },
          "opacity": 0.5,
          "type": "rect",
          "x0": "2001-03-01",
          "x1": "2001-11-30",
          "xref": "x",
          "y0": 0,
          "y1": 1,
          "yref": "paper"
         },
         {
          "fillcolor": "grey",
          "layer": "below",
          "line": {
           "width": 0
          },
          "opacity": 0.5,
          "type": "rect",
          "x0": "2007-12-01",
          "x1": "2009-06-30",
          "xref": "x",
          "y0": 0,
          "y1": 1,
          "yref": "paper"
         },
         {
          "fillcolor": "grey",
          "layer": "below",
          "line": {
           "width": 0
          },
          "opacity": 0.5,
          "type": "rect",
          "x0": "2020-02-01",
          "x1": "2020-04-30",
          "xref": "x",
          "y0": 0,
          "y1": 1,
          "yref": "paper"
         }
        ],
        "template": {
         "data": {
          "bar": [
           {
            "error_x": {
             "color": "#2a3f5f"
            },
            "error_y": {
             "color": "#2a3f5f"
            },
            "marker": {
             "line": {
              "color": "#E5ECF6",
              "width": 0.5
             },
             "pattern": {
              "fillmode": "overlay",
              "size": 10,
              "solidity": 0.2
             }
            },
            "type": "bar"
           }
          ],
          "barpolar": [
           {
            "marker": {
             "line": {
              "color": "#E5ECF6",
              "width": 0.5
             },
             "pattern": {
              "fillmode": "overlay",
              "size": 10,
              "solidity": 0.2
             }
            },
            "type": "barpolar"
           }
          ],
          "carpet": [
           {
            "aaxis": {
             "endlinecolor": "#2a3f5f",
             "gridcolor": "white",
             "linecolor": "white",
             "minorgridcolor": "white",
             "startlinecolor": "#2a3f5f"
            },
            "baxis": {
             "endlinecolor": "#2a3f5f",
             "gridcolor": "white",
             "linecolor": "white",
             "minorgridcolor": "white",
             "startlinecolor": "#2a3f5f"
            },
            "type": "carpet"
           }
          ],
          "choropleth": [
           {
            "colorbar": {
             "outlinewidth": 0,
             "ticks": ""
            },
            "type": "choropleth"
           }
          ],
          "contour": [
           {
            "colorbar": {
             "outlinewidth": 0,
             "ticks": ""
            },
            "colorscale": [
             [
              0,
              "#0d0887"
             ],
             [
              0.1111111111111111,
              "#46039f"
             ],
             [
              0.2222222222222222,
              "#7201a8"
             ],
             [
              0.3333333333333333,
              "#9c179e"
             ],
             [
              0.4444444444444444,
              "#bd3786"
             ],
             [
              0.5555555555555556,
              "#d8576b"
             ],
             [
              0.6666666666666666,
              "#ed7953"
             ],
             [
              0.7777777777777778,
              "#fb9f3a"
             ],
             [
              0.8888888888888888,
              "#fdca26"
             ],
             [
              1,
              "#f0f921"
             ]
            ],
            "type": "contour"
           }
          ],
          "contourcarpet": [
           {
            "colorbar": {
             "outlinewidth": 0,
             "ticks": ""
            },
            "type": "contourcarpet"
           }
          ],
          "heatmap": [
           {
            "colorbar": {
             "outlinewidth": 0,
             "ticks": ""
            },
            "colorscale": [
             [
              0,
              "#0d0887"
             ],
             [
              0.1111111111111111,
              "#46039f"
             ],
             [
              0.2222222222222222,
              "#7201a8"
             ],
             [
              0.3333333333333333,
              "#9c179e"
             ],
             [
              0.4444444444444444,
              "#bd3786"
             ],
             [
              0.5555555555555556,
              "#d8576b"
             ],
             [
              0.6666666666666666,
              "#ed7953"
             ],
             [
              0.7777777777777778,
              "#fb9f3a"
             ],
             [
              0.8888888888888888,
              "#fdca26"
             ],
             [
              1,
              "#f0f921"
             ]
            ],
            "type": "heatmap"
           }
          ],
          "heatmapgl": [
           {
            "colorbar": {
             "outlinewidth": 0,
             "ticks": ""
            },
            "colorscale": [
             [
              0,
              "#0d0887"
             ],
             [
              0.1111111111111111,
              "#46039f"
             ],
             [
              0.2222222222222222,
              "#7201a8"
             ],
             [
              0.3333333333333333,
              "#9c179e"
             ],
             [
              0.4444444444444444,
              "#bd3786"
             ],
             [
              0.5555555555555556,
              "#d8576b"
             ],
             [
              0.6666666666666666,
              "#ed7953"
             ],
             [
              0.7777777777777778,
              "#fb9f3a"
             ],
             [
              0.8888888888888888,
              "#fdca26"
             ],
             [
              1,
              "#f0f921"
             ]
            ],
            "type": "heatmapgl"
           }
          ],
          "histogram": [
           {
            "marker": {
             "pattern": {
              "fillmode": "overlay",
              "size": 10,
              "solidity": 0.2
             }
            },
            "type": "histogram"
           }
          ],
          "histogram2d": [
           {
            "colorbar": {
             "outlinewidth": 0,
             "ticks": ""
            },
            "colorscale": [
             [
              0,
              "#0d0887"
             ],
             [
              0.1111111111111111,
              "#46039f"
             ],
             [
              0.2222222222222222,
              "#7201a8"
             ],
             [
              0.3333333333333333,
              "#9c179e"
             ],
             [
              0.4444444444444444,
              "#bd3786"
             ],
             [
              0.5555555555555556,
              "#d8576b"
             ],
             [
              0.6666666666666666,
              "#ed7953"
             ],
             [
              0.7777777777777778,
              "#fb9f3a"
             ],
             [
              0.8888888888888888,
              "#fdca26"
             ],
             [
              1,
              "#f0f921"
             ]
            ],
            "type": "histogram2d"
           }
          ],
          "histogram2dcontour": [
           {
            "colorbar": {
             "outlinewidth": 0,
             "ticks": ""
            },
            "colorscale": [
             [
              0,
              "#0d0887"
             ],
             [
              0.1111111111111111,
              "#46039f"
             ],
             [
              0.2222222222222222,
              "#7201a8"
             ],
             [
              0.3333333333333333,
              "#9c179e"
             ],
             [
              0.4444444444444444,
              "#bd3786"
             ],
             [
              0.5555555555555556,
              "#d8576b"
             ],
             [
              0.6666666666666666,
              "#ed7953"
             ],
             [
              0.7777777777777778,
              "#fb9f3a"
             ],
             [
              0.8888888888888888,
              "#fdca26"
             ],
             [
              1,
              "#f0f921"
             ]
            ],
            "type": "histogram2dcontour"
           }
          ],
          "mesh3d": [
           {
            "colorbar": {
             "outlinewidth": 0,
             "ticks": ""
            },
            "type": "mesh3d"
           }
          ],
          "parcoords": [
           {
            "line": {
             "colorbar": {
              "outlinewidth": 0,
              "ticks": ""
             }
            },
            "type": "parcoords"
           }
          ],
          "pie": [
           {
            "automargin": true,
            "type": "pie"
           }
          ],
          "scatter": [
           {
            "fillpattern": {
             "fillmode": "overlay",
             "size": 10,
             "solidity": 0.2
            },
            "type": "scatter"
           }
          ],
          "scatter3d": [
           {
            "line": {
             "colorbar": {
              "outlinewidth": 0,
              "ticks": ""
             }
            },
            "marker": {
             "colorbar": {
              "outlinewidth": 0,
              "ticks": ""
             }
            },
            "type": "scatter3d"
           }
          ],
          "scattercarpet": [
           {
            "marker": {
             "colorbar": {
              "outlinewidth": 0,
              "ticks": ""
             }
            },
            "type": "scattercarpet"
           }
          ],
          "scattergeo": [
           {
            "marker": {
             "colorbar": {
              "outlinewidth": 0,
              "ticks": ""
             }
            },
            "type": "scattergeo"
           }
          ],
          "scattergl": [
           {
            "marker": {
             "colorbar": {
              "outlinewidth": 0,
              "ticks": ""
             }
            },
            "type": "scattergl"
           }
          ],
          "scattermapbox": [
           {
            "marker": {
             "colorbar": {
              "outlinewidth": 0,
              "ticks": ""
             }
            },
            "type": "scattermapbox"
           }
          ],
          "scatterpolar": [
           {
            "marker": {
             "colorbar": {
              "outlinewidth": 0,
              "ticks": ""
             }
            },
            "type": "scatterpolar"
           }
          ],
          "scatterpolargl": [
           {
            "marker": {
             "colorbar": {
              "outlinewidth": 0,
              "ticks": ""
             }
            },
            "type": "scatterpolargl"
           }
          ],
          "scatterternary": [
           {
            "marker": {
             "colorbar": {
              "outlinewidth": 0,
              "ticks": ""
             }
            },
            "type": "scatterternary"
           }
          ],
          "surface": [
           {
            "colorbar": {
             "outlinewidth": 0,
             "ticks": ""
            },
            "colorscale": [
             [
              0,
              "#0d0887"
             ],
             [
              0.1111111111111111,
              "#46039f"
             ],
             [
              0.2222222222222222,
              "#7201a8"
             ],
             [
              0.3333333333333333,
              "#9c179e"
             ],
             [
              0.4444444444444444,
              "#bd3786"
             ],
             [
              0.5555555555555556,
              "#d8576b"
             ],
             [
              0.6666666666666666,
              "#ed7953"
             ],
             [
              0.7777777777777778,
              "#fb9f3a"
             ],
             [
              0.8888888888888888,
              "#fdca26"
             ],
             [
              1,
              "#f0f921"
             ]
            ],
            "type": "surface"
           }
          ],
          "table": [
           {
            "cells": {
             "fill": {
              "color": "#EBF0F8"
             },
             "line": {
              "color": "white"
             }
            },
            "header": {
             "fill": {
              "color": "#C8D4E3"
             },
             "line": {
              "color": "white"
             }
            },
            "type": "table"
           }
          ]
         },
         "layout": {
          "annotationdefaults": {
           "arrowcolor": "#2a3f5f",
           "arrowhead": 0,
           "arrowwidth": 1
          },
          "autotypenumbers": "strict",
          "coloraxis": {
           "colorbar": {
            "outlinewidth": 0,
            "ticks": ""
           }
          },
          "colorscale": {
           "diverging": [
            [
             0,
             "#8e0152"
            ],
            [
             0.1,
             "#c51b7d"
            ],
            [
             0.2,
             "#de77ae"
            ],
            [
             0.3,
             "#f1b6da"
            ],
            [
             0.4,
             "#fde0ef"
            ],
            [
             0.5,
             "#f7f7f7"
            ],
            [
             0.6,
             "#e6f5d0"
            ],
            [
             0.7,
             "#b8e186"
            ],
            [
             0.8,
             "#7fbc41"
            ],
            [
             0.9,
             "#4d9221"
            ],
            [
             1,
             "#276419"
            ]
           ],
           "sequential": [
            [
             0,
             "#0d0887"
            ],
            [
             0.1111111111111111,
             "#46039f"
            ],
            [
             0.2222222222222222,
             "#7201a8"
            ],
            [
             0.3333333333333333,
             "#9c179e"
            ],
            [
             0.4444444444444444,
             "#bd3786"
            ],
            [
             0.5555555555555556,
             "#d8576b"
            ],
            [
             0.6666666666666666,
             "#ed7953"
            ],
            [
             0.7777777777777778,
             "#fb9f3a"
            ],
            [
             0.8888888888888888,
             "#fdca26"
            ],
            [
             1,
             "#f0f921"
            ]
           ],
           "sequentialminus": [
            [
             0,
             "#0d0887"
            ],
            [
             0.1111111111111111,
             "#46039f"
            ],
            [
             0.2222222222222222,
             "#7201a8"
            ],
            [
             0.3333333333333333,
             "#9c179e"
            ],
            [
             0.4444444444444444,
             "#bd3786"
            ],
            [
             0.5555555555555556,
             "#d8576b"
            ],
            [
             0.6666666666666666,
             "#ed7953"
            ],
            [
             0.7777777777777778,
             "#fb9f3a"
            ],
            [
             0.8888888888888888,
             "#fdca26"
            ],
            [
             1,
             "#f0f921"
            ]
           ]
          },
          "colorway": [
           "#636efa",
           "#EF553B",
           "#00cc96",
           "#ab63fa",
           "#FFA15A",
           "#19d3f3",
           "#FF6692",
           "#B6E880",
           "#FF97FF",
           "#FECB52"
          ],
          "font": {
           "color": "#2a3f5f"
          },
          "geo": {
           "bgcolor": "white",
           "lakecolor": "white",
           "landcolor": "#E5ECF6",
           "showlakes": true,
           "showland": true,
           "subunitcolor": "white"
          },
          "hoverlabel": {
           "align": "left"
          },
          "hovermode": "closest",
          "mapbox": {
           "style": "light"
          },
          "paper_bgcolor": "white",
          "plot_bgcolor": "#E5ECF6",
          "polar": {
           "angularaxis": {
            "gridcolor": "white",
            "linecolor": "white",
            "ticks": ""
           },
           "bgcolor": "#E5ECF6",
           "radialaxis": {
            "gridcolor": "white",
            "linecolor": "white",
            "ticks": ""
           }
          },
          "scene": {
           "xaxis": {
            "backgroundcolor": "#E5ECF6",
            "gridcolor": "white",
            "gridwidth": 2,
            "linecolor": "white",
            "showbackground": true,
            "ticks": "",
            "zerolinecolor": "white"
           },
           "yaxis": {
            "backgroundcolor": "#E5ECF6",
            "gridcolor": "white",
            "gridwidth": 2,
            "linecolor": "white",
            "showbackground": true,
            "ticks": "",
            "zerolinecolor": "white"
           },
           "zaxis": {
            "backgroundcolor": "#E5ECF6",
            "gridcolor": "white",
            "gridwidth": 2,
            "linecolor": "white",
            "showbackground": true,
            "ticks": "",
            "zerolinecolor": "white"
           }
          },
          "shapedefaults": {
           "line": {
            "color": "#2a3f5f"
           }
          },
          "ternary": {
           "aaxis": {
            "gridcolor": "white",
            "linecolor": "white",
            "ticks": ""
           },
           "baxis": {
            "gridcolor": "white",
            "linecolor": "white",
            "ticks": ""
           },
           "bgcolor": "#E5ECF6",
           "caxis": {
            "gridcolor": "white",
            "linecolor": "white",
            "ticks": ""
           }
          },
          "title": {
           "x": 0.05
          },
          "xaxis": {
           "automargin": true,
           "gridcolor": "white",
           "linecolor": "white",
           "ticks": "",
           "title": {
            "standoff": 15
           },
           "zerolinecolor": "white",
           "zerolinewidth": 2
          },
          "yaxis": {
           "automargin": true,
           "gridcolor": "white",
           "linecolor": "white",
           "ticks": "",
           "title": {
            "standoff": 15
           },
           "zerolinecolor": "white",
           "zerolinewidth": 2
          }
         }
        },
        "title": {
         "text": "Delinquency Credit Loans and MULTJobHolders_Pri_FT_Sec_PT Over Time"
        },
        "width": 1600,
        "xaxis": {
         "tickformat": "%Y-%m",
         "title": {
          "text": "Date"
         },
         "type": "date"
        },
        "yaxis": {
         "tickfont": {
          "color": "red"
         },
         "title": {
          "font": {
           "color": "red"
          },
          "text": "Delinquency Credit Loans"
         }
        },
        "yaxis2": {
         "overlaying": "y",
         "side": "right",
         "tickfont": {
          "color": "green"
         },
         "title": {
          "font": {
           "color": "green"
          },
          "text": "MULTJobHolders_Pri_FT_Sec_PT"
         }
        }
       }
      }
     },
     "metadata": {},
     "output_type": "display_data"
    }
   ],
   "source": [
    "# Ensure the 'DATE' column is in datetime format\n",
    "combined_df.index = pd.to_datetime(combined_df.index)\n",
    "\n",
    "fig = go.Figure()\n",
    "\n",
    "# Add recession shading\n",
    "for recession in recession_periods:\n",
    "    fig.add_shape(\n",
    "        type='rect',\n",
    "        xref='x',\n",
    "        yref='paper',\n",
    "        x0=recession['start'],  # Start of recession\n",
    "        x1=recession['end'],    # End of recession\n",
    "        y0=0, y1=1,\n",
    "        fillcolor='grey',\n",
    "        opacity=0.5,\n",
    "        layer='below',\n",
    "        line_width=0\n",
    "    )\n",
    "\n",
    "# recession periods\n",
    "fig.add_trace(\n",
    "    go.Scatter(\n",
    "        x=[None], y=[None],  # Empty scatter plot for legend entry\n",
    "        mode='markers',\n",
    "        marker=dict(size=10, color='grey', opacity=0.5),\n",
    "        showlegend=True,\n",
    "        name='Recession Periods'\n",
    "    )\n",
    ")\n",
    "\n",
    "# Delinquency Credit Loans \n",
    "fig.add_trace(\n",
    "    go.Scatter(\n",
    "        x=combined_df.index, \n",
    "        y=combined_df['DelinquencyCreditCLoans'], \n",
    "        name='Delinquency Credit Loans',\n",
    "        mode='lines',\n",
    "        line=dict(color='red'),\n",
    "    )\n",
    ")\n",
    "\n",
    "# MULTJobHolders_Pri_FT_Sec_PT \n",
    "fig.add_trace(\n",
    "    go.Scatter(\n",
    "        x=combined_df.index, \n",
    "        y=combined_df['MULTJobHolders_Pri_FT_Sec_PT'], \n",
    "        name='MULTJobHolders_Pri_FT_Sec_PT',\n",
    "        mode='lines',\n",
    "        line=dict(color='black'),\n",
    "        yaxis='y2'  # Assign to secondary y-axis\n",
    "    )\n",
    ")\n",
    "\n",
    "# Add the secondary y-axis and adjust the x-axis for date formatting\n",
    "fig.update_layout(\n",
    "    title='Delinquency Credit Loans and MULTJobHolders_Pri_FT_Sec_PT Over Time',\n",
    "    xaxis_title='Date',\n",
    "    xaxis=dict(\n",
    "        type='date',  # Ensure x-axis is in date format\n",
    "        tickformat='%Y-%m',  # Format ticks to show year and month\n",
    "    ),\n",
    "    yaxis=dict(\n",
    "        title='Delinquency Credit Loans',\n",
    "        titlefont=dict(color='red'),\n",
    "        tickfont=dict(color='red')\n",
    "    ),\n",
    "    yaxis2=dict(\n",
    "        title='MULTJobHolders_Pri_FT_Sec_PT',\n",
    "        titlefont=dict(color='green'),\n",
    "        tickfont=dict(color='green'),\n",
    "        overlaying='y',  # Overlay on the same plot\n",
    "        side='right'     # Show on the right side\n",
    "    ),\n",
    "    legend=dict(\n",
    "        x=0.5, \n",
    "        y=1.1,\n",
    "        orientation='h',\n",
    "        xanchor='center'\n",
    "    ),\n",
    "    height=700,\n",
    "    width=1600\n",
    ")\n",
    "fig.show()\n"
   ]
  },
  {
   "cell_type": "code",
   "execution_count": 163,
   "metadata": {},
   "outputs": [
    {
     "data": {
      "text/plain": [
       "DATE\n",
       "2023-04-01    2.77\n",
       "2023-07-01    2.96\n",
       "2023-10-01    3.08\n",
       "2024-01-01    3.15\n",
       "2024-04-01    3.25\n",
       "Name: DelinquencyCreditCLoans, dtype: float64"
      ]
     },
     "execution_count": 163,
     "metadata": {},
     "output_type": "execute_result"
    }
   ],
   "source": [
    "DelinquencyCreditCLoans_df = combined_df['DelinquencyCreditCLoans']\n",
    "DelinquencyCreditCLoans_df.tail()\n"
   ]
  },
  {
   "cell_type": "code",
   "execution_count": 164,
   "metadata": {},
   "outputs": [
    {
     "data": {
      "text/html": [
       "<div>\n",
       "<style scoped>\n",
       "    .dataframe tbody tr th:only-of-type {\n",
       "        vertical-align: middle;\n",
       "    }\n",
       "\n",
       "    .dataframe tbody tr th {\n",
       "        vertical-align: top;\n",
       "    }\n",
       "\n",
       "    .dataframe thead th {\n",
       "        text-align: right;\n",
       "    }\n",
       "</style>\n",
       "<table border=\"1\" class=\"dataframe\">\n",
       "  <thead>\n",
       "    <tr style=\"text-align: right;\">\n",
       "      <th></th>\n",
       "      <th>Start Date</th>\n",
       "      <th>End Date</th>\n",
       "      <th>Start Value</th>\n",
       "      <th>End Value</th>\n",
       "      <th>Value Difference</th>\n",
       "      <th>Duration (Days)</th>\n",
       "      <th>Acceleration (Value per Day)</th>\n",
       "    </tr>\n",
       "  </thead>\n",
       "  <tbody>\n",
       "    <tr>\n",
       "      <th>0</th>\n",
       "      <td>2005-10-01</td>\n",
       "      <td>2009-04-01</td>\n",
       "      <td>3.54</td>\n",
       "      <td>6.77</td>\n",
       "      <td>3.23</td>\n",
       "      <td>1278</td>\n",
       "      <td>0.002527</td>\n",
       "    </tr>\n",
       "    <tr>\n",
       "      <th>1</th>\n",
       "      <td>2000-01-01</td>\n",
       "      <td>2001-07-01</td>\n",
       "      <td>4.43</td>\n",
       "      <td>5.00</td>\n",
       "      <td>0.57</td>\n",
       "      <td>547</td>\n",
       "      <td>0.001042</td>\n",
       "    </tr>\n",
       "    <tr>\n",
       "      <th>2</th>\n",
       "      <td>2021-07-01</td>\n",
       "      <td>2024-04-01</td>\n",
       "      <td>1.54</td>\n",
       "      <td>3.25</td>\n",
       "      <td>1.71</td>\n",
       "      <td>1005</td>\n",
       "      <td>0.001701</td>\n",
       "    </tr>\n",
       "  </tbody>\n",
       "</table>\n",
       "</div>"
      ],
      "text/plain": [
       "  Start Date   End Date  Start Value  End Value  Value Difference  \\\n",
       "0 2005-10-01 2009-04-01         3.54       6.77              3.23   \n",
       "1 2000-01-01 2001-07-01         4.43       5.00              0.57   \n",
       "2 2021-07-01 2024-04-01         1.54       3.25              1.71   \n",
       "\n",
       "   Duration (Days)  Acceleration (Value per Day)  \n",
       "0             1278                      0.002527  \n",
       "1              547                      0.001042  \n",
       "2             1005                      0.001701  "
      ]
     },
     "execution_count": 164,
     "metadata": {},
     "output_type": "execute_result"
    }
   ],
   "source": [
    "# cycle observed in the charts are the low and pearks\n",
    "periods = [\n",
    "    {'start': '2005-10', 'end': '2009-04'},\n",
    "    {'start': '2000-01', 'end': '2001-07'},\n",
    "    {'start': '2021-07', 'end': '2024-04'}  \n",
    "]\n",
    "\n",
    "cycle_results = []\n",
    "\n",
    "for period in periods:\n",
    "    start_date = pd.to_datetime(period['start'])\n",
    "    end_date = pd.to_datetime(period['end'])\n",
    "    \n",
    "    # Filter the data for the given period\n",
    "    period_data = DelinquencyCreditCLoans_df.loc[start_date:end_date]  # No need to specify the column name again\n",
    "    \n",
    "    if len(period_data) > 1:  # Ensure there is enough data to calculate\n",
    "        start_value = period_data.iloc[0]\n",
    "        end_value = period_data.iloc[-1]\n",
    "        duration = (end_date - start_date).days  # Duration in days\n",
    "        value_diff = end_value - start_value  # Calculate the value difference\n",
    "        acceleration = value_diff / duration  # Acceleration: change in value per day\n",
    "        \n",
    "        cycle_results.append({\n",
    "            'Start Date': start_date,\n",
    "            'End Date': end_date,\n",
    "            'Start Value': start_value,\n",
    "            'End Value': end_value,\n",
    "            'Value Difference': value_diff,\n",
    "            'Duration (Days)': duration,\n",
    "            'Acceleration (Value per Day)': acceleration\n",
    "        })\n",
    "\n",
    "cycle_results_df = pd.DataFrame(cycle_results)\n",
    "cycle_results_df\n",
    "\n"
   ]
  },
  {
   "cell_type": "code",
   "execution_count": 165,
   "metadata": {},
   "outputs": [],
   "source": [
    "DelinquencyCreditCLoans_df = DelinquencyCreditCLoans_df.to_frame(name='DelinquencyCreditCLoans')"
   ]
  },
  {
   "cell_type": "code",
   "execution_count": 166,
   "metadata": {},
   "outputs": [
    {
     "data": {
      "application/vnd.plotly.v1+json": {
       "config": {
        "plotlyServerURL": "https://plot.ly"
       },
       "data": [
        {
         "line": {
          "color": "red"
         },
         "mode": "lines",
         "name": "Delinquency Credit Loans",
         "type": "scatter",
         "x": [
          "1994-01-01T00:00:00",
          "1994-04-01T00:00:00",
          "1994-07-01T00:00:00",
          "1994-10-01T00:00:00",
          "1995-01-01T00:00:00",
          "1995-04-01T00:00:00",
          "1995-07-01T00:00:00",
          "1995-10-01T00:00:00",
          "1996-01-01T00:00:00",
          "1996-04-01T00:00:00",
          "1996-07-01T00:00:00",
          "1996-10-01T00:00:00",
          "1997-01-01T00:00:00",
          "1997-04-01T00:00:00",
          "1997-07-01T00:00:00",
          "1997-10-01T00:00:00",
          "1998-01-01T00:00:00",
          "1998-04-01T00:00:00",
          "1998-07-01T00:00:00",
          "1998-10-01T00:00:00",
          "1999-01-01T00:00:00",
          "1999-04-01T00:00:00",
          "1999-07-01T00:00:00",
          "1999-10-01T00:00:00",
          "2000-01-01T00:00:00",
          "2000-04-01T00:00:00",
          "2000-07-01T00:00:00",
          "2000-10-01T00:00:00",
          "2001-01-01T00:00:00",
          "2001-04-01T00:00:00",
          "2001-07-01T00:00:00",
          "2001-10-01T00:00:00",
          "2002-01-01T00:00:00",
          "2002-04-01T00:00:00",
          "2002-07-01T00:00:00",
          "2002-10-01T00:00:00",
          "2003-01-01T00:00:00",
          "2003-04-01T00:00:00",
          "2003-07-01T00:00:00",
          "2003-10-01T00:00:00",
          "2004-01-01T00:00:00",
          "2004-04-01T00:00:00",
          "2004-07-01T00:00:00",
          "2004-10-01T00:00:00",
          "2005-01-01T00:00:00",
          "2005-04-01T00:00:00",
          "2005-07-01T00:00:00",
          "2005-10-01T00:00:00",
          "2006-01-01T00:00:00",
          "2006-04-01T00:00:00",
          "2006-07-01T00:00:00",
          "2006-10-01T00:00:00",
          "2007-01-01T00:00:00",
          "2007-04-01T00:00:00",
          "2007-07-01T00:00:00",
          "2007-10-01T00:00:00",
          "2008-01-01T00:00:00",
          "2008-04-01T00:00:00",
          "2008-07-01T00:00:00",
          "2008-10-01T00:00:00",
          "2009-01-01T00:00:00",
          "2009-04-01T00:00:00",
          "2009-07-01T00:00:00",
          "2009-10-01T00:00:00",
          "2010-01-01T00:00:00",
          "2010-04-01T00:00:00",
          "2010-07-01T00:00:00",
          "2010-10-01T00:00:00",
          "2011-01-01T00:00:00",
          "2011-04-01T00:00:00",
          "2011-07-01T00:00:00",
          "2011-10-01T00:00:00",
          "2012-01-01T00:00:00",
          "2012-04-01T00:00:00",
          "2012-07-01T00:00:00",
          "2012-10-01T00:00:00",
          "2013-01-01T00:00:00",
          "2013-04-01T00:00:00",
          "2013-07-01T00:00:00",
          "2013-10-01T00:00:00",
          "2014-01-01T00:00:00",
          "2014-04-01T00:00:00",
          "2014-07-01T00:00:00",
          "2014-10-01T00:00:00",
          "2015-01-01T00:00:00",
          "2015-04-01T00:00:00",
          "2015-07-01T00:00:00",
          "2015-10-01T00:00:00",
          "2016-01-01T00:00:00",
          "2016-04-01T00:00:00",
          "2016-07-01T00:00:00",
          "2016-10-01T00:00:00",
          "2017-01-01T00:00:00",
          "2017-04-01T00:00:00",
          "2017-07-01T00:00:00",
          "2017-10-01T00:00:00",
          "2018-01-01T00:00:00",
          "2018-04-01T00:00:00",
          "2018-07-01T00:00:00",
          "2018-10-01T00:00:00",
          "2019-01-01T00:00:00",
          "2019-04-01T00:00:00",
          "2019-07-01T00:00:00",
          "2019-10-01T00:00:00",
          "2020-01-01T00:00:00",
          "2020-04-01T00:00:00",
          "2020-07-01T00:00:00",
          "2020-10-01T00:00:00",
          "2021-01-01T00:00:00",
          "2021-04-01T00:00:00",
          "2021-07-01T00:00:00",
          "2021-10-01T00:00:00",
          "2022-01-01T00:00:00",
          "2022-04-01T00:00:00",
          "2022-07-01T00:00:00",
          "2022-10-01T00:00:00",
          "2023-01-01T00:00:00",
          "2023-04-01T00:00:00",
          "2023-07-01T00:00:00",
          "2023-10-01T00:00:00",
          "2024-01-01T00:00:00",
          "2024-04-01T00:00:00"
         ],
         "y": [
          3.6,
          3.29,
          3.25,
          3.29,
          3.48,
          3.7,
          3.85,
          3.95,
          4.04,
          4.27,
          4.46,
          4.6,
          4.7,
          4.73,
          4.7,
          4.81,
          4.76,
          4.76,
          4.72,
          4.74,
          4.66,
          4.58,
          4.6,
          4.55,
          4.43,
          4.51,
          4.53,
          4.57,
          4.81,
          4.94,
          5,
          4.69,
          4.94,
          4.78,
          4.89,
          4.84,
          4.68,
          4.53,
          4.24,
          4.43,
          4.21,
          4.15,
          4.07,
          4.03,
          3.7,
          3.67,
          3.9,
          3.54,
          3.86,
          4.13,
          4.12,
          3.95,
          3.98,
          4.02,
          4.41,
          4.6,
          4.77,
          4.9,
          4.8,
          5.64,
          6.51,
          6.77,
          6.49,
          6.33,
          5.78,
          5.1,
          4.58,
          4.14,
          3.82,
          3.65,
          3.45,
          3.25,
          3.06,
          2.92,
          2.82,
          2.71,
          2.64,
          2.53,
          2.44,
          2.38,
          2.32,
          2.26,
          2.2,
          2.15,
          2.11,
          2.12,
          2.15,
          2.16,
          2.14,
          2.21,
          2.3,
          2.37,
          2.39,
          2.48,
          2.55,
          2.49,
          2.48,
          2.49,
          2.53,
          2.55,
          2.51,
          2.59,
          2.61,
          2.62,
          2.66,
          2.45,
          2,
          2.11,
          1.86,
          1.59,
          1.54,
          1.57,
          1.67,
          1.84,
          2.06,
          2.26,
          2.45,
          2.77,
          2.96,
          3.08,
          3.15,
          3.25
         ]
        }
       ],
       "layout": {
        "height": 500,
        "legend": {
         "orientation": "h",
         "x": 0.5,
         "xanchor": "center",
         "y": 1.1
        },
        "shapes": [
         {
          "fillcolor": "grey",
          "layer": "below",
          "line": {
           "width": 0
          },
          "opacity": 0.3,
          "type": "rect",
          "x0": "2001-03-01T00:00:00",
          "x1": "2001-11-30T00:00:00",
          "xref": "x",
          "y0": 0,
          "y1": 1,
          "yref": "paper"
         },
         {
          "fillcolor": "grey",
          "layer": "below",
          "line": {
           "width": 0
          },
          "opacity": 0.3,
          "type": "rect",
          "x0": "2007-12-01T00:00:00",
          "x1": "2009-06-30T00:00:00",
          "xref": "x",
          "y0": 0,
          "y1": 1,
          "yref": "paper"
         },
         {
          "fillcolor": "grey",
          "layer": "below",
          "line": {
           "width": 0
          },
          "opacity": 0.3,
          "type": "rect",
          "x0": "2020-02-01T00:00:00",
          "x1": "2020-04-30T00:00:00",
          "xref": "x",
          "y0": 0,
          "y1": 1,
          "yref": "paper"
         },
         {
          "fillcolor": "pink",
          "layer": "below",
          "line": {
           "width": 0
          },
          "opacity": 0.3,
          "type": "rect",
          "x0": "2005-10-01T00:00:00",
          "x1": "2009-04-01T00:00:00",
          "xref": "x",
          "y0": 0,
          "y1": 1,
          "yref": "paper"
         },
         {
          "fillcolor": "pink",
          "layer": "below",
          "line": {
           "width": 0
          },
          "opacity": 0.3,
          "type": "rect",
          "x0": "2000-01-01T00:00:00",
          "x1": "2001-07-01T00:00:00",
          "xref": "x",
          "y0": 0,
          "y1": 1,
          "yref": "paper"
         },
         {
          "fillcolor": "pink",
          "layer": "below",
          "line": {
           "width": 0
          },
          "opacity": 0.3,
          "type": "rect",
          "x0": "2021-07-01T00:00:00",
          "x1": "2024-04-01T00:00:00",
          "xref": "x",
          "y0": 0,
          "y1": 1,
          "yref": "paper"
         }
        ],
        "template": {
         "data": {
          "bar": [
           {
            "error_x": {
             "color": "#2a3f5f"
            },
            "error_y": {
             "color": "#2a3f5f"
            },
            "marker": {
             "line": {
              "color": "#E5ECF6",
              "width": 0.5
             },
             "pattern": {
              "fillmode": "overlay",
              "size": 10,
              "solidity": 0.2
             }
            },
            "type": "bar"
           }
          ],
          "barpolar": [
           {
            "marker": {
             "line": {
              "color": "#E5ECF6",
              "width": 0.5
             },
             "pattern": {
              "fillmode": "overlay",
              "size": 10,
              "solidity": 0.2
             }
            },
            "type": "barpolar"
           }
          ],
          "carpet": [
           {
            "aaxis": {
             "endlinecolor": "#2a3f5f",
             "gridcolor": "white",
             "linecolor": "white",
             "minorgridcolor": "white",
             "startlinecolor": "#2a3f5f"
            },
            "baxis": {
             "endlinecolor": "#2a3f5f",
             "gridcolor": "white",
             "linecolor": "white",
             "minorgridcolor": "white",
             "startlinecolor": "#2a3f5f"
            },
            "type": "carpet"
           }
          ],
          "choropleth": [
           {
            "colorbar": {
             "outlinewidth": 0,
             "ticks": ""
            },
            "type": "choropleth"
           }
          ],
          "contour": [
           {
            "colorbar": {
             "outlinewidth": 0,
             "ticks": ""
            },
            "colorscale": [
             [
              0,
              "#0d0887"
             ],
             [
              0.1111111111111111,
              "#46039f"
             ],
             [
              0.2222222222222222,
              "#7201a8"
             ],
             [
              0.3333333333333333,
              "#9c179e"
             ],
             [
              0.4444444444444444,
              "#bd3786"
             ],
             [
              0.5555555555555556,
              "#d8576b"
             ],
             [
              0.6666666666666666,
              "#ed7953"
             ],
             [
              0.7777777777777778,
              "#fb9f3a"
             ],
             [
              0.8888888888888888,
              "#fdca26"
             ],
             [
              1,
              "#f0f921"
             ]
            ],
            "type": "contour"
           }
          ],
          "contourcarpet": [
           {
            "colorbar": {
             "outlinewidth": 0,
             "ticks": ""
            },
            "type": "contourcarpet"
           }
          ],
          "heatmap": [
           {
            "colorbar": {
             "outlinewidth": 0,
             "ticks": ""
            },
            "colorscale": [
             [
              0,
              "#0d0887"
             ],
             [
              0.1111111111111111,
              "#46039f"
             ],
             [
              0.2222222222222222,
              "#7201a8"
             ],
             [
              0.3333333333333333,
              "#9c179e"
             ],
             [
              0.4444444444444444,
              "#bd3786"
             ],
             [
              0.5555555555555556,
              "#d8576b"
             ],
             [
              0.6666666666666666,
              "#ed7953"
             ],
             [
              0.7777777777777778,
              "#fb9f3a"
             ],
             [
              0.8888888888888888,
              "#fdca26"
             ],
             [
              1,
              "#f0f921"
             ]
            ],
            "type": "heatmap"
           }
          ],
          "heatmapgl": [
           {
            "colorbar": {
             "outlinewidth": 0,
             "ticks": ""
            },
            "colorscale": [
             [
              0,
              "#0d0887"
             ],
             [
              0.1111111111111111,
              "#46039f"
             ],
             [
              0.2222222222222222,
              "#7201a8"
             ],
             [
              0.3333333333333333,
              "#9c179e"
             ],
             [
              0.4444444444444444,
              "#bd3786"
             ],
             [
              0.5555555555555556,
              "#d8576b"
             ],
             [
              0.6666666666666666,
              "#ed7953"
             ],
             [
              0.7777777777777778,
              "#fb9f3a"
             ],
             [
              0.8888888888888888,
              "#fdca26"
             ],
             [
              1,
              "#f0f921"
             ]
            ],
            "type": "heatmapgl"
           }
          ],
          "histogram": [
           {
            "marker": {
             "pattern": {
              "fillmode": "overlay",
              "size": 10,
              "solidity": 0.2
             }
            },
            "type": "histogram"
           }
          ],
          "histogram2d": [
           {
            "colorbar": {
             "outlinewidth": 0,
             "ticks": ""
            },
            "colorscale": [
             [
              0,
              "#0d0887"
             ],
             [
              0.1111111111111111,
              "#46039f"
             ],
             [
              0.2222222222222222,
              "#7201a8"
             ],
             [
              0.3333333333333333,
              "#9c179e"
             ],
             [
              0.4444444444444444,
              "#bd3786"
             ],
             [
              0.5555555555555556,
              "#d8576b"
             ],
             [
              0.6666666666666666,
              "#ed7953"
             ],
             [
              0.7777777777777778,
              "#fb9f3a"
             ],
             [
              0.8888888888888888,
              "#fdca26"
             ],
             [
              1,
              "#f0f921"
             ]
            ],
            "type": "histogram2d"
           }
          ],
          "histogram2dcontour": [
           {
            "colorbar": {
             "outlinewidth": 0,
             "ticks": ""
            },
            "colorscale": [
             [
              0,
              "#0d0887"
             ],
             [
              0.1111111111111111,
              "#46039f"
             ],
             [
              0.2222222222222222,
              "#7201a8"
             ],
             [
              0.3333333333333333,
              "#9c179e"
             ],
             [
              0.4444444444444444,
              "#bd3786"
             ],
             [
              0.5555555555555556,
              "#d8576b"
             ],
             [
              0.6666666666666666,
              "#ed7953"
             ],
             [
              0.7777777777777778,
              "#fb9f3a"
             ],
             [
              0.8888888888888888,
              "#fdca26"
             ],
             [
              1,
              "#f0f921"
             ]
            ],
            "type": "histogram2dcontour"
           }
          ],
          "mesh3d": [
           {
            "colorbar": {
             "outlinewidth": 0,
             "ticks": ""
            },
            "type": "mesh3d"
           }
          ],
          "parcoords": [
           {
            "line": {
             "colorbar": {
              "outlinewidth": 0,
              "ticks": ""
             }
            },
            "type": "parcoords"
           }
          ],
          "pie": [
           {
            "automargin": true,
            "type": "pie"
           }
          ],
          "scatter": [
           {
            "fillpattern": {
             "fillmode": "overlay",
             "size": 10,
             "solidity": 0.2
            },
            "type": "scatter"
           }
          ],
          "scatter3d": [
           {
            "line": {
             "colorbar": {
              "outlinewidth": 0,
              "ticks": ""
             }
            },
            "marker": {
             "colorbar": {
              "outlinewidth": 0,
              "ticks": ""
             }
            },
            "type": "scatter3d"
           }
          ],
          "scattercarpet": [
           {
            "marker": {
             "colorbar": {
              "outlinewidth": 0,
              "ticks": ""
             }
            },
            "type": "scattercarpet"
           }
          ],
          "scattergeo": [
           {
            "marker": {
             "colorbar": {
              "outlinewidth": 0,
              "ticks": ""
             }
            },
            "type": "scattergeo"
           }
          ],
          "scattergl": [
           {
            "marker": {
             "colorbar": {
              "outlinewidth": 0,
              "ticks": ""
             }
            },
            "type": "scattergl"
           }
          ],
          "scattermapbox": [
           {
            "marker": {
             "colorbar": {
              "outlinewidth": 0,
              "ticks": ""
             }
            },
            "type": "scattermapbox"
           }
          ],
          "scatterpolar": [
           {
            "marker": {
             "colorbar": {
              "outlinewidth": 0,
              "ticks": ""
             }
            },
            "type": "scatterpolar"
           }
          ],
          "scatterpolargl": [
           {
            "marker": {
             "colorbar": {
              "outlinewidth": 0,
              "ticks": ""
             }
            },
            "type": "scatterpolargl"
           }
          ],
          "scatterternary": [
           {
            "marker": {
             "colorbar": {
              "outlinewidth": 0,
              "ticks": ""
             }
            },
            "type": "scatterternary"
           }
          ],
          "surface": [
           {
            "colorbar": {
             "outlinewidth": 0,
             "ticks": ""
            },
            "colorscale": [
             [
              0,
              "#0d0887"
             ],
             [
              0.1111111111111111,
              "#46039f"
             ],
             [
              0.2222222222222222,
              "#7201a8"
             ],
             [
              0.3333333333333333,
              "#9c179e"
             ],
             [
              0.4444444444444444,
              "#bd3786"
             ],
             [
              0.5555555555555556,
              "#d8576b"
             ],
             [
              0.6666666666666666,
              "#ed7953"
             ],
             [
              0.7777777777777778,
              "#fb9f3a"
             ],
             [
              0.8888888888888888,
              "#fdca26"
             ],
             [
              1,
              "#f0f921"
             ]
            ],
            "type": "surface"
           }
          ],
          "table": [
           {
            "cells": {
             "fill": {
              "color": "#EBF0F8"
             },
             "line": {
              "color": "white"
             }
            },
            "header": {
             "fill": {
              "color": "#C8D4E3"
             },
             "line": {
              "color": "white"
             }
            },
            "type": "table"
           }
          ]
         },
         "layout": {
          "annotationdefaults": {
           "arrowcolor": "#2a3f5f",
           "arrowhead": 0,
           "arrowwidth": 1
          },
          "autotypenumbers": "strict",
          "coloraxis": {
           "colorbar": {
            "outlinewidth": 0,
            "ticks": ""
           }
          },
          "colorscale": {
           "diverging": [
            [
             0,
             "#8e0152"
            ],
            [
             0.1,
             "#c51b7d"
            ],
            [
             0.2,
             "#de77ae"
            ],
            [
             0.3,
             "#f1b6da"
            ],
            [
             0.4,
             "#fde0ef"
            ],
            [
             0.5,
             "#f7f7f7"
            ],
            [
             0.6,
             "#e6f5d0"
            ],
            [
             0.7,
             "#b8e186"
            ],
            [
             0.8,
             "#7fbc41"
            ],
            [
             0.9,
             "#4d9221"
            ],
            [
             1,
             "#276419"
            ]
           ],
           "sequential": [
            [
             0,
             "#0d0887"
            ],
            [
             0.1111111111111111,
             "#46039f"
            ],
            [
             0.2222222222222222,
             "#7201a8"
            ],
            [
             0.3333333333333333,
             "#9c179e"
            ],
            [
             0.4444444444444444,
             "#bd3786"
            ],
            [
             0.5555555555555556,
             "#d8576b"
            ],
            [
             0.6666666666666666,
             "#ed7953"
            ],
            [
             0.7777777777777778,
             "#fb9f3a"
            ],
            [
             0.8888888888888888,
             "#fdca26"
            ],
            [
             1,
             "#f0f921"
            ]
           ],
           "sequentialminus": [
            [
             0,
             "#0d0887"
            ],
            [
             0.1111111111111111,
             "#46039f"
            ],
            [
             0.2222222222222222,
             "#7201a8"
            ],
            [
             0.3333333333333333,
             "#9c179e"
            ],
            [
             0.4444444444444444,
             "#bd3786"
            ],
            [
             0.5555555555555556,
             "#d8576b"
            ],
            [
             0.6666666666666666,
             "#ed7953"
            ],
            [
             0.7777777777777778,
             "#fb9f3a"
            ],
            [
             0.8888888888888888,
             "#fdca26"
            ],
            [
             1,
             "#f0f921"
            ]
           ]
          },
          "colorway": [
           "#636efa",
           "#EF553B",
           "#00cc96",
           "#ab63fa",
           "#FFA15A",
           "#19d3f3",
           "#FF6692",
           "#B6E880",
           "#FF97FF",
           "#FECB52"
          ],
          "font": {
           "color": "#2a3f5f"
          },
          "geo": {
           "bgcolor": "white",
           "lakecolor": "white",
           "landcolor": "#E5ECF6",
           "showlakes": true,
           "showland": true,
           "subunitcolor": "white"
          },
          "hoverlabel": {
           "align": "left"
          },
          "hovermode": "closest",
          "mapbox": {
           "style": "light"
          },
          "paper_bgcolor": "white",
          "plot_bgcolor": "#E5ECF6",
          "polar": {
           "angularaxis": {
            "gridcolor": "white",
            "linecolor": "white",
            "ticks": ""
           },
           "bgcolor": "#E5ECF6",
           "radialaxis": {
            "gridcolor": "white",
            "linecolor": "white",
            "ticks": ""
           }
          },
          "scene": {
           "xaxis": {
            "backgroundcolor": "#E5ECF6",
            "gridcolor": "white",
            "gridwidth": 2,
            "linecolor": "white",
            "showbackground": true,
            "ticks": "",
            "zerolinecolor": "white"
           },
           "yaxis": {
            "backgroundcolor": "#E5ECF6",
            "gridcolor": "white",
            "gridwidth": 2,
            "linecolor": "white",
            "showbackground": true,
            "ticks": "",
            "zerolinecolor": "white"
           },
           "zaxis": {
            "backgroundcolor": "#E5ECF6",
            "gridcolor": "white",
            "gridwidth": 2,
            "linecolor": "white",
            "showbackground": true,
            "ticks": "",
            "zerolinecolor": "white"
           }
          },
          "shapedefaults": {
           "line": {
            "color": "#2a3f5f"
           }
          },
          "ternary": {
           "aaxis": {
            "gridcolor": "white",
            "linecolor": "white",
            "ticks": ""
           },
           "baxis": {
            "gridcolor": "white",
            "linecolor": "white",
            "ticks": ""
           },
           "bgcolor": "#E5ECF6",
           "caxis": {
            "gridcolor": "white",
            "linecolor": "white",
            "ticks": ""
           }
          },
          "title": {
           "x": 0.05
          },
          "xaxis": {
           "automargin": true,
           "gridcolor": "white",
           "linecolor": "white",
           "ticks": "",
           "title": {
            "standoff": 15
           },
           "zerolinecolor": "white",
           "zerolinewidth": 2
          },
          "yaxis": {
           "automargin": true,
           "gridcolor": "white",
           "linecolor": "white",
           "ticks": "",
           "title": {
            "standoff": 15
           },
           "zerolinecolor": "white",
           "zerolinewidth": 2
          }
         }
        },
        "title": {
         "text": "Delinquency Credit Loans with Recession and Cycle Periods Highlighted"
        },
        "width": 1200,
        "xaxis": {
         "title": {
          "text": "Date"
         }
        },
        "yaxis": {
         "title": {
          "text": "Delinquency Credit Loans"
         }
        }
       }
      }
     },
     "metadata": {},
     "output_type": "display_data"
    }
   ],
   "source": [
    "fig = go.Figure()\n",
    "\n",
    "fig.add_trace(\n",
    "    go.Scatter(\n",
    "        x=DelinquencyCreditCLoans_df.index, \n",
    "        y=DelinquencyCreditCLoans_df['DelinquencyCreditCLoans'], \n",
    "        name='Delinquency Credit Loans',\n",
    "        mode='lines',\n",
    "        line=dict(color='red'),\n",
    "    )\n",
    ")\n",
    "\n",
    "# recession periods \n",
    "for recession in recession_periods:\n",
    "    start_date = pd.to_datetime(recession['start'])\n",
    "    end_date = pd.to_datetime(recession['end'])\n",
    "    fig.add_shape(\n",
    "        type='rect',\n",
    "        xref='x',\n",
    "        yref='paper',\n",
    "        x0=start_date,\n",
    "        x1=end_date,\n",
    "        y0=0, y1=1,\n",
    "        fillcolor='grey',  \n",
    "        opacity=0.3,\n",
    "        layer='below',\n",
    "        line_width=0\n",
    "    )\n",
    "\n",
    "# cycle periods\n",
    "for period in periods:\n",
    "    start_date = pd.to_datetime(period['start'])\n",
    "    end_date = pd.to_datetime(period['end'])\n",
    "    fig.add_shape(\n",
    "        type='rect',\n",
    "        xref='x',\n",
    "        yref='paper',\n",
    "        x0=start_date,\n",
    "        x1=end_date,\n",
    "        y0=0, y1=1,\n",
    "        fillcolor='pink',  \n",
    "        opacity=0.3,\n",
    "        layer='below',\n",
    "        line_width=0\n",
    "    )\n",
    "\n",
    "fig.update_layout(\n",
    "    title='Delinquency Credit Loans with Recession and Cycle Periods Highlighted',\n",
    "    xaxis_title='Date',\n",
    "    yaxis_title='Delinquency Credit Loans',\n",
    "    legend=dict(\n",
    "        x=0.5,\n",
    "        y=1.1,\n",
    "        orientation=\"h\",\n",
    "        xanchor=\"center\"\n",
    "    ),\n",
    "    height=500,\n",
    "    width=1200\n",
    ")\n",
    "\n",
    "fig.show()\n"
   ]
  },
  {
   "cell_type": "code",
   "execution_count": 167,
   "metadata": {},
   "outputs": [
    {
     "name": "stdout",
     "output_type": "stream",
     "text": [
      "Index(['MULTJobHolders_Pri_FT_Sec_PT', 'MULTJobHolders_Pri_Sec_BothFT',\n",
      "       'MULTJobHolders_Pri_Sec_BothPT', 'MULTJobHolders_Perc_ofEmployed_M',\n",
      "       'MULTJobHoldersPerc_ofEmployed_W', 'MULTJobHoldersPerc_ofEmployed'],\n",
      "      dtype='object')\n"
     ]
    },
    {
     "data": {
      "text/html": [
       "<div>\n",
       "<style scoped>\n",
       "    .dataframe tbody tr th:only-of-type {\n",
       "        vertical-align: middle;\n",
       "    }\n",
       "\n",
       "    .dataframe tbody tr th {\n",
       "        vertical-align: top;\n",
       "    }\n",
       "\n",
       "    .dataframe thead th {\n",
       "        text-align: right;\n",
       "    }\n",
       "</style>\n",
       "<table border=\"1\" class=\"dataframe\">\n",
       "  <thead>\n",
       "    <tr style=\"text-align: right;\">\n",
       "      <th></th>\n",
       "      <th>MULTJobHolders_Pri_FT_Sec_PT</th>\n",
       "      <th>MULTJobHolders_Pri_Sec_BothFT</th>\n",
       "      <th>MULTJobHolders_Pri_Sec_BothPT</th>\n",
       "      <th>MULTJobHolders_Perc_ofEmployed_M</th>\n",
       "      <th>MULTJobHoldersPerc_ofEmployed_W</th>\n",
       "      <th>MULTJobHoldersPerc_ofEmployed</th>\n",
       "    </tr>\n",
       "    <tr>\n",
       "      <th>DATE</th>\n",
       "      <th></th>\n",
       "      <th></th>\n",
       "      <th></th>\n",
       "      <th></th>\n",
       "      <th></th>\n",
       "      <th></th>\n",
       "    </tr>\n",
       "  </thead>\n",
       "  <tbody>\n",
       "    <tr>\n",
       "      <th>2023-04-01</th>\n",
       "      <td>4388</td>\n",
       "      <td>424</td>\n",
       "      <td>1808</td>\n",
       "      <td>4.4</td>\n",
       "      <td>5.2</td>\n",
       "      <td>4.8</td>\n",
       "    </tr>\n",
       "    <tr>\n",
       "      <th>2023-07-01</th>\n",
       "      <td>4556</td>\n",
       "      <td>421</td>\n",
       "      <td>2003</td>\n",
       "      <td>4.6</td>\n",
       "      <td>5.5</td>\n",
       "      <td>5.1</td>\n",
       "    </tr>\n",
       "    <tr>\n",
       "      <th>2023-10-01</th>\n",
       "      <td>4978</td>\n",
       "      <td>394</td>\n",
       "      <td>1978</td>\n",
       "      <td>4.7</td>\n",
       "      <td>5.9</td>\n",
       "      <td>5.2</td>\n",
       "    </tr>\n",
       "    <tr>\n",
       "      <th>2024-01-01</th>\n",
       "      <td>4602</td>\n",
       "      <td>416</td>\n",
       "      <td>2048</td>\n",
       "      <td>4.7</td>\n",
       "      <td>5.5</td>\n",
       "      <td>5.1</td>\n",
       "    </tr>\n",
       "    <tr>\n",
       "      <th>2024-04-01</th>\n",
       "      <td>4844</td>\n",
       "      <td>376</td>\n",
       "      <td>2091</td>\n",
       "      <td>4.7</td>\n",
       "      <td>5.7</td>\n",
       "      <td>5.2</td>\n",
       "    </tr>\n",
       "  </tbody>\n",
       "</table>\n",
       "</div>"
      ],
      "text/plain": [
       "            MULTJobHolders_Pri_FT_Sec_PT  MULTJobHolders_Pri_Sec_BothFT  \\\n",
       "DATE                                                                      \n",
       "2023-04-01                          4388                            424   \n",
       "2023-07-01                          4556                            421   \n",
       "2023-10-01                          4978                            394   \n",
       "2024-01-01                          4602                            416   \n",
       "2024-04-01                          4844                            376   \n",
       "\n",
       "            MULTJobHolders_Pri_Sec_BothPT  MULTJobHolders_Perc_ofEmployed_M  \\\n",
       "DATE                                                                          \n",
       "2023-04-01                           1808                               4.4   \n",
       "2023-07-01                           2003                               4.6   \n",
       "2023-10-01                           1978                               4.7   \n",
       "2024-01-01                           2048                               4.7   \n",
       "2024-04-01                           2091                               4.7   \n",
       "\n",
       "            MULTJobHoldersPerc_ofEmployed_W  MULTJobHoldersPerc_ofEmployed  \n",
       "DATE                                                                        \n",
       "2023-04-01                              5.2                            4.8  \n",
       "2023-07-01                              5.5                            5.1  \n",
       "2023-10-01                              5.9                            5.2  \n",
       "2024-01-01                              5.5                            5.1  \n",
       "2024-04-01                              5.7                            5.2  "
      ]
     },
     "execution_count": 167,
     "metadata": {},
     "output_type": "execute_result"
    }
   ],
   "source": [
    "Multi_JobHolders_alltypes_df = combined_df[[\n",
    "       'MULTJobHolders_Pri_FT_Sec_PT', \n",
    "       'MULTJobHolders_Pri_Sec_BothFT',\n",
    "       'MULTJobHolders_Pri_Sec_BothPT', \n",
    "       'MULTJobHolders_Perc_ofEmployed_M',\n",
    "       'MULTJobHoldersPerc_ofEmployed_W', \n",
    "       'MULTJobHoldersPerc_ofEmployed']]\n",
    "print(Multi_JobHolders_alltypes_df.columns)\n",
    "Multi_JobHolders_alltypes_df.tail()"
   ]
  },
  {
   "cell_type": "code",
   "execution_count": 168,
   "metadata": {},
   "outputs": [
    {
     "data": {
      "text/html": [
       "<div>\n",
       "<style scoped>\n",
       "    .dataframe tbody tr th:only-of-type {\n",
       "        vertical-align: middle;\n",
       "    }\n",
       "\n",
       "    .dataframe tbody tr th {\n",
       "        vertical-align: top;\n",
       "    }\n",
       "\n",
       "    .dataframe thead th {\n",
       "        text-align: right;\n",
       "    }\n",
       "</style>\n",
       "<table border=\"1\" class=\"dataframe\">\n",
       "  <thead>\n",
       "    <tr style=\"text-align: right;\">\n",
       "      <th></th>\n",
       "      <th>ConsumerPriceIndex</th>\n",
       "      <th>RentPrimaryResidence</th>\n",
       "      <th>OwnerEquivalentRent</th>\n",
       "      <th>DelinquencyCreditCLoans</th>\n",
       "      <th>FedFundsEffectiveRate_MonthlyAve</th>\n",
       "      <th>MULTJobHolders_Pri_FT_Sec_PT</th>\n",
       "      <th>MULTJobHolders_Pri_Sec_BothFT</th>\n",
       "      <th>MULTJobHolders_Pri_Sec_BothPT</th>\n",
       "      <th>MULTJobHolders_Perc_ofEmployed_M</th>\n",
       "      <th>MULTJobHoldersPerc_ofEmployed_W</th>\n",
       "      <th>MULTJobHoldersPerc_ofEmployed</th>\n",
       "    </tr>\n",
       "  </thead>\n",
       "  <tbody>\n",
       "    <tr>\n",
       "      <th>ConsumerPriceIndex</th>\n",
       "      <td>1.000000</td>\n",
       "      <td>0.992800</td>\n",
       "      <td>0.993654</td>\n",
       "      <td>-0.645528</td>\n",
       "      <td>-0.472224</td>\n",
       "      <td>0.005974</td>\n",
       "      <td>0.402377</td>\n",
       "      <td>0.524888</td>\n",
       "      <td>-0.824790</td>\n",
       "      <td>-0.624852</td>\n",
       "      <td>-0.795646</td>\n",
       "    </tr>\n",
       "    <tr>\n",
       "      <th>RentPrimaryResidence</th>\n",
       "      <td>0.992800</td>\n",
       "      <td>1.000000</td>\n",
       "      <td>0.999227</td>\n",
       "      <td>-0.658539</td>\n",
       "      <td>-0.443953</td>\n",
       "      <td>0.053324</td>\n",
       "      <td>0.430101</td>\n",
       "      <td>0.507603</td>\n",
       "      <td>-0.799774</td>\n",
       "      <td>-0.604549</td>\n",
       "      <td>-0.771800</td>\n",
       "    </tr>\n",
       "    <tr>\n",
       "      <th>OwnerEquivalentRent</th>\n",
       "      <td>0.993654</td>\n",
       "      <td>0.999227</td>\n",
       "      <td>1.000000</td>\n",
       "      <td>-0.639844</td>\n",
       "      <td>-0.438231</td>\n",
       "      <td>0.051969</td>\n",
       "      <td>0.438062</td>\n",
       "      <td>0.500866</td>\n",
       "      <td>-0.802205</td>\n",
       "      <td>-0.603529</td>\n",
       "      <td>-0.774160</td>\n",
       "    </tr>\n",
       "    <tr>\n",
       "      <th>DelinquencyCreditCLoans</th>\n",
       "      <td>-0.645528</td>\n",
       "      <td>-0.658539</td>\n",
       "      <td>-0.639844</td>\n",
       "      <td>1.000000</td>\n",
       "      <td>0.377168</td>\n",
       "      <td>0.060610</td>\n",
       "      <td>-0.171412</td>\n",
       "      <td>-0.362992</td>\n",
       "      <td>0.554638</td>\n",
       "      <td>0.541073</td>\n",
       "      <td>0.569501</td>\n",
       "    </tr>\n",
       "    <tr>\n",
       "      <th>FedFundsEffectiveRate_MonthlyAve</th>\n",
       "      <td>-0.472224</td>\n",
       "      <td>-0.443953</td>\n",
       "      <td>-0.438231</td>\n",
       "      <td>0.377168</td>\n",
       "      <td>1.000000</td>\n",
       "      <td>0.654174</td>\n",
       "      <td>0.220971</td>\n",
       "      <td>-0.303364</td>\n",
       "      <td>0.734177</td>\n",
       "      <td>0.663851</td>\n",
       "      <td>0.733781</td>\n",
       "    </tr>\n",
       "    <tr>\n",
       "      <th>MULTJobHolders_Pri_FT_Sec_PT</th>\n",
       "      <td>0.005974</td>\n",
       "      <td>0.053324</td>\n",
       "      <td>0.051969</td>\n",
       "      <td>0.060610</td>\n",
       "      <td>0.654174</td>\n",
       "      <td>1.000000</td>\n",
       "      <td>0.373569</td>\n",
       "      <td>0.199388</td>\n",
       "      <td>0.498975</td>\n",
       "      <td>0.626887</td>\n",
       "      <td>0.520937</td>\n",
       "    </tr>\n",
       "    <tr>\n",
       "      <th>MULTJobHolders_Pri_Sec_BothFT</th>\n",
       "      <td>0.402377</td>\n",
       "      <td>0.430101</td>\n",
       "      <td>0.438062</td>\n",
       "      <td>-0.171412</td>\n",
       "      <td>0.220971</td>\n",
       "      <td>0.373569</td>\n",
       "      <td>1.000000</td>\n",
       "      <td>0.044724</td>\n",
       "      <td>-0.119365</td>\n",
       "      <td>-0.094435</td>\n",
       "      <td>-0.106521</td>\n",
       "    </tr>\n",
       "    <tr>\n",
       "      <th>MULTJobHolders_Pri_Sec_BothPT</th>\n",
       "      <td>0.524888</td>\n",
       "      <td>0.507603</td>\n",
       "      <td>0.500866</td>\n",
       "      <td>-0.362992</td>\n",
       "      <td>-0.303364</td>\n",
       "      <td>0.199388</td>\n",
       "      <td>0.044724</td>\n",
       "      <td>1.000000</td>\n",
       "      <td>-0.316322</td>\n",
       "      <td>-0.021706</td>\n",
       "      <td>-0.251358</td>\n",
       "    </tr>\n",
       "    <tr>\n",
       "      <th>MULTJobHolders_Perc_ofEmployed_M</th>\n",
       "      <td>-0.824790</td>\n",
       "      <td>-0.799774</td>\n",
       "      <td>-0.802205</td>\n",
       "      <td>0.554638</td>\n",
       "      <td>0.734177</td>\n",
       "      <td>0.498975</td>\n",
       "      <td>-0.119365</td>\n",
       "      <td>-0.316322</td>\n",
       "      <td>1.000000</td>\n",
       "      <td>0.850209</td>\n",
       "      <td>0.974458</td>\n",
       "    </tr>\n",
       "    <tr>\n",
       "      <th>MULTJobHoldersPerc_ofEmployed_W</th>\n",
       "      <td>-0.624852</td>\n",
       "      <td>-0.604549</td>\n",
       "      <td>-0.603529</td>\n",
       "      <td>0.541073</td>\n",
       "      <td>0.663851</td>\n",
       "      <td>0.626887</td>\n",
       "      <td>-0.094435</td>\n",
       "      <td>-0.021706</td>\n",
       "      <td>0.850209</td>\n",
       "      <td>1.000000</td>\n",
       "      <td>0.893065</td>\n",
       "    </tr>\n",
       "    <tr>\n",
       "      <th>MULTJobHoldersPerc_ofEmployed</th>\n",
       "      <td>-0.795646</td>\n",
       "      <td>-0.771800</td>\n",
       "      <td>-0.774160</td>\n",
       "      <td>0.569501</td>\n",
       "      <td>0.733781</td>\n",
       "      <td>0.520937</td>\n",
       "      <td>-0.106521</td>\n",
       "      <td>-0.251358</td>\n",
       "      <td>0.974458</td>\n",
       "      <td>0.893065</td>\n",
       "      <td>1.000000</td>\n",
       "    </tr>\n",
       "  </tbody>\n",
       "</table>\n",
       "</div>"
      ],
      "text/plain": [
       "                                  ConsumerPriceIndex  RentPrimaryResidence  \\\n",
       "ConsumerPriceIndex                          1.000000              0.992800   \n",
       "RentPrimaryResidence                        0.992800              1.000000   \n",
       "OwnerEquivalentRent                         0.993654              0.999227   \n",
       "DelinquencyCreditCLoans                    -0.645528             -0.658539   \n",
       "FedFundsEffectiveRate_MonthlyAve           -0.472224             -0.443953   \n",
       "MULTJobHolders_Pri_FT_Sec_PT                0.005974              0.053324   \n",
       "MULTJobHolders_Pri_Sec_BothFT               0.402377              0.430101   \n",
       "MULTJobHolders_Pri_Sec_BothPT               0.524888              0.507603   \n",
       "MULTJobHolders_Perc_ofEmployed_M           -0.824790             -0.799774   \n",
       "MULTJobHoldersPerc_ofEmployed_W            -0.624852             -0.604549   \n",
       "MULTJobHoldersPerc_ofEmployed              -0.795646             -0.771800   \n",
       "\n",
       "                                  OwnerEquivalentRent  \\\n",
       "ConsumerPriceIndex                           0.993654   \n",
       "RentPrimaryResidence                         0.999227   \n",
       "OwnerEquivalentRent                          1.000000   \n",
       "DelinquencyCreditCLoans                     -0.639844   \n",
       "FedFundsEffectiveRate_MonthlyAve            -0.438231   \n",
       "MULTJobHolders_Pri_FT_Sec_PT                 0.051969   \n",
       "MULTJobHolders_Pri_Sec_BothFT                0.438062   \n",
       "MULTJobHolders_Pri_Sec_BothPT                0.500866   \n",
       "MULTJobHolders_Perc_ofEmployed_M            -0.802205   \n",
       "MULTJobHoldersPerc_ofEmployed_W             -0.603529   \n",
       "MULTJobHoldersPerc_ofEmployed               -0.774160   \n",
       "\n",
       "                                  DelinquencyCreditCLoans  \\\n",
       "ConsumerPriceIndex                              -0.645528   \n",
       "RentPrimaryResidence                            -0.658539   \n",
       "OwnerEquivalentRent                             -0.639844   \n",
       "DelinquencyCreditCLoans                          1.000000   \n",
       "FedFundsEffectiveRate_MonthlyAve                 0.377168   \n",
       "MULTJobHolders_Pri_FT_Sec_PT                     0.060610   \n",
       "MULTJobHolders_Pri_Sec_BothFT                   -0.171412   \n",
       "MULTJobHolders_Pri_Sec_BothPT                   -0.362992   \n",
       "MULTJobHolders_Perc_ofEmployed_M                 0.554638   \n",
       "MULTJobHoldersPerc_ofEmployed_W                  0.541073   \n",
       "MULTJobHoldersPerc_ofEmployed                    0.569501   \n",
       "\n",
       "                                  FedFundsEffectiveRate_MonthlyAve  \\\n",
       "ConsumerPriceIndex                                       -0.472224   \n",
       "RentPrimaryResidence                                     -0.443953   \n",
       "OwnerEquivalentRent                                      -0.438231   \n",
       "DelinquencyCreditCLoans                                   0.377168   \n",
       "FedFundsEffectiveRate_MonthlyAve                          1.000000   \n",
       "MULTJobHolders_Pri_FT_Sec_PT                              0.654174   \n",
       "MULTJobHolders_Pri_Sec_BothFT                             0.220971   \n",
       "MULTJobHolders_Pri_Sec_BothPT                            -0.303364   \n",
       "MULTJobHolders_Perc_ofEmployed_M                          0.734177   \n",
       "MULTJobHoldersPerc_ofEmployed_W                           0.663851   \n",
       "MULTJobHoldersPerc_ofEmployed                             0.733781   \n",
       "\n",
       "                                  MULTJobHolders_Pri_FT_Sec_PT  \\\n",
       "ConsumerPriceIndex                                    0.005974   \n",
       "RentPrimaryResidence                                  0.053324   \n",
       "OwnerEquivalentRent                                   0.051969   \n",
       "DelinquencyCreditCLoans                               0.060610   \n",
       "FedFundsEffectiveRate_MonthlyAve                      0.654174   \n",
       "MULTJobHolders_Pri_FT_Sec_PT                          1.000000   \n",
       "MULTJobHolders_Pri_Sec_BothFT                         0.373569   \n",
       "MULTJobHolders_Pri_Sec_BothPT                         0.199388   \n",
       "MULTJobHolders_Perc_ofEmployed_M                      0.498975   \n",
       "MULTJobHoldersPerc_ofEmployed_W                       0.626887   \n",
       "MULTJobHoldersPerc_ofEmployed                         0.520937   \n",
       "\n",
       "                                  MULTJobHolders_Pri_Sec_BothFT  \\\n",
       "ConsumerPriceIndex                                     0.402377   \n",
       "RentPrimaryResidence                                   0.430101   \n",
       "OwnerEquivalentRent                                    0.438062   \n",
       "DelinquencyCreditCLoans                               -0.171412   \n",
       "FedFundsEffectiveRate_MonthlyAve                       0.220971   \n",
       "MULTJobHolders_Pri_FT_Sec_PT                           0.373569   \n",
       "MULTJobHolders_Pri_Sec_BothFT                          1.000000   \n",
       "MULTJobHolders_Pri_Sec_BothPT                          0.044724   \n",
       "MULTJobHolders_Perc_ofEmployed_M                      -0.119365   \n",
       "MULTJobHoldersPerc_ofEmployed_W                       -0.094435   \n",
       "MULTJobHoldersPerc_ofEmployed                         -0.106521   \n",
       "\n",
       "                                  MULTJobHolders_Pri_Sec_BothPT  \\\n",
       "ConsumerPriceIndex                                     0.524888   \n",
       "RentPrimaryResidence                                   0.507603   \n",
       "OwnerEquivalentRent                                    0.500866   \n",
       "DelinquencyCreditCLoans                               -0.362992   \n",
       "FedFundsEffectiveRate_MonthlyAve                      -0.303364   \n",
       "MULTJobHolders_Pri_FT_Sec_PT                           0.199388   \n",
       "MULTJobHolders_Pri_Sec_BothFT                          0.044724   \n",
       "MULTJobHolders_Pri_Sec_BothPT                          1.000000   \n",
       "MULTJobHolders_Perc_ofEmployed_M                      -0.316322   \n",
       "MULTJobHoldersPerc_ofEmployed_W                       -0.021706   \n",
       "MULTJobHoldersPerc_ofEmployed                         -0.251358   \n",
       "\n",
       "                                  MULTJobHolders_Perc_ofEmployed_M  \\\n",
       "ConsumerPriceIndex                                       -0.824790   \n",
       "RentPrimaryResidence                                     -0.799774   \n",
       "OwnerEquivalentRent                                      -0.802205   \n",
       "DelinquencyCreditCLoans                                   0.554638   \n",
       "FedFundsEffectiveRate_MonthlyAve                          0.734177   \n",
       "MULTJobHolders_Pri_FT_Sec_PT                              0.498975   \n",
       "MULTJobHolders_Pri_Sec_BothFT                            -0.119365   \n",
       "MULTJobHolders_Pri_Sec_BothPT                            -0.316322   \n",
       "MULTJobHolders_Perc_ofEmployed_M                          1.000000   \n",
       "MULTJobHoldersPerc_ofEmployed_W                           0.850209   \n",
       "MULTJobHoldersPerc_ofEmployed                             0.974458   \n",
       "\n",
       "                                  MULTJobHoldersPerc_ofEmployed_W  \\\n",
       "ConsumerPriceIndex                                      -0.624852   \n",
       "RentPrimaryResidence                                    -0.604549   \n",
       "OwnerEquivalentRent                                     -0.603529   \n",
       "DelinquencyCreditCLoans                                  0.541073   \n",
       "FedFundsEffectiveRate_MonthlyAve                         0.663851   \n",
       "MULTJobHolders_Pri_FT_Sec_PT                             0.626887   \n",
       "MULTJobHolders_Pri_Sec_BothFT                           -0.094435   \n",
       "MULTJobHolders_Pri_Sec_BothPT                           -0.021706   \n",
       "MULTJobHolders_Perc_ofEmployed_M                         0.850209   \n",
       "MULTJobHoldersPerc_ofEmployed_W                          1.000000   \n",
       "MULTJobHoldersPerc_ofEmployed                            0.893065   \n",
       "\n",
       "                                  MULTJobHoldersPerc_ofEmployed  \n",
       "ConsumerPriceIndex                                    -0.795646  \n",
       "RentPrimaryResidence                                  -0.771800  \n",
       "OwnerEquivalentRent                                   -0.774160  \n",
       "DelinquencyCreditCLoans                                0.569501  \n",
       "FedFundsEffectiveRate_MonthlyAve                       0.733781  \n",
       "MULTJobHolders_Pri_FT_Sec_PT                           0.520937  \n",
       "MULTJobHolders_Pri_Sec_BothFT                         -0.106521  \n",
       "MULTJobHolders_Pri_Sec_BothPT                         -0.251358  \n",
       "MULTJobHolders_Perc_ofEmployed_M                       0.974458  \n",
       "MULTJobHoldersPerc_ofEmployed_W                        0.893065  \n",
       "MULTJobHoldersPerc_ofEmployed                          1.000000  "
      ]
     },
     "execution_count": 168,
     "metadata": {},
     "output_type": "execute_result"
    }
   ],
   "source": [
    "# Drop any non-numeric columns like 'Year' if needed\n",
    "correlation_matrix = combined_df.drop(columns=['Year'], errors='ignore').corr()\n",
    "correlation_matrix\n"
   ]
  },
  {
   "cell_type": "code",
   "execution_count": 169,
   "metadata": {},
   "outputs": [],
   "source": [
    "# Unstack the correlation matrix to get variable pairs\n",
    "# Remove self-correlations\n",
    "# Remove duplicates by treating A-B and B-A as the same\n",
    "# Sort correlations by absolute value \n",
    "\n",
    "correlation_pairs = correlation_matrix.unstack()\n",
    "correlation_pairs = correlation_pairs[correlation_pairs != 1]\n",
    "correlation_pairs = correlation_pairs.groupby(by=[frozenset([i, j]) for i, j in correlation_pairs.index]).mean()\n",
    "sorted_correlations = correlation_pairs.abs().sort_values(ascending=False)\n"
   ]
  },
  {
   "cell_type": "code",
   "execution_count": 170,
   "metadata": {},
   "outputs": [
    {
     "name": "stdout",
     "output_type": "stream",
     "text": [
      "Top Strong Positive Correlations:\n",
      " (OwnerEquivalentRent, RentPrimaryResidence)                            0.999227\n",
      "(OwnerEquivalentRent, ConsumerPriceIndex)                              0.993654\n",
      "(RentPrimaryResidence, ConsumerPriceIndex)                             0.992800\n",
      "(MULTJobHoldersPerc_ofEmployed, MULTJobHolders_Perc_ofEmployed_M)      0.974458\n",
      "(MULTJobHoldersPerc_ofEmployed, MULTJobHoldersPerc_ofEmployed_W)       0.893065\n",
      "(MULTJobHoldersPerc_ofEmployed_W, MULTJobHolders_Perc_ofEmployed_M)    0.850209\n",
      "(MULTJobHolders_Perc_ofEmployed_M, ConsumerPriceIndex)                 0.824790\n",
      "(OwnerEquivalentRent, MULTJobHolders_Perc_ofEmployed_M)                0.802205\n",
      "(MULTJobHolders_Perc_ofEmployed_M, RentPrimaryResidence)               0.799774\n",
      "(MULTJobHoldersPerc_ofEmployed, ConsumerPriceIndex)                    0.795646\n",
      "(MULTJobHoldersPerc_ofEmployed, OwnerEquivalentRent)                   0.774160\n",
      "(MULTJobHoldersPerc_ofEmployed, RentPrimaryResidence)                  0.771800\n",
      "dtype: float64\n"
     ]
    }
   ],
   "source": [
    "strong_positive = sorted_correlations[sorted_correlations > 0.75]\n",
    "print(\"Top Strong Positive Correlations:\\n\", strong_positive)"
   ]
  },
  {
   "cell_type": "code",
   "execution_count": 171,
   "metadata": {},
   "outputs": [
    {
     "name": "stdout",
     "output_type": "stream",
     "text": [
      "Top Strong Negative Correlations:\n",
      " Series([], dtype: float64)\n"
     ]
    }
   ],
   "source": [
    "strong_negative = sorted_correlations[sorted_correlations < -0.75]\n",
    "print(\"Top Strong Negative Correlations:\\n\", strong_negative)\n"
   ]
  },
  {
   "cell_type": "code",
   "execution_count": 172,
   "metadata": {},
   "outputs": [
    {
     "data": {
      "application/vnd.plotly.v1+json": {
       "config": {
        "plotlyServerURL": "https://plot.ly"
       },
       "data": [
        {
         "dimensions": [
          {
           "axis": {
            "matches": true
           },
           "label": "RentPrimaryResidence",
           "values": [
            152.2,
            153.3,
            154,
            155.1,
            156.1,
            157,
            158,
            158.8,
            159.9,
            160.9,
            162.3,
            163.2,
            164.3,
            165.6,
            166.9,
            168.2,
            169.4,
            170.8,
            172.3,
            173.9,
            175.2,
            176.4,
            177.6,
            178.8,
            180.9,
            182.3,
            184.1,
            186.1,
            188,
            190.2,
            192.5,
            194.7,
            196.8,
            198.5,
            200,
            201.3,
            203.2,
            204.5,
            205.8,
            206.9,
            208.1,
            209.7,
            211.4,
            212.8,
            214.3,
            216,
            217.7,
            219.3,
            220.8,
            222.9,
            225.4,
            228,
            230.547,
            232.96,
            234.996,
            237.18,
            239.517,
            241.437,
            243.675,
            245.914,
            247.563,
            248.837,
            249.343,
            248.959,
            248.721,
            248.962,
            249.458,
            249.66,
            251.142,
            252.203,
            253.423,
            255.651,
            257.267,
            258.977,
            260.476,
            262.631,
            264.245,
            266.094,
            267.87,
            269.822,
            271.918,
            274.255,
            276.663,
            278.797,
            281.223,
            283.786,
            286.435,
            289.236,
            291.7,
            294.397,
            297.192,
            300.215,
            303.156,
            305.692,
            308.49,
            311.33,
            314.531,
            316.96,
            319.642,
            322.447,
            325.314,
            328.816,
            331.935,
            334.558,
            337.531,
            340.252,
            342.324,
            343.498,
            344.415,
            346.371,
            348.909,
            352.774,
            357.322,
            363.055,
            370.998,
            379.311,
            387.845,
            395.012,
            400.873,
            406.561,
            411.46,
            416.507
           ]
          },
          {
           "axis": {
            "matches": true
           },
           "label": "ConsumerPriceIndex",
           "values": [
            146.3,
            147.2,
            148.4,
            149.4,
            150.5,
            151.8,
            152.6,
            153.5,
            154.7,
            156.1,
            157,
            158.2,
            159.4,
            159.9,
            160.4,
            161.5,
            162,
            162.2,
            163.2,
            163.9,
            164.7,
            165.9,
            166.7,
            168.1,
            169.3,
            170.9,
            172.7,
            173.9,
            175.6,
            176.4,
            177.4,
            177.6,
            177.7,
            179.3,
            180,
            181.2,
            182.6,
            183.2,
            183.7,
            184.9,
            186.3,
            187.4,
            189.1,
            190.8,
            191.6,
            193.7,
            194.9,
            199.1,
            199.3,
            200.7,
            202.9,
            201.9,
            203.437,
            205.904,
            207.603,
            209.19,
            212.174,
            213.942,
            219.016,
            216.995,
            211.933,
            212.709,
            214.726,
            216.509,
            217.488,
            217.403,
            217.605,
            219.035,
            221.187,
            224.093,
            225.395,
            226.75,
            227.842,
            229.187,
            228.59,
            231.638,
            231.679,
            231.797,
            232.9,
            233.669,
            235.288,
            236.468,
            237.498,
            237.43,
            234.747,
            236.222,
            238.034,
            237.733,
            237.652,
            238.992,
            240.101,
            241.741,
            243.618,
            244.193,
            244.243,
            246.626,
            248.859,
            250.227,
            251.214,
            252.772,
            252.561,
            255.233,
            255.802,
            257.155,
            258.906,
            256.126,
            258.408,
            260.249,
            262.518,
            266.752,
            271.994,
            276.434,
            282.39,
            288.764,
            294.977,
            297.863,
            300.356,
            303.032,
            304.628,
            307.531,
            309.685,
            313.207
           ]
          },
          {
           "axis": {
            "matches": true
           },
           "label": "MULTJobHolders Perc ofEmployed M",
           "values": [
            5.6,
            5.9,
            5.7,
            6.2,
            5.8,
            6.1,
            6.3,
            6.4,
            5.7,
            6.1,
            6,
            6.3,
            6,
            6,
            6.1,
            6.2,
            5.8,
            6,
            5.7,
            6,
            5.9,
            5.7,
            5.7,
            5.9,
            5.7,
            5.6,
            5.4,
            5.4,
            5.1,
            5.3,
            5.3,
            5.1,
            5.2,
            5.3,
            5.1,
            5.1,
            4.9,
            5.2,
            5.2,
            5.1,
            5,
            5,
            5.1,
            5.5,
            5,
            5,
            5.1,
            5.2,
            5,
            4.9,
            4.9,
            5,
            4.9,
            5.1,
            4.8,
            5,
            4.8,
            5,
            5,
            5.1,
            4.8,
            5.1,
            4.7,
            4.9,
            4.5,
            4.7,
            4.3,
            4.3,
            4.4,
            4.5,
            4.5,
            4.6,
            4.6,
            4.7,
            4.4,
            4.5,
            4.4,
            4.6,
            4.6,
            4.5,
            4.2,
            4.5,
            4.4,
            4.8,
            4.6,
            4.2,
            4.5,
            4.7,
            4.5,
            4.5,
            4.3,
            4.8,
            4.6,
            4.6,
            4.5,
            4.5,
            4.9,
            4.6,
            4.4,
            4.8,
            4.7,
            4.5,
            4.8,
            4.8,
            4.8,
            3.7,
            4.3,
            4.2,
            3.9,
            4.3,
            4.2,
            4.2,
            4.4,
            4.3,
            4.5,
            4.5,
            4.6,
            4.4,
            4.6,
            4.7,
            4.7,
            4.7
           ]
          },
          {
           "axis": {
            "matches": true
           },
           "label": "MULTJobHoldersPerc ofEmployed W",
           "values": [
            5.6,
            6.2,
            5.8,
            6.1,
            5.8,
            6.3,
            5.9,
            6.3,
            5.9,
            5.8,
            5.9,
            6.7,
            6,
            6.3,
            6.1,
            6.3,
            6.2,
            6.2,
            5.8,
            6.5,
            6.1,
            5.9,
            5.6,
            6,
            5.7,
            5.8,
            5.6,
            5.6,
            5.5,
            5.4,
            5.6,
            5.4,
            5.3,
            5.5,
            5.5,
            5.6,
            5.7,
            5.3,
            5.4,
            5.8,
            5.5,
            5.5,
            5.6,
            5.9,
            5.5,
            5.6,
            5.5,
            5.7,
            5.5,
            5.4,
            5.4,
            5.8,
            5.6,
            5.8,
            5.6,
            5.7,
            5.5,
            5.5,
            5.5,
            5.7,
            5.5,
            6,
            5.7,
            5.5,
            5.4,
            5.5,
            5.2,
            5.5,
            5.3,
            5.4,
            5.1,
            5.4,
            5.2,
            5.1,
            5,
            5.3,
            5.2,
            5.2,
            4.9,
            5.3,
            5.1,
            5.3,
            4.9,
            5.7,
            5.4,
            5.3,
            4.9,
            5.5,
            5.3,
            5.3,
            5.2,
            5.8,
            5.3,
            5.3,
            5,
            5.2,
            5.3,
            5.2,
            5.6,
            5.6,
            5.3,
            5.5,
            5.7,
            5.7,
            5.6,
            4.4,
            4.8,
            5,
            5,
            4.9,
            4.9,
            5.1,
            5.1,
            5.3,
            5,
            5.2,
            5.4,
            5.2,
            5.5,
            5.9,
            5.5,
            5.7
           ]
          }
         ],
         "hovertemplate": "%{xaxis.title.text}=%{x}<br>%{yaxis.title.text}=%{y}<extra></extra>",
         "legendgroup": "",
         "marker": {
          "color": "#636efa",
          "symbol": "circle"
         },
         "name": "",
         "showlegend": false,
         "type": "splom"
        }
       ],
       "layout": {
        "dragmode": "select",
        "height": 1200,
        "legend": {
         "tracegroupgap": 0
        },
        "template": {
         "data": {
          "bar": [
           {
            "error_x": {
             "color": "#2a3f5f"
            },
            "error_y": {
             "color": "#2a3f5f"
            },
            "marker": {
             "line": {
              "color": "#E5ECF6",
              "width": 0.5
             },
             "pattern": {
              "fillmode": "overlay",
              "size": 10,
              "solidity": 0.2
             }
            },
            "type": "bar"
           }
          ],
          "barpolar": [
           {
            "marker": {
             "line": {
              "color": "#E5ECF6",
              "width": 0.5
             },
             "pattern": {
              "fillmode": "overlay",
              "size": 10,
              "solidity": 0.2
             }
            },
            "type": "barpolar"
           }
          ],
          "carpet": [
           {
            "aaxis": {
             "endlinecolor": "#2a3f5f",
             "gridcolor": "white",
             "linecolor": "white",
             "minorgridcolor": "white",
             "startlinecolor": "#2a3f5f"
            },
            "baxis": {
             "endlinecolor": "#2a3f5f",
             "gridcolor": "white",
             "linecolor": "white",
             "minorgridcolor": "white",
             "startlinecolor": "#2a3f5f"
            },
            "type": "carpet"
           }
          ],
          "choropleth": [
           {
            "colorbar": {
             "outlinewidth": 0,
             "ticks": ""
            },
            "type": "choropleth"
           }
          ],
          "contour": [
           {
            "colorbar": {
             "outlinewidth": 0,
             "ticks": ""
            },
            "colorscale": [
             [
              0,
              "#0d0887"
             ],
             [
              0.1111111111111111,
              "#46039f"
             ],
             [
              0.2222222222222222,
              "#7201a8"
             ],
             [
              0.3333333333333333,
              "#9c179e"
             ],
             [
              0.4444444444444444,
              "#bd3786"
             ],
             [
              0.5555555555555556,
              "#d8576b"
             ],
             [
              0.6666666666666666,
              "#ed7953"
             ],
             [
              0.7777777777777778,
              "#fb9f3a"
             ],
             [
              0.8888888888888888,
              "#fdca26"
             ],
             [
              1,
              "#f0f921"
             ]
            ],
            "type": "contour"
           }
          ],
          "contourcarpet": [
           {
            "colorbar": {
             "outlinewidth": 0,
             "ticks": ""
            },
            "type": "contourcarpet"
           }
          ],
          "heatmap": [
           {
            "colorbar": {
             "outlinewidth": 0,
             "ticks": ""
            },
            "colorscale": [
             [
              0,
              "#0d0887"
             ],
             [
              0.1111111111111111,
              "#46039f"
             ],
             [
              0.2222222222222222,
              "#7201a8"
             ],
             [
              0.3333333333333333,
              "#9c179e"
             ],
             [
              0.4444444444444444,
              "#bd3786"
             ],
             [
              0.5555555555555556,
              "#d8576b"
             ],
             [
              0.6666666666666666,
              "#ed7953"
             ],
             [
              0.7777777777777778,
              "#fb9f3a"
             ],
             [
              0.8888888888888888,
              "#fdca26"
             ],
             [
              1,
              "#f0f921"
             ]
            ],
            "type": "heatmap"
           }
          ],
          "heatmapgl": [
           {
            "colorbar": {
             "outlinewidth": 0,
             "ticks": ""
            },
            "colorscale": [
             [
              0,
              "#0d0887"
             ],
             [
              0.1111111111111111,
              "#46039f"
             ],
             [
              0.2222222222222222,
              "#7201a8"
             ],
             [
              0.3333333333333333,
              "#9c179e"
             ],
             [
              0.4444444444444444,
              "#bd3786"
             ],
             [
              0.5555555555555556,
              "#d8576b"
             ],
             [
              0.6666666666666666,
              "#ed7953"
             ],
             [
              0.7777777777777778,
              "#fb9f3a"
             ],
             [
              0.8888888888888888,
              "#fdca26"
             ],
             [
              1,
              "#f0f921"
             ]
            ],
            "type": "heatmapgl"
           }
          ],
          "histogram": [
           {
            "marker": {
             "pattern": {
              "fillmode": "overlay",
              "size": 10,
              "solidity": 0.2
             }
            },
            "type": "histogram"
           }
          ],
          "histogram2d": [
           {
            "colorbar": {
             "outlinewidth": 0,
             "ticks": ""
            },
            "colorscale": [
             [
              0,
              "#0d0887"
             ],
             [
              0.1111111111111111,
              "#46039f"
             ],
             [
              0.2222222222222222,
              "#7201a8"
             ],
             [
              0.3333333333333333,
              "#9c179e"
             ],
             [
              0.4444444444444444,
              "#bd3786"
             ],
             [
              0.5555555555555556,
              "#d8576b"
             ],
             [
              0.6666666666666666,
              "#ed7953"
             ],
             [
              0.7777777777777778,
              "#fb9f3a"
             ],
             [
              0.8888888888888888,
              "#fdca26"
             ],
             [
              1,
              "#f0f921"
             ]
            ],
            "type": "histogram2d"
           }
          ],
          "histogram2dcontour": [
           {
            "colorbar": {
             "outlinewidth": 0,
             "ticks": ""
            },
            "colorscale": [
             [
              0,
              "#0d0887"
             ],
             [
              0.1111111111111111,
              "#46039f"
             ],
             [
              0.2222222222222222,
              "#7201a8"
             ],
             [
              0.3333333333333333,
              "#9c179e"
             ],
             [
              0.4444444444444444,
              "#bd3786"
             ],
             [
              0.5555555555555556,
              "#d8576b"
             ],
             [
              0.6666666666666666,
              "#ed7953"
             ],
             [
              0.7777777777777778,
              "#fb9f3a"
             ],
             [
              0.8888888888888888,
              "#fdca26"
             ],
             [
              1,
              "#f0f921"
             ]
            ],
            "type": "histogram2dcontour"
           }
          ],
          "mesh3d": [
           {
            "colorbar": {
             "outlinewidth": 0,
             "ticks": ""
            },
            "type": "mesh3d"
           }
          ],
          "parcoords": [
           {
            "line": {
             "colorbar": {
              "outlinewidth": 0,
              "ticks": ""
             }
            },
            "type": "parcoords"
           }
          ],
          "pie": [
           {
            "automargin": true,
            "type": "pie"
           }
          ],
          "scatter": [
           {
            "fillpattern": {
             "fillmode": "overlay",
             "size": 10,
             "solidity": 0.2
            },
            "type": "scatter"
           }
          ],
          "scatter3d": [
           {
            "line": {
             "colorbar": {
              "outlinewidth": 0,
              "ticks": ""
             }
            },
            "marker": {
             "colorbar": {
              "outlinewidth": 0,
              "ticks": ""
             }
            },
            "type": "scatter3d"
           }
          ],
          "scattercarpet": [
           {
            "marker": {
             "colorbar": {
              "outlinewidth": 0,
              "ticks": ""
             }
            },
            "type": "scattercarpet"
           }
          ],
          "scattergeo": [
           {
            "marker": {
             "colorbar": {
              "outlinewidth": 0,
              "ticks": ""
             }
            },
            "type": "scattergeo"
           }
          ],
          "scattergl": [
           {
            "marker": {
             "colorbar": {
              "outlinewidth": 0,
              "ticks": ""
             }
            },
            "type": "scattergl"
           }
          ],
          "scattermapbox": [
           {
            "marker": {
             "colorbar": {
              "outlinewidth": 0,
              "ticks": ""
             }
            },
            "type": "scattermapbox"
           }
          ],
          "scatterpolar": [
           {
            "marker": {
             "colorbar": {
              "outlinewidth": 0,
              "ticks": ""
             }
            },
            "type": "scatterpolar"
           }
          ],
          "scatterpolargl": [
           {
            "marker": {
             "colorbar": {
              "outlinewidth": 0,
              "ticks": ""
             }
            },
            "type": "scatterpolargl"
           }
          ],
          "scatterternary": [
           {
            "marker": {
             "colorbar": {
              "outlinewidth": 0,
              "ticks": ""
             }
            },
            "type": "scatterternary"
           }
          ],
          "surface": [
           {
            "colorbar": {
             "outlinewidth": 0,
             "ticks": ""
            },
            "colorscale": [
             [
              0,
              "#0d0887"
             ],
             [
              0.1111111111111111,
              "#46039f"
             ],
             [
              0.2222222222222222,
              "#7201a8"
             ],
             [
              0.3333333333333333,
              "#9c179e"
             ],
             [
              0.4444444444444444,
              "#bd3786"
             ],
             [
              0.5555555555555556,
              "#d8576b"
             ],
             [
              0.6666666666666666,
              "#ed7953"
             ],
             [
              0.7777777777777778,
              "#fb9f3a"
             ],
             [
              0.8888888888888888,
              "#fdca26"
             ],
             [
              1,
              "#f0f921"
             ]
            ],
            "type": "surface"
           }
          ],
          "table": [
           {
            "cells": {
             "fill": {
              "color": "#EBF0F8"
             },
             "line": {
              "color": "white"
             }
            },
            "header": {
             "fill": {
              "color": "#C8D4E3"
             },
             "line": {
              "color": "white"
             }
            },
            "type": "table"
           }
          ]
         },
         "layout": {
          "annotationdefaults": {
           "arrowcolor": "#2a3f5f",
           "arrowhead": 0,
           "arrowwidth": 1
          },
          "autotypenumbers": "strict",
          "coloraxis": {
           "colorbar": {
            "outlinewidth": 0,
            "ticks": ""
           }
          },
          "colorscale": {
           "diverging": [
            [
             0,
             "#8e0152"
            ],
            [
             0.1,
             "#c51b7d"
            ],
            [
             0.2,
             "#de77ae"
            ],
            [
             0.3,
             "#f1b6da"
            ],
            [
             0.4,
             "#fde0ef"
            ],
            [
             0.5,
             "#f7f7f7"
            ],
            [
             0.6,
             "#e6f5d0"
            ],
            [
             0.7,
             "#b8e186"
            ],
            [
             0.8,
             "#7fbc41"
            ],
            [
             0.9,
             "#4d9221"
            ],
            [
             1,
             "#276419"
            ]
           ],
           "sequential": [
            [
             0,
             "#0d0887"
            ],
            [
             0.1111111111111111,
             "#46039f"
            ],
            [
             0.2222222222222222,
             "#7201a8"
            ],
            [
             0.3333333333333333,
             "#9c179e"
            ],
            [
             0.4444444444444444,
             "#bd3786"
            ],
            [
             0.5555555555555556,
             "#d8576b"
            ],
            [
             0.6666666666666666,
             "#ed7953"
            ],
            [
             0.7777777777777778,
             "#fb9f3a"
            ],
            [
             0.8888888888888888,
             "#fdca26"
            ],
            [
             1,
             "#f0f921"
            ]
           ],
           "sequentialminus": [
            [
             0,
             "#0d0887"
            ],
            [
             0.1111111111111111,
             "#46039f"
            ],
            [
             0.2222222222222222,
             "#7201a8"
            ],
            [
             0.3333333333333333,
             "#9c179e"
            ],
            [
             0.4444444444444444,
             "#bd3786"
            ],
            [
             0.5555555555555556,
             "#d8576b"
            ],
            [
             0.6666666666666666,
             "#ed7953"
            ],
            [
             0.7777777777777778,
             "#fb9f3a"
            ],
            [
             0.8888888888888888,
             "#fdca26"
            ],
            [
             1,
             "#f0f921"
            ]
           ]
          },
          "colorway": [
           "#636efa",
           "#EF553B",
           "#00cc96",
           "#ab63fa",
           "#FFA15A",
           "#19d3f3",
           "#FF6692",
           "#B6E880",
           "#FF97FF",
           "#FECB52"
          ],
          "font": {
           "color": "#2a3f5f"
          },
          "geo": {
           "bgcolor": "white",
           "lakecolor": "white",
           "landcolor": "#E5ECF6",
           "showlakes": true,
           "showland": true,
           "subunitcolor": "white"
          },
          "hoverlabel": {
           "align": "left"
          },
          "hovermode": "closest",
          "mapbox": {
           "style": "light"
          },
          "paper_bgcolor": "white",
          "plot_bgcolor": "#E5ECF6",
          "polar": {
           "angularaxis": {
            "gridcolor": "white",
            "linecolor": "white",
            "ticks": ""
           },
           "bgcolor": "#E5ECF6",
           "radialaxis": {
            "gridcolor": "white",
            "linecolor": "white",
            "ticks": ""
           }
          },
          "scene": {
           "xaxis": {
            "backgroundcolor": "#E5ECF6",
            "gridcolor": "white",
            "gridwidth": 2,
            "linecolor": "white",
            "showbackground": true,
            "ticks": "",
            "zerolinecolor": "white"
           },
           "yaxis": {
            "backgroundcolor": "#E5ECF6",
            "gridcolor": "white",
            "gridwidth": 2,
            "linecolor": "white",
            "showbackground": true,
            "ticks": "",
            "zerolinecolor": "white"
           },
           "zaxis": {
            "backgroundcolor": "#E5ECF6",
            "gridcolor": "white",
            "gridwidth": 2,
            "linecolor": "white",
            "showbackground": true,
            "ticks": "",
            "zerolinecolor": "white"
           }
          },
          "shapedefaults": {
           "line": {
            "color": "#2a3f5f"
           }
          },
          "ternary": {
           "aaxis": {
            "gridcolor": "white",
            "linecolor": "white",
            "ticks": ""
           },
           "baxis": {
            "gridcolor": "white",
            "linecolor": "white",
            "ticks": ""
           },
           "bgcolor": "#E5ECF6",
           "caxis": {
            "gridcolor": "white",
            "linecolor": "white",
            "ticks": ""
           }
          },
          "title": {
           "x": 0.05
          },
          "xaxis": {
           "automargin": true,
           "gridcolor": "white",
           "linecolor": "white",
           "ticks": "",
           "title": {
            "standoff": 15
           },
           "zerolinecolor": "white",
           "zerolinewidth": 2
          },
          "yaxis": {
           "automargin": true,
           "gridcolor": "white",
           "linecolor": "white",
           "ticks": "",
           "title": {
            "standoff": 15
           },
           "zerolinecolor": "white",
           "zerolinewidth": 2
          }
         }
        },
        "title": {
         "text": "Scatter Matrix of Strong Positive Correlations"
        },
        "width": 1800,
        "xaxis": {
         "tickangle": 90
        },
        "yaxis": {
         "tickangle": -90
        }
       }
      }
     },
     "metadata": {},
     "output_type": "display_data"
    }
   ],
   "source": [
    "combined_without_year_df = combined_df.drop(columns=['Year'])\n",
    "\n",
    "\n",
    "import plotly.express as px\n",
    "\n",
    "# Create a scatter plot matrix (pairplot) for visualizing relationships\n",
    "fig = px.scatter_matrix(\n",
    "    combined_without_year_df,\n",
    "    dimensions=['RentPrimaryResidence', 'ConsumerPriceIndex', \n",
    "                'MULTJobHolders_Perc_ofEmployed_M', 'MULTJobHoldersPerc_ofEmployed_W'],\n",
    "    title=\"Scatter Matrix of Strong Positive Correlations\",\n",
    "    labels={col: col.replace('_', ' ') for col in combined_without_year_df.columns}  # Label cleaning\n",
    ")\n",
    "\n",
    "# Update layout for better readability\n",
    "fig.update_layout(\n",
    "    width=1800,\n",
    "    height=1200,\n",
    "    xaxis=dict(tickangle=90),  # Rotate x-axis labels\n",
    "    yaxis=dict(tickangle=-90)  # Rotate y-axis labels\n",
    ")\n",
    "\n",
    "# Show the plot\n",
    "fig.show()\n"
   ]
  },
  {
   "cell_type": "code",
   "execution_count": 173,
   "metadata": {},
   "outputs": [
    {
     "data": {
      "application/vnd.plotly.v1+json": {
       "config": {
        "plotlyServerURL": "https://plot.ly"
       },
       "data": [
        {
         "diagonal": {
          "visible": false
         },
         "dimensions": [
          {
           "axis": {
            "matches": true
           },
           "label": "RentPrimaryResidence",
           "values": [
            152.2,
            153.3,
            154,
            155.1,
            156.1,
            157,
            158,
            158.8,
            159.9,
            160.9,
            162.3,
            163.2,
            164.3,
            165.6,
            166.9,
            168.2,
            169.4,
            170.8,
            172.3,
            173.9,
            175.2,
            176.4,
            177.6,
            178.8,
            180.9,
            182.3,
            184.1,
            186.1,
            188,
            190.2,
            192.5,
            194.7,
            196.8,
            198.5,
            200,
            201.3,
            203.2,
            204.5,
            205.8,
            206.9,
            208.1,
            209.7,
            211.4,
            212.8,
            214.3,
            216,
            217.7,
            219.3,
            220.8,
            222.9,
            225.4,
            228,
            230.547,
            232.96,
            234.996,
            237.18,
            239.517,
            241.437,
            243.675,
            245.914,
            247.563,
            248.837,
            249.343,
            248.959,
            248.721,
            248.962,
            249.458,
            249.66,
            251.142,
            252.203,
            253.423,
            255.651,
            257.267,
            258.977,
            260.476,
            262.631,
            264.245,
            266.094,
            267.87,
            269.822,
            271.918,
            274.255,
            276.663,
            278.797,
            281.223,
            283.786,
            286.435,
            289.236,
            291.7,
            294.397,
            297.192,
            300.215,
            303.156,
            305.692,
            308.49,
            311.33,
            314.531,
            316.96,
            319.642,
            322.447,
            325.314,
            328.816,
            331.935,
            334.558,
            337.531,
            340.252,
            342.324,
            343.498,
            344.415,
            346.371,
            348.909,
            352.774,
            357.322,
            363.055,
            370.998,
            379.311,
            387.845,
            395.012,
            400.873,
            406.561,
            411.46,
            416.507
           ]
          },
          {
           "axis": {
            "matches": true
           },
           "label": "ConsumerPriceIndex",
           "values": [
            146.3,
            147.2,
            148.4,
            149.4,
            150.5,
            151.8,
            152.6,
            153.5,
            154.7,
            156.1,
            157,
            158.2,
            159.4,
            159.9,
            160.4,
            161.5,
            162,
            162.2,
            163.2,
            163.9,
            164.7,
            165.9,
            166.7,
            168.1,
            169.3,
            170.9,
            172.7,
            173.9,
            175.6,
            176.4,
            177.4,
            177.6,
            177.7,
            179.3,
            180,
            181.2,
            182.6,
            183.2,
            183.7,
            184.9,
            186.3,
            187.4,
            189.1,
            190.8,
            191.6,
            193.7,
            194.9,
            199.1,
            199.3,
            200.7,
            202.9,
            201.9,
            203.437,
            205.904,
            207.603,
            209.19,
            212.174,
            213.942,
            219.016,
            216.995,
            211.933,
            212.709,
            214.726,
            216.509,
            217.488,
            217.403,
            217.605,
            219.035,
            221.187,
            224.093,
            225.395,
            226.75,
            227.842,
            229.187,
            228.59,
            231.638,
            231.679,
            231.797,
            232.9,
            233.669,
            235.288,
            236.468,
            237.498,
            237.43,
            234.747,
            236.222,
            238.034,
            237.733,
            237.652,
            238.992,
            240.101,
            241.741,
            243.618,
            244.193,
            244.243,
            246.626,
            248.859,
            250.227,
            251.214,
            252.772,
            252.561,
            255.233,
            255.802,
            257.155,
            258.906,
            256.126,
            258.408,
            260.249,
            262.518,
            266.752,
            271.994,
            276.434,
            282.39,
            288.764,
            294.977,
            297.863,
            300.356,
            303.032,
            304.628,
            307.531,
            309.685,
            313.207
           ]
          },
          {
           "axis": {
            "matches": true
           },
           "label": "MULTJobHolders Perc ofEmployed M",
           "values": [
            5.6,
            5.9,
            5.7,
            6.2,
            5.8,
            6.1,
            6.3,
            6.4,
            5.7,
            6.1,
            6,
            6.3,
            6,
            6,
            6.1,
            6.2,
            5.8,
            6,
            5.7,
            6,
            5.9,
            5.7,
            5.7,
            5.9,
            5.7,
            5.6,
            5.4,
            5.4,
            5.1,
            5.3,
            5.3,
            5.1,
            5.2,
            5.3,
            5.1,
            5.1,
            4.9,
            5.2,
            5.2,
            5.1,
            5,
            5,
            5.1,
            5.5,
            5,
            5,
            5.1,
            5.2,
            5,
            4.9,
            4.9,
            5,
            4.9,
            5.1,
            4.8,
            5,
            4.8,
            5,
            5,
            5.1,
            4.8,
            5.1,
            4.7,
            4.9,
            4.5,
            4.7,
            4.3,
            4.3,
            4.4,
            4.5,
            4.5,
            4.6,
            4.6,
            4.7,
            4.4,
            4.5,
            4.4,
            4.6,
            4.6,
            4.5,
            4.2,
            4.5,
            4.4,
            4.8,
            4.6,
            4.2,
            4.5,
            4.7,
            4.5,
            4.5,
            4.3,
            4.8,
            4.6,
            4.6,
            4.5,
            4.5,
            4.9,
            4.6,
            4.4,
            4.8,
            4.7,
            4.5,
            4.8,
            4.8,
            4.8,
            3.7,
            4.3,
            4.2,
            3.9,
            4.3,
            4.2,
            4.2,
            4.4,
            4.3,
            4.5,
            4.5,
            4.6,
            4.4,
            4.6,
            4.7,
            4.7,
            4.7
           ]
          },
          {
           "axis": {
            "matches": true
           },
           "label": "MULTJobHoldersPerc ofEmployed W",
           "values": [
            5.6,
            6.2,
            5.8,
            6.1,
            5.8,
            6.3,
            5.9,
            6.3,
            5.9,
            5.8,
            5.9,
            6.7,
            6,
            6.3,
            6.1,
            6.3,
            6.2,
            6.2,
            5.8,
            6.5,
            6.1,
            5.9,
            5.6,
            6,
            5.7,
            5.8,
            5.6,
            5.6,
            5.5,
            5.4,
            5.6,
            5.4,
            5.3,
            5.5,
            5.5,
            5.6,
            5.7,
            5.3,
            5.4,
            5.8,
            5.5,
            5.5,
            5.6,
            5.9,
            5.5,
            5.6,
            5.5,
            5.7,
            5.5,
            5.4,
            5.4,
            5.8,
            5.6,
            5.8,
            5.6,
            5.7,
            5.5,
            5.5,
            5.5,
            5.7,
            5.5,
            6,
            5.7,
            5.5,
            5.4,
            5.5,
            5.2,
            5.5,
            5.3,
            5.4,
            5.1,
            5.4,
            5.2,
            5.1,
            5,
            5.3,
            5.2,
            5.2,
            4.9,
            5.3,
            5.1,
            5.3,
            4.9,
            5.7,
            5.4,
            5.3,
            4.9,
            5.5,
            5.3,
            5.3,
            5.2,
            5.8,
            5.3,
            5.3,
            5,
            5.2,
            5.3,
            5.2,
            5.6,
            5.6,
            5.3,
            5.5,
            5.7,
            5.7,
            5.6,
            4.4,
            4.8,
            5,
            5,
            4.9,
            4.9,
            5.1,
            5.1,
            5.3,
            5,
            5.2,
            5.4,
            5.2,
            5.5,
            5.9,
            5.5,
            5.7
           ]
          }
         ],
         "hovertemplate": "%{xaxis.title.text}=%{x}<br>%{yaxis.title.text}=%{y}<extra></extra>",
         "legendgroup": "",
         "marker": {
          "color": "rgb(0, 0, 216)",
          "symbol": "circle"
         },
         "name": "",
         "showlegend": false,
         "type": "splom"
        }
       ],
       "layout": {
        "dragmode": "select",
        "height": 1200,
        "legend": {
         "tracegroupgap": 0
        },
        "template": {
         "data": {
          "bar": [
           {
            "error_x": {
             "color": "#2a3f5f"
            },
            "error_y": {
             "color": "#2a3f5f"
            },
            "marker": {
             "line": {
              "color": "#E5ECF6",
              "width": 0.5
             },
             "pattern": {
              "fillmode": "overlay",
              "size": 10,
              "solidity": 0.2
             }
            },
            "type": "bar"
           }
          ],
          "barpolar": [
           {
            "marker": {
             "line": {
              "color": "#E5ECF6",
              "width": 0.5
             },
             "pattern": {
              "fillmode": "overlay",
              "size": 10,
              "solidity": 0.2
             }
            },
            "type": "barpolar"
           }
          ],
          "carpet": [
           {
            "aaxis": {
             "endlinecolor": "#2a3f5f",
             "gridcolor": "white",
             "linecolor": "white",
             "minorgridcolor": "white",
             "startlinecolor": "#2a3f5f"
            },
            "baxis": {
             "endlinecolor": "#2a3f5f",
             "gridcolor": "white",
             "linecolor": "white",
             "minorgridcolor": "white",
             "startlinecolor": "#2a3f5f"
            },
            "type": "carpet"
           }
          ],
          "choropleth": [
           {
            "colorbar": {
             "outlinewidth": 0,
             "ticks": ""
            },
            "type": "choropleth"
           }
          ],
          "contour": [
           {
            "colorbar": {
             "outlinewidth": 0,
             "ticks": ""
            },
            "colorscale": [
             [
              0,
              "#0d0887"
             ],
             [
              0.1111111111111111,
              "#46039f"
             ],
             [
              0.2222222222222222,
              "#7201a8"
             ],
             [
              0.3333333333333333,
              "#9c179e"
             ],
             [
              0.4444444444444444,
              "#bd3786"
             ],
             [
              0.5555555555555556,
              "#d8576b"
             ],
             [
              0.6666666666666666,
              "#ed7953"
             ],
             [
              0.7777777777777778,
              "#fb9f3a"
             ],
             [
              0.8888888888888888,
              "#fdca26"
             ],
             [
              1,
              "#f0f921"
             ]
            ],
            "type": "contour"
           }
          ],
          "contourcarpet": [
           {
            "colorbar": {
             "outlinewidth": 0,
             "ticks": ""
            },
            "type": "contourcarpet"
           }
          ],
          "heatmap": [
           {
            "colorbar": {
             "outlinewidth": 0,
             "ticks": ""
            },
            "colorscale": [
             [
              0,
              "#0d0887"
             ],
             [
              0.1111111111111111,
              "#46039f"
             ],
             [
              0.2222222222222222,
              "#7201a8"
             ],
             [
              0.3333333333333333,
              "#9c179e"
             ],
             [
              0.4444444444444444,
              "#bd3786"
             ],
             [
              0.5555555555555556,
              "#d8576b"
             ],
             [
              0.6666666666666666,
              "#ed7953"
             ],
             [
              0.7777777777777778,
              "#fb9f3a"
             ],
             [
              0.8888888888888888,
              "#fdca26"
             ],
             [
              1,
              "#f0f921"
             ]
            ],
            "type": "heatmap"
           }
          ],
          "heatmapgl": [
           {
            "colorbar": {
             "outlinewidth": 0,
             "ticks": ""
            },
            "colorscale": [
             [
              0,
              "#0d0887"
             ],
             [
              0.1111111111111111,
              "#46039f"
             ],
             [
              0.2222222222222222,
              "#7201a8"
             ],
             [
              0.3333333333333333,
              "#9c179e"
             ],
             [
              0.4444444444444444,
              "#bd3786"
             ],
             [
              0.5555555555555556,
              "#d8576b"
             ],
             [
              0.6666666666666666,
              "#ed7953"
             ],
             [
              0.7777777777777778,
              "#fb9f3a"
             ],
             [
              0.8888888888888888,
              "#fdca26"
             ],
             [
              1,
              "#f0f921"
             ]
            ],
            "type": "heatmapgl"
           }
          ],
          "histogram": [
           {
            "marker": {
             "pattern": {
              "fillmode": "overlay",
              "size": 10,
              "solidity": 0.2
             }
            },
            "type": "histogram"
           }
          ],
          "histogram2d": [
           {
            "colorbar": {
             "outlinewidth": 0,
             "ticks": ""
            },
            "colorscale": [
             [
              0,
              "#0d0887"
             ],
             [
              0.1111111111111111,
              "#46039f"
             ],
             [
              0.2222222222222222,
              "#7201a8"
             ],
             [
              0.3333333333333333,
              "#9c179e"
             ],
             [
              0.4444444444444444,
              "#bd3786"
             ],
             [
              0.5555555555555556,
              "#d8576b"
             ],
             [
              0.6666666666666666,
              "#ed7953"
             ],
             [
              0.7777777777777778,
              "#fb9f3a"
             ],
             [
              0.8888888888888888,
              "#fdca26"
             ],
             [
              1,
              "#f0f921"
             ]
            ],
            "type": "histogram2d"
           }
          ],
          "histogram2dcontour": [
           {
            "colorbar": {
             "outlinewidth": 0,
             "ticks": ""
            },
            "colorscale": [
             [
              0,
              "#0d0887"
             ],
             [
              0.1111111111111111,
              "#46039f"
             ],
             [
              0.2222222222222222,
              "#7201a8"
             ],
             [
              0.3333333333333333,
              "#9c179e"
             ],
             [
              0.4444444444444444,
              "#bd3786"
             ],
             [
              0.5555555555555556,
              "#d8576b"
             ],
             [
              0.6666666666666666,
              "#ed7953"
             ],
             [
              0.7777777777777778,
              "#fb9f3a"
             ],
             [
              0.8888888888888888,
              "#fdca26"
             ],
             [
              1,
              "#f0f921"
             ]
            ],
            "type": "histogram2dcontour"
           }
          ],
          "mesh3d": [
           {
            "colorbar": {
             "outlinewidth": 0,
             "ticks": ""
            },
            "type": "mesh3d"
           }
          ],
          "parcoords": [
           {
            "line": {
             "colorbar": {
              "outlinewidth": 0,
              "ticks": ""
             }
            },
            "type": "parcoords"
           }
          ],
          "pie": [
           {
            "automargin": true,
            "type": "pie"
           }
          ],
          "scatter": [
           {
            "fillpattern": {
             "fillmode": "overlay",
             "size": 10,
             "solidity": 0.2
            },
            "type": "scatter"
           }
          ],
          "scatter3d": [
           {
            "line": {
             "colorbar": {
              "outlinewidth": 0,
              "ticks": ""
             }
            },
            "marker": {
             "colorbar": {
              "outlinewidth": 0,
              "ticks": ""
             }
            },
            "type": "scatter3d"
           }
          ],
          "scattercarpet": [
           {
            "marker": {
             "colorbar": {
              "outlinewidth": 0,
              "ticks": ""
             }
            },
            "type": "scattercarpet"
           }
          ],
          "scattergeo": [
           {
            "marker": {
             "colorbar": {
              "outlinewidth": 0,
              "ticks": ""
             }
            },
            "type": "scattergeo"
           }
          ],
          "scattergl": [
           {
            "marker": {
             "colorbar": {
              "outlinewidth": 0,
              "ticks": ""
             }
            },
            "type": "scattergl"
           }
          ],
          "scattermapbox": [
           {
            "marker": {
             "colorbar": {
              "outlinewidth": 0,
              "ticks": ""
             }
            },
            "type": "scattermapbox"
           }
          ],
          "scatterpolar": [
           {
            "marker": {
             "colorbar": {
              "outlinewidth": 0,
              "ticks": ""
             }
            },
            "type": "scatterpolar"
           }
          ],
          "scatterpolargl": [
           {
            "marker": {
             "colorbar": {
              "outlinewidth": 0,
              "ticks": ""
             }
            },
            "type": "scatterpolargl"
           }
          ],
          "scatterternary": [
           {
            "marker": {
             "colorbar": {
              "outlinewidth": 0,
              "ticks": ""
             }
            },
            "type": "scatterternary"
           }
          ],
          "surface": [
           {
            "colorbar": {
             "outlinewidth": 0,
             "ticks": ""
            },
            "colorscale": [
             [
              0,
              "#0d0887"
             ],
             [
              0.1111111111111111,
              "#46039f"
             ],
             [
              0.2222222222222222,
              "#7201a8"
             ],
             [
              0.3333333333333333,
              "#9c179e"
             ],
             [
              0.4444444444444444,
              "#bd3786"
             ],
             [
              0.5555555555555556,
              "#d8576b"
             ],
             [
              0.6666666666666666,
              "#ed7953"
             ],
             [
              0.7777777777777778,
              "#fb9f3a"
             ],
             [
              0.8888888888888888,
              "#fdca26"
             ],
             [
              1,
              "#f0f921"
             ]
            ],
            "type": "surface"
           }
          ],
          "table": [
           {
            "cells": {
             "fill": {
              "color": "#EBF0F8"
             },
             "line": {
              "color": "white"
             }
            },
            "header": {
             "fill": {
              "color": "#C8D4E3"
             },
             "line": {
              "color": "white"
             }
            },
            "type": "table"
           }
          ]
         },
         "layout": {
          "annotationdefaults": {
           "arrowcolor": "#2a3f5f",
           "arrowhead": 0,
           "arrowwidth": 1
          },
          "autotypenumbers": "strict",
          "coloraxis": {
           "colorbar": {
            "outlinewidth": 0,
            "ticks": ""
           }
          },
          "colorscale": {
           "diverging": [
            [
             0,
             "#8e0152"
            ],
            [
             0.1,
             "#c51b7d"
            ],
            [
             0.2,
             "#de77ae"
            ],
            [
             0.3,
             "#f1b6da"
            ],
            [
             0.4,
             "#fde0ef"
            ],
            [
             0.5,
             "#f7f7f7"
            ],
            [
             0.6,
             "#e6f5d0"
            ],
            [
             0.7,
             "#b8e186"
            ],
            [
             0.8,
             "#7fbc41"
            ],
            [
             0.9,
             "#4d9221"
            ],
            [
             1,
             "#276419"
            ]
           ],
           "sequential": [
            [
             0,
             "#0d0887"
            ],
            [
             0.1111111111111111,
             "#46039f"
            ],
            [
             0.2222222222222222,
             "#7201a8"
            ],
            [
             0.3333333333333333,
             "#9c179e"
            ],
            [
             0.4444444444444444,
             "#bd3786"
            ],
            [
             0.5555555555555556,
             "#d8576b"
            ],
            [
             0.6666666666666666,
             "#ed7953"
            ],
            [
             0.7777777777777778,
             "#fb9f3a"
            ],
            [
             0.8888888888888888,
             "#fdca26"
            ],
            [
             1,
             "#f0f921"
            ]
           ],
           "sequentialminus": [
            [
             0,
             "#0d0887"
            ],
            [
             0.1111111111111111,
             "#46039f"
            ],
            [
             0.2222222222222222,
             "#7201a8"
            ],
            [
             0.3333333333333333,
             "#9c179e"
            ],
            [
             0.4444444444444444,
             "#bd3786"
            ],
            [
             0.5555555555555556,
             "#d8576b"
            ],
            [
             0.6666666666666666,
             "#ed7953"
            ],
            [
             0.7777777777777778,
             "#fb9f3a"
            ],
            [
             0.8888888888888888,
             "#fdca26"
            ],
            [
             1,
             "#f0f921"
            ]
           ]
          },
          "colorway": [
           "#636efa",
           "#EF553B",
           "#00cc96",
           "#ab63fa",
           "#FFA15A",
           "#19d3f3",
           "#FF6692",
           "#B6E880",
           "#FF97FF",
           "#FECB52"
          ],
          "font": {
           "color": "#2a3f5f"
          },
          "geo": {
           "bgcolor": "white",
           "lakecolor": "white",
           "landcolor": "#E5ECF6",
           "showlakes": true,
           "showland": true,
           "subunitcolor": "white"
          },
          "hoverlabel": {
           "align": "left"
          },
          "hovermode": "closest",
          "mapbox": {
           "style": "light"
          },
          "paper_bgcolor": "white",
          "plot_bgcolor": "#E5ECF6",
          "polar": {
           "angularaxis": {
            "gridcolor": "white",
            "linecolor": "white",
            "ticks": ""
           },
           "bgcolor": "#E5ECF6",
           "radialaxis": {
            "gridcolor": "white",
            "linecolor": "white",
            "ticks": ""
           }
          },
          "scene": {
           "xaxis": {
            "backgroundcolor": "#E5ECF6",
            "gridcolor": "white",
            "gridwidth": 2,
            "linecolor": "white",
            "showbackground": true,
            "ticks": "",
            "zerolinecolor": "white"
           },
           "yaxis": {
            "backgroundcolor": "#E5ECF6",
            "gridcolor": "white",
            "gridwidth": 2,
            "linecolor": "white",
            "showbackground": true,
            "ticks": "",
            "zerolinecolor": "white"
           },
           "zaxis": {
            "backgroundcolor": "#E5ECF6",
            "gridcolor": "white",
            "gridwidth": 2,
            "linecolor": "white",
            "showbackground": true,
            "ticks": "",
            "zerolinecolor": "white"
           }
          },
          "shapedefaults": {
           "line": {
            "color": "#2a3f5f"
           }
          },
          "ternary": {
           "aaxis": {
            "gridcolor": "white",
            "linecolor": "white",
            "ticks": ""
           },
           "baxis": {
            "gridcolor": "white",
            "linecolor": "white",
            "ticks": ""
           },
           "bgcolor": "#E5ECF6",
           "caxis": {
            "gridcolor": "white",
            "linecolor": "white",
            "ticks": ""
           }
          },
          "title": {
           "x": 0.05
          },
          "xaxis": {
           "automargin": true,
           "gridcolor": "white",
           "linecolor": "white",
           "ticks": "",
           "title": {
            "standoff": 15
           },
           "zerolinecolor": "white",
           "zerolinewidth": 2
          },
          "yaxis": {
           "automargin": true,
           "gridcolor": "white",
           "linecolor": "white",
           "ticks": "",
           "title": {
            "standoff": 15
           },
           "zerolinecolor": "white",
           "zerolinewidth": 2
          }
         }
        },
        "title": {
         "text": "Scatter Matrix with Correlation Strength Indication"
        },
        "width": 1800,
        "xaxis": {
         "tickangle": 90
        },
        "yaxis": {
         "tickangle": -90
        }
       }
      }
     },
     "metadata": {},
     "output_type": "display_data"
    }
   ],
   "source": [
    "import plotly.express as px\n",
    "import numpy as np\n",
    "\n",
    "# Calculate the correlation matrix\n",
    "corr_matrix = combined_without_year_df[['RentPrimaryResidence', 'ConsumerPriceIndex', \n",
    "                                        'MULTJobHolders_Perc_ofEmployed_M', 'MULTJobHoldersPerc_ofEmployed_W']].corr()\n",
    "\n",
    "# Function to define the color based on the correlation strength\n",
    "def get_color(value):\n",
    "    if value > 0:\n",
    "        return f'rgb(0, 0, {int(255 * value)})'  # Blue gradient for positive correlations\n",
    "    elif value < 0:\n",
    "        return f'rgb({int(255 * abs(value))}, 0, 0)'  # Red gradient for negative correlations\n",
    "    else:\n",
    "        return 'lightgrey'  # Diagonal (1-to-1 correlations)\n",
    "\n",
    "# Create the scatter matrix\n",
    "fig = px.scatter_matrix(\n",
    "    combined_without_year_df,\n",
    "    dimensions=['RentPrimaryResidence', 'ConsumerPriceIndex', \n",
    "                'MULTJobHolders_Perc_ofEmployed_M', 'MULTJobHoldersPerc_ofEmployed_W'],\n",
    "    title=\"Scatter Matrix with Correlation Strength Indication\",\n",
    "    labels={col: col.replace('_', ' ') for col in combined_without_year_df.columns}\n",
    ")\n",
    "\n",
    "# Customize each plot point's marker color based on the correlation matrix\n",
    "for i, dim1 in enumerate(corr_matrix.columns):\n",
    "    for j, dim2 in enumerate(corr_matrix.columns):\n",
    "        if i != j:  # Only change non-diagonal cells\n",
    "            color = get_color(corr_matrix.loc[dim1, dim2])\n",
    "            fig.update_traces(marker=dict(color=color))\n",
    "\n",
    "# Shade or hide the diagonal\n",
    "for i in range(len(corr_matrix.columns)):\n",
    "    fig.update_traces(diagonal_visible=False)  # Hide diagonal plots\n",
    "\n",
    "# Update layout for better readability\n",
    "fig.update_layout(\n",
    "    width=1800,\n",
    "    height=1200,\n",
    "    xaxis=dict(tickangle=90),\n",
    "    yaxis=dict(tickangle=-90)\n",
    ")\n",
    "\n",
    "# Show the plot\n",
    "fig.show()\n",
    "\n",
    "\n"
   ]
  },
  {
   "cell_type": "code",
   "execution_count": 174,
   "metadata": {},
   "outputs": [
    {
     "name": "stdout",
     "output_type": "stream",
     "text": [
      "Skewness:\n",
      " ConsumerPriceIndex                  0.334809\n",
      "RentPrimaryResidence                0.500534\n",
      "OwnerEquivalentRent                 0.485471\n",
      "DelinquencyCreditCLoans             0.243117\n",
      "FedFundsEffectiveRate_MonthlyAve    0.320839\n",
      "MULTJobHolders_Pri_FT_Sec_PT        0.027111\n",
      "MULTJobHolders_Pri_Sec_BothFT       0.677126\n",
      "MULTJobHolders_Pri_Sec_BothPT       0.185969\n",
      "MULTJobHolders_Perc_ofEmployed_M    0.619097\n",
      "MULTJobHoldersPerc_ofEmployed_W     0.307323\n",
      "MULTJobHoldersPerc_ofEmployed       0.469237\n",
      "dtype: float64\n",
      "Kurtosis:\n",
      " ConsumerPriceIndex                 -0.639361\n",
      "RentPrimaryResidence               -0.619206\n",
      "OwnerEquivalentRent                -0.483947\n",
      "DelinquencyCreditCLoans            -0.621775\n",
      "FedFundsEffectiveRate_MonthlyAve   -1.548424\n",
      "MULTJobHolders_Pri_FT_Sec_PT       -0.453790\n",
      "MULTJobHolders_Pri_Sec_BothFT       0.076036\n",
      "MULTJobHolders_Pri_Sec_BothPT      -0.012324\n",
      "MULTJobHolders_Perc_ofEmployed_M   -0.424591\n",
      "MULTJobHoldersPerc_ofEmployed_W     0.581757\n",
      "MULTJobHoldersPerc_ofEmployed      -0.232970\n",
      "dtype: float64\n"
     ]
    }
   ],
   "source": [
    "combined_without_year_df = combined_df.drop(columns=['Year'])\n",
    "# Additional statistics (Skewness and Kurtosis)\n",
    "skewness = combined_without_year_df.skew()\n",
    "kurtosis = combined_without_year_df.kurtosis()\n",
    "print(\"Skewness:\\n\", skewness)\n",
    "print(\"Kurtosis:\\n\", kurtosis)\n"
   ]
  },
  {
   "cell_type": "code",
   "execution_count": 175,
   "metadata": {},
   "outputs": [
    {
     "data": {
      "application/vnd.plotly.v1+json": {
       "config": {
        "plotlyServerURL": "https://plot.ly"
       },
       "data": [
        {
         "line": {
          "color": "blue"
         },
         "mode": "lines",
         "name": "Original",
         "type": "scatter",
         "x": [
          "1994-01-01T00:00:00",
          "1994-04-01T00:00:00",
          "1994-07-01T00:00:00",
          "1994-10-01T00:00:00",
          "1995-01-01T00:00:00",
          "1995-04-01T00:00:00",
          "1995-07-01T00:00:00",
          "1995-10-01T00:00:00",
          "1996-01-01T00:00:00",
          "1996-04-01T00:00:00",
          "1996-07-01T00:00:00",
          "1996-10-01T00:00:00",
          "1997-01-01T00:00:00",
          "1997-04-01T00:00:00",
          "1997-07-01T00:00:00",
          "1997-10-01T00:00:00",
          "1998-01-01T00:00:00",
          "1998-04-01T00:00:00",
          "1998-07-01T00:00:00",
          "1998-10-01T00:00:00",
          "1999-01-01T00:00:00",
          "1999-04-01T00:00:00",
          "1999-07-01T00:00:00",
          "1999-10-01T00:00:00",
          "2000-01-01T00:00:00",
          "2000-04-01T00:00:00",
          "2000-07-01T00:00:00",
          "2000-10-01T00:00:00",
          "2001-01-01T00:00:00",
          "2001-04-01T00:00:00",
          "2001-07-01T00:00:00",
          "2001-10-01T00:00:00",
          "2002-01-01T00:00:00",
          "2002-04-01T00:00:00",
          "2002-07-01T00:00:00",
          "2002-10-01T00:00:00",
          "2003-01-01T00:00:00",
          "2003-04-01T00:00:00",
          "2003-07-01T00:00:00",
          "2003-10-01T00:00:00",
          "2004-01-01T00:00:00",
          "2004-04-01T00:00:00",
          "2004-07-01T00:00:00",
          "2004-10-01T00:00:00",
          "2005-01-01T00:00:00",
          "2005-04-01T00:00:00",
          "2005-07-01T00:00:00",
          "2005-10-01T00:00:00",
          "2006-01-01T00:00:00",
          "2006-04-01T00:00:00",
          "2006-07-01T00:00:00",
          "2006-10-01T00:00:00",
          "2007-01-01T00:00:00",
          "2007-04-01T00:00:00",
          "2007-07-01T00:00:00",
          "2007-10-01T00:00:00",
          "2008-01-01T00:00:00",
          "2008-04-01T00:00:00",
          "2008-07-01T00:00:00",
          "2008-10-01T00:00:00",
          "2009-01-01T00:00:00",
          "2009-04-01T00:00:00",
          "2009-07-01T00:00:00",
          "2009-10-01T00:00:00",
          "2010-01-01T00:00:00",
          "2010-04-01T00:00:00",
          "2010-07-01T00:00:00",
          "2010-10-01T00:00:00",
          "2011-01-01T00:00:00",
          "2011-04-01T00:00:00",
          "2011-07-01T00:00:00",
          "2011-10-01T00:00:00",
          "2012-01-01T00:00:00",
          "2012-04-01T00:00:00",
          "2012-07-01T00:00:00",
          "2012-10-01T00:00:00",
          "2013-01-01T00:00:00",
          "2013-04-01T00:00:00",
          "2013-07-01T00:00:00",
          "2013-10-01T00:00:00",
          "2014-01-01T00:00:00",
          "2014-04-01T00:00:00",
          "2014-07-01T00:00:00",
          "2014-10-01T00:00:00",
          "2015-01-01T00:00:00",
          "2015-04-01T00:00:00",
          "2015-07-01T00:00:00",
          "2015-10-01T00:00:00",
          "2016-01-01T00:00:00",
          "2016-04-01T00:00:00",
          "2016-07-01T00:00:00",
          "2016-10-01T00:00:00",
          "2017-01-01T00:00:00",
          "2017-04-01T00:00:00",
          "2017-07-01T00:00:00",
          "2017-10-01T00:00:00",
          "2018-01-01T00:00:00",
          "2018-04-01T00:00:00",
          "2018-07-01T00:00:00",
          "2018-10-01T00:00:00",
          "2019-01-01T00:00:00",
          "2019-04-01T00:00:00",
          "2019-07-01T00:00:00",
          "2019-10-01T00:00:00",
          "2020-01-01T00:00:00",
          "2020-04-01T00:00:00",
          "2020-07-01T00:00:00",
          "2020-10-01T00:00:00",
          "2021-01-01T00:00:00",
          "2021-04-01T00:00:00",
          "2021-07-01T00:00:00",
          "2021-10-01T00:00:00",
          "2022-01-01T00:00:00",
          "2022-04-01T00:00:00",
          "2022-07-01T00:00:00",
          "2022-10-01T00:00:00",
          "2023-01-01T00:00:00",
          "2023-04-01T00:00:00",
          "2023-07-01T00:00:00",
          "2023-10-01T00:00:00",
          "2024-01-01T00:00:00",
          "2024-04-01T00:00:00"
         ],
         "y": [
          3.0506451612903223,
          3.555,
          4.256129032258065,
          4.76,
          5.52741935483871,
          6.047333333333333,
          5.851935483870968,
          5.756129032258065,
          5.564838709677419,
          5.2236666666666665,
          5.396451612903226,
          5.238064516129032,
          5.2545161290322575,
          5.5073333333333325,
          5.5212903225806444,
          5.4961290322580645,
          5.55741935483871,
          5.445333333333333,
          5.5358064516129035,
          5.070967741935484,
          4.63258064516129,
          4.736333333333333,
          4.994193548387097,
          5.2,
          5.448387096774193,
          6.019666666666667,
          6.5445161290322575,
          6.509354838709677,
          5.975806451612903,
          4.802,
          3.769032258064516,
          2.485161290322581,
          1.7296774193548388,
          1.753,
          1.729032258064516,
          1.7548387096774194,
          1.2351612903225806,
          1.258,
          1.011290322580645,
          1.01,
          0.9970967741935484,
          1.004,
          1.2635483870967743,
          1.760967741935484,
          2.2793548387096774,
          2.785,
          3.2625806451612904,
          3.779354838709677,
          4.285161290322581,
          4.790333333333333,
          5.235161290322581,
          5.245161290322581,
          5.248387096774193,
          5.249666666666666,
          5.258387096774194,
          4.755483870967741,
          3.940322580645161,
          2.2783333333333333,
          2.009677419354839,
          0.9693548387096774,
          0.1541935483870967,
          0.1503333333333333,
          0.1558064516129032,
          0.1180645161290322,
          0.11,
          0.1983333333333333,
          0.1825806451612903,
          0.1912903225806451,
          0.1683870967741935,
          0.098,
          0.0709677419354838,
          0.0706451612903225,
          0.0819354838709677,
          0.1393333333333333,
          0.1564516129032258,
          0.1583870967741935,
          0.1425806451612903,
          0.145,
          0.0925806451612903,
          0.0870967741935483,
          0.0716129032258064,
          0.0903333333333333,
          0.0909677419354838,
          0.0890322580645161,
          0.1148387096774193,
          0.1246666666666666,
          0.1303225806451612,
          0.1235483870967741,
          0.3429032258064516,
          0.3653333333333333,
          0.3916129032258064,
          0.3964516129032258,
          0.6496774193548387,
          0.896,
          1.1506451612903226,
          1.1538709677419356,
          1.414516129032258,
          1.6923333333333332,
          1.91,
          2.187741935483871,
          2.4,
          2.4236666666666666,
          2.402903225806452,
          1.8296774193548389,
          1.5506451612903227,
          0.049,
          0.0925806451612903,
          0.09,
          0.0851612903225806,
          0.069,
          0.0980645161290322,
          0.0790322580645161,
          0.0793548387096774,
          0.33,
          1.6758064516129032,
          3.08,
          4.33,
          4.83,
          5.12,
          5.33,
          5.33,
          5.33
         ]
        },
        {
         "line": {
          "color": "red"
         },
         "mode": "lines",
         "name": "Rolling Mean (12 months)",
         "type": "scatter",
         "x": [
          "1994-01-01T00:00:00",
          "1994-04-01T00:00:00",
          "1994-07-01T00:00:00",
          "1994-10-01T00:00:00",
          "1995-01-01T00:00:00",
          "1995-04-01T00:00:00",
          "1995-07-01T00:00:00",
          "1995-10-01T00:00:00",
          "1996-01-01T00:00:00",
          "1996-04-01T00:00:00",
          "1996-07-01T00:00:00",
          "1996-10-01T00:00:00",
          "1997-01-01T00:00:00",
          "1997-04-01T00:00:00",
          "1997-07-01T00:00:00",
          "1997-10-01T00:00:00",
          "1998-01-01T00:00:00",
          "1998-04-01T00:00:00",
          "1998-07-01T00:00:00",
          "1998-10-01T00:00:00",
          "1999-01-01T00:00:00",
          "1999-04-01T00:00:00",
          "1999-07-01T00:00:00",
          "1999-10-01T00:00:00",
          "2000-01-01T00:00:00",
          "2000-04-01T00:00:00",
          "2000-07-01T00:00:00",
          "2000-10-01T00:00:00",
          "2001-01-01T00:00:00",
          "2001-04-01T00:00:00",
          "2001-07-01T00:00:00",
          "2001-10-01T00:00:00",
          "2002-01-01T00:00:00",
          "2002-04-01T00:00:00",
          "2002-07-01T00:00:00",
          "2002-10-01T00:00:00",
          "2003-01-01T00:00:00",
          "2003-04-01T00:00:00",
          "2003-07-01T00:00:00",
          "2003-10-01T00:00:00",
          "2004-01-01T00:00:00",
          "2004-04-01T00:00:00",
          "2004-07-01T00:00:00",
          "2004-10-01T00:00:00",
          "2005-01-01T00:00:00",
          "2005-04-01T00:00:00",
          "2005-07-01T00:00:00",
          "2005-10-01T00:00:00",
          "2006-01-01T00:00:00",
          "2006-04-01T00:00:00",
          "2006-07-01T00:00:00",
          "2006-10-01T00:00:00",
          "2007-01-01T00:00:00",
          "2007-04-01T00:00:00",
          "2007-07-01T00:00:00",
          "2007-10-01T00:00:00",
          "2008-01-01T00:00:00",
          "2008-04-01T00:00:00",
          "2008-07-01T00:00:00",
          "2008-10-01T00:00:00",
          "2009-01-01T00:00:00",
          "2009-04-01T00:00:00",
          "2009-07-01T00:00:00",
          "2009-10-01T00:00:00",
          "2010-01-01T00:00:00",
          "2010-04-01T00:00:00",
          "2010-07-01T00:00:00",
          "2010-10-01T00:00:00",
          "2011-01-01T00:00:00",
          "2011-04-01T00:00:00",
          "2011-07-01T00:00:00",
          "2011-10-01T00:00:00",
          "2012-01-01T00:00:00",
          "2012-04-01T00:00:00",
          "2012-07-01T00:00:00",
          "2012-10-01T00:00:00",
          "2013-01-01T00:00:00",
          "2013-04-01T00:00:00",
          "2013-07-01T00:00:00",
          "2013-10-01T00:00:00",
          "2014-01-01T00:00:00",
          "2014-04-01T00:00:00",
          "2014-07-01T00:00:00",
          "2014-10-01T00:00:00",
          "2015-01-01T00:00:00",
          "2015-04-01T00:00:00",
          "2015-07-01T00:00:00",
          "2015-10-01T00:00:00",
          "2016-01-01T00:00:00",
          "2016-04-01T00:00:00",
          "2016-07-01T00:00:00",
          "2016-10-01T00:00:00",
          "2017-01-01T00:00:00",
          "2017-04-01T00:00:00",
          "2017-07-01T00:00:00",
          "2017-10-01T00:00:00",
          "2018-01-01T00:00:00",
          "2018-04-01T00:00:00",
          "2018-07-01T00:00:00",
          "2018-10-01T00:00:00",
          "2019-01-01T00:00:00",
          "2019-04-01T00:00:00",
          "2019-07-01T00:00:00",
          "2019-10-01T00:00:00",
          "2020-01-01T00:00:00",
          "2020-04-01T00:00:00",
          "2020-07-01T00:00:00",
          "2020-10-01T00:00:00",
          "2021-01-01T00:00:00",
          "2021-04-01T00:00:00",
          "2021-07-01T00:00:00",
          "2021-10-01T00:00:00",
          "2022-01-01T00:00:00",
          "2022-04-01T00:00:00",
          "2022-07-01T00:00:00",
          "2022-10-01T00:00:00",
          "2023-01-01T00:00:00",
          "2023-04-01T00:00:00",
          "2023-07-01T00:00:00",
          "2023-10-01T00:00:00",
          "2024-01-01T00:00:00",
          "2024-04-01T00:00:00"
         ],
         "y": [
          null,
          null,
          null,
          null,
          null,
          null,
          null,
          null,
          null,
          null,
          null,
          5.018967741935484,
          5.202623655913979,
          5.365318100358423,
          5.470748207885305,
          5.53209229390681,
          5.534592293906809,
          5.484425627240143,
          5.458081541218637,
          5.400984767025089,
          5.323296594982079,
          5.282685483870968,
          5.249163978494623,
          5.245991935483871,
          5.262147849462365,
          5.30484229390681,
          5.390111111111111,
          5.474546594982079,
          5.509412186379929,
          5.455801075268817,
          5.308569892473118,
          5.093086021505376,
          4.851177419354839,
          4.602566308243728,
          4.330469534050179,
          4.043372759856631,
          3.6922706093189963,
          3.2954650537634405,
          2.834362903225806,
          2.3760833333333333,
          1.9611908602150538,
          1.6446908602150538,
          1.4359005376344085,
          1.3755510752688174,
          1.4213575268817207,
          1.5073575268817205,
          1.6351532258064516,
          1.8038629032258064,
          2.058029569892473,
          2.3523906810035844,
          2.704379928315412,
          3.0573100358422938,
          3.4115842293906806,
          3.7653897849462363,
          4.098293010752688,
          4.347836021505376,
          4.486249999999999,
          4.4440277777777775,
          4.33961917562724,
          4.105452508960573,
          3.7612051971326164,
          3.3745385304659496,
          2.9512589605734765,
          2.524000896057348,
          2.0958019713261646,
          1.6748575268817205,
          1.2518736559139785,
          0.871524193548387,
          0.5571962365591397,
          0.37550179211469525,
          0.21394265232974907,
          0.1390501792114695,
          0.1330286738351254,
          0.13211200716845875,
          0.13216577060931897,
          0.13552598566308238,
          0.13824103942652324,
          0.13379659498207883,
          0.12629659498207882,
          0.11761379928315409,
          0.10954928315412182,
          0.10891039426523293,
          0.1105770609318996,
          0.11210931899641573,
          0.1148512544802867,
          0.11362903225806448,
          0.11145161290322576,
          0.10854838709677415,
          0.12524193548387094,
          0.14360304659498202,
          0.1685224014336917,
          0.1943019713261648,
          0.2424740143369175,
          0.3096129032258064,
          0.3979193548387096,
          0.48665591397849456,
          0.5949623655913978,
          0.7256012544802868,
          0.8739077060931898,
          1.045923835125448,
          1.2173485663082437,
          1.3888763440860215,
          1.5564838709677422,
          1.6759193548387097,
          1.7510000000000001,
          1.6804166666666667,
          1.5922446236559142,
          1.5035887096774194,
          1.3928091397849462,
          1.2575313620071684,
          1.1065367383512545,
          0.9308109318996416,
          0.7374238351254481,
          0.5629516129032258,
          0.5023602150537635,
          0.6065537634408602,
          0.8381666666666666,
          1.2365833333333334,
          1.655534946236559,
          2.0922016129032257,
          2.529271505376344,
          2.9676881720430104
         ]
        }
       ],
       "layout": {
        "height": 600,
        "legend": {
         "orientation": "h",
         "traceorder": "normal",
         "x": 0.5,
         "y": 1
        },
        "template": {
         "data": {
          "bar": [
           {
            "error_x": {
             "color": "#2a3f5f"
            },
            "error_y": {
             "color": "#2a3f5f"
            },
            "marker": {
             "line": {
              "color": "#E5ECF6",
              "width": 0.5
             },
             "pattern": {
              "fillmode": "overlay",
              "size": 10,
              "solidity": 0.2
             }
            },
            "type": "bar"
           }
          ],
          "barpolar": [
           {
            "marker": {
             "line": {
              "color": "#E5ECF6",
              "width": 0.5
             },
             "pattern": {
              "fillmode": "overlay",
              "size": 10,
              "solidity": 0.2
             }
            },
            "type": "barpolar"
           }
          ],
          "carpet": [
           {
            "aaxis": {
             "endlinecolor": "#2a3f5f",
             "gridcolor": "white",
             "linecolor": "white",
             "minorgridcolor": "white",
             "startlinecolor": "#2a3f5f"
            },
            "baxis": {
             "endlinecolor": "#2a3f5f",
             "gridcolor": "white",
             "linecolor": "white",
             "minorgridcolor": "white",
             "startlinecolor": "#2a3f5f"
            },
            "type": "carpet"
           }
          ],
          "choropleth": [
           {
            "colorbar": {
             "outlinewidth": 0,
             "ticks": ""
            },
            "type": "choropleth"
           }
          ],
          "contour": [
           {
            "colorbar": {
             "outlinewidth": 0,
             "ticks": ""
            },
            "colorscale": [
             [
              0,
              "#0d0887"
             ],
             [
              0.1111111111111111,
              "#46039f"
             ],
             [
              0.2222222222222222,
              "#7201a8"
             ],
             [
              0.3333333333333333,
              "#9c179e"
             ],
             [
              0.4444444444444444,
              "#bd3786"
             ],
             [
              0.5555555555555556,
              "#d8576b"
             ],
             [
              0.6666666666666666,
              "#ed7953"
             ],
             [
              0.7777777777777778,
              "#fb9f3a"
             ],
             [
              0.8888888888888888,
              "#fdca26"
             ],
             [
              1,
              "#f0f921"
             ]
            ],
            "type": "contour"
           }
          ],
          "contourcarpet": [
           {
            "colorbar": {
             "outlinewidth": 0,
             "ticks": ""
            },
            "type": "contourcarpet"
           }
          ],
          "heatmap": [
           {
            "colorbar": {
             "outlinewidth": 0,
             "ticks": ""
            },
            "colorscale": [
             [
              0,
              "#0d0887"
             ],
             [
              0.1111111111111111,
              "#46039f"
             ],
             [
              0.2222222222222222,
              "#7201a8"
             ],
             [
              0.3333333333333333,
              "#9c179e"
             ],
             [
              0.4444444444444444,
              "#bd3786"
             ],
             [
              0.5555555555555556,
              "#d8576b"
             ],
             [
              0.6666666666666666,
              "#ed7953"
             ],
             [
              0.7777777777777778,
              "#fb9f3a"
             ],
             [
              0.8888888888888888,
              "#fdca26"
             ],
             [
              1,
              "#f0f921"
             ]
            ],
            "type": "heatmap"
           }
          ],
          "heatmapgl": [
           {
            "colorbar": {
             "outlinewidth": 0,
             "ticks": ""
            },
            "colorscale": [
             [
              0,
              "#0d0887"
             ],
             [
              0.1111111111111111,
              "#46039f"
             ],
             [
              0.2222222222222222,
              "#7201a8"
             ],
             [
              0.3333333333333333,
              "#9c179e"
             ],
             [
              0.4444444444444444,
              "#bd3786"
             ],
             [
              0.5555555555555556,
              "#d8576b"
             ],
             [
              0.6666666666666666,
              "#ed7953"
             ],
             [
              0.7777777777777778,
              "#fb9f3a"
             ],
             [
              0.8888888888888888,
              "#fdca26"
             ],
             [
              1,
              "#f0f921"
             ]
            ],
            "type": "heatmapgl"
           }
          ],
          "histogram": [
           {
            "marker": {
             "pattern": {
              "fillmode": "overlay",
              "size": 10,
              "solidity": 0.2
             }
            },
            "type": "histogram"
           }
          ],
          "histogram2d": [
           {
            "colorbar": {
             "outlinewidth": 0,
             "ticks": ""
            },
            "colorscale": [
             [
              0,
              "#0d0887"
             ],
             [
              0.1111111111111111,
              "#46039f"
             ],
             [
              0.2222222222222222,
              "#7201a8"
             ],
             [
              0.3333333333333333,
              "#9c179e"
             ],
             [
              0.4444444444444444,
              "#bd3786"
             ],
             [
              0.5555555555555556,
              "#d8576b"
             ],
             [
              0.6666666666666666,
              "#ed7953"
             ],
             [
              0.7777777777777778,
              "#fb9f3a"
             ],
             [
              0.8888888888888888,
              "#fdca26"
             ],
             [
              1,
              "#f0f921"
             ]
            ],
            "type": "histogram2d"
           }
          ],
          "histogram2dcontour": [
           {
            "colorbar": {
             "outlinewidth": 0,
             "ticks": ""
            },
            "colorscale": [
             [
              0,
              "#0d0887"
             ],
             [
              0.1111111111111111,
              "#46039f"
             ],
             [
              0.2222222222222222,
              "#7201a8"
             ],
             [
              0.3333333333333333,
              "#9c179e"
             ],
             [
              0.4444444444444444,
              "#bd3786"
             ],
             [
              0.5555555555555556,
              "#d8576b"
             ],
             [
              0.6666666666666666,
              "#ed7953"
             ],
             [
              0.7777777777777778,
              "#fb9f3a"
             ],
             [
              0.8888888888888888,
              "#fdca26"
             ],
             [
              1,
              "#f0f921"
             ]
            ],
            "type": "histogram2dcontour"
           }
          ],
          "mesh3d": [
           {
            "colorbar": {
             "outlinewidth": 0,
             "ticks": ""
            },
            "type": "mesh3d"
           }
          ],
          "parcoords": [
           {
            "line": {
             "colorbar": {
              "outlinewidth": 0,
              "ticks": ""
             }
            },
            "type": "parcoords"
           }
          ],
          "pie": [
           {
            "automargin": true,
            "type": "pie"
           }
          ],
          "scatter": [
           {
            "fillpattern": {
             "fillmode": "overlay",
             "size": 10,
             "solidity": 0.2
            },
            "type": "scatter"
           }
          ],
          "scatter3d": [
           {
            "line": {
             "colorbar": {
              "outlinewidth": 0,
              "ticks": ""
             }
            },
            "marker": {
             "colorbar": {
              "outlinewidth": 0,
              "ticks": ""
             }
            },
            "type": "scatter3d"
           }
          ],
          "scattercarpet": [
           {
            "marker": {
             "colorbar": {
              "outlinewidth": 0,
              "ticks": ""
             }
            },
            "type": "scattercarpet"
           }
          ],
          "scattergeo": [
           {
            "marker": {
             "colorbar": {
              "outlinewidth": 0,
              "ticks": ""
             }
            },
            "type": "scattergeo"
           }
          ],
          "scattergl": [
           {
            "marker": {
             "colorbar": {
              "outlinewidth": 0,
              "ticks": ""
             }
            },
            "type": "scattergl"
           }
          ],
          "scattermapbox": [
           {
            "marker": {
             "colorbar": {
              "outlinewidth": 0,
              "ticks": ""
             }
            },
            "type": "scattermapbox"
           }
          ],
          "scatterpolar": [
           {
            "marker": {
             "colorbar": {
              "outlinewidth": 0,
              "ticks": ""
             }
            },
            "type": "scatterpolar"
           }
          ],
          "scatterpolargl": [
           {
            "marker": {
             "colorbar": {
              "outlinewidth": 0,
              "ticks": ""
             }
            },
            "type": "scatterpolargl"
           }
          ],
          "scatterternary": [
           {
            "marker": {
             "colorbar": {
              "outlinewidth": 0,
              "ticks": ""
             }
            },
            "type": "scatterternary"
           }
          ],
          "surface": [
           {
            "colorbar": {
             "outlinewidth": 0,
             "ticks": ""
            },
            "colorscale": [
             [
              0,
              "#0d0887"
             ],
             [
              0.1111111111111111,
              "#46039f"
             ],
             [
              0.2222222222222222,
              "#7201a8"
             ],
             [
              0.3333333333333333,
              "#9c179e"
             ],
             [
              0.4444444444444444,
              "#bd3786"
             ],
             [
              0.5555555555555556,
              "#d8576b"
             ],
             [
              0.6666666666666666,
              "#ed7953"
             ],
             [
              0.7777777777777778,
              "#fb9f3a"
             ],
             [
              0.8888888888888888,
              "#fdca26"
             ],
             [
              1,
              "#f0f921"
             ]
            ],
            "type": "surface"
           }
          ],
          "table": [
           {
            "cells": {
             "fill": {
              "color": "#EBF0F8"
             },
             "line": {
              "color": "white"
             }
            },
            "header": {
             "fill": {
              "color": "#C8D4E3"
             },
             "line": {
              "color": "white"
             }
            },
            "type": "table"
           }
          ]
         },
         "layout": {
          "annotationdefaults": {
           "arrowcolor": "#2a3f5f",
           "arrowhead": 0,
           "arrowwidth": 1
          },
          "autotypenumbers": "strict",
          "coloraxis": {
           "colorbar": {
            "outlinewidth": 0,
            "ticks": ""
           }
          },
          "colorscale": {
           "diverging": [
            [
             0,
             "#8e0152"
            ],
            [
             0.1,
             "#c51b7d"
            ],
            [
             0.2,
             "#de77ae"
            ],
            [
             0.3,
             "#f1b6da"
            ],
            [
             0.4,
             "#fde0ef"
            ],
            [
             0.5,
             "#f7f7f7"
            ],
            [
             0.6,
             "#e6f5d0"
            ],
            [
             0.7,
             "#b8e186"
            ],
            [
             0.8,
             "#7fbc41"
            ],
            [
             0.9,
             "#4d9221"
            ],
            [
             1,
             "#276419"
            ]
           ],
           "sequential": [
            [
             0,
             "#0d0887"
            ],
            [
             0.1111111111111111,
             "#46039f"
            ],
            [
             0.2222222222222222,
             "#7201a8"
            ],
            [
             0.3333333333333333,
             "#9c179e"
            ],
            [
             0.4444444444444444,
             "#bd3786"
            ],
            [
             0.5555555555555556,
             "#d8576b"
            ],
            [
             0.6666666666666666,
             "#ed7953"
            ],
            [
             0.7777777777777778,
             "#fb9f3a"
            ],
            [
             0.8888888888888888,
             "#fdca26"
            ],
            [
             1,
             "#f0f921"
            ]
           ],
           "sequentialminus": [
            [
             0,
             "#0d0887"
            ],
            [
             0.1111111111111111,
             "#46039f"
            ],
            [
             0.2222222222222222,
             "#7201a8"
            ],
            [
             0.3333333333333333,
             "#9c179e"
            ],
            [
             0.4444444444444444,
             "#bd3786"
            ],
            [
             0.5555555555555556,
             "#d8576b"
            ],
            [
             0.6666666666666666,
             "#ed7953"
            ],
            [
             0.7777777777777778,
             "#fb9f3a"
            ],
            [
             0.8888888888888888,
             "#fdca26"
            ],
            [
             1,
             "#f0f921"
            ]
           ]
          },
          "colorway": [
           "#636efa",
           "#EF553B",
           "#00cc96",
           "#ab63fa",
           "#FFA15A",
           "#19d3f3",
           "#FF6692",
           "#B6E880",
           "#FF97FF",
           "#FECB52"
          ],
          "font": {
           "color": "#2a3f5f"
          },
          "geo": {
           "bgcolor": "white",
           "lakecolor": "white",
           "landcolor": "#E5ECF6",
           "showlakes": true,
           "showland": true,
           "subunitcolor": "white"
          },
          "hoverlabel": {
           "align": "left"
          },
          "hovermode": "closest",
          "mapbox": {
           "style": "light"
          },
          "paper_bgcolor": "white",
          "plot_bgcolor": "#E5ECF6",
          "polar": {
           "angularaxis": {
            "gridcolor": "white",
            "linecolor": "white",
            "ticks": ""
           },
           "bgcolor": "#E5ECF6",
           "radialaxis": {
            "gridcolor": "white",
            "linecolor": "white",
            "ticks": ""
           }
          },
          "scene": {
           "xaxis": {
            "backgroundcolor": "#E5ECF6",
            "gridcolor": "white",
            "gridwidth": 2,
            "linecolor": "white",
            "showbackground": true,
            "ticks": "",
            "zerolinecolor": "white"
           },
           "yaxis": {
            "backgroundcolor": "#E5ECF6",
            "gridcolor": "white",
            "gridwidth": 2,
            "linecolor": "white",
            "showbackground": true,
            "ticks": "",
            "zerolinecolor": "white"
           },
           "zaxis": {
            "backgroundcolor": "#E5ECF6",
            "gridcolor": "white",
            "gridwidth": 2,
            "linecolor": "white",
            "showbackground": true,
            "ticks": "",
            "zerolinecolor": "white"
           }
          },
          "shapedefaults": {
           "line": {
            "color": "#2a3f5f"
           }
          },
          "ternary": {
           "aaxis": {
            "gridcolor": "white",
            "linecolor": "white",
            "ticks": ""
           },
           "baxis": {
            "gridcolor": "white",
            "linecolor": "white",
            "ticks": ""
           },
           "bgcolor": "#E5ECF6",
           "caxis": {
            "gridcolor": "white",
            "linecolor": "white",
            "ticks": ""
           }
          },
          "title": {
           "x": 0.05
          },
          "xaxis": {
           "automargin": true,
           "gridcolor": "white",
           "linecolor": "white",
           "ticks": "",
           "title": {
            "standoff": 15
           },
           "zerolinecolor": "white",
           "zerolinewidth": 2
          },
          "yaxis": {
           "automargin": true,
           "gridcolor": "white",
           "linecolor": "white",
           "ticks": "",
           "title": {
            "standoff": 15
           },
           "zerolinecolor": "white",
           "zerolinewidth": 2
          }
         }
        },
        "title": {
         "text": "Original vs. Rolling Mean of Fed Funds Effective Rate (Monthly Ave)"
        },
        "width": 1000,
        "xaxis": {
         "title": {
          "text": "Date"
         }
        },
        "yaxis": {
         "title": {
          "text": "Fed Funds Effective Rate (Monthly Ave)"
         }
        }
       }
      }
     },
     "metadata": {},
     "output_type": "display_data"
    }
   ],
   "source": [
    "import plotly.graph_objects as go\n",
    "\n",
    "# Calculate the rolling mean (with a 12-month window for smoothing)\n",
    "combined_df_rolling = combined_df.rolling(window=12).mean()\n",
    "\n",
    "# Create a Plotly figure\n",
    "fig = go.Figure()\n",
    "\n",
    "# Add the original series\n",
    "fig.add_trace(go.Scatter(\n",
    "    x=combined_df.index,\n",
    "    y=combined_df['FedFundsEffectiveRate_MonthlyAve'],\n",
    "    mode='lines',\n",
    "    name='Original',\n",
    "    line=dict(color='blue')\n",
    "))\n",
    "\n",
    "# Add the rolling mean series\n",
    "fig.add_trace(go.Scatter(\n",
    "    x=combined_df_rolling.index,\n",
    "    y=combined_df_rolling['FedFundsEffectiveRate_MonthlyAve'],\n",
    "    mode='lines',\n",
    "    name='Rolling Mean (12 months)',\n",
    "    line=dict(color='red')\n",
    "))\n",
    "\n",
    "# Update layout\n",
    "fig.update_layout(\n",
    "    title='Original vs. Rolling Mean of Fed Funds Effective Rate (Monthly Ave)',\n",
    "    xaxis_title='Date',\n",
    "    yaxis_title='Fed Funds Effective Rate (Monthly Ave)',\n",
    "    legend=dict(x=0.5, y=1, traceorder='normal', orientation='h'),\n",
    "    width=1000,\n",
    "    height=600\n",
    ")\n",
    "\n",
    "# Show the plot\n",
    "fig.show()\n"
   ]
  },
  {
   "cell_type": "code",
   "execution_count": 176,
   "metadata": {},
   "outputs": [
    {
     "data": {
      "application/vnd.plotly.v1+json": {
       "config": {
        "plotlyServerURL": "https://plot.ly"
       },
       "data": [
        {
         "line": {
          "color": "blue"
         },
         "mode": "lines",
         "name": "Original",
         "type": "scatter",
         "x": [
          "1994-01-01T00:00:00",
          "1994-04-01T00:00:00",
          "1994-07-01T00:00:00",
          "1994-10-01T00:00:00",
          "1995-01-01T00:00:00",
          "1995-04-01T00:00:00",
          "1995-07-01T00:00:00",
          "1995-10-01T00:00:00",
          "1996-01-01T00:00:00",
          "1996-04-01T00:00:00",
          "1996-07-01T00:00:00",
          "1996-10-01T00:00:00",
          "1997-01-01T00:00:00",
          "1997-04-01T00:00:00",
          "1997-07-01T00:00:00",
          "1997-10-01T00:00:00",
          "1998-01-01T00:00:00",
          "1998-04-01T00:00:00",
          "1998-07-01T00:00:00",
          "1998-10-01T00:00:00",
          "1999-01-01T00:00:00",
          "1999-04-01T00:00:00",
          "1999-07-01T00:00:00",
          "1999-10-01T00:00:00",
          "2000-01-01T00:00:00",
          "2000-04-01T00:00:00",
          "2000-07-01T00:00:00",
          "2000-10-01T00:00:00",
          "2001-01-01T00:00:00",
          "2001-04-01T00:00:00",
          "2001-07-01T00:00:00",
          "2001-10-01T00:00:00",
          "2002-01-01T00:00:00",
          "2002-04-01T00:00:00",
          "2002-07-01T00:00:00",
          "2002-10-01T00:00:00",
          "2003-01-01T00:00:00",
          "2003-04-01T00:00:00",
          "2003-07-01T00:00:00",
          "2003-10-01T00:00:00",
          "2004-01-01T00:00:00",
          "2004-04-01T00:00:00",
          "2004-07-01T00:00:00",
          "2004-10-01T00:00:00",
          "2005-01-01T00:00:00",
          "2005-04-01T00:00:00",
          "2005-07-01T00:00:00",
          "2005-10-01T00:00:00",
          "2006-01-01T00:00:00",
          "2006-04-01T00:00:00",
          "2006-07-01T00:00:00",
          "2006-10-01T00:00:00",
          "2007-01-01T00:00:00",
          "2007-04-01T00:00:00",
          "2007-07-01T00:00:00",
          "2007-10-01T00:00:00",
          "2008-01-01T00:00:00",
          "2008-04-01T00:00:00",
          "2008-07-01T00:00:00",
          "2008-10-01T00:00:00",
          "2009-01-01T00:00:00",
          "2009-04-01T00:00:00",
          "2009-07-01T00:00:00",
          "2009-10-01T00:00:00",
          "2010-01-01T00:00:00",
          "2010-04-01T00:00:00",
          "2010-07-01T00:00:00",
          "2010-10-01T00:00:00",
          "2011-01-01T00:00:00",
          "2011-04-01T00:00:00",
          "2011-07-01T00:00:00",
          "2011-10-01T00:00:00",
          "2012-01-01T00:00:00",
          "2012-04-01T00:00:00",
          "2012-07-01T00:00:00",
          "2012-10-01T00:00:00",
          "2013-01-01T00:00:00",
          "2013-04-01T00:00:00",
          "2013-07-01T00:00:00",
          "2013-10-01T00:00:00",
          "2014-01-01T00:00:00",
          "2014-04-01T00:00:00",
          "2014-07-01T00:00:00",
          "2014-10-01T00:00:00",
          "2015-01-01T00:00:00",
          "2015-04-01T00:00:00",
          "2015-07-01T00:00:00",
          "2015-10-01T00:00:00",
          "2016-01-01T00:00:00",
          "2016-04-01T00:00:00",
          "2016-07-01T00:00:00",
          "2016-10-01T00:00:00",
          "2017-01-01T00:00:00",
          "2017-04-01T00:00:00",
          "2017-07-01T00:00:00",
          "2017-10-01T00:00:00",
          "2018-01-01T00:00:00",
          "2018-04-01T00:00:00",
          "2018-07-01T00:00:00",
          "2018-10-01T00:00:00",
          "2019-01-01T00:00:00",
          "2019-04-01T00:00:00",
          "2019-07-01T00:00:00",
          "2019-10-01T00:00:00",
          "2020-01-01T00:00:00",
          "2020-04-01T00:00:00",
          "2020-07-01T00:00:00",
          "2020-10-01T00:00:00",
          "2021-01-01T00:00:00",
          "2021-04-01T00:00:00",
          "2021-07-01T00:00:00",
          "2021-10-01T00:00:00",
          "2022-01-01T00:00:00",
          "2022-04-01T00:00:00",
          "2022-07-01T00:00:00",
          "2022-10-01T00:00:00",
          "2023-01-01T00:00:00",
          "2023-04-01T00:00:00",
          "2023-07-01T00:00:00",
          "2023-10-01T00:00:00",
          "2024-01-01T00:00:00",
          "2024-04-01T00:00:00"
         ],
         "y": [
          3.6,
          3.29,
          3.25,
          3.29,
          3.48,
          3.7,
          3.85,
          3.95,
          4.04,
          4.27,
          4.46,
          4.6,
          4.7,
          4.73,
          4.7,
          4.81,
          4.76,
          4.76,
          4.72,
          4.74,
          4.66,
          4.58,
          4.6,
          4.55,
          4.43,
          4.51,
          4.53,
          4.57,
          4.81,
          4.94,
          5,
          4.69,
          4.94,
          4.78,
          4.89,
          4.84,
          4.68,
          4.53,
          4.24,
          4.43,
          4.21,
          4.15,
          4.07,
          4.03,
          3.7,
          3.67,
          3.9,
          3.54,
          3.86,
          4.13,
          4.12,
          3.95,
          3.98,
          4.02,
          4.41,
          4.6,
          4.77,
          4.9,
          4.8,
          5.64,
          6.51,
          6.77,
          6.49,
          6.33,
          5.78,
          5.1,
          4.58,
          4.14,
          3.82,
          3.65,
          3.45,
          3.25,
          3.06,
          2.92,
          2.82,
          2.71,
          2.64,
          2.53,
          2.44,
          2.38,
          2.32,
          2.26,
          2.2,
          2.15,
          2.11,
          2.12,
          2.15,
          2.16,
          2.14,
          2.21,
          2.3,
          2.37,
          2.39,
          2.48,
          2.55,
          2.49,
          2.48,
          2.49,
          2.53,
          2.55,
          2.51,
          2.59,
          2.61,
          2.62,
          2.66,
          2.45,
          2,
          2.11,
          1.86,
          1.59,
          1.54,
          1.57,
          1.67,
          1.84,
          2.06,
          2.26,
          2.45,
          2.77,
          2.96,
          3.08,
          3.15,
          3.25
         ]
        },
        {
         "line": {
          "color": "red"
         },
         "mode": "lines",
         "name": "Rolling Mean (12 months)",
         "type": "scatter",
         "x": [
          "1994-01-01T00:00:00",
          "1994-04-01T00:00:00",
          "1994-07-01T00:00:00",
          "1994-10-01T00:00:00",
          "1995-01-01T00:00:00",
          "1995-04-01T00:00:00",
          "1995-07-01T00:00:00",
          "1995-10-01T00:00:00",
          "1996-01-01T00:00:00",
          "1996-04-01T00:00:00",
          "1996-07-01T00:00:00",
          "1996-10-01T00:00:00",
          "1997-01-01T00:00:00",
          "1997-04-01T00:00:00",
          "1997-07-01T00:00:00",
          "1997-10-01T00:00:00",
          "1998-01-01T00:00:00",
          "1998-04-01T00:00:00",
          "1998-07-01T00:00:00",
          "1998-10-01T00:00:00",
          "1999-01-01T00:00:00",
          "1999-04-01T00:00:00",
          "1999-07-01T00:00:00",
          "1999-10-01T00:00:00",
          "2000-01-01T00:00:00",
          "2000-04-01T00:00:00",
          "2000-07-01T00:00:00",
          "2000-10-01T00:00:00",
          "2001-01-01T00:00:00",
          "2001-04-01T00:00:00",
          "2001-07-01T00:00:00",
          "2001-10-01T00:00:00",
          "2002-01-01T00:00:00",
          "2002-04-01T00:00:00",
          "2002-07-01T00:00:00",
          "2002-10-01T00:00:00",
          "2003-01-01T00:00:00",
          "2003-04-01T00:00:00",
          "2003-07-01T00:00:00",
          "2003-10-01T00:00:00",
          "2004-01-01T00:00:00",
          "2004-04-01T00:00:00",
          "2004-07-01T00:00:00",
          "2004-10-01T00:00:00",
          "2005-01-01T00:00:00",
          "2005-04-01T00:00:00",
          "2005-07-01T00:00:00",
          "2005-10-01T00:00:00",
          "2006-01-01T00:00:00",
          "2006-04-01T00:00:00",
          "2006-07-01T00:00:00",
          "2006-10-01T00:00:00",
          "2007-01-01T00:00:00",
          "2007-04-01T00:00:00",
          "2007-07-01T00:00:00",
          "2007-10-01T00:00:00",
          "2008-01-01T00:00:00",
          "2008-04-01T00:00:00",
          "2008-07-01T00:00:00",
          "2008-10-01T00:00:00",
          "2009-01-01T00:00:00",
          "2009-04-01T00:00:00",
          "2009-07-01T00:00:00",
          "2009-10-01T00:00:00",
          "2010-01-01T00:00:00",
          "2010-04-01T00:00:00",
          "2010-07-01T00:00:00",
          "2010-10-01T00:00:00",
          "2011-01-01T00:00:00",
          "2011-04-01T00:00:00",
          "2011-07-01T00:00:00",
          "2011-10-01T00:00:00",
          "2012-01-01T00:00:00",
          "2012-04-01T00:00:00",
          "2012-07-01T00:00:00",
          "2012-10-01T00:00:00",
          "2013-01-01T00:00:00",
          "2013-04-01T00:00:00",
          "2013-07-01T00:00:00",
          "2013-10-01T00:00:00",
          "2014-01-01T00:00:00",
          "2014-04-01T00:00:00",
          "2014-07-01T00:00:00",
          "2014-10-01T00:00:00",
          "2015-01-01T00:00:00",
          "2015-04-01T00:00:00",
          "2015-07-01T00:00:00",
          "2015-10-01T00:00:00",
          "2016-01-01T00:00:00",
          "2016-04-01T00:00:00",
          "2016-07-01T00:00:00",
          "2016-10-01T00:00:00",
          "2017-01-01T00:00:00",
          "2017-04-01T00:00:00",
          "2017-07-01T00:00:00",
          "2017-10-01T00:00:00",
          "2018-01-01T00:00:00",
          "2018-04-01T00:00:00",
          "2018-07-01T00:00:00",
          "2018-10-01T00:00:00",
          "2019-01-01T00:00:00",
          "2019-04-01T00:00:00",
          "2019-07-01T00:00:00",
          "2019-10-01T00:00:00",
          "2020-01-01T00:00:00",
          "2020-04-01T00:00:00",
          "2020-07-01T00:00:00",
          "2020-10-01T00:00:00",
          "2021-01-01T00:00:00",
          "2021-04-01T00:00:00",
          "2021-07-01T00:00:00",
          "2021-10-01T00:00:00",
          "2022-01-01T00:00:00",
          "2022-04-01T00:00:00",
          "2022-07-01T00:00:00",
          "2022-10-01T00:00:00",
          "2023-01-01T00:00:00",
          "2023-04-01T00:00:00",
          "2023-07-01T00:00:00",
          "2023-10-01T00:00:00",
          "2024-01-01T00:00:00",
          "2024-04-01T00:00:00"
         ],
         "y": [
          null,
          null,
          null,
          null,
          null,
          null,
          null,
          null,
          null,
          null,
          null,
          3.815,
          3.9066666666666663,
          4.026666666666666,
          4.1475,
          4.274166666666667,
          4.380833333333334,
          4.469166666666667,
          4.541666666666667,
          4.6075,
          4.659166666666667,
          4.685,
          4.696666666666666,
          4.6925,
          4.669999999999999,
          4.651666666666666,
          4.6375,
          4.617500000000001,
          4.621666666666667,
          4.636666666666667,
          4.66,
          4.655833333333333,
          4.679166666666666,
          4.695833333333334,
          4.72,
          4.7441666666666675,
          4.765,
          4.766666666666667,
          4.7425,
          4.730833333333333,
          4.680833333333333,
          4.614999999999999,
          4.5375,
          4.4825,
          4.379166666666667,
          4.286666666666667,
          4.204166666666667,
          4.095833333333333,
          4.0275,
          3.9941666666666666,
          3.984166666666667,
          3.9441666666666673,
          3.9250000000000003,
          3.9141666666666666,
          3.9425000000000003,
          3.99,
          4.079166666666667,
          4.181666666666666,
          4.256666666666667,
          4.431666666666667,
          4.6525,
          4.8725,
          5.069999999999999,
          5.2683333333333335,
          5.418333333333333,
          5.508333333333334,
          5.5225,
          5.484166666666667,
          5.405,
          5.300833333333332,
          5.1883333333333335,
          4.989166666666667,
          4.701666666666667,
          4.380833333333333,
          4.075,
          3.773333333333333,
          3.5116666666666667,
          3.2975,
          3.1191666666666666,
          2.9725,
          2.8475,
          2.731666666666667,
          2.6275,
          2.535833333333333,
          2.4566666666666666,
          2.39,
          2.3341666666666665,
          2.288333333333333,
          2.2466666666666666,
          2.22,
          2.2083333333333335,
          2.2075,
          2.2133333333333334,
          2.231666666666667,
          2.2608333333333333,
          2.2891666666666666,
          2.32,
          2.3508333333333336,
          2.3825,
          2.415,
          2.4458333333333333,
          2.4774999999999996,
          2.5033333333333334,
          2.5241666666666664,
          2.5466666666666664,
          2.544166666666667,
          2.4983333333333335,
          2.466666666666667,
          2.415,
          2.34,
          2.2575,
          2.1758333333333333,
          2.1058333333333334,
          2.0433333333333334,
          1.9974999999999998,
          1.9675000000000002,
          1.9500000000000002,
          1.9766666666666666,
          2.0566666666666666,
          2.1374999999999997,
          2.245,
          2.3833333333333333
         ]
        }
       ],
       "layout": {
        "height": 600,
        "legend": {
         "orientation": "h",
         "x": 0.5,
         "xanchor": "center",
         "y": -0.2,
         "yanchor": "top"
        },
        "shapes": [
         {
          "fillcolor": "grey",
          "layer": "below",
          "line": {
           "width": 0
          },
          "opacity": 0.3,
          "type": "rect",
          "x0": "2001-03-01",
          "x1": "2001-11-30",
          "xref": "x",
          "y0": 0,
          "y1": 1,
          "yref": "paper"
         },
         {
          "fillcolor": "grey",
          "layer": "below",
          "line": {
           "width": 0
          },
          "opacity": 0.3,
          "type": "rect",
          "x0": "2007-12-01",
          "x1": "2009-06-30",
          "xref": "x",
          "y0": 0,
          "y1": 1,
          "yref": "paper"
         },
         {
          "fillcolor": "grey",
          "layer": "below",
          "line": {
           "width": 0
          },
          "opacity": 0.3,
          "type": "rect",
          "x0": "2020-02-01",
          "x1": "2020-04-30",
          "xref": "x",
          "y0": 0,
          "y1": 1,
          "yref": "paper"
         }
        ],
        "template": {
         "data": {
          "bar": [
           {
            "error_x": {
             "color": "#2a3f5f"
            },
            "error_y": {
             "color": "#2a3f5f"
            },
            "marker": {
             "line": {
              "color": "#E5ECF6",
              "width": 0.5
             },
             "pattern": {
              "fillmode": "overlay",
              "size": 10,
              "solidity": 0.2
             }
            },
            "type": "bar"
           }
          ],
          "barpolar": [
           {
            "marker": {
             "line": {
              "color": "#E5ECF6",
              "width": 0.5
             },
             "pattern": {
              "fillmode": "overlay",
              "size": 10,
              "solidity": 0.2
             }
            },
            "type": "barpolar"
           }
          ],
          "carpet": [
           {
            "aaxis": {
             "endlinecolor": "#2a3f5f",
             "gridcolor": "white",
             "linecolor": "white",
             "minorgridcolor": "white",
             "startlinecolor": "#2a3f5f"
            },
            "baxis": {
             "endlinecolor": "#2a3f5f",
             "gridcolor": "white",
             "linecolor": "white",
             "minorgridcolor": "white",
             "startlinecolor": "#2a3f5f"
            },
            "type": "carpet"
           }
          ],
          "choropleth": [
           {
            "colorbar": {
             "outlinewidth": 0,
             "ticks": ""
            },
            "type": "choropleth"
           }
          ],
          "contour": [
           {
            "colorbar": {
             "outlinewidth": 0,
             "ticks": ""
            },
            "colorscale": [
             [
              0,
              "#0d0887"
             ],
             [
              0.1111111111111111,
              "#46039f"
             ],
             [
              0.2222222222222222,
              "#7201a8"
             ],
             [
              0.3333333333333333,
              "#9c179e"
             ],
             [
              0.4444444444444444,
              "#bd3786"
             ],
             [
              0.5555555555555556,
              "#d8576b"
             ],
             [
              0.6666666666666666,
              "#ed7953"
             ],
             [
              0.7777777777777778,
              "#fb9f3a"
             ],
             [
              0.8888888888888888,
              "#fdca26"
             ],
             [
              1,
              "#f0f921"
             ]
            ],
            "type": "contour"
           }
          ],
          "contourcarpet": [
           {
            "colorbar": {
             "outlinewidth": 0,
             "ticks": ""
            },
            "type": "contourcarpet"
           }
          ],
          "heatmap": [
           {
            "colorbar": {
             "outlinewidth": 0,
             "ticks": ""
            },
            "colorscale": [
             [
              0,
              "#0d0887"
             ],
             [
              0.1111111111111111,
              "#46039f"
             ],
             [
              0.2222222222222222,
              "#7201a8"
             ],
             [
              0.3333333333333333,
              "#9c179e"
             ],
             [
              0.4444444444444444,
              "#bd3786"
             ],
             [
              0.5555555555555556,
              "#d8576b"
             ],
             [
              0.6666666666666666,
              "#ed7953"
             ],
             [
              0.7777777777777778,
              "#fb9f3a"
             ],
             [
              0.8888888888888888,
              "#fdca26"
             ],
             [
              1,
              "#f0f921"
             ]
            ],
            "type": "heatmap"
           }
          ],
          "heatmapgl": [
           {
            "colorbar": {
             "outlinewidth": 0,
             "ticks": ""
            },
            "colorscale": [
             [
              0,
              "#0d0887"
             ],
             [
              0.1111111111111111,
              "#46039f"
             ],
             [
              0.2222222222222222,
              "#7201a8"
             ],
             [
              0.3333333333333333,
              "#9c179e"
             ],
             [
              0.4444444444444444,
              "#bd3786"
             ],
             [
              0.5555555555555556,
              "#d8576b"
             ],
             [
              0.6666666666666666,
              "#ed7953"
             ],
             [
              0.7777777777777778,
              "#fb9f3a"
             ],
             [
              0.8888888888888888,
              "#fdca26"
             ],
             [
              1,
              "#f0f921"
             ]
            ],
            "type": "heatmapgl"
           }
          ],
          "histogram": [
           {
            "marker": {
             "pattern": {
              "fillmode": "overlay",
              "size": 10,
              "solidity": 0.2
             }
            },
            "type": "histogram"
           }
          ],
          "histogram2d": [
           {
            "colorbar": {
             "outlinewidth": 0,
             "ticks": ""
            },
            "colorscale": [
             [
              0,
              "#0d0887"
             ],
             [
              0.1111111111111111,
              "#46039f"
             ],
             [
              0.2222222222222222,
              "#7201a8"
             ],
             [
              0.3333333333333333,
              "#9c179e"
             ],
             [
              0.4444444444444444,
              "#bd3786"
             ],
             [
              0.5555555555555556,
              "#d8576b"
             ],
             [
              0.6666666666666666,
              "#ed7953"
             ],
             [
              0.7777777777777778,
              "#fb9f3a"
             ],
             [
              0.8888888888888888,
              "#fdca26"
             ],
             [
              1,
              "#f0f921"
             ]
            ],
            "type": "histogram2d"
           }
          ],
          "histogram2dcontour": [
           {
            "colorbar": {
             "outlinewidth": 0,
             "ticks": ""
            },
            "colorscale": [
             [
              0,
              "#0d0887"
             ],
             [
              0.1111111111111111,
              "#46039f"
             ],
             [
              0.2222222222222222,
              "#7201a8"
             ],
             [
              0.3333333333333333,
              "#9c179e"
             ],
             [
              0.4444444444444444,
              "#bd3786"
             ],
             [
              0.5555555555555556,
              "#d8576b"
             ],
             [
              0.6666666666666666,
              "#ed7953"
             ],
             [
              0.7777777777777778,
              "#fb9f3a"
             ],
             [
              0.8888888888888888,
              "#fdca26"
             ],
             [
              1,
              "#f0f921"
             ]
            ],
            "type": "histogram2dcontour"
           }
          ],
          "mesh3d": [
           {
            "colorbar": {
             "outlinewidth": 0,
             "ticks": ""
            },
            "type": "mesh3d"
           }
          ],
          "parcoords": [
           {
            "line": {
             "colorbar": {
              "outlinewidth": 0,
              "ticks": ""
             }
            },
            "type": "parcoords"
           }
          ],
          "pie": [
           {
            "automargin": true,
            "type": "pie"
           }
          ],
          "scatter": [
           {
            "fillpattern": {
             "fillmode": "overlay",
             "size": 10,
             "solidity": 0.2
            },
            "type": "scatter"
           }
          ],
          "scatter3d": [
           {
            "line": {
             "colorbar": {
              "outlinewidth": 0,
              "ticks": ""
             }
            },
            "marker": {
             "colorbar": {
              "outlinewidth": 0,
              "ticks": ""
             }
            },
            "type": "scatter3d"
           }
          ],
          "scattercarpet": [
           {
            "marker": {
             "colorbar": {
              "outlinewidth": 0,
              "ticks": ""
             }
            },
            "type": "scattercarpet"
           }
          ],
          "scattergeo": [
           {
            "marker": {
             "colorbar": {
              "outlinewidth": 0,
              "ticks": ""
             }
            },
            "type": "scattergeo"
           }
          ],
          "scattergl": [
           {
            "marker": {
             "colorbar": {
              "outlinewidth": 0,
              "ticks": ""
             }
            },
            "type": "scattergl"
           }
          ],
          "scattermapbox": [
           {
            "marker": {
             "colorbar": {
              "outlinewidth": 0,
              "ticks": ""
             }
            },
            "type": "scattermapbox"
           }
          ],
          "scatterpolar": [
           {
            "marker": {
             "colorbar": {
              "outlinewidth": 0,
              "ticks": ""
             }
            },
            "type": "scatterpolar"
           }
          ],
          "scatterpolargl": [
           {
            "marker": {
             "colorbar": {
              "outlinewidth": 0,
              "ticks": ""
             }
            },
            "type": "scatterpolargl"
           }
          ],
          "scatterternary": [
           {
            "marker": {
             "colorbar": {
              "outlinewidth": 0,
              "ticks": ""
             }
            },
            "type": "scatterternary"
           }
          ],
          "surface": [
           {
            "colorbar": {
             "outlinewidth": 0,
             "ticks": ""
            },
            "colorscale": [
             [
              0,
              "#0d0887"
             ],
             [
              0.1111111111111111,
              "#46039f"
             ],
             [
              0.2222222222222222,
              "#7201a8"
             ],
             [
              0.3333333333333333,
              "#9c179e"
             ],
             [
              0.4444444444444444,
              "#bd3786"
             ],
             [
              0.5555555555555556,
              "#d8576b"
             ],
             [
              0.6666666666666666,
              "#ed7953"
             ],
             [
              0.7777777777777778,
              "#fb9f3a"
             ],
             [
              0.8888888888888888,
              "#fdca26"
             ],
             [
              1,
              "#f0f921"
             ]
            ],
            "type": "surface"
           }
          ],
          "table": [
           {
            "cells": {
             "fill": {
              "color": "#EBF0F8"
             },
             "line": {
              "color": "white"
             }
            },
            "header": {
             "fill": {
              "color": "#C8D4E3"
             },
             "line": {
              "color": "white"
             }
            },
            "type": "table"
           }
          ]
         },
         "layout": {
          "annotationdefaults": {
           "arrowcolor": "#2a3f5f",
           "arrowhead": 0,
           "arrowwidth": 1
          },
          "autotypenumbers": "strict",
          "coloraxis": {
           "colorbar": {
            "outlinewidth": 0,
            "ticks": ""
           }
          },
          "colorscale": {
           "diverging": [
            [
             0,
             "#8e0152"
            ],
            [
             0.1,
             "#c51b7d"
            ],
            [
             0.2,
             "#de77ae"
            ],
            [
             0.3,
             "#f1b6da"
            ],
            [
             0.4,
             "#fde0ef"
            ],
            [
             0.5,
             "#f7f7f7"
            ],
            [
             0.6,
             "#e6f5d0"
            ],
            [
             0.7,
             "#b8e186"
            ],
            [
             0.8,
             "#7fbc41"
            ],
            [
             0.9,
             "#4d9221"
            ],
            [
             1,
             "#276419"
            ]
           ],
           "sequential": [
            [
             0,
             "#0d0887"
            ],
            [
             0.1111111111111111,
             "#46039f"
            ],
            [
             0.2222222222222222,
             "#7201a8"
            ],
            [
             0.3333333333333333,
             "#9c179e"
            ],
            [
             0.4444444444444444,
             "#bd3786"
            ],
            [
             0.5555555555555556,
             "#d8576b"
            ],
            [
             0.6666666666666666,
             "#ed7953"
            ],
            [
             0.7777777777777778,
             "#fb9f3a"
            ],
            [
             0.8888888888888888,
             "#fdca26"
            ],
            [
             1,
             "#f0f921"
            ]
           ],
           "sequentialminus": [
            [
             0,
             "#0d0887"
            ],
            [
             0.1111111111111111,
             "#46039f"
            ],
            [
             0.2222222222222222,
             "#7201a8"
            ],
            [
             0.3333333333333333,
             "#9c179e"
            ],
            [
             0.4444444444444444,
             "#bd3786"
            ],
            [
             0.5555555555555556,
             "#d8576b"
            ],
            [
             0.6666666666666666,
             "#ed7953"
            ],
            [
             0.7777777777777778,
             "#fb9f3a"
            ],
            [
             0.8888888888888888,
             "#fdca26"
            ],
            [
             1,
             "#f0f921"
            ]
           ]
          },
          "colorway": [
           "#636efa",
           "#EF553B",
           "#00cc96",
           "#ab63fa",
           "#FFA15A",
           "#19d3f3",
           "#FF6692",
           "#B6E880",
           "#FF97FF",
           "#FECB52"
          ],
          "font": {
           "color": "#2a3f5f"
          },
          "geo": {
           "bgcolor": "white",
           "lakecolor": "white",
           "landcolor": "#E5ECF6",
           "showlakes": true,
           "showland": true,
           "subunitcolor": "white"
          },
          "hoverlabel": {
           "align": "left"
          },
          "hovermode": "closest",
          "mapbox": {
           "style": "light"
          },
          "paper_bgcolor": "white",
          "plot_bgcolor": "#E5ECF6",
          "polar": {
           "angularaxis": {
            "gridcolor": "white",
            "linecolor": "white",
            "ticks": ""
           },
           "bgcolor": "#E5ECF6",
           "radialaxis": {
            "gridcolor": "white",
            "linecolor": "white",
            "ticks": ""
           }
          },
          "scene": {
           "xaxis": {
            "backgroundcolor": "#E5ECF6",
            "gridcolor": "white",
            "gridwidth": 2,
            "linecolor": "white",
            "showbackground": true,
            "ticks": "",
            "zerolinecolor": "white"
           },
           "yaxis": {
            "backgroundcolor": "#E5ECF6",
            "gridcolor": "white",
            "gridwidth": 2,
            "linecolor": "white",
            "showbackground": true,
            "ticks": "",
            "zerolinecolor": "white"
           },
           "zaxis": {
            "backgroundcolor": "#E5ECF6",
            "gridcolor": "white",
            "gridwidth": 2,
            "linecolor": "white",
            "showbackground": true,
            "ticks": "",
            "zerolinecolor": "white"
           }
          },
          "shapedefaults": {
           "line": {
            "color": "#2a3f5f"
           }
          },
          "ternary": {
           "aaxis": {
            "gridcolor": "white",
            "linecolor": "white",
            "ticks": ""
           },
           "baxis": {
            "gridcolor": "white",
            "linecolor": "white",
            "ticks": ""
           },
           "bgcolor": "#E5ECF6",
           "caxis": {
            "gridcolor": "white",
            "linecolor": "white",
            "ticks": ""
           }
          },
          "title": {
           "x": 0.05
          },
          "xaxis": {
           "automargin": true,
           "gridcolor": "white",
           "linecolor": "white",
           "ticks": "",
           "title": {
            "standoff": 15
           },
           "zerolinecolor": "white",
           "zerolinewidth": 2
          },
          "yaxis": {
           "automargin": true,
           "gridcolor": "white",
           "linecolor": "white",
           "ticks": "",
           "title": {
            "standoff": 15
           },
           "zerolinecolor": "white",
           "zerolinewidth": 2
          }
         }
        },
        "title": {
         "text": "Original vs. Rolling Mean of Delinquency in Credit Card Loans"
        },
        "width": 1000,
        "xaxis": {
         "title": {
          "text": "Date"
         }
        },
        "yaxis": {
         "title": {
          "text": "Delinquency in Credit Card Loans"
         }
        }
       }
      }
     },
     "metadata": {},
     "output_type": "display_data"
    }
   ],
   "source": [
    "# Modify the layout to move the legend to the bottom\n",
    "\n",
    "import plotly.graph_objects as go\n",
    "\n",
    "# List of U.S. recession periods\n",
    "recession_periods = [\n",
    "    {'start': '2001-03-01', 'end': '2001-11-30'},\n",
    "    {'start': '2007-12-01', 'end': '2009-06-30'},\n",
    "    {'start': '2020-02-01', 'end': '2020-04-30'}\n",
    "]\n",
    "\n",
    "# Calculate the rolling mean (with a 12-month window for smoothing)\n",
    "combined_df_rolling = combined_df.rolling(window=12).mean()\n",
    "\n",
    "# Create a Plotly figure\n",
    "fig = go.Figure()\n",
    "\n",
    "# Add the original series\n",
    "fig.add_trace(go.Scatter(\n",
    "    x=combined_df.index,\n",
    "    y=combined_df['DelinquencyCreditCLoans'],\n",
    "    mode='lines',\n",
    "    name='Original',\n",
    "    line=dict(color='blue')\n",
    "))\n",
    "\n",
    "# Add the rolling mean series\n",
    "fig.add_trace(go.Scatter(\n",
    "    x=combined_df_rolling.index,\n",
    "    y=combined_df_rolling['DelinquencyCreditCLoans'],\n",
    "    mode='lines',\n",
    "    name='Rolling Mean (12 months)',\n",
    "    line=dict(color='red')\n",
    "))\n",
    "\n",
    "# Highlight the recession periods as shaded areas\n",
    "for recession in recession_periods:\n",
    "    fig.add_shape(\n",
    "        type='rect',\n",
    "        xref='x',\n",
    "        yref='paper',\n",
    "        x0=recession['start'],\n",
    "        x1=recession['end'],\n",
    "        y0=0,\n",
    "        y1=1,\n",
    "        fillcolor='grey',\n",
    "        opacity=0.3,\n",
    "        layer='below',\n",
    "        line_width=0\n",
    "    )\n",
    "\n",
    "# Update layout to move the legend to the bottom\n",
    "fig.update_layout(\n",
    "    title='Original vs. Rolling Mean of Delinquency in Credit Card Loans',\n",
    "    xaxis_title='Date',\n",
    "    yaxis_title='Delinquency in Credit Card Loans',\n",
    "    legend=dict(\n",
    "        orientation=\"h\",   # Horizontal orientation\n",
    "        x=0.5,             # Center the legend horizontally\n",
    "        y=-0.2,            # Move the legend below the charts\n",
    "        xanchor='center',   # Align the legend horizontally with the center\n",
    "        yanchor='top'       # Align the legend above the bottom edge\n",
    "    ),\n",
    "    width=1000,\n",
    "    height=600\n",
    ")\n",
    "\n",
    "# Show the plot\n",
    "fig.show()\n"
   ]
  },
  {
   "cell_type": "code",
   "execution_count": 177,
   "metadata": {},
   "outputs": [
    {
     "data": {
      "image/png": "[encoded data removed]",
      "text/plain": [
       "<Figure size 1000x600 with 1 Axes>"
      ]
     },
     "metadata": {},
     "output_type": "display_data"
    }
   ],
   "source": [
    "# Calculate rolling mean (with a 12-month window for smoothing)\n",
    "combined_df_rolling = combined_df.rolling(window=12).mean()\n",
    "\n",
    "# Plot original and smoothed series \n",
    "plt.figure(figsize=(10, 6))\n",
    "plt.plot(combined_df.index, combined_df['MULTJobHoldersPerc_ofEmployed'], label='Original')\n",
    "plt.plot(combined_df_rolling.index, combined_df_rolling['MULTJobHoldersPerc_ofEmployed'], label='Rolling Mean (12 months)', color='red')\n",
    "plt.title('Original vs. Rolling Mean of Multiple  Job Holders of Percentage of those Employed')\n",
    "plt.legend()\n",
    "plt.show()\n",
    "\n"
   ]
  },
  {
   "cell_type": "code",
   "execution_count": 178,
   "metadata": {},
   "outputs": [
    {
     "data": {
      "application/vnd.plotly.v1+json": {
       "config": {
        "plotlyServerURL": "https://plot.ly"
       },
       "data": [
        {
         "line": {
          "color": "green"
         },
         "mode": "lines",
         "name": "YoY % Change CPI",
         "type": "scatter",
         "x": [
          "1994-01-01T00:00:00",
          "1994-04-01T00:00:00",
          "1994-07-01T00:00:00",
          "1994-10-01T00:00:00",
          "1995-01-01T00:00:00",
          "1995-04-01T00:00:00",
          "1995-07-01T00:00:00",
          "1995-10-01T00:00:00",
          "1996-01-01T00:00:00",
          "1996-04-01T00:00:00",
          "1996-07-01T00:00:00",
          "1996-10-01T00:00:00",
          "1997-01-01T00:00:00",
          "1997-04-01T00:00:00",
          "1997-07-01T00:00:00",
          "1997-10-01T00:00:00",
          "1998-01-01T00:00:00",
          "1998-04-01T00:00:00",
          "1998-07-01T00:00:00",
          "1998-10-01T00:00:00",
          "1999-01-01T00:00:00",
          "1999-04-01T00:00:00",
          "1999-07-01T00:00:00",
          "1999-10-01T00:00:00",
          "2000-01-01T00:00:00",
          "2000-04-01T00:00:00",
          "2000-07-01T00:00:00",
          "2000-10-01T00:00:00",
          "2001-01-01T00:00:00",
          "2001-04-01T00:00:00",
          "2001-07-01T00:00:00",
          "2001-10-01T00:00:00",
          "2002-01-01T00:00:00",
          "2002-04-01T00:00:00",
          "2002-07-01T00:00:00",
          "2002-10-01T00:00:00",
          "2003-01-01T00:00:00",
          "2003-04-01T00:00:00",
          "2003-07-01T00:00:00",
          "2003-10-01T00:00:00",
          "2004-01-01T00:00:00",
          "2004-04-01T00:00:00",
          "2004-07-01T00:00:00",
          "2004-10-01T00:00:00",
          "2005-01-01T00:00:00",
          "2005-04-01T00:00:00",
          "2005-07-01T00:00:00",
          "2005-10-01T00:00:00",
          "2006-01-01T00:00:00",
          "2006-04-01T00:00:00",
          "2006-07-01T00:00:00",
          "2006-10-01T00:00:00",
          "2007-01-01T00:00:00",
          "2007-04-01T00:00:00",
          "2007-07-01T00:00:00",
          "2007-10-01T00:00:00",
          "2008-01-01T00:00:00",
          "2008-04-01T00:00:00",
          "2008-07-01T00:00:00",
          "2008-10-01T00:00:00",
          "2009-01-01T00:00:00",
          "2009-04-01T00:00:00",
          "2009-07-01T00:00:00",
          "2009-10-01T00:00:00",
          "2010-01-01T00:00:00",
          "2010-04-01T00:00:00",
          "2010-07-01T00:00:00",
          "2010-10-01T00:00:00",
          "2011-01-01T00:00:00",
          "2011-04-01T00:00:00",
          "2011-07-01T00:00:00",
          "2011-10-01T00:00:00",
          "2012-01-01T00:00:00",
          "2012-04-01T00:00:00",
          "2012-07-01T00:00:00",
          "2012-10-01T00:00:00",
          "2013-01-01T00:00:00",
          "2013-04-01T00:00:00",
          "2013-07-01T00:00:00",
          "2013-10-01T00:00:00",
          "2014-01-01T00:00:00",
          "2014-04-01T00:00:00",
          "2014-07-01T00:00:00",
          "2014-10-01T00:00:00",
          "2015-01-01T00:00:00",
          "2015-04-01T00:00:00",
          "2015-07-01T00:00:00",
          "2015-10-01T00:00:00",
          "2016-01-01T00:00:00",
          "2016-04-01T00:00:00",
          "2016-07-01T00:00:00",
          "2016-10-01T00:00:00",
          "2017-01-01T00:00:00",
          "2017-04-01T00:00:00",
          "2017-07-01T00:00:00",
          "2017-10-01T00:00:00",
          "2018-01-01T00:00:00",
          "2018-04-01T00:00:00",
          "2018-07-01T00:00:00",
          "2018-10-01T00:00:00",
          "2019-01-01T00:00:00",
          "2019-04-01T00:00:00",
          "2019-07-01T00:00:00",
          "2019-10-01T00:00:00",
          "2020-01-01T00:00:00",
          "2020-04-01T00:00:00",
          "2020-07-01T00:00:00",
          "2020-10-01T00:00:00",
          "2021-01-01T00:00:00",
          "2021-04-01T00:00:00",
          "2021-07-01T00:00:00",
          "2021-10-01T00:00:00",
          "2022-01-01T00:00:00",
          "2022-04-01T00:00:00",
          "2022-07-01T00:00:00",
          "2022-10-01T00:00:00",
          "2023-01-01T00:00:00",
          "2023-04-01T00:00:00",
          "2023-07-01T00:00:00",
          "2023-10-01T00:00:00",
          "2024-01-01T00:00:00",
          "2024-04-01T00:00:00"
         ],
         "y": [
          null,
          null,
          null,
          null,
          null,
          null,
          null,
          null,
          null,
          null,
          null,
          null,
          8.95420369104578,
          8.627717391304369,
          8.086253369272246,
          8.099062918340017,
          7.641196013289031,
          6.8511198945981455,
          6.946264744429875,
          6.775244299674266,
          6.464124111182934,
          6.2780269058296145,
          6.1783439490445735,
          6.257901390644749,
          6.210790464240912,
          6.879299562226393,
          7.668329177057354,
          7.6780185758513975,
          8.39506172839506,
          8.75462392108508,
          8.700980392156875,
          8.358755338621094,
          7.893139040680031,
          8.077154912597951,
          7.97840431913619,
          7.792980368828073,
          7.855877141169509,
          7.197191339964881,
          6.369426751592355,
          6.3254744105808,
          6.093394077448755,
          6.235827664399096,
          6.595264937993228,
          7.432432432432434,
          7.8221722003376515,
          8.031232571109847,
          8.277777777777784,
          9.878587196467992,
          9.145673603504934,
          9.552401746724893,
          10.451823625476319,
          9.194159004867487,
          9.198604401502951,
          9.874066168623251,
          9.784769962982566,
          9.638364779874209,
          10.73799582463466,
          10.450180691791445,
          12.373524884556165,
          8.98794575590156,
          6.338685398896127,
          5.983557548579976,
          5.828486939379007,
          7.235760277365033,
          6.906806529785636,
          5.5846413862771005,
          4.8178494530425775,
          4.7062479085998365,
          4.247928586914518,
          4.744743902553017,
          2.912572597435803,
          4.4954952879098675,
          7.506617657467229,
          7.746733800638439,
          6.456600504829413,
          6.987700280357867,
          6.524957698815559,
          6.62088379645176,
          7.028790698743137,
          6.681124021275142,
          6.3751486298923465,
          5.522260847059024,
          5.369684331950575,
          4.710033076074982,
          3.030608930750267,
          3.0695458293882316,
          4.13141432258628,
          2.631260846665917,
          2.578136128004682,
          3.104009111420769,
          3.0918849291541317,
          3.454459085287298,
          3.5403420488932635,
          3.266826801089384,
          2.8400239159908747,
          3.8731415575116834,
          6.011578422727437,
          5.928744994115709,
          5.537024122604328,
          6.326004383068384,
          6.273458670661314,
          6.795624958157598,
          6.539331364717338,
          6.376245651337564,
          6.2753983695786,
          4.8867084642065794,
          5.799552085423132,
          5.523748509889481,
          5.4886501995105474,
          6.604003564763206,
          8.271831983886258,
          9.361005174623793,
          11.81061208975256,
          13.137407780341892,
          15.314579244884708,
          15.830141354436055,
          16.0096714637745,
          18.31364250408003,
          17.88644314417509,
          18.167985275639854,
          17.967148919312216,
          17.415052183301327
         ],
         "yaxis": "y"
        },
        {
         "line": {
          "color": "red"
         },
         "mode": "lines",
         "name": "YoY % Change Rent Primary Residence",
         "type": "scatter",
         "x": [
          "1994-01-01T00:00:00",
          "1994-04-01T00:00:00",
          "1994-07-01T00:00:00",
          "1994-10-01T00:00:00",
          "1995-01-01T00:00:00",
          "1995-04-01T00:00:00",
          "1995-07-01T00:00:00",
          "1995-10-01T00:00:00",
          "1996-01-01T00:00:00",
          "1996-04-01T00:00:00",
          "1996-07-01T00:00:00",
          "1996-10-01T00:00:00",
          "1997-01-01T00:00:00",
          "1997-04-01T00:00:00",
          "1997-07-01T00:00:00",
          "1997-10-01T00:00:00",
          "1998-01-01T00:00:00",
          "1998-04-01T00:00:00",
          "1998-07-01T00:00:00",
          "1998-10-01T00:00:00",
          "1999-01-01T00:00:00",
          "1999-04-01T00:00:00",
          "1999-07-01T00:00:00",
          "1999-10-01T00:00:00",
          "2000-01-01T00:00:00",
          "2000-04-01T00:00:00",
          "2000-07-01T00:00:00",
          "2000-10-01T00:00:00",
          "2001-01-01T00:00:00",
          "2001-04-01T00:00:00",
          "2001-07-01T00:00:00",
          "2001-10-01T00:00:00",
          "2002-01-01T00:00:00",
          "2002-04-01T00:00:00",
          "2002-07-01T00:00:00",
          "2002-10-01T00:00:00",
          "2003-01-01T00:00:00",
          "2003-04-01T00:00:00",
          "2003-07-01T00:00:00",
          "2003-10-01T00:00:00",
          "2004-01-01T00:00:00",
          "2004-04-01T00:00:00",
          "2004-07-01T00:00:00",
          "2004-10-01T00:00:00",
          "2005-01-01T00:00:00",
          "2005-04-01T00:00:00",
          "2005-07-01T00:00:00",
          "2005-10-01T00:00:00",
          "2006-01-01T00:00:00",
          "2006-04-01T00:00:00",
          "2006-07-01T00:00:00",
          "2006-10-01T00:00:00",
          "2007-01-01T00:00:00",
          "2007-04-01T00:00:00",
          "2007-07-01T00:00:00",
          "2007-10-01T00:00:00",
          "2008-01-01T00:00:00",
          "2008-04-01T00:00:00",
          "2008-07-01T00:00:00",
          "2008-10-01T00:00:00",
          "2009-01-01T00:00:00",
          "2009-04-01T00:00:00",
          "2009-07-01T00:00:00",
          "2009-10-01T00:00:00",
          "2010-01-01T00:00:00",
          "2010-04-01T00:00:00",
          "2010-07-01T00:00:00",
          "2010-10-01T00:00:00",
          "2011-01-01T00:00:00",
          "2011-04-01T00:00:00",
          "2011-07-01T00:00:00",
          "2011-10-01T00:00:00",
          "2012-01-01T00:00:00",
          "2012-04-01T00:00:00",
          "2012-07-01T00:00:00",
          "2012-10-01T00:00:00",
          "2013-01-01T00:00:00",
          "2013-04-01T00:00:00",
          "2013-07-01T00:00:00",
          "2013-10-01T00:00:00",
          "2014-01-01T00:00:00",
          "2014-04-01T00:00:00",
          "2014-07-01T00:00:00",
          "2014-10-01T00:00:00",
          "2015-01-01T00:00:00",
          "2015-04-01T00:00:00",
          "2015-07-01T00:00:00",
          "2015-10-01T00:00:00",
          "2016-01-01T00:00:00",
          "2016-04-01T00:00:00",
          "2016-07-01T00:00:00",
          "2016-10-01T00:00:00",
          "2017-01-01T00:00:00",
          "2017-04-01T00:00:00",
          "2017-07-01T00:00:00",
          "2017-10-01T00:00:00",
          "2018-01-01T00:00:00",
          "2018-04-01T00:00:00",
          "2018-07-01T00:00:00",
          "2018-10-01T00:00:00",
          "2019-01-01T00:00:00",
          "2019-04-01T00:00:00",
          "2019-07-01T00:00:00",
          "2019-10-01T00:00:00",
          "2020-01-01T00:00:00",
          "2020-04-01T00:00:00",
          "2020-07-01T00:00:00",
          "2020-10-01T00:00:00",
          "2021-01-01T00:00:00",
          "2021-04-01T00:00:00",
          "2021-07-01T00:00:00",
          "2021-10-01T00:00:00",
          "2022-01-01T00:00:00",
          "2022-04-01T00:00:00",
          "2022-07-01T00:00:00",
          "2022-10-01T00:00:00",
          "2023-01-01T00:00:00",
          "2023-04-01T00:00:00",
          "2023-07-01T00:00:00",
          "2023-10-01T00:00:00",
          "2024-01-01T00:00:00",
          "2024-04-01T00:00:00"
         ],
         "y": [
          null,
          null,
          null,
          null,
          null,
          null,
          null,
          null,
          null,
          null,
          null,
          null,
          7.9500657030223465,
          8.023483365949113,
          8.376623376623371,
          8.446163765312708,
          8.520179372197312,
          8.789808917197451,
          9.050632911392409,
          9.508816120906793,
          9.568480300187598,
          9.633312616531997,
          9.426987060998137,
          9.558823529411775,
          10.103469263542287,
          10.084541062801943,
          10.305572198921498,
          10.642092746730093,
          10.979929161747348,
          11.35831381733019,
          11.723737666860124,
          11.96089706728003,
          12.328767123287676,
          12.528344671201808,
          12.612612612612617,
          12.583892617449655,
          12.327252625760089,
          12.177729018102013,
          11.787072243346008,
          11.176786673831284,
          10.691489361702121,
          10.252365930599371,
          9.818181818181815,
          9.29635336414998,
          8.892276422764223,
          8.816120906801018,
          8.850000000000001,
          8.941877794336817,
          8.661417322834652,
          8.997555012224945,
          9.523809523809511,
          10.198163363943923,
          10.786641037962518,
          11.092036242250835,
          11.161778618732265,
          11.456766917293226,
          11.767148856742882,
          11.7763888888889,
          11.931557188791931,
          12.135886912904681,
          12.12092391304347,
          11.636159712875727,
          10.622448979591837,
          9.192543859649117,
          7.882991320641786,
          6.86899038461537,
          6.1541473046349715,
          5.261826460915753,
          4.853517704380073,
          4.459134266910203,
          4.0004103826818405,
          3.9595143017477685,
          3.919810310910754,
          4.074956698561705,
          4.464933846147678,
          5.491667302648207,
          6.241531676054701,
          6.881371454278162,
          7.380801577820728,
          8.075783064968366,
          8.272610714257267,
          8.74375007434487,
          9.170438358002242,
          9.053749056330695,
          9.311726727485459,
          9.579615178181866,
          9.965985349897878,
          10.130182651705244,
          10.38997899676437,
          10.636466812479807,
          10.946354574980411,
          11.26409262402619,
          11.488022124316899,
          11.462689832455197,
          11.503887400917368,
          11.669063870845076,
          11.843981466665232,
          11.689794422557842,
          11.59320613751811,
          11.482318936785196,
          11.523483030510807,
          11.69135555049814,
          11.690422353226193,
          11.439468380993635,
          11.339046563485455,
          11.305497036232559,
          10.96761645434212,
          10.332444672855168,
          9.501130254251567,
          9.27908884401818,
          9.15618097746853,
          9.4052666019532,
          9.839109291330828,
          10.412814461583398,
          11.768267883772431,
          13.376753806514863,
          14.906482663814579,
          16.09395389299695,
          17.103387434126738,
          18.3590588591491,
          19.46634147757791,
          20.248808358667446
         ],
         "yaxis": "y"
        },
        {
         "line": {
          "color": "purple"
         },
         "mode": "lines",
         "name": "YoY % Change Owner Equivalent Rent",
         "type": "scatter",
         "x": [
          "1994-01-01T00:00:00",
          "1994-04-01T00:00:00",
          "1994-07-01T00:00:00",
          "1994-10-01T00:00:00",
          "1995-01-01T00:00:00",
          "1995-04-01T00:00:00",
          "1995-07-01T00:00:00",
          "1995-10-01T00:00:00",
          "1996-01-01T00:00:00",
          "1996-04-01T00:00:00",
          "1996-07-01T00:00:00",
          "1996-10-01T00:00:00",
          "1997-01-01T00:00:00",
          "1997-04-01T00:00:00",
          "1997-07-01T00:00:00",
          "1997-10-01T00:00:00",
          "1998-01-01T00:00:00",
          "1998-04-01T00:00:00",
          "1998-07-01T00:00:00",
          "1998-10-01T00:00:00",
          "1999-01-01T00:00:00",
          "1999-04-01T00:00:00",
          "1999-07-01T00:00:00",
          "1999-10-01T00:00:00",
          "2000-01-01T00:00:00",
          "2000-04-01T00:00:00",
          "2000-07-01T00:00:00",
          "2000-10-01T00:00:00",
          "2001-01-01T00:00:00",
          "2001-04-01T00:00:00",
          "2001-07-01T00:00:00",
          "2001-10-01T00:00:00",
          "2002-01-01T00:00:00",
          "2002-04-01T00:00:00",
          "2002-07-01T00:00:00",
          "2002-10-01T00:00:00",
          "2003-01-01T00:00:00",
          "2003-04-01T00:00:00",
          "2003-07-01T00:00:00",
          "2003-10-01T00:00:00",
          "2004-01-01T00:00:00",
          "2004-04-01T00:00:00",
          "2004-07-01T00:00:00",
          "2004-10-01T00:00:00",
          "2005-01-01T00:00:00",
          "2005-04-01T00:00:00",
          "2005-07-01T00:00:00",
          "2005-10-01T00:00:00",
          "2006-01-01T00:00:00",
          "2006-04-01T00:00:00",
          "2006-07-01T00:00:00",
          "2006-10-01T00:00:00",
          "2007-01-01T00:00:00",
          "2007-04-01T00:00:00",
          "2007-07-01T00:00:00",
          "2007-10-01T00:00:00",
          "2008-01-01T00:00:00",
          "2008-04-01T00:00:00",
          "2008-07-01T00:00:00",
          "2008-10-01T00:00:00",
          "2009-01-01T00:00:00",
          "2009-04-01T00:00:00",
          "2009-07-01T00:00:00",
          "2009-10-01T00:00:00",
          "2010-01-01T00:00:00",
          "2010-04-01T00:00:00",
          "2010-07-01T00:00:00",
          "2010-10-01T00:00:00",
          "2011-01-01T00:00:00",
          "2011-04-01T00:00:00",
          "2011-07-01T00:00:00",
          "2011-10-01T00:00:00",
          "2012-01-01T00:00:00",
          "2012-04-01T00:00:00",
          "2012-07-01T00:00:00",
          "2012-10-01T00:00:00",
          "2013-01-01T00:00:00",
          "2013-04-01T00:00:00",
          "2013-07-01T00:00:00",
          "2013-10-01T00:00:00",
          "2014-01-01T00:00:00",
          "2014-04-01T00:00:00",
          "2014-07-01T00:00:00",
          "2014-10-01T00:00:00",
          "2015-01-01T00:00:00",
          "2015-04-01T00:00:00",
          "2015-07-01T00:00:00",
          "2015-10-01T00:00:00",
          "2016-01-01T00:00:00",
          "2016-04-01T00:00:00",
          "2016-07-01T00:00:00",
          "2016-10-01T00:00:00",
          "2017-01-01T00:00:00",
          "2017-04-01T00:00:00",
          "2017-07-01T00:00:00",
          "2017-10-01T00:00:00",
          "2018-01-01T00:00:00",
          "2018-04-01T00:00:00",
          "2018-07-01T00:00:00",
          "2018-10-01T00:00:00",
          "2019-01-01T00:00:00",
          "2019-04-01T00:00:00",
          "2019-07-01T00:00:00",
          "2019-10-01T00:00:00",
          "2020-01-01T00:00:00",
          "2020-04-01T00:00:00",
          "2020-07-01T00:00:00",
          "2020-10-01T00:00:00",
          "2021-01-01T00:00:00",
          "2021-04-01T00:00:00",
          "2021-07-01T00:00:00",
          "2021-10-01T00:00:00",
          "2022-01-01T00:00:00",
          "2022-04-01T00:00:00",
          "2022-07-01T00:00:00",
          "2022-10-01T00:00:00",
          "2023-01-01T00:00:00",
          "2023-04-01T00:00:00",
          "2023-07-01T00:00:00",
          "2023-10-01T00:00:00",
          "2024-01-01T00:00:00",
          "2024-04-01T00:00:00"
         ],
         "y": [
          null,
          null,
          null,
          null,
          null,
          null,
          null,
          null,
          null,
          null,
          null,
          null,
          9.993868792152071,
          9.714632665452339,
          10.024154589371982,
          9.427207637231504,
          9.72716488730725,
          9.705882352941186,
          9.679300291545179,
          9.526558891454972,
          9.335624284077904,
          9.277177006260672,
          9.0960451977401,
          8.978675645342316,
          9.253065774804892,
          9.186496956281132,
          9.110867178924265,
          9.323882224645574,
          9.297297297297291,
          9.544235924932988,
          9.782030834662425,
          10.173958882445966,
          10.738606600314293,
          11.145833333333343,
          11.393060590367687,
          11.585993820803298,
          11.377551020408161,
          10.998479472883925,
          10.563380281690149,
          10.37406483790524,
          9.9901088031652,
          9.642682329906993,
          9.104116222760306,
          8.325358851674647,
          7.710501419110671,
          7.310215557638244,
          7.066480706648082,
          6.875865251499769,
          6.917086578103526,
          7.671232876712342,
          8.68971792538671,
          9.037505648441035,
          9.417715827338125,
          9.371875000000006,
          9.253883710608068,
          9.573763250883394,
          9.799297321036459,
          9.785152838427935,
          9.692140686061656,
          9.644214162348884,
          9.395886889460158,
          8.822307039864285,
          7.595228128924236,
          6.473684210526298,
          5.374262877807223,
          4.552783140742789,
          4.223458149332315,
          3.527965333064609,
          3.038242011415404,
          2.7898873544199176,
          2.8002422601446364,
          2.775108688803485,
          2.747424901108375,
          2.823037922393734,
          3.044214048123872,
          3.716317467237018,
          4.422380207703669,
          5.13064763592781,
          5.531193357890429,
          6.101383421524997,
          6.5595534317512305,
          6.9405855538615,
          7.090240474402676,
          7.241467835069715,
          7.395605023918872,
          7.649888003274641,
          8.13795446822969,
          8.265877081386574,
          8.548978014139387,
          8.791669915963896,
          9.226734629804035,
          9.527444338836744,
          9.638369877635178,
          9.621215959009689,
          9.746573273692238,
          10.048163154472235,
          10.255299967701514,
          10.262260105411025,
          10.182072095662043,
          10.238998942789301,
          10.298499246526793,
          10.472617796043204,
          10.32852577650778,
          10.106580803393417,
          10.09519379329824,
          10.1169511498711,
          9.87995308209979,
          9.35569227772277,
          8.795683763572736,
          8.694388831945954,
          8.85392076403171,
          9.224799864165467,
          9.713431923315664,
          10.21705881444175,
          11.454431768722916,
          13.00213314345009,
          14.39755181863176,
          15.631482391875217,
          16.747821056806078,
          17.804709326318722,
          19.140204282112894,
          19.825033489224687
         ],
         "yaxis": "y"
        },
        {
         "line": {
          "color": "blue"
         },
         "mode": "lines",
         "name": "Original MULT Job Holders % of Employed (Men)",
         "type": "scatter",
         "x": [
          "1994-01-01T00:00:00",
          "1994-04-01T00:00:00",
          "1994-07-01T00:00:00",
          "1994-10-01T00:00:00",
          "1995-01-01T00:00:00",
          "1995-04-01T00:00:00",
          "1995-07-01T00:00:00",
          "1995-10-01T00:00:00",
          "1996-01-01T00:00:00",
          "1996-04-01T00:00:00",
          "1996-07-01T00:00:00",
          "1996-10-01T00:00:00",
          "1997-01-01T00:00:00",
          "1997-04-01T00:00:00",
          "1997-07-01T00:00:00",
          "1997-10-01T00:00:00",
          "1998-01-01T00:00:00",
          "1998-04-01T00:00:00",
          "1998-07-01T00:00:00",
          "1998-10-01T00:00:00",
          "1999-01-01T00:00:00",
          "1999-04-01T00:00:00",
          "1999-07-01T00:00:00",
          "1999-10-01T00:00:00",
          "2000-01-01T00:00:00",
          "2000-04-01T00:00:00",
          "2000-07-01T00:00:00",
          "2000-10-01T00:00:00",
          "2001-01-01T00:00:00",
          "2001-04-01T00:00:00",
          "2001-07-01T00:00:00",
          "2001-10-01T00:00:00",
          "2002-01-01T00:00:00",
          "2002-04-01T00:00:00",
          "2002-07-01T00:00:00",
          "2002-10-01T00:00:00",
          "2003-01-01T00:00:00",
          "2003-04-01T00:00:00",
          "2003-07-01T00:00:00",
          "2003-10-01T00:00:00",
          "2004-01-01T00:00:00",
          "2004-04-01T00:00:00",
          "2004-07-01T00:00:00",
          "2004-10-01T00:00:00",
          "2005-01-01T00:00:00",
          "2005-04-01T00:00:00",
          "2005-07-01T00:00:00",
          "2005-10-01T00:00:00",
          "2006-01-01T00:00:00",
          "2006-04-01T00:00:00",
          "2006-07-01T00:00:00",
          "2006-10-01T00:00:00",
          "2007-01-01T00:00:00",
          "2007-04-01T00:00:00",
          "2007-07-01T00:00:00",
          "2007-10-01T00:00:00",
          "2008-01-01T00:00:00",
          "2008-04-01T00:00:00",
          "2008-07-01T00:00:00",
          "2008-10-01T00:00:00",
          "2009-01-01T00:00:00",
          "2009-04-01T00:00:00",
          "2009-07-01T00:00:00",
          "2009-10-01T00:00:00",
          "2010-01-01T00:00:00",
          "2010-04-01T00:00:00",
          "2010-07-01T00:00:00",
          "2010-10-01T00:00:00",
          "2011-01-01T00:00:00",
          "2011-04-01T00:00:00",
          "2011-07-01T00:00:00",
          "2011-10-01T00:00:00",
          "2012-01-01T00:00:00",
          "2012-04-01T00:00:00",
          "2012-07-01T00:00:00",
          "2012-10-01T00:00:00",
          "2013-01-01T00:00:00",
          "2013-04-01T00:00:00",
          "2013-07-01T00:00:00",
          "2013-10-01T00:00:00",
          "2014-01-01T00:00:00",
          "2014-04-01T00:00:00",
          "2014-07-01T00:00:00",
          "2014-10-01T00:00:00",
          "2015-01-01T00:00:00",
          "2015-04-01T00:00:00",
          "2015-07-01T00:00:00",
          "2015-10-01T00:00:00",
          "2016-01-01T00:00:00",
          "2016-04-01T00:00:00",
          "2016-07-01T00:00:00",
          "2016-10-01T00:00:00",
          "2017-01-01T00:00:00",
          "2017-04-01T00:00:00",
          "2017-07-01T00:00:00",
          "2017-10-01T00:00:00",
          "2018-01-01T00:00:00",
          "2018-04-01T00:00:00",
          "2018-07-01T00:00:00",
          "2018-10-01T00:00:00",
          "2019-01-01T00:00:00",
          "2019-04-01T00:00:00",
          "2019-07-01T00:00:00",
          "2019-10-01T00:00:00",
          "2020-01-01T00:00:00",
          "2020-04-01T00:00:00",
          "2020-07-01T00:00:00",
          "2020-10-01T00:00:00",
          "2021-01-01T00:00:00",
          "2021-04-01T00:00:00",
          "2021-07-01T00:00:00",
          "2021-10-01T00:00:00",
          "2022-01-01T00:00:00",
          "2022-04-01T00:00:00",
          "2022-07-01T00:00:00",
          "2022-10-01T00:00:00",
          "2023-01-01T00:00:00",
          "2023-04-01T00:00:00",
          "2023-07-01T00:00:00",
          "2023-10-01T00:00:00",
          "2024-01-01T00:00:00",
          "2024-04-01T00:00:00"
         ],
         "y": [
          5.6,
          5.9,
          5.7,
          6.2,
          5.8,
          6.1,
          6.3,
          6.4,
          5.7,
          6.1,
          6,
          6.3,
          6,
          6,
          6.1,
          6.2,
          5.8,
          6,
          5.7,
          6,
          5.9,
          5.7,
          5.7,
          5.9,
          5.7,
          5.6,
          5.4,
          5.4,
          5.1,
          5.3,
          5.3,
          5.1,
          5.2,
          5.3,
          5.1,
          5.1,
          4.9,
          5.2,
          5.2,
          5.1,
          5,
          5,
          5.1,
          5.5,
          5,
          5,
          5.1,
          5.2,
          5,
          4.9,
          4.9,
          5,
          4.9,
          5.1,
          4.8,
          5,
          4.8,
          5,
          5,
          5.1,
          4.8,
          5.1,
          4.7,
          4.9,
          4.5,
          4.7,
          4.3,
          4.3,
          4.4,
          4.5,
          4.5,
          4.6,
          4.6,
          4.7,
          4.4,
          4.5,
          4.4,
          4.6,
          4.6,
          4.5,
          4.2,
          4.5,
          4.4,
          4.8,
          4.6,
          4.2,
          4.5,
          4.7,
          4.5,
          4.5,
          4.3,
          4.8,
          4.6,
          4.6,
          4.5,
          4.5,
          4.9,
          4.6,
          4.4,
          4.8,
          4.7,
          4.5,
          4.8,
          4.8,
          4.8,
          3.7,
          4.3,
          4.2,
          3.9,
          4.3,
          4.2,
          4.2,
          4.4,
          4.3,
          4.5,
          4.5,
          4.6,
          4.4,
          4.6,
          4.7,
          4.7,
          4.7
         ],
         "yaxis": "y2"
        }
       ],
       "layout": {
        "height": 600,
        "legend": {
         "orientation": "h",
         "x": 0.5,
         "xanchor": "center",
         "y": -0.2,
         "yanchor": "top"
        },
        "shapes": [
         {
          "fillcolor": "grey",
          "layer": "below",
          "line": {
           "width": 0
          },
          "opacity": 0.3,
          "type": "rect",
          "x0": "2001-03-01",
          "x1": "2001-11-30",
          "xref": "x",
          "y0": 0,
          "y1": 1,
          "yref": "paper"
         },
         {
          "fillcolor": "grey",
          "layer": "below",
          "line": {
           "width": 0
          },
          "opacity": 0.3,
          "type": "rect",
          "x0": "2007-12-01",
          "x1": "2009-06-30",
          "xref": "x",
          "y0": 0,
          "y1": 1,
          "yref": "paper"
         },
         {
          "fillcolor": "grey",
          "layer": "below",
          "line": {
           "width": 0
          },
          "opacity": 0.3,
          "type": "rect",
          "x0": "2020-02-01",
          "x1": "2020-04-30",
          "xref": "x",
          "y0": 0,
          "y1": 1,
          "yref": "paper"
         }
        ],
        "template": {
         "data": {
          "bar": [
           {
            "error_x": {
             "color": "#2a3f5f"
            },
            "error_y": {
             "color": "#2a3f5f"
            },
            "marker": {
             "line": {
              "color": "#E5ECF6",
              "width": 0.5
             },
             "pattern": {
              "fillmode": "overlay",
              "size": 10,
              "solidity": 0.2
             }
            },
            "type": "bar"
           }
          ],
          "barpolar": [
           {
            "marker": {
             "line": {
              "color": "#E5ECF6",
              "width": 0.5
             },
             "pattern": {
              "fillmode": "overlay",
              "size": 10,
              "solidity": 0.2
             }
            },
            "type": "barpolar"
           }
          ],
          "carpet": [
           {
            "aaxis": {
             "endlinecolor": "#2a3f5f",
             "gridcolor": "white",
             "linecolor": "white",
             "minorgridcolor": "white",
             "startlinecolor": "#2a3f5f"
            },
            "baxis": {
             "endlinecolor": "#2a3f5f",
             "gridcolor": "white",
             "linecolor": "white",
             "minorgridcolor": "white",
             "startlinecolor": "#2a3f5f"
            },
            "type": "carpet"
           }
          ],
          "choropleth": [
           {
            "colorbar": {
             "outlinewidth": 0,
             "ticks": ""
            },
            "type": "choropleth"
           }
          ],
          "contour": [
           {
            "colorbar": {
             "outlinewidth": 0,
             "ticks": ""
            },
            "colorscale": [
             [
              0,
              "#0d0887"
             ],
             [
              0.1111111111111111,
              "#46039f"
             ],
             [
              0.2222222222222222,
              "#7201a8"
             ],
             [
              0.3333333333333333,
              "#9c179e"
             ],
             [
              0.4444444444444444,
              "#bd3786"
             ],
             [
              0.5555555555555556,
              "#d8576b"
             ],
             [
              0.6666666666666666,
              "#ed7953"
             ],
             [
              0.7777777777777778,
              "#fb9f3a"
             ],
             [
              0.8888888888888888,
              "#fdca26"
             ],
             [
              1,
              "#f0f921"
             ]
            ],
            "type": "contour"
           }
          ],
          "contourcarpet": [
           {
            "colorbar": {
             "outlinewidth": 0,
             "ticks": ""
            },
            "type": "contourcarpet"
           }
          ],
          "heatmap": [
           {
            "colorbar": {
             "outlinewidth": 0,
             "ticks": ""
            },
            "colorscale": [
             [
              0,
              "#0d0887"
             ],
             [
              0.1111111111111111,
              "#46039f"
             ],
             [
              0.2222222222222222,
              "#7201a8"
             ],
             [
              0.3333333333333333,
              "#9c179e"
             ],
             [
              0.4444444444444444,
              "#bd3786"
             ],
             [
              0.5555555555555556,
              "#d8576b"
             ],
             [
              0.6666666666666666,
              "#ed7953"
             ],
             [
              0.7777777777777778,
              "#fb9f3a"
             ],
             [
              0.8888888888888888,
              "#fdca26"
             ],
             [
              1,
              "#f0f921"
             ]
            ],
            "type": "heatmap"
           }
          ],
          "heatmapgl": [
           {
            "colorbar": {
             "outlinewidth": 0,
             "ticks": ""
            },
            "colorscale": [
             [
              0,
              "#0d0887"
             ],
             [
              0.1111111111111111,
              "#46039f"
             ],
             [
              0.2222222222222222,
              "#7201a8"
             ],
             [
              0.3333333333333333,
              "#9c179e"
             ],
             [
              0.4444444444444444,
              "#bd3786"
             ],
             [
              0.5555555555555556,
              "#d8576b"
             ],
             [
              0.6666666666666666,
              "#ed7953"
             ],
             [
              0.7777777777777778,
              "#fb9f3a"
             ],
             [
              0.8888888888888888,
              "#fdca26"
             ],
             [
              1,
              "#f0f921"
             ]
            ],
            "type": "heatmapgl"
           }
          ],
          "histogram": [
           {
            "marker": {
             "pattern": {
              "fillmode": "overlay",
              "size": 10,
              "solidity": 0.2
             }
            },
            "type": "histogram"
           }
          ],
          "histogram2d": [
           {
            "colorbar": {
             "outlinewidth": 0,
             "ticks": ""
            },
            "colorscale": [
             [
              0,
              "#0d0887"
             ],
             [
              0.1111111111111111,
              "#46039f"
             ],
             [
              0.2222222222222222,
              "#7201a8"
             ],
             [
              0.3333333333333333,
              "#9c179e"
             ],
             [
              0.4444444444444444,
              "#bd3786"
             ],
             [
              0.5555555555555556,
              "#d8576b"
             ],
             [
              0.6666666666666666,
              "#ed7953"
             ],
             [
              0.7777777777777778,
              "#fb9f3a"
             ],
             [
              0.8888888888888888,
              "#fdca26"
             ],
             [
              1,
              "#f0f921"
             ]
            ],
            "type": "histogram2d"
           }
          ],
          "histogram2dcontour": [
           {
            "colorbar": {
             "outlinewidth": 0,
             "ticks": ""
            },
            "colorscale": [
             [
              0,
              "#0d0887"
             ],
             [
              0.1111111111111111,
              "#46039f"
             ],
             [
              0.2222222222222222,
              "#7201a8"
             ],
             [
              0.3333333333333333,
              "#9c179e"
             ],
             [
              0.4444444444444444,
              "#bd3786"
             ],
             [
              0.5555555555555556,
              "#d8576b"
             ],
             [
              0.6666666666666666,
              "#ed7953"
             ],
             [
              0.7777777777777778,
              "#fb9f3a"
             ],
             [
              0.8888888888888888,
              "#fdca26"
             ],
             [
              1,
              "#f0f921"
             ]
            ],
            "type": "histogram2dcontour"
           }
          ],
          "mesh3d": [
           {
            "colorbar": {
             "outlinewidth": 0,
             "ticks": ""
            },
            "type": "mesh3d"
           }
          ],
          "parcoords": [
           {
            "line": {
             "colorbar": {
              "outlinewidth": 0,
              "ticks": ""
             }
            },
            "type": "parcoords"
           }
          ],
          "pie": [
           {
            "automargin": true,
            "type": "pie"
           }
          ],
          "scatter": [
           {
            "fillpattern": {
             "fillmode": "overlay",
             "size": 10,
             "solidity": 0.2
            },
            "type": "scatter"
           }
          ],
          "scatter3d": [
           {
            "line": {
             "colorbar": {
              "outlinewidth": 0,
              "ticks": ""
             }
            },
            "marker": {
             "colorbar": {
              "outlinewidth": 0,
              "ticks": ""
             }
            },
            "type": "scatter3d"
           }
          ],
          "scattercarpet": [
           {
            "marker": {
             "colorbar": {
              "outlinewidth": 0,
              "ticks": ""
             }
            },
            "type": "scattercarpet"
           }
          ],
          "scattergeo": [
           {
            "marker": {
             "colorbar": {
              "outlinewidth": 0,
              "ticks": ""
             }
            },
            "type": "scattergeo"
           }
          ],
          "scattergl": [
           {
            "marker": {
             "colorbar": {
              "outlinewidth": 0,
              "ticks": ""
             }
            },
            "type": "scattergl"
           }
          ],
          "scattermapbox": [
           {
            "marker": {
             "colorbar": {
              "outlinewidth": 0,
              "ticks": ""
             }
            },
            "type": "scattermapbox"
           }
          ],
          "scatterpolar": [
           {
            "marker": {
             "colorbar": {
              "outlinewidth": 0,
              "ticks": ""
             }
            },
            "type": "scatterpolar"
           }
          ],
          "scatterpolargl": [
           {
            "marker": {
             "colorbar": {
              "outlinewidth": 0,
              "ticks": ""
             }
            },
            "type": "scatterpolargl"
           }
          ],
          "scatterternary": [
           {
            "marker": {
             "colorbar": {
              "outlinewidth": 0,
              "ticks": ""
             }
            },
            "type": "scatterternary"
           }
          ],
          "surface": [
           {
            "colorbar": {
             "outlinewidth": 0,
             "ticks": ""
            },
            "colorscale": [
             [
              0,
              "#0d0887"
             ],
             [
              0.1111111111111111,
              "#46039f"
             ],
             [
              0.2222222222222222,
              "#7201a8"
             ],
             [
              0.3333333333333333,
              "#9c179e"
             ],
             [
              0.4444444444444444,
              "#bd3786"
             ],
             [
              0.5555555555555556,
              "#d8576b"
             ],
             [
              0.6666666666666666,
              "#ed7953"
             ],
             [
              0.7777777777777778,
              "#fb9f3a"
             ],
             [
              0.8888888888888888,
              "#fdca26"
             ],
             [
              1,
              "#f0f921"
             ]
            ],
            "type": "surface"
           }
          ],
          "table": [
           {
            "cells": {
             "fill": {
              "color": "#EBF0F8"
             },
             "line": {
              "color": "white"
             }
            },
            "header": {
             "fill": {
              "color": "#C8D4E3"
             },
             "line": {
              "color": "white"
             }
            },
            "type": "table"
           }
          ]
         },
         "layout": {
          "annotationdefaults": {
           "arrowcolor": "#2a3f5f",
           "arrowhead": 0,
           "arrowwidth": 1
          },
          "autotypenumbers": "strict",
          "coloraxis": {
           "colorbar": {
            "outlinewidth": 0,
            "ticks": ""
           }
          },
          "colorscale": {
           "diverging": [
            [
             0,
             "#8e0152"
            ],
            [
             0.1,
             "#c51b7d"
            ],
            [
             0.2,
             "#de77ae"
            ],
            [
             0.3,
             "#f1b6da"
            ],
            [
             0.4,
             "#fde0ef"
            ],
            [
             0.5,
             "#f7f7f7"
            ],
            [
             0.6,
             "#e6f5d0"
            ],
            [
             0.7,
             "#b8e186"
            ],
            [
             0.8,
             "#7fbc41"
            ],
            [
             0.9,
             "#4d9221"
            ],
            [
             1,
             "#276419"
            ]
           ],
           "sequential": [
            [
             0,
             "#0d0887"
            ],
            [
             0.1111111111111111,
             "#46039f"
            ],
            [
             0.2222222222222222,
             "#7201a8"
            ],
            [
             0.3333333333333333,
             "#9c179e"
            ],
            [
             0.4444444444444444,
             "#bd3786"
            ],
            [
             0.5555555555555556,
             "#d8576b"
            ],
            [
             0.6666666666666666,
             "#ed7953"
            ],
            [
             0.7777777777777778,
             "#fb9f3a"
            ],
            [
             0.8888888888888888,
             "#fdca26"
            ],
            [
             1,
             "#f0f921"
            ]
           ],
           "sequentialminus": [
            [
             0,
             "#0d0887"
            ],
            [
             0.1111111111111111,
             "#46039f"
            ],
            [
             0.2222222222222222,
             "#7201a8"
            ],
            [
             0.3333333333333333,
             "#9c179e"
            ],
            [
             0.4444444444444444,
             "#bd3786"
            ],
            [
             0.5555555555555556,
             "#d8576b"
            ],
            [
             0.6666666666666666,
             "#ed7953"
            ],
            [
             0.7777777777777778,
             "#fb9f3a"
            ],
            [
             0.8888888888888888,
             "#fdca26"
            ],
            [
             1,
             "#f0f921"
            ]
           ]
          },
          "colorway": [
           "#636efa",
           "#EF553B",
           "#00cc96",
           "#ab63fa",
           "#FFA15A",
           "#19d3f3",
           "#FF6692",
           "#B6E880",
           "#FF97FF",
           "#FECB52"
          ],
          "font": {
           "color": "#2a3f5f"
          },
          "geo": {
           "bgcolor": "white",
           "lakecolor": "white",
           "landcolor": "#E5ECF6",
           "showlakes": true,
           "showland": true,
           "subunitcolor": "white"
          },
          "hoverlabel": {
           "align": "left"
          },
          "hovermode": "closest",
          "mapbox": {
           "style": "light"
          },
          "paper_bgcolor": "white",
          "plot_bgcolor": "#E5ECF6",
          "polar": {
           "angularaxis": {
            "gridcolor": "white",
            "linecolor": "white",
            "ticks": ""
           },
           "bgcolor": "#E5ECF6",
           "radialaxis": {
            "gridcolor": "white",
            "linecolor": "white",
            "ticks": ""
           }
          },
          "scene": {
           "xaxis": {
            "backgroundcolor": "#E5ECF6",
            "gridcolor": "white",
            "gridwidth": 2,
            "linecolor": "white",
            "showbackground": true,
            "ticks": "",
            "zerolinecolor": "white"
           },
           "yaxis": {
            "backgroundcolor": "#E5ECF6",
            "gridcolor": "white",
            "gridwidth": 2,
            "linecolor": "white",
            "showbackground": true,
            "ticks": "",
            "zerolinecolor": "white"
           },
           "zaxis": {
            "backgroundcolor": "#E5ECF6",
            "gridcolor": "white",
            "gridwidth": 2,
            "linecolor": "white",
            "showbackground": true,
            "ticks": "",
            "zerolinecolor": "white"
           }
          },
          "shapedefaults": {
           "line": {
            "color": "#2a3f5f"
           }
          },
          "ternary": {
           "aaxis": {
            "gridcolor": "white",
            "linecolor": "white",
            "ticks": ""
           },
           "baxis": {
            "gridcolor": "white",
            "linecolor": "white",
            "ticks": ""
           },
           "bgcolor": "#E5ECF6",
           "caxis": {
            "gridcolor": "white",
            "linecolor": "white",
            "ticks": ""
           }
          },
          "title": {
           "x": 0.05
          },
          "xaxis": {
           "automargin": true,
           "gridcolor": "white",
           "linecolor": "white",
           "ticks": "",
           "title": {
            "standoff": 15
           },
           "zerolinecolor": "white",
           "zerolinewidth": 2
          },
          "yaxis": {
           "automargin": true,
           "gridcolor": "white",
           "linecolor": "white",
           "ticks": "",
           "title": {
            "standoff": 15
           },
           "zerolinecolor": "white",
           "zerolinewidth": 2
          }
         }
        },
        "title": {
         "text": "YoY % Change of CPI, Rent Primary Residence, Owner Equivalent Rent & MULT Job Holders % of Employed (Men)"
        },
        "width": 1500,
        "xaxis": {
         "title": {
          "text": "Date"
         }
        },
        "yaxis": {
         "showgrid": false,
         "side": "left",
         "title": {
          "text": "YoY % Change of CPI, Rent, and Owner Equivalent Rent"
         }
        },
        "yaxis2": {
         "overlaying": "y",
         "showgrid": false,
         "side": "right",
         "title": {
          "text": "Percentage of MULT Job Holders (Men)"
         }
        }
       }
      }
     },
     "metadata": {},
     "output_type": "display_data"
    }
   ],
   "source": [
    "# Calculate year-over-year percentage change for CPI, RentPrimaryResidence, and OwnerEquivalentRent\n",
    "combined_df['CPI_pct_change'] = combined_df['ConsumerPriceIndex'].pct_change(periods=12) * 100\n",
    "combined_df['RentPrimaryResidence_pct_change'] = combined_df['RentPrimaryResidence'].pct_change(periods=12) * 100\n",
    "combined_df['OwnerEquivalentRent_pct_change'] = combined_df['OwnerEquivalentRent'].pct_change(periods=12) * 100\n",
    "\n",
    "# Create a Plotly figure\n",
    "fig = go.Figure()\n",
    "\n",
    "# Add the percentage change of CPI (Left y-axis)\n",
    "fig.add_trace(go.Scatter(\n",
    "    x=combined_df.index,\n",
    "    y=combined_df['CPI_pct_change'],\n",
    "    mode='lines',\n",
    "    name='YoY % Change CPI',\n",
    "    line=dict(color='green'),\n",
    "    yaxis='y1'  # Assign to left y-axis\n",
    "))\n",
    "\n",
    "# Add the percentage change of Rent Primary Residence (Left y-axis)\n",
    "fig.add_trace(go.Scatter(\n",
    "    x=combined_df.index,\n",
    "    y=combined_df['RentPrimaryResidence_pct_change'],\n",
    "    mode='lines',\n",
    "    name='YoY % Change Rent Primary Residence',\n",
    "    line=dict(color='red'),\n",
    "    yaxis='y1'  # Assign to left y-axis\n",
    "))\n",
    "\n",
    "# Add the percentage change of Owner Equivalent Rent (Left y-axis)\n",
    "fig.add_trace(go.Scatter(\n",
    "    x=combined_df.index,\n",
    "    y=combined_df['OwnerEquivalentRent_pct_change'],\n",
    "    mode='lines',\n",
    "    name='YoY % Change Owner Equivalent Rent',\n",
    "    line=dict(color='purple'),\n",
    "    yaxis='y1'  # Assign to left y-axis\n",
    "))\n",
    "\n",
    "# Add the original series of MULTJobHolders_Perc_ofEmployed_M (Right y-axis)\n",
    "fig.add_trace(go.Scatter(\n",
    "    x=combined_df.index,\n",
    "    y=combined_df['MULTJobHolders_Perc_ofEmployed_M'],\n",
    "    mode='lines',\n",
    "    name='Original MULT Job Holders % of Employed (Men)',\n",
    "    line=dict(color='blue'),\n",
    "    yaxis='y2'  # Assign to right y-axis\n",
    "))\n",
    "\n",
    "# Highlight the recession periods as shaded areas\n",
    "recession_periods = [\n",
    "    {'start': '2001-03-01', 'end': '2001-11-30'},\n",
    "    {'start': '2007-12-01', 'end': '2009-06-30'},\n",
    "    {'start': '2020-02-01', 'end': '2020-04-30'}\n",
    "]\n",
    "\n",
    "for recession in recession_periods:\n",
    "    fig.add_shape(\n",
    "        type='rect',\n",
    "        xref='x',\n",
    "        yref='paper',\n",
    "        x0=recession['start'],\n",
    "        x1=recession['end'],\n",
    "        y0=0,\n",
    "        y1=1,\n",
    "        fillcolor='grey',\n",
    "        opacity=0.3,\n",
    "        layer='below',\n",
    "        line_width=0\n",
    "    )\n",
    "\n",
    "# Update layout with dual y-axes\n",
    "fig.update_layout(\n",
    "    title='YoY % Change of CPI, Rent Primary Residence, Owner Equivalent Rent & MULT Job Holders % of Employed (Men)',\n",
    "    xaxis_title='Date',\n",
    "    yaxis=dict(\n",
    "        title=\"YoY % Change of CPI, Rent, and Owner Equivalent Rent\",\n",
    "        side=\"left\",\n",
    "        showgrid=False,\n",
    "    ),\n",
    "    yaxis2=dict(\n",
    "        title=\"Percentage of MULT Job Holders (Men)\",\n",
    "        overlaying=\"y\",  # Overlay this on the same plot\n",
    "        side=\"right\",\n",
    "        showgrid=False,\n",
    "    ),\n",
    "    \n",
    "    # Adjust the legend position\n",
    "    legend=dict(\n",
    "        orientation=\"h\",   # Horizontal orientation\n",
    "        x=0.5,             # Center the legend horizontally\n",
    "        y=-0.2,            # Move the legend below the charts\n",
    "        xanchor='center',   # Align the legend horizontally with the center\n",
    "        yanchor='top'       # Align the legend above the bottom edge\n",
    "    ),\n",
    "    width=1500,\n",
    "    height=600\n",
    ")\n",
    "\n",
    "# Show the plot\n",
    "fig.show()\n",
    "\n"
   ]
  },
  {
   "cell_type": "code",
   "execution_count": null,
   "metadata": {},
   "outputs": [],
   "source": []
  }
 ],
 "metadata": {
  "kernelspec": {
   "display_name": "Python 3",
   "language": "python",
   "name": "python3"
  },
  "language_info": {
   "codemirror_mode": {
    "name": "ipython",
    "version": 3
   },
   "file_extension": ".py",
   "mimetype": "text/x-python",
   "name": "python",
   "nbconvert_exporter": "python",
   "pygments_lexer": "ipython3",
   "version": "3.10.5"
  }
 },
 "nbformat": 4,
 "nbformat_minor": 2
}
